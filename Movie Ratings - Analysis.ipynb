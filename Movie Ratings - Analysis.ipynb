{
 "cells": [
  {
   "cell_type": "markdown",
   "metadata": {
    "ExecuteTime": {
     "end_time": "2021-04-24T14:23:08.738912Z",
     "start_time": "2021-04-24T14:23:08.723424Z"
    }
   },
   "source": [
    "## Give Me The Next AAA Title\n",
    "# Highest Rated Movies (2011 - present)\n",
    "****\n",
    "\n",
    "<br>\n",
    "by Dustin Reyes\n",
    "<br>\n",
    "<br>\n",
    "Prepared for:\n",
    "<br>\n",
    "Mynt (Globe Fintech Innovations, Inc.)\n",
    "<br>\n",
    "<br>"
   ]
  },
  {
   "cell_type": "code",
   "execution_count": 1,
   "metadata": {
    "ExecuteTime": {
     "end_time": "2021-04-26T16:31:34.674947Z",
     "start_time": "2021-04-26T16:31:33.005996Z"
    }
   },
   "outputs": [],
   "source": [
    "import imdb\n",
    "import pickle\n",
    "import numpy as np\n",
    "import pandas as pd\n",
    "import warnings\n",
    "import datetime as dt\n",
    "from tqdm import tqdm\n",
    "from ast import literal_eval\n",
    "import matplotlib.pyplot as plt\n",
    "import seaborn as sns\n",
    "from ipywidgets import interact\n",
    "from random import randint\n",
    "from time import sleep\n",
    "from pytrends.request import TrendReq\n",
    "import ipywidgets as widgets\n",
    "import plotly.graph_objects as go\n",
    "from matplotlib.colors import LinearSegmentedColormap\n",
    "\n",
    "warnings.filterwarnings('ignore')\n",
    "tqdm.pandas()\n",
    "%matplotlib inline"
   ]
  },
  {
   "cell_type": "code",
   "execution_count": 2,
   "metadata": {
    "ExecuteTime": {
     "end_time": "2021-04-26T16:31:34.721264Z",
     "start_time": "2021-04-26T16:31:34.677778Z"
    }
   },
   "outputs": [
    {
     "data": {
      "text/html": [
       "<div>\n",
       "<style scoped>\n",
       "    .dataframe tbody tr th:only-of-type {\n",
       "        vertical-align: middle;\n",
       "    }\n",
       "\n",
       "    .dataframe tbody tr th {\n",
       "        vertical-align: top;\n",
       "    }\n",
       "\n",
       "    .dataframe thead th {\n",
       "        text-align: right;\n",
       "    }\n",
       "</style>\n",
       "<table border=\"1\" class=\"dataframe\">\n",
       "  <thead>\n",
       "    <tr style=\"text-align: right;\">\n",
       "      <th></th>\n",
       "      <th>title</th>\n",
       "      <th>release</th>\n",
       "      <th>director</th>\n",
       "      <th>budget</th>\n",
       "      <th>opening</th>\n",
       "      <th>gross</th>\n",
       "      <th>worldwide_gross</th>\n",
       "      <th>metacritic_score</th>\n",
       "      <th>mpaa_rating</th>\n",
       "      <th>budget_mil</th>\n",
       "      <th>opening_mil</th>\n",
       "      <th>tconst</th>\n",
       "      <th>startYear</th>\n",
       "      <th>runtimeMinutes</th>\n",
       "      <th>genres</th>\n",
       "      <th>averageRating</th>\n",
       "      <th>numVotes</th>\n",
       "    </tr>\n",
       "  </thead>\n",
       "  <tbody>\n",
       "    <tr>\n",
       "      <th>0</th>\n",
       "      <td>Jurassic World</td>\n",
       "      <td>2015-06-12</td>\n",
       "      <td>Colin Trevorrow</td>\n",
       "      <td>150000000</td>\n",
       "      <td>208806270</td>\n",
       "      <td>652385625</td>\n",
       "      <td>1.670516e+09</td>\n",
       "      <td>59.0</td>\n",
       "      <td>PG-13</td>\n",
       "      <td>150.0</td>\n",
       "      <td>208.806270</td>\n",
       "      <td>tt0369610</td>\n",
       "      <td>2015</td>\n",
       "      <td>124</td>\n",
       "      <td>Action</td>\n",
       "      <td>7.0</td>\n",
       "      <td>584990</td>\n",
       "    </tr>\n",
       "    <tr>\n",
       "      <th>1</th>\n",
       "      <td>Motherless Brooklyn</td>\n",
       "      <td>2019-11-01</td>\n",
       "      <td>Edward Norton</td>\n",
       "      <td>26000000</td>\n",
       "      <td>3500454</td>\n",
       "      <td>9277736</td>\n",
       "      <td>1.847774e+07</td>\n",
       "      <td>60.0</td>\n",
       "      <td>R</td>\n",
       "      <td>26.0</td>\n",
       "      <td>3.500454</td>\n",
       "      <td>tt0385887</td>\n",
       "      <td>2019</td>\n",
       "      <td>144</td>\n",
       "      <td>Crime</td>\n",
       "      <td>6.8</td>\n",
       "      <td>46090</td>\n",
       "    </tr>\n",
       "    <tr>\n",
       "      <th>2</th>\n",
       "      <td>Alita: Battle Angel</td>\n",
       "      <td>2019-02-14</td>\n",
       "      <td>Robert Rodriguez</td>\n",
       "      <td>170000000</td>\n",
       "      <td>28525613</td>\n",
       "      <td>85838210</td>\n",
       "      <td>4.049805e+08</td>\n",
       "      <td>53.0</td>\n",
       "      <td>PG-13</td>\n",
       "      <td>170.0</td>\n",
       "      <td>28.525613</td>\n",
       "      <td>tt0437086</td>\n",
       "      <td>2019</td>\n",
       "      <td>122</td>\n",
       "      <td>Action</td>\n",
       "      <td>7.3</td>\n",
       "      <td>234341</td>\n",
       "    </tr>\n",
       "    <tr>\n",
       "      <th>3</th>\n",
       "      <td>Shazam!</td>\n",
       "      <td>2019-04-05</td>\n",
       "      <td>David F. Sandberg</td>\n",
       "      <td>100000000</td>\n",
       "      <td>53505326</td>\n",
       "      <td>140371656</td>\n",
       "      <td>3.659717e+08</td>\n",
       "      <td>71.0</td>\n",
       "      <td>PG-13</td>\n",
       "      <td>100.0</td>\n",
       "      <td>53.505326</td>\n",
       "      <td>tt0448115</td>\n",
       "      <td>2019</td>\n",
       "      <td>132</td>\n",
       "      <td>Action</td>\n",
       "      <td>7.0</td>\n",
       "      <td>269073</td>\n",
       "    </tr>\n",
       "    <tr>\n",
       "      <th>4</th>\n",
       "      <td>Wonder Woman</td>\n",
       "      <td>2017-06-02</td>\n",
       "      <td>Patty Jenkins</td>\n",
       "      <td>149000000</td>\n",
       "      <td>103251471</td>\n",
       "      <td>412815408</td>\n",
       "      <td>8.228245e+08</td>\n",
       "      <td>76.0</td>\n",
       "      <td>PG-13</td>\n",
       "      <td>149.0</td>\n",
       "      <td>103.251471</td>\n",
       "      <td>tt0451279</td>\n",
       "      <td>2017</td>\n",
       "      <td>141</td>\n",
       "      <td>Action</td>\n",
       "      <td>7.4</td>\n",
       "      <td>587725</td>\n",
       "    </tr>\n",
       "  </tbody>\n",
       "</table>\n",
       "</div>"
      ],
      "text/plain": [
       "                 title     release           director     budget    opening  \\\n",
       "0       Jurassic World  2015-06-12    Colin Trevorrow  150000000  208806270   \n",
       "1  Motherless Brooklyn  2019-11-01      Edward Norton   26000000    3500454   \n",
       "2  Alita: Battle Angel  2019-02-14   Robert Rodriguez  170000000   28525613   \n",
       "3              Shazam!  2019-04-05  David F. Sandberg  100000000   53505326   \n",
       "4         Wonder Woman  2017-06-02      Patty Jenkins  149000000  103251471   \n",
       "\n",
       "       gross  worldwide_gross  metacritic_score mpaa_rating  budget_mil  \\\n",
       "0  652385625     1.670516e+09              59.0       PG-13       150.0   \n",
       "1    9277736     1.847774e+07              60.0           R        26.0   \n",
       "2   85838210     4.049805e+08              53.0       PG-13       170.0   \n",
       "3  140371656     3.659717e+08              71.0       PG-13       100.0   \n",
       "4  412815408     8.228245e+08              76.0       PG-13       149.0   \n",
       "\n",
       "   opening_mil     tconst  startYear  runtimeMinutes  genres  averageRating  \\\n",
       "0   208.806270  tt0369610       2015             124  Action            7.0   \n",
       "1     3.500454  tt0385887       2019             144   Crime            6.8   \n",
       "2    28.525613  tt0437086       2019             122  Action            7.3   \n",
       "3    53.505326  tt0448115       2019             132  Action            7.0   \n",
       "4   103.251471  tt0451279       2017             141  Action            7.4   \n",
       "\n",
       "   numVotes  \n",
       "0    584990  \n",
       "1     46090  \n",
       "2    234341  \n",
       "3    269073  \n",
       "4    587725  "
      ]
     },
     "execution_count": 2,
     "metadata": {},
     "output_type": "execute_result"
    }
   ],
   "source": [
    "cols = ['tconst', 'title', 'release', 'startYear', 'director', 'budget', 'opening', 'gross',\n",
    "       'worldwide_gross', 'metacritic_score', 'mpaa_rating', 'budget_mil',\n",
    "       'opening_mil', 'runtimeMinutes', 'genres', 'averageRating',\n",
    "       'numVotes']\n",
    "df_movies = pd.read_csv('data/titles_complete_info.csv', usecols = cols)\n",
    "df_movies.head()"
   ]
  },
  {
   "cell_type": "code",
   "execution_count": 3,
   "metadata": {
    "ExecuteTime": {
     "end_time": "2021-04-26T16:31:34.736807Z",
     "start_time": "2021-04-26T16:31:34.722765Z"
    }
   },
   "outputs": [],
   "source": [
    "df_movies.dropna(subset = ['worldwide_gross', 'metacritic_score'], inplace = True)\n",
    "df_movies.reset_index(drop = True, inplace = True)"
   ]
  },
  {
   "cell_type": "code",
   "execution_count": 4,
   "metadata": {
    "ExecuteTime": {
     "end_time": "2021-04-26T16:31:34.752315Z",
     "start_time": "2021-04-26T16:31:34.739264Z"
    }
   },
   "outputs": [
    {
     "data": {
      "text/plain": [
       "Index(['title', 'release', 'director', 'budget', 'opening', 'gross',\n",
       "       'worldwide_gross', 'metacritic_score', 'mpaa_rating', 'budget_mil',\n",
       "       'opening_mil', 'tconst', 'startYear', 'runtimeMinutes', 'genres',\n",
       "       'averageRating', 'numVotes'],\n",
       "      dtype='object')"
      ]
     },
     "execution_count": 4,
     "metadata": {},
     "output_type": "execute_result"
    }
   ],
   "source": [
    "df_movies.columns"
   ]
  },
  {
   "cell_type": "code",
   "execution_count": 5,
   "metadata": {
    "ExecuteTime": {
     "end_time": "2021-04-26T16:31:34.783263Z",
     "start_time": "2021-04-26T16:31:34.754813Z"
    }
   },
   "outputs": [],
   "source": [
    "df_movies.sort_values(by = 'release', inplace = True)\n",
    "df_movies.reset_index(drop = True, inplace = True)"
   ]
  },
  {
   "cell_type": "code",
   "execution_count": 6,
   "metadata": {
    "ExecuteTime": {
     "end_time": "2021-04-26T16:31:34.814313Z",
     "start_time": "2021-04-26T16:31:34.784764Z"
    }
   },
   "outputs": [
    {
     "data": {
      "text/html": [
       "<div>\n",
       "<style scoped>\n",
       "    .dataframe tbody tr th:only-of-type {\n",
       "        vertical-align: middle;\n",
       "    }\n",
       "\n",
       "    .dataframe tbody tr th {\n",
       "        vertical-align: top;\n",
       "    }\n",
       "\n",
       "    .dataframe thead th {\n",
       "        text-align: right;\n",
       "    }\n",
       "</style>\n",
       "<table border=\"1\" class=\"dataframe\">\n",
       "  <thead>\n",
       "    <tr style=\"text-align: right;\">\n",
       "      <th></th>\n",
       "      <th>title</th>\n",
       "      <th>release</th>\n",
       "      <th>director</th>\n",
       "      <th>budget</th>\n",
       "      <th>opening</th>\n",
       "      <th>gross</th>\n",
       "      <th>worldwide_gross</th>\n",
       "      <th>metacritic_score</th>\n",
       "      <th>mpaa_rating</th>\n",
       "      <th>budget_mil</th>\n",
       "      <th>opening_mil</th>\n",
       "      <th>tconst</th>\n",
       "      <th>startYear</th>\n",
       "      <th>runtimeMinutes</th>\n",
       "      <th>genres</th>\n",
       "      <th>averageRating</th>\n",
       "      <th>numVotes</th>\n",
       "    </tr>\n",
       "  </thead>\n",
       "  <tbody>\n",
       "    <tr>\n",
       "      <th>0</th>\n",
       "      <td>Season of the Witch</td>\n",
       "      <td>2011-01-07</td>\n",
       "      <td>Dominic Sena</td>\n",
       "      <td>40000000</td>\n",
       "      <td>10612375</td>\n",
       "      <td>24827228</td>\n",
       "      <td>91627228.0</td>\n",
       "      <td>28.0</td>\n",
       "      <td>PG-13</td>\n",
       "      <td>40.0</td>\n",
       "      <td>10.612375</td>\n",
       "      <td>tt0479997</td>\n",
       "      <td>2011</td>\n",
       "      <td>95</td>\n",
       "      <td>Action</td>\n",
       "      <td>5.4</td>\n",
       "      <td>90902</td>\n",
       "    </tr>\n",
       "    <tr>\n",
       "      <th>1</th>\n",
       "      <td>The Green Hornet</td>\n",
       "      <td>2011-01-14</td>\n",
       "      <td>Michel Gondry</td>\n",
       "      <td>120000000</td>\n",
       "      <td>33526876</td>\n",
       "      <td>98780042</td>\n",
       "      <td>227817248.0</td>\n",
       "      <td>39.0</td>\n",
       "      <td>PG-13</td>\n",
       "      <td>120.0</td>\n",
       "      <td>33.526876</td>\n",
       "      <td>tt0990407</td>\n",
       "      <td>2011</td>\n",
       "      <td>119</td>\n",
       "      <td>Action</td>\n",
       "      <td>5.8</td>\n",
       "      <td>155886</td>\n",
       "    </tr>\n",
       "    <tr>\n",
       "      <th>2</th>\n",
       "      <td>The Rite</td>\n",
       "      <td>2011-01-28</td>\n",
       "      <td>Mikael Håfström</td>\n",
       "      <td>37000000</td>\n",
       "      <td>14789393</td>\n",
       "      <td>33047633</td>\n",
       "      <td>96560591.0</td>\n",
       "      <td>38.0</td>\n",
       "      <td>PG-13</td>\n",
       "      <td>37.0</td>\n",
       "      <td>14.789393</td>\n",
       "      <td>tt1161864</td>\n",
       "      <td>2011</td>\n",
       "      <td>114</td>\n",
       "      <td>Drama</td>\n",
       "      <td>6.0</td>\n",
       "      <td>91850</td>\n",
       "    </tr>\n",
       "    <tr>\n",
       "      <th>3</th>\n",
       "      <td>The Mechanic</td>\n",
       "      <td>2011-01-28</td>\n",
       "      <td>Simon West</td>\n",
       "      <td>40000000</td>\n",
       "      <td>11422006</td>\n",
       "      <td>29121498</td>\n",
       "      <td>76130093.0</td>\n",
       "      <td>49.0</td>\n",
       "      <td>R</td>\n",
       "      <td>40.0</td>\n",
       "      <td>11.422006</td>\n",
       "      <td>tt0472399</td>\n",
       "      <td>2011</td>\n",
       "      <td>93</td>\n",
       "      <td>Action</td>\n",
       "      <td>6.6</td>\n",
       "      <td>152076</td>\n",
       "    </tr>\n",
       "    <tr>\n",
       "      <th>4</th>\n",
       "      <td>Sanctum</td>\n",
       "      <td>2011-02-04</td>\n",
       "      <td>Alister Grierson</td>\n",
       "      <td>30000000</td>\n",
       "      <td>9447930</td>\n",
       "      <td>23209310</td>\n",
       "      <td>108609310.0</td>\n",
       "      <td>42.0</td>\n",
       "      <td>R</td>\n",
       "      <td>30.0</td>\n",
       "      <td>9.447930</td>\n",
       "      <td>tt0881320</td>\n",
       "      <td>2011</td>\n",
       "      <td>108</td>\n",
       "      <td>Action</td>\n",
       "      <td>5.9</td>\n",
       "      <td>53868</td>\n",
       "    </tr>\n",
       "  </tbody>\n",
       "</table>\n",
       "</div>"
      ],
      "text/plain": [
       "                 title     release          director     budget   opening  \\\n",
       "0  Season of the Witch  2011-01-07      Dominic Sena   40000000  10612375   \n",
       "1     The Green Hornet  2011-01-14     Michel Gondry  120000000  33526876   \n",
       "2             The Rite  2011-01-28   Mikael Håfström   37000000  14789393   \n",
       "3         The Mechanic  2011-01-28        Simon West   40000000  11422006   \n",
       "4              Sanctum  2011-02-04  Alister Grierson   30000000   9447930   \n",
       "\n",
       "      gross  worldwide_gross  metacritic_score mpaa_rating  budget_mil  \\\n",
       "0  24827228       91627228.0              28.0       PG-13        40.0   \n",
       "1  98780042      227817248.0              39.0       PG-13       120.0   \n",
       "2  33047633       96560591.0              38.0       PG-13        37.0   \n",
       "3  29121498       76130093.0              49.0           R        40.0   \n",
       "4  23209310      108609310.0              42.0           R        30.0   \n",
       "\n",
       "   opening_mil     tconst  startYear  runtimeMinutes  genres  averageRating  \\\n",
       "0    10.612375  tt0479997       2011              95  Action            5.4   \n",
       "1    33.526876  tt0990407       2011             119  Action            5.8   \n",
       "2    14.789393  tt1161864       2011             114   Drama            6.0   \n",
       "3    11.422006  tt0472399       2011              93  Action            6.6   \n",
       "4     9.447930  tt0881320       2011             108  Action            5.9   \n",
       "\n",
       "   numVotes  \n",
       "0     90902  \n",
       "1    155886  \n",
       "2     91850  \n",
       "3    152076  \n",
       "4     53868  "
      ]
     },
     "execution_count": 6,
     "metadata": {},
     "output_type": "execute_result"
    }
   ],
   "source": [
    "df_movies.head()"
   ]
  },
  {
   "cell_type": "code",
   "execution_count": 7,
   "metadata": {
    "ExecuteTime": {
     "end_time": "2021-04-26T16:31:34.829815Z",
     "start_time": "2021-04-26T16:31:34.816765Z"
    }
   },
   "outputs": [],
   "source": [
    "df_movies.rename({'worldwide_gross': 'Worldwide Gross', 'metacritic_score': 'Metacritic Score',\n",
    "                  'budget': 'Budget', 'opening': 'Opening', \n",
    "                  'gross': 'Gross', \n",
    "                  'runtimeMinutes': 'Runtime (Minutes)',\n",
    "                  'averageRating': 'Average Rating', 'numVotes': 'Number of Votes'},\n",
    "                axis = 1, inplace = True)"
   ]
  },
  {
   "cell_type": "markdown",
   "metadata": {},
   "source": [
    "## 1. Movie Rankings per Year"
   ]
  },
  {
   "cell_type": "code",
   "execution_count": 8,
   "metadata": {
    "ExecuteTime": {
     "end_time": "2021-04-26T16:31:34.860801Z",
     "start_time": "2021-04-26T16:31:34.831765Z"
    }
   },
   "outputs": [],
   "source": [
    "def movie_analyzer(category='Metacritic Score', year=2011):\n",
    "    df_movies_sorted = df_movies.groupby(['startYear']).apply(\n",
    "        lambda x: x.nlargest(10, [category])).reset_index(drop=True)\n",
    "    df_movies_sorted = df_movies_sorted[df_movies_sorted['startYear'] == year]\n",
    "    df_movies_sorted = df_movies_sorted.sort_values(category, ascending=True)\n",
    "    fig = go.Figure(go.Bar(\n",
    "        x=df_movies_sorted[category],\n",
    "        y=df_movies_sorted['title'],\n",
    "        orientation='h'))\n",
    "\n",
    "    fig.update_layout(title_text=f\"Movie Rankings by: {category}\",\n",
    "\n",
    "\n",
    "\n",
    "                      title_x=0.5, xaxis={\n",
    "                          'categoryorder': 'total ascending'},\n",
    "                      xaxis_title=category,\n",
    "                      yaxis_title='Movies')\n",
    "    fig.show()"
   ]
  },
  {
   "cell_type": "code",
   "execution_count": 9,
   "metadata": {
    "ExecuteTime": {
     "end_time": "2021-04-26T16:31:34.876305Z",
     "start_time": "2021-04-26T16:31:34.862265Z"
    }
   },
   "outputs": [],
   "source": [
    "years = []\n",
    "categories = ['Budget', 'Opening', 'Gross',\n",
    "              'Worldwide Gross', 'Metacritic Score', 'Runtime (Minutes)', 'Average Rating', 'Number of Votes']\n",
    "\n",
    "\n",
    "for i in df_movies['startYear'].unique():\n",
    "    years.append(i)"
   ]
  },
  {
   "cell_type": "code",
   "execution_count": 10,
   "metadata": {
    "ExecuteTime": {
     "end_time": "2021-04-26T16:31:35.604264Z",
     "start_time": "2021-04-26T16:31:34.877764Z"
    },
    "scrolled": false
   },
   "outputs": [
    {
     "data": {
      "application/vnd.jupyter.widget-view+json": {
       "model_id": "39813f60d4f14f2aae2cff466e3e2c5e",
       "version_major": 2,
       "version_minor": 0
      },
      "text/plain": [
       "interactive(children=(Dropdown(description='category', index=4, options=('Budget', 'Opening', 'Gross', 'Worldw…"
      ]
     },
     "metadata": {},
     "output_type": "display_data"
    }
   ],
   "source": [
    "interactive1 = interact(movie_analyzer, category = categories, year = years)"
   ]
  },
  {
   "cell_type": "markdown",
   "metadata": {},
   "source": [
    "## 2. Runtimes of Movies per Genre"
   ]
  },
  {
   "cell_type": "code",
   "execution_count": 11,
   "metadata": {
    "ExecuteTime": {
     "end_time": "2021-04-26T16:31:35.619768Z",
     "start_time": "2021-04-26T16:31:35.606265Z"
    }
   },
   "outputs": [],
   "source": [
    "# Helper Functions\n",
    "def clean_year(y):\n",
    "    # Return year as an integer or 'NaN' if empty\n",
    "    import numpy as np\n",
    "    try:\n",
    "        return int(y)\n",
    "    except:\n",
    "        return np.nan\n",
    "\n",
    "\n",
    "def clean_genre(y):\n",
    "    # Return only the first genre listed\n",
    "    y = str(y)\n",
    "    if y == '\\\\N':\n",
    "        return ''\n",
    "    return y.split(',')[0].strip()"
   ]
  },
  {
   "cell_type": "code",
   "execution_count": 12,
   "metadata": {
    "ExecuteTime": {
     "end_time": "2021-04-26T16:31:51.860948Z",
     "start_time": "2021-04-26T16:31:35.622264Z"
    }
   },
   "outputs": [],
   "source": [
    "title_basics_df = pd.read_csv('data/title.basics.tsv.gz', compression='gzip', header=0, sep='\\t', quotechar='\"')"
   ]
  },
  {
   "cell_type": "code",
   "execution_count": 13,
   "metadata": {
    "ExecuteTime": {
     "end_time": "2021-04-26T16:31:55.425441Z",
     "start_time": "2021-04-26T16:31:51.862265Z"
    }
   },
   "outputs": [],
   "source": [
    "title_basics_df = title_basics_df[title_basics_df['startYear'] != '\\\\N']\n",
    "title_basics_df = title_basics_df[title_basics_df['runtimeMinutes'] != '\\\\N']\n",
    "title_basics_df['titleType'] = title_basics_df['titleType'].astype(str)\n",
    "title_basics_df['isAdult'] = title_basics_df['isAdult'].astype(int)\n",
    "title_basics_df['runtimeMinutes'] = title_basics_df['runtimeMinutes'].astype(\n",
    "    int)\n",
    "title_basics_df['startYear'] = title_basics_df['startYear'].astype(int)"
   ]
  },
  {
   "cell_type": "code",
   "execution_count": 14,
   "metadata": {
    "ExecuteTime": {
     "end_time": "2021-04-26T16:31:59.284673Z",
     "start_time": "2021-04-26T16:31:55.429942Z"
    }
   },
   "outputs": [],
   "source": [
    "title_basics_df.drop('endYear', axis=1, inplace=True)\n",
    "title_basics_df['startYear'] = title_basics_df['startYear'].apply(clean_year)\n",
    "title_basics_df['runtimeMinutes'] = title_basics_df['runtimeMinutes'].apply(clean_year)\n",
    "title_basics_df['genres'] = title_basics_df['genres'].apply(clean_genre)\n",
    "title_basics_df.dropna(inplace=True, how='any', subset=['startYear', 'runtimeMinutes'])"
   ]
  },
  {
   "cell_type": "code",
   "execution_count": 15,
   "metadata": {
    "ExecuteTime": {
     "end_time": "2021-04-26T16:31:59.687500Z",
     "start_time": "2021-04-26T16:31:59.286000Z"
    }
   },
   "outputs": [],
   "source": [
    "title_basics_df = title_basics_df[title_basics_df['titleType'] == 'movie']"
   ]
  },
  {
   "cell_type": "code",
   "execution_count": 16,
   "metadata": {
    "ExecuteTime": {
     "end_time": "2021-04-26T16:32:02.260662Z",
     "start_time": "2021-04-26T16:31:59.688998Z"
    }
   },
   "outputs": [],
   "source": [
    "title_basics_df = title_basics_df.replace(r'^\\s*$', np.nan, regex=True)"
   ]
  },
  {
   "cell_type": "code",
   "execution_count": 17,
   "metadata": {
    "ExecuteTime": {
     "end_time": "2021-04-26T16:32:02.539545Z",
     "start_time": "2021-04-26T16:32:02.262046Z"
    }
   },
   "outputs": [],
   "source": [
    "title_basics_df.dropna(inplace = True)"
   ]
  },
  {
   "cell_type": "code",
   "execution_count": 18,
   "metadata": {
    "ExecuteTime": {
     "end_time": "2021-04-26T16:32:02.679044Z",
     "start_time": "2021-04-26T16:32:02.542043Z"
    }
   },
   "outputs": [],
   "source": [
    "title_basics_df.sort_values(by = 'startYear', inplace = True)"
   ]
  },
  {
   "cell_type": "code",
   "execution_count": 19,
   "metadata": {
    "ExecuteTime": {
     "end_time": "2021-04-26T16:32:02.694548Z",
     "start_time": "2021-04-26T16:32:02.681080Z"
    }
   },
   "outputs": [],
   "source": [
    "title_basics_df.reset_index(drop = True, inplace = True)"
   ]
  },
  {
   "cell_type": "code",
   "execution_count": 20,
   "metadata": {
    "ExecuteTime": {
     "end_time": "2021-04-26T16:32:02.756602Z",
     "start_time": "2021-04-26T16:32:02.696547Z"
    }
   },
   "outputs": [],
   "source": [
    "genres = title_basics_df['genres'].unique().tolist()\n",
    "genres.append('All')"
   ]
  },
  {
   "cell_type": "code",
   "execution_count": 21,
   "metadata": {
    "ExecuteTime": {
     "end_time": "2021-04-26T16:32:02.771975Z",
     "start_time": "2021-04-26T16:32:02.757978Z"
    }
   },
   "outputs": [],
   "source": [
    "def runtimemovie_analyzer(number=10, genre='All'):\n",
    "    if genre == 'All':\n",
    "        df = title_basics_df.nlargest(number, 'runtimeMinutes')\n",
    "        df.sort_values(by='runtimeMinutes', ascending=True, inplace=True)\n",
    "        fig = go.Figure(go.Bar(\n",
    "            x=df['runtimeMinutes'],\n",
    "            y=df['primaryTitle'],\n",
    "            orientation='h'))\n",
    "\n",
    "        fig.update_layout(title_text=f\"Top {number} Longest Movies with {genre} genres \",\n",
    "\n",
    "                          title_x=0.5,\n",
    "                          xaxis_title='Runtime (Minutes)',\n",
    "                          yaxis_title='Movies')\n",
    "        fig.show()\n",
    "    else:\n",
    "        df = title_basics_df[title_basics_df['genres'] == genre]\n",
    "        df = df.nlargest(number, 'runtimeMinutes')\n",
    "        df.sort_values(by='runtimeMinutes', ascending=True, inplace=True)\n",
    "        fig = go.Figure(go.Bar(\n",
    "            x=df['runtimeMinutes'],\n",
    "            y=df['primaryTitle'],\n",
    "            orientation='h'))\n",
    "\n",
    "        fig.update_layout(title_text=f\"Top {number} Longest Movies with {genre} genre \",\n",
    "                          autosize=True,\n",
    "                          title_x=0.5,\n",
    "                          xaxis_title='Runtime (Minutes)',\n",
    "                          yaxis_title='Movies')\n",
    "        fig.show()"
   ]
  },
  {
   "cell_type": "code",
   "execution_count": 22,
   "metadata": {
    "ExecuteTime": {
     "end_time": "2021-04-26T16:32:02.896114Z",
     "start_time": "2021-04-26T16:32:02.776480Z"
    },
    "scrolled": false
   },
   "outputs": [
    {
     "data": {
      "application/vnd.jupyter.widget-view+json": {
       "model_id": "20dde081f4f0478b86f48b0869f137ae",
       "version_major": 2,
       "version_minor": 0
      },
      "text/plain": [
       "interactive(children=(IntSlider(value=10, description='number', max=20, min=10), Dropdown(description='genre',…"
      ]
     },
     "metadata": {},
     "output_type": "display_data"
    }
   ],
   "source": [
    "interactive2 = interact(runtimemovie_analyzer, number=widgets.IntSlider(min=10, max=20, step=1, value=10), genre = genres)"
   ]
  },
  {
   "cell_type": "markdown",
   "metadata": {},
   "source": [
    "## 3. Temporal Pattern Analysis"
   ]
  },
  {
   "cell_type": "code",
   "execution_count": 23,
   "metadata": {
    "ExecuteTime": {
     "end_time": "2021-04-26T16:32:03.826491Z",
     "start_time": "2021-04-26T16:32:02.898478Z"
    }
   },
   "outputs": [],
   "source": [
    "from bokeh.plotting import figure, output_file, show\n",
    "from bokeh.models import (\n",
    "    ColumnDataSource,\n",
    "    HoverTool,\n",
    "    LinearColorMapper,\n",
    "    BasicTicker, LogTicker, ContinuousTicker, AdaptiveTicker,\n",
    "    PrintfTickFormatter,\n",
    "    ColorBar,\n",
    "    FactorRange\n",
    ")\n",
    "import bokeh.palettes\n",
    "from bokeh.transform import factor_cmap\n",
    "from wordcloud import WordCloud, STOPWORDS\n",
    "from math import floor\n",
    "from bokeh.io import output_notebook\n",
    "from bokeh.models import NumeralTickFormatter\n",
    "from bokeh.resources import CDN\n",
    "from bokeh.embed import file_html\n",
    "\n",
    "%config InlineBackend.figure_format = 'retina'"
   ]
  },
  {
   "cell_type": "code",
   "execution_count": 24,
   "metadata": {
    "ExecuteTime": {
     "end_time": "2021-04-26T16:32:03.856978Z",
     "start_time": "2021-04-26T16:32:03.830477Z"
    }
   },
   "outputs": [
    {
     "data": {
      "text/html": [
       "\n",
       "    <div class=\"bk-root\">\n",
       "        <a href=\"https://bokeh.org\" target=\"_blank\" class=\"bk-logo bk-logo-small bk-logo-notebook\"></a>\n",
       "        <span id=\"1001\">Loading BokehJS ...</span>\n",
       "    </div>"
      ]
     },
     "metadata": {},
     "output_type": "display_data"
    },
    {
     "data": {
      "application/javascript": [
       "\n",
       "(function(root) {\n",
       "  function now() {\n",
       "    return new Date();\n",
       "  }\n",
       "\n",
       "  var force = true;\n",
       "\n",
       "  if (typeof root._bokeh_onload_callbacks === \"undefined\" || force === true) {\n",
       "    root._bokeh_onload_callbacks = [];\n",
       "    root._bokeh_is_loading = undefined;\n",
       "  }\n",
       "\n",
       "  var JS_MIME_TYPE = 'application/javascript';\n",
       "  var HTML_MIME_TYPE = 'text/html';\n",
       "  var EXEC_MIME_TYPE = 'application/vnd.bokehjs_exec.v0+json';\n",
       "  var CLASS_NAME = 'output_bokeh rendered_html';\n",
       "\n",
       "  /**\n",
       "   * Render data to the DOM node\n",
       "   */\n",
       "  function render(props, node) {\n",
       "    var script = document.createElement(\"script\");\n",
       "    node.appendChild(script);\n",
       "  }\n",
       "\n",
       "  /**\n",
       "   * Handle when an output is cleared or removed\n",
       "   */\n",
       "  function handleClearOutput(event, handle) {\n",
       "    var cell = handle.cell;\n",
       "\n",
       "    var id = cell.output_area._bokeh_element_id;\n",
       "    var server_id = cell.output_area._bokeh_server_id;\n",
       "    // Clean up Bokeh references\n",
       "    if (id != null && id in Bokeh.index) {\n",
       "      Bokeh.index[id].model.document.clear();\n",
       "      delete Bokeh.index[id];\n",
       "    }\n",
       "\n",
       "    if (server_id !== undefined) {\n",
       "      // Clean up Bokeh references\n",
       "      var cmd = \"from bokeh.io.state import curstate; print(curstate().uuid_to_server['\" + server_id + \"'].get_sessions()[0].document.roots[0]._id)\";\n",
       "      cell.notebook.kernel.execute(cmd, {\n",
       "        iopub: {\n",
       "          output: function(msg) {\n",
       "            var id = msg.content.text.trim();\n",
       "            if (id in Bokeh.index) {\n",
       "              Bokeh.index[id].model.document.clear();\n",
       "              delete Bokeh.index[id];\n",
       "            }\n",
       "          }\n",
       "        }\n",
       "      });\n",
       "      // Destroy server and session\n",
       "      var cmd = \"import bokeh.io.notebook as ion; ion.destroy_server('\" + server_id + \"')\";\n",
       "      cell.notebook.kernel.execute(cmd);\n",
       "    }\n",
       "  }\n",
       "\n",
       "  /**\n",
       "   * Handle when a new output is added\n",
       "   */\n",
       "  function handleAddOutput(event, handle) {\n",
       "    var output_area = handle.output_area;\n",
       "    var output = handle.output;\n",
       "\n",
       "    // limit handleAddOutput to display_data with EXEC_MIME_TYPE content only\n",
       "    if ((output.output_type != \"display_data\") || (!output.data.hasOwnProperty(EXEC_MIME_TYPE))) {\n",
       "      return\n",
       "    }\n",
       "\n",
       "    var toinsert = output_area.element.find(\".\" + CLASS_NAME.split(' ')[0]);\n",
       "\n",
       "    if (output.metadata[EXEC_MIME_TYPE][\"id\"] !== undefined) {\n",
       "      toinsert[toinsert.length - 1].firstChild.textContent = output.data[JS_MIME_TYPE];\n",
       "      // store reference to embed id on output_area\n",
       "      output_area._bokeh_element_id = output.metadata[EXEC_MIME_TYPE][\"id\"];\n",
       "    }\n",
       "    if (output.metadata[EXEC_MIME_TYPE][\"server_id\"] !== undefined) {\n",
       "      var bk_div = document.createElement(\"div\");\n",
       "      bk_div.innerHTML = output.data[HTML_MIME_TYPE];\n",
       "      var script_attrs = bk_div.children[0].attributes;\n",
       "      for (var i = 0; i < script_attrs.length; i++) {\n",
       "        toinsert[toinsert.length - 1].firstChild.setAttribute(script_attrs[i].name, script_attrs[i].value);\n",
       "        toinsert[toinsert.length - 1].firstChild.textContent = bk_div.children[0].textContent\n",
       "      }\n",
       "      // store reference to server id on output_area\n",
       "      output_area._bokeh_server_id = output.metadata[EXEC_MIME_TYPE][\"server_id\"];\n",
       "    }\n",
       "  }\n",
       "\n",
       "  function register_renderer(events, OutputArea) {\n",
       "\n",
       "    function append_mime(data, metadata, element) {\n",
       "      // create a DOM node to render to\n",
       "      var toinsert = this.create_output_subarea(\n",
       "        metadata,\n",
       "        CLASS_NAME,\n",
       "        EXEC_MIME_TYPE\n",
       "      );\n",
       "      this.keyboard_manager.register_events(toinsert);\n",
       "      // Render to node\n",
       "      var props = {data: data, metadata: metadata[EXEC_MIME_TYPE]};\n",
       "      render(props, toinsert[toinsert.length - 1]);\n",
       "      element.append(toinsert);\n",
       "      return toinsert\n",
       "    }\n",
       "\n",
       "    /* Handle when an output is cleared or removed */\n",
       "    events.on('clear_output.CodeCell', handleClearOutput);\n",
       "    events.on('delete.Cell', handleClearOutput);\n",
       "\n",
       "    /* Handle when a new output is added */\n",
       "    events.on('output_added.OutputArea', handleAddOutput);\n",
       "\n",
       "    /**\n",
       "     * Register the mime type and append_mime function with output_area\n",
       "     */\n",
       "    OutputArea.prototype.register_mime_type(EXEC_MIME_TYPE, append_mime, {\n",
       "      /* Is output safe? */\n",
       "      safe: true,\n",
       "      /* Index of renderer in `output_area.display_order` */\n",
       "      index: 0\n",
       "    });\n",
       "  }\n",
       "\n",
       "  // register the mime type if in Jupyter Notebook environment and previously unregistered\n",
       "  if (root.Jupyter !== undefined) {\n",
       "    var events = require('base/js/events');\n",
       "    var OutputArea = require('notebook/js/outputarea').OutputArea;\n",
       "\n",
       "    if (OutputArea.prototype.mime_types().indexOf(EXEC_MIME_TYPE) == -1) {\n",
       "      register_renderer(events, OutputArea);\n",
       "    }\n",
       "  }\n",
       "\n",
       "  \n",
       "  if (typeof (root._bokeh_timeout) === \"undefined\" || force === true) {\n",
       "    root._bokeh_timeout = Date.now() + 5000;\n",
       "    root._bokeh_failed_load = false;\n",
       "  }\n",
       "\n",
       "  var NB_LOAD_WARNING = {'data': {'text/html':\n",
       "     \"<div style='background-color: #fdd'>\\n\"+\n",
       "     \"<p>\\n\"+\n",
       "     \"BokehJS does not appear to have successfully loaded. If loading BokehJS from CDN, this \\n\"+\n",
       "     \"may be due to a slow or bad network connection. Possible fixes:\\n\"+\n",
       "     \"</p>\\n\"+\n",
       "     \"<ul>\\n\"+\n",
       "     \"<li>re-rerun `output_notebook()` to attempt to load from CDN again, or</li>\\n\"+\n",
       "     \"<li>use INLINE resources instead, as so:</li>\\n\"+\n",
       "     \"</ul>\\n\"+\n",
       "     \"<code>\\n\"+\n",
       "     \"from bokeh.resources import INLINE\\n\"+\n",
       "     \"output_notebook(resources=INLINE)\\n\"+\n",
       "     \"</code>\\n\"+\n",
       "     \"</div>\"}};\n",
       "\n",
       "  function display_loaded() {\n",
       "    var el = document.getElementById(\"1001\");\n",
       "    if (el != null) {\n",
       "      el.textContent = \"BokehJS is loading...\";\n",
       "    }\n",
       "    if (root.Bokeh !== undefined) {\n",
       "      if (el != null) {\n",
       "        el.textContent = \"BokehJS \" + root.Bokeh.version + \" successfully loaded.\";\n",
       "      }\n",
       "    } else if (Date.now() < root._bokeh_timeout) {\n",
       "      setTimeout(display_loaded, 100)\n",
       "    }\n",
       "  }\n",
       "\n",
       "\n",
       "  function run_callbacks() {\n",
       "    try {\n",
       "      root._bokeh_onload_callbacks.forEach(function(callback) {\n",
       "        if (callback != null)\n",
       "          callback();\n",
       "      });\n",
       "    } finally {\n",
       "      delete root._bokeh_onload_callbacks\n",
       "    }\n",
       "    console.debug(\"Bokeh: all callbacks have finished\");\n",
       "  }\n",
       "\n",
       "  function load_libs(css_urls, js_urls, callback) {\n",
       "    if (css_urls == null) css_urls = [];\n",
       "    if (js_urls == null) js_urls = [];\n",
       "\n",
       "    root._bokeh_onload_callbacks.push(callback);\n",
       "    if (root._bokeh_is_loading > 0) {\n",
       "      console.debug(\"Bokeh: BokehJS is being loaded, scheduling callback at\", now());\n",
       "      return null;\n",
       "    }\n",
       "    if (js_urls == null || js_urls.length === 0) {\n",
       "      run_callbacks();\n",
       "      return null;\n",
       "    }\n",
       "    console.debug(\"Bokeh: BokehJS not loaded, scheduling load and callback at\", now());\n",
       "    root._bokeh_is_loading = css_urls.length + js_urls.length;\n",
       "\n",
       "    function on_load() {\n",
       "      root._bokeh_is_loading--;\n",
       "      if (root._bokeh_is_loading === 0) {\n",
       "        console.debug(\"Bokeh: all BokehJS libraries/stylesheets loaded\");\n",
       "        run_callbacks()\n",
       "      }\n",
       "    }\n",
       "\n",
       "    function on_error() {\n",
       "      console.error(\"failed to load \" + url);\n",
       "    }\n",
       "\n",
       "    for (var i = 0; i < css_urls.length; i++) {\n",
       "      var url = css_urls[i];\n",
       "      const element = document.createElement(\"link\");\n",
       "      element.onload = on_load;\n",
       "      element.onerror = on_error;\n",
       "      element.rel = \"stylesheet\";\n",
       "      element.type = \"text/css\";\n",
       "      element.href = url;\n",
       "      console.debug(\"Bokeh: injecting link tag for BokehJS stylesheet: \", url);\n",
       "      document.body.appendChild(element);\n",
       "    }\n",
       "\n",
       "    const hashes = {\"https://cdn.bokeh.org/bokeh/release/bokeh-2.1.1.min.js\": \"kLr4fYcqcSpbuI95brIH3vnnYCquzzSxHPU6XGQCIkQRGJwhg0StNbj1eegrHs12\", \"https://cdn.bokeh.org/bokeh/release/bokeh-widgets-2.1.1.min.js\": \"xIGPmVtaOm+z0BqfSOMn4lOR6ciex448GIKG4eE61LsAvmGj48XcMQZtKcE/UXZe\", \"https://cdn.bokeh.org/bokeh/release/bokeh-tables-2.1.1.min.js\": \"Dc9u1wF/0zApGIWoBbH77iWEHtdmkuYWG839Uzmv8y8yBLXebjO9ZnERsde5Ln/P\", \"https://cdn.bokeh.org/bokeh/release/bokeh-gl-2.1.1.min.js\": \"cT9JaBz7GiRXdENrJLZNSC6eMNF3nh3fa5fTF51Svp+ukxPdwcU5kGXGPBgDCa2j\"};\n",
       "\n",
       "    for (var i = 0; i < js_urls.length; i++) {\n",
       "      var url = js_urls[i];\n",
       "      var element = document.createElement('script');\n",
       "      element.onload = on_load;\n",
       "      element.onerror = on_error;\n",
       "      element.async = false;\n",
       "      element.src = url;\n",
       "      if (url in hashes) {\n",
       "        element.crossOrigin = \"anonymous\";\n",
       "        element.integrity = \"sha384-\" + hashes[url];\n",
       "      }\n",
       "      console.debug(\"Bokeh: injecting script tag for BokehJS library: \", url);\n",
       "      document.head.appendChild(element);\n",
       "    }\n",
       "  };\n",
       "\n",
       "  function inject_raw_css(css) {\n",
       "    const element = document.createElement(\"style\");\n",
       "    element.appendChild(document.createTextNode(css));\n",
       "    document.body.appendChild(element);\n",
       "  }\n",
       "\n",
       "  \n",
       "  var js_urls = [\"https://cdn.bokeh.org/bokeh/release/bokeh-2.1.1.min.js\", \"https://cdn.bokeh.org/bokeh/release/bokeh-widgets-2.1.1.min.js\", \"https://cdn.bokeh.org/bokeh/release/bokeh-tables-2.1.1.min.js\", \"https://cdn.bokeh.org/bokeh/release/bokeh-gl-2.1.1.min.js\"];\n",
       "  var css_urls = [];\n",
       "  \n",
       "\n",
       "  var inline_js = [\n",
       "    function(Bokeh) {\n",
       "      Bokeh.set_log_level(\"info\");\n",
       "    },\n",
       "    function(Bokeh) {\n",
       "    \n",
       "    \n",
       "    }\n",
       "  ];\n",
       "\n",
       "  function run_inline_js() {\n",
       "    \n",
       "    if (root.Bokeh !== undefined || force === true) {\n",
       "      \n",
       "    for (var i = 0; i < inline_js.length; i++) {\n",
       "      inline_js[i].call(root, root.Bokeh);\n",
       "    }\n",
       "    if (force === true) {\n",
       "        display_loaded();\n",
       "      }} else if (Date.now() < root._bokeh_timeout) {\n",
       "      setTimeout(run_inline_js, 100);\n",
       "    } else if (!root._bokeh_failed_load) {\n",
       "      console.log(\"Bokeh: BokehJS failed to load within specified timeout.\");\n",
       "      root._bokeh_failed_load = true;\n",
       "    } else if (force !== true) {\n",
       "      var cell = $(document.getElementById(\"1001\")).parents('.cell').data().cell;\n",
       "      cell.output_area.append_execute_result(NB_LOAD_WARNING)\n",
       "    }\n",
       "\n",
       "  }\n",
       "\n",
       "  if (root._bokeh_is_loading === 0) {\n",
       "    console.debug(\"Bokeh: BokehJS loaded, going straight to plotting\");\n",
       "    run_inline_js();\n",
       "  } else {\n",
       "    load_libs(css_urls, js_urls, function() {\n",
       "      console.debug(\"Bokeh: BokehJS plotting callback run at\", now());\n",
       "      run_inline_js();\n",
       "    });\n",
       "  }\n",
       "}(window));"
      ],
      "application/vnd.bokehjs_load.v0+json": "\n(function(root) {\n  function now() {\n    return new Date();\n  }\n\n  var force = true;\n\n  if (typeof root._bokeh_onload_callbacks === \"undefined\" || force === true) {\n    root._bokeh_onload_callbacks = [];\n    root._bokeh_is_loading = undefined;\n  }\n\n  \n\n  \n  if (typeof (root._bokeh_timeout) === \"undefined\" || force === true) {\n    root._bokeh_timeout = Date.now() + 5000;\n    root._bokeh_failed_load = false;\n  }\n\n  var NB_LOAD_WARNING = {'data': {'text/html':\n     \"<div style='background-color: #fdd'>\\n\"+\n     \"<p>\\n\"+\n     \"BokehJS does not appear to have successfully loaded. If loading BokehJS from CDN, this \\n\"+\n     \"may be due to a slow or bad network connection. Possible fixes:\\n\"+\n     \"</p>\\n\"+\n     \"<ul>\\n\"+\n     \"<li>re-rerun `output_notebook()` to attempt to load from CDN again, or</li>\\n\"+\n     \"<li>use INLINE resources instead, as so:</li>\\n\"+\n     \"</ul>\\n\"+\n     \"<code>\\n\"+\n     \"from bokeh.resources import INLINE\\n\"+\n     \"output_notebook(resources=INLINE)\\n\"+\n     \"</code>\\n\"+\n     \"</div>\"}};\n\n  function display_loaded() {\n    var el = document.getElementById(\"1001\");\n    if (el != null) {\n      el.textContent = \"BokehJS is loading...\";\n    }\n    if (root.Bokeh !== undefined) {\n      if (el != null) {\n        el.textContent = \"BokehJS \" + root.Bokeh.version + \" successfully loaded.\";\n      }\n    } else if (Date.now() < root._bokeh_timeout) {\n      setTimeout(display_loaded, 100)\n    }\n  }\n\n\n  function run_callbacks() {\n    try {\n      root._bokeh_onload_callbacks.forEach(function(callback) {\n        if (callback != null)\n          callback();\n      });\n    } finally {\n      delete root._bokeh_onload_callbacks\n    }\n    console.debug(\"Bokeh: all callbacks have finished\");\n  }\n\n  function load_libs(css_urls, js_urls, callback) {\n    if (css_urls == null) css_urls = [];\n    if (js_urls == null) js_urls = [];\n\n    root._bokeh_onload_callbacks.push(callback);\n    if (root._bokeh_is_loading > 0) {\n      console.debug(\"Bokeh: BokehJS is being loaded, scheduling callback at\", now());\n      return null;\n    }\n    if (js_urls == null || js_urls.length === 0) {\n      run_callbacks();\n      return null;\n    }\n    console.debug(\"Bokeh: BokehJS not loaded, scheduling load and callback at\", now());\n    root._bokeh_is_loading = css_urls.length + js_urls.length;\n\n    function on_load() {\n      root._bokeh_is_loading--;\n      if (root._bokeh_is_loading === 0) {\n        console.debug(\"Bokeh: all BokehJS libraries/stylesheets loaded\");\n        run_callbacks()\n      }\n    }\n\n    function on_error() {\n      console.error(\"failed to load \" + url);\n    }\n\n    for (var i = 0; i < css_urls.length; i++) {\n      var url = css_urls[i];\n      const element = document.createElement(\"link\");\n      element.onload = on_load;\n      element.onerror = on_error;\n      element.rel = \"stylesheet\";\n      element.type = \"text/css\";\n      element.href = url;\n      console.debug(\"Bokeh: injecting link tag for BokehJS stylesheet: \", url);\n      document.body.appendChild(element);\n    }\n\n    const hashes = {\"https://cdn.bokeh.org/bokeh/release/bokeh-2.1.1.min.js\": \"kLr4fYcqcSpbuI95brIH3vnnYCquzzSxHPU6XGQCIkQRGJwhg0StNbj1eegrHs12\", \"https://cdn.bokeh.org/bokeh/release/bokeh-widgets-2.1.1.min.js\": \"xIGPmVtaOm+z0BqfSOMn4lOR6ciex448GIKG4eE61LsAvmGj48XcMQZtKcE/UXZe\", \"https://cdn.bokeh.org/bokeh/release/bokeh-tables-2.1.1.min.js\": \"Dc9u1wF/0zApGIWoBbH77iWEHtdmkuYWG839Uzmv8y8yBLXebjO9ZnERsde5Ln/P\", \"https://cdn.bokeh.org/bokeh/release/bokeh-gl-2.1.1.min.js\": \"cT9JaBz7GiRXdENrJLZNSC6eMNF3nh3fa5fTF51Svp+ukxPdwcU5kGXGPBgDCa2j\"};\n\n    for (var i = 0; i < js_urls.length; i++) {\n      var url = js_urls[i];\n      var element = document.createElement('script');\n      element.onload = on_load;\n      element.onerror = on_error;\n      element.async = false;\n      element.src = url;\n      if (url in hashes) {\n        element.crossOrigin = \"anonymous\";\n        element.integrity = \"sha384-\" + hashes[url];\n      }\n      console.debug(\"Bokeh: injecting script tag for BokehJS library: \", url);\n      document.head.appendChild(element);\n    }\n  };\n\n  function inject_raw_css(css) {\n    const element = document.createElement(\"style\");\n    element.appendChild(document.createTextNode(css));\n    document.body.appendChild(element);\n  }\n\n  \n  var js_urls = [\"https://cdn.bokeh.org/bokeh/release/bokeh-2.1.1.min.js\", \"https://cdn.bokeh.org/bokeh/release/bokeh-widgets-2.1.1.min.js\", \"https://cdn.bokeh.org/bokeh/release/bokeh-tables-2.1.1.min.js\", \"https://cdn.bokeh.org/bokeh/release/bokeh-gl-2.1.1.min.js\"];\n  var css_urls = [];\n  \n\n  var inline_js = [\n    function(Bokeh) {\n      Bokeh.set_log_level(\"info\");\n    },\n    function(Bokeh) {\n    \n    \n    }\n  ];\n\n  function run_inline_js() {\n    \n    if (root.Bokeh !== undefined || force === true) {\n      \n    for (var i = 0; i < inline_js.length; i++) {\n      inline_js[i].call(root, root.Bokeh);\n    }\n    if (force === true) {\n        display_loaded();\n      }} else if (Date.now() < root._bokeh_timeout) {\n      setTimeout(run_inline_js, 100);\n    } else if (!root._bokeh_failed_load) {\n      console.log(\"Bokeh: BokehJS failed to load within specified timeout.\");\n      root._bokeh_failed_load = true;\n    } else if (force !== true) {\n      var cell = $(document.getElementById(\"1001\")).parents('.cell').data().cell;\n      cell.output_area.append_execute_result(NB_LOAD_WARNING)\n    }\n\n  }\n\n  if (root._bokeh_is_loading === 0) {\n    console.debug(\"Bokeh: BokehJS loaded, going straight to plotting\");\n    run_inline_js();\n  } else {\n    load_libs(css_urls, js_urls, function() {\n      console.debug(\"Bokeh: BokehJS plotting callback run at\", now());\n      run_inline_js();\n    });\n  }\n}(window));"
     },
     "metadata": {},
     "output_type": "display_data"
    }
   ],
   "source": [
    "output_notebook()"
   ]
  },
  {
   "cell_type": "code",
   "execution_count": 25,
   "metadata": {
    "ExecuteTime": {
     "end_time": "2021-04-26T16:32:03.918979Z",
     "start_time": "2021-04-26T16:32:03.862478Z"
    }
   },
   "outputs": [
    {
     "data": {
      "text/html": [
       "<div>\n",
       "<style scoped>\n",
       "    .dataframe tbody tr th:only-of-type {\n",
       "        vertical-align: middle;\n",
       "    }\n",
       "\n",
       "    .dataframe tbody tr th {\n",
       "        vertical-align: top;\n",
       "    }\n",
       "\n",
       "    .dataframe thead th {\n",
       "        text-align: right;\n",
       "    }\n",
       "</style>\n",
       "<table border=\"1\" class=\"dataframe\">\n",
       "  <thead>\n",
       "    <tr style=\"text-align: right;\">\n",
       "      <th></th>\n",
       "      <th>title</th>\n",
       "      <th>release</th>\n",
       "      <th>director</th>\n",
       "      <th>Budget</th>\n",
       "      <th>Opening</th>\n",
       "      <th>Gross</th>\n",
       "      <th>Worldwide Gross</th>\n",
       "      <th>Metacritic Score</th>\n",
       "      <th>mpaa_rating</th>\n",
       "      <th>budget_mil</th>\n",
       "      <th>opening_mil</th>\n",
       "      <th>tconst</th>\n",
       "      <th>startYear</th>\n",
       "      <th>Runtime (Minutes)</th>\n",
       "      <th>genres</th>\n",
       "      <th>Average Rating</th>\n",
       "      <th>Number of Votes</th>\n",
       "    </tr>\n",
       "  </thead>\n",
       "  <tbody>\n",
       "    <tr>\n",
       "      <th>0</th>\n",
       "      <td>Season of the Witch</td>\n",
       "      <td>2011-01-07</td>\n",
       "      <td>Dominic Sena</td>\n",
       "      <td>40000000</td>\n",
       "      <td>10612375</td>\n",
       "      <td>24827228</td>\n",
       "      <td>91627228.0</td>\n",
       "      <td>28.0</td>\n",
       "      <td>PG-13</td>\n",
       "      <td>40.0</td>\n",
       "      <td>10.612375</td>\n",
       "      <td>tt0479997</td>\n",
       "      <td>2011</td>\n",
       "      <td>95</td>\n",
       "      <td>Action</td>\n",
       "      <td>5.4</td>\n",
       "      <td>90902</td>\n",
       "    </tr>\n",
       "    <tr>\n",
       "      <th>1</th>\n",
       "      <td>The Green Hornet</td>\n",
       "      <td>2011-01-14</td>\n",
       "      <td>Michel Gondry</td>\n",
       "      <td>120000000</td>\n",
       "      <td>33526876</td>\n",
       "      <td>98780042</td>\n",
       "      <td>227817248.0</td>\n",
       "      <td>39.0</td>\n",
       "      <td>PG-13</td>\n",
       "      <td>120.0</td>\n",
       "      <td>33.526876</td>\n",
       "      <td>tt0990407</td>\n",
       "      <td>2011</td>\n",
       "      <td>119</td>\n",
       "      <td>Action</td>\n",
       "      <td>5.8</td>\n",
       "      <td>155886</td>\n",
       "    </tr>\n",
       "    <tr>\n",
       "      <th>2</th>\n",
       "      <td>The Rite</td>\n",
       "      <td>2011-01-28</td>\n",
       "      <td>Mikael Håfström</td>\n",
       "      <td>37000000</td>\n",
       "      <td>14789393</td>\n",
       "      <td>33047633</td>\n",
       "      <td>96560591.0</td>\n",
       "      <td>38.0</td>\n",
       "      <td>PG-13</td>\n",
       "      <td>37.0</td>\n",
       "      <td>14.789393</td>\n",
       "      <td>tt1161864</td>\n",
       "      <td>2011</td>\n",
       "      <td>114</td>\n",
       "      <td>Drama</td>\n",
       "      <td>6.0</td>\n",
       "      <td>91850</td>\n",
       "    </tr>\n",
       "    <tr>\n",
       "      <th>3</th>\n",
       "      <td>The Mechanic</td>\n",
       "      <td>2011-01-28</td>\n",
       "      <td>Simon West</td>\n",
       "      <td>40000000</td>\n",
       "      <td>11422006</td>\n",
       "      <td>29121498</td>\n",
       "      <td>76130093.0</td>\n",
       "      <td>49.0</td>\n",
       "      <td>R</td>\n",
       "      <td>40.0</td>\n",
       "      <td>11.422006</td>\n",
       "      <td>tt0472399</td>\n",
       "      <td>2011</td>\n",
       "      <td>93</td>\n",
       "      <td>Action</td>\n",
       "      <td>6.6</td>\n",
       "      <td>152076</td>\n",
       "    </tr>\n",
       "    <tr>\n",
       "      <th>4</th>\n",
       "      <td>Sanctum</td>\n",
       "      <td>2011-02-04</td>\n",
       "      <td>Alister Grierson</td>\n",
       "      <td>30000000</td>\n",
       "      <td>9447930</td>\n",
       "      <td>23209310</td>\n",
       "      <td>108609310.0</td>\n",
       "      <td>42.0</td>\n",
       "      <td>R</td>\n",
       "      <td>30.0</td>\n",
       "      <td>9.447930</td>\n",
       "      <td>tt0881320</td>\n",
       "      <td>2011</td>\n",
       "      <td>108</td>\n",
       "      <td>Action</td>\n",
       "      <td>5.9</td>\n",
       "      <td>53868</td>\n",
       "    </tr>\n",
       "  </tbody>\n",
       "</table>\n",
       "</div>"
      ],
      "text/plain": [
       "                 title     release          director     Budget   Opening  \\\n",
       "0  Season of the Witch  2011-01-07      Dominic Sena   40000000  10612375   \n",
       "1     The Green Hornet  2011-01-14     Michel Gondry  120000000  33526876   \n",
       "2             The Rite  2011-01-28   Mikael Håfström   37000000  14789393   \n",
       "3         The Mechanic  2011-01-28        Simon West   40000000  11422006   \n",
       "4              Sanctum  2011-02-04  Alister Grierson   30000000   9447930   \n",
       "\n",
       "      Gross  Worldwide Gross  Metacritic Score mpaa_rating  budget_mil  \\\n",
       "0  24827228       91627228.0              28.0       PG-13        40.0   \n",
       "1  98780042      227817248.0              39.0       PG-13       120.0   \n",
       "2  33047633       96560591.0              38.0       PG-13        37.0   \n",
       "3  29121498       76130093.0              49.0           R        40.0   \n",
       "4  23209310      108609310.0              42.0           R        30.0   \n",
       "\n",
       "   opening_mil     tconst  startYear  Runtime (Minutes)  genres  \\\n",
       "0    10.612375  tt0479997       2011                 95  Action   \n",
       "1    33.526876  tt0990407       2011                119  Action   \n",
       "2    14.789393  tt1161864       2011                114   Drama   \n",
       "3    11.422006  tt0472399       2011                 93  Action   \n",
       "4     9.447930  tt0881320       2011                108  Action   \n",
       "\n",
       "   Average Rating  Number of Votes  \n",
       "0             5.4            90902  \n",
       "1             5.8           155886  \n",
       "2             6.0            91850  \n",
       "3             6.6           152076  \n",
       "4             5.9            53868  "
      ]
     },
     "execution_count": 25,
     "metadata": {},
     "output_type": "execute_result"
    }
   ],
   "source": [
    "df_movies.head()"
   ]
  },
  {
   "cell_type": "code",
   "execution_count": 26,
   "metadata": {
    "ExecuteTime": {
     "end_time": "2021-04-26T16:32:03.949978Z",
     "start_time": "2021-04-26T16:32:03.921477Z"
    }
   },
   "outputs": [],
   "source": [
    "df_movies['month'] = pd.DatetimeIndex(df_movies['release']).month"
   ]
  },
  {
   "cell_type": "code",
   "execution_count": 27,
   "metadata": {
    "ExecuteTime": {
     "end_time": "2021-04-26T16:32:03.996476Z",
     "start_time": "2021-04-26T16:32:03.953978Z"
    }
   },
   "outputs": [],
   "source": [
    "opening_by_month_year = df_movies.groupby([\"startYear\",\"month\"]).Opening.mean().reset_index()"
   ]
  },
  {
   "cell_type": "code",
   "execution_count": 28,
   "metadata": {
    "ExecuteTime": {
     "end_time": "2021-04-26T16:32:04.042978Z",
     "start_time": "2021-04-26T16:32:03.998979Z"
    }
   },
   "outputs": [
    {
     "data": {
      "text/html": [
       "<div>\n",
       "<style scoped>\n",
       "    .dataframe tbody tr th:only-of-type {\n",
       "        vertical-align: middle;\n",
       "    }\n",
       "\n",
       "    .dataframe tbody tr th {\n",
       "        vertical-align: top;\n",
       "    }\n",
       "\n",
       "    .dataframe thead th {\n",
       "        text-align: right;\n",
       "    }\n",
       "</style>\n",
       "<table border=\"1\" class=\"dataframe\">\n",
       "  <thead>\n",
       "    <tr style=\"text-align: right;\">\n",
       "      <th></th>\n",
       "      <th>startYear</th>\n",
       "      <th>month</th>\n",
       "      <th>Opening</th>\n",
       "    </tr>\n",
       "  </thead>\n",
       "  <tbody>\n",
       "    <tr>\n",
       "      <th>0</th>\n",
       "      <td>2011</td>\n",
       "      <td>1</td>\n",
       "      <td>1.233979e+07</td>\n",
       "    </tr>\n",
       "    <tr>\n",
       "      <th>1</th>\n",
       "      <td>2011</td>\n",
       "      <td>2</td>\n",
       "      <td>1.362104e+07</td>\n",
       "    </tr>\n",
       "    <tr>\n",
       "      <th>2</th>\n",
       "      <td>2011</td>\n",
       "      <td>3</td>\n",
       "      <td>1.053773e+07</td>\n",
       "    </tr>\n",
       "    <tr>\n",
       "      <th>3</th>\n",
       "      <td>2011</td>\n",
       "      <td>4</td>\n",
       "      <td>1.811284e+07</td>\n",
       "    </tr>\n",
       "    <tr>\n",
       "      <th>4</th>\n",
       "      <td>2011</td>\n",
       "      <td>5</td>\n",
       "      <td>2.335145e+07</td>\n",
       "    </tr>\n",
       "    <tr>\n",
       "      <th>...</th>\n",
       "      <td>...</td>\n",
       "      <td>...</td>\n",
       "      <td>...</td>\n",
       "    </tr>\n",
       "    <tr>\n",
       "      <th>112</th>\n",
       "      <td>2020</td>\n",
       "      <td>9</td>\n",
       "      <td>9.353090e+06</td>\n",
       "    </tr>\n",
       "    <tr>\n",
       "      <th>113</th>\n",
       "      <td>2020</td>\n",
       "      <td>10</td>\n",
       "      <td>9.194300e+04</td>\n",
       "    </tr>\n",
       "    <tr>\n",
       "      <th>114</th>\n",
       "      <td>2020</td>\n",
       "      <td>11</td>\n",
       "      <td>3.600355e+06</td>\n",
       "    </tr>\n",
       "    <tr>\n",
       "      <th>115</th>\n",
       "      <td>2020</td>\n",
       "      <td>12</td>\n",
       "      <td>2.201269e+06</td>\n",
       "    </tr>\n",
       "    <tr>\n",
       "      <th>116</th>\n",
       "      <td>2021</td>\n",
       "      <td>3</td>\n",
       "      <td>1.407381e+07</td>\n",
       "    </tr>\n",
       "  </tbody>\n",
       "</table>\n",
       "<p>117 rows × 3 columns</p>\n",
       "</div>"
      ],
      "text/plain": [
       "     startYear  month       Opening\n",
       "0         2011      1  1.233979e+07\n",
       "1         2011      2  1.362104e+07\n",
       "2         2011      3  1.053773e+07\n",
       "3         2011      4  1.811284e+07\n",
       "4         2011      5  2.335145e+07\n",
       "..         ...    ...           ...\n",
       "112       2020      9  9.353090e+06\n",
       "113       2020     10  9.194300e+04\n",
       "114       2020     11  3.600355e+06\n",
       "115       2020     12  2.201269e+06\n",
       "116       2021      3  1.407381e+07\n",
       "\n",
       "[117 rows x 3 columns]"
      ]
     },
     "execution_count": 28,
     "metadata": {},
     "output_type": "execute_result"
    }
   ],
   "source": [
    "opening_by_month_year"
   ]
  },
  {
   "cell_type": "code",
   "execution_count": 29,
   "metadata": {
    "ExecuteTime": {
     "end_time": "2021-04-26T16:32:04.120476Z",
     "start_time": "2021-04-26T16:32:04.045477Z"
    }
   },
   "outputs": [
    {
     "data": {
      "text/html": [
       "\n",
       "\n",
       "\n",
       "\n",
       "\n",
       "\n",
       "  <div class=\"bk-root\" id=\"58493cfd-5610-4136-baf1-8a12e1a49ccd\" data-root-id=\"1005\"></div>\n"
      ]
     },
     "metadata": {},
     "output_type": "display_data"
    },
    {
     "data": {
      "application/javascript": [
       "(function(root) {\n",
       "  function embed_document(root) {\n",
       "    \n",
       "  var docs_json = {\"bd1cb5da-e1d9-498b-9cd3-34615c055a8c\":{\"roots\":{\"references\":[{\"attributes\":{\"below\":[{\"id\":\"1014\"}],\"center\":[{\"id\":\"1017\"},{\"id\":\"1021\"}],\"left\":[{\"id\":\"1018\"}],\"plot_width\":900,\"renderers\":[{\"id\":\"1038\"}],\"right\":[{\"id\":\"1042\"}],\"title\":{\"id\":\"1045\"},\"toolbar\":{\"id\":\"1028\"},\"x_range\":{\"id\":\"1006\"},\"x_scale\":{\"id\":\"1010\"},\"y_range\":{\"id\":\"1008\"},\"y_scale\":{\"id\":\"1012\"}},\"id\":\"1005\",\"subtype\":\"Figure\",\"type\":\"Plot\"},{\"attributes\":{\"axis\":{\"id\":\"1014\"},\"ticker\":null},\"id\":\"1017\",\"type\":\"Grid\"},{\"attributes\":{\"bottom_units\":\"screen\",\"fill_alpha\":0.5,\"fill_color\":\"lightgrey\",\"left_units\":\"screen\",\"level\":\"overlay\",\"line_alpha\":1.0,\"line_color\":\"black\",\"line_dash\":[4,4],\"line_width\":2,\"right_units\":\"screen\",\"top_units\":\"screen\"},\"id\":\"1027\",\"type\":\"BoxAnnotation\"},{\"attributes\":{\"fill_color\":{\"field\":\"Opening\",\"transform\":{\"id\":\"1003\"}},\"height\":{\"units\":\"data\",\"value\":1},\"line_color\":{\"value\":\"#1f77b4\"},\"width\":{\"units\":\"data\",\"value\":1},\"x\":{\"field\":\"startYear\"},\"y\":{\"field\":\"month\"}},\"id\":\"1036\",\"type\":\"Rect\"},{\"attributes\":{},\"id\":\"1006\",\"type\":\"DataRange1d\"},{\"attributes\":{},\"id\":\"1055\",\"type\":\"UnionRenderers\"},{\"attributes\":{\"fill_alpha\":{\"value\":0.1},\"fill_color\":{\"field\":\"Opening\",\"transform\":{\"id\":\"1003\"}},\"height\":{\"units\":\"data\",\"value\":1},\"line_alpha\":{\"value\":0.1},\"line_color\":{\"value\":\"#1f77b4\"},\"width\":{\"units\":\"data\",\"value\":1},\"x\":{\"field\":\"startYear\"},\"y\":{\"field\":\"month\"}},\"id\":\"1037\",\"type\":\"Rect\"},{\"attributes\":{},\"id\":\"1012\",\"type\":\"LinearScale\"},{\"attributes\":{},\"id\":\"1010\",\"type\":\"LinearScale\"},{\"attributes\":{},\"id\":\"1051\",\"type\":\"BasicTickFormatter\"},{\"attributes\":{\"align\":\"center\",\"text\":\"Movie Opening Performance by Year and Month\",\"text_font_size\":{\"value\":\"20px\"}},\"id\":\"1045\",\"type\":\"Title\"},{\"attributes\":{},\"id\":\"1008\",\"type\":\"DataRange1d\"},{\"attributes\":{},\"id\":\"1019\",\"type\":\"BasicTicker\"},{\"attributes\":{\"axis_label\":\"Month\",\"formatter\":{\"id\":\"1053\"},\"ticker\":{\"id\":\"1019\"}},\"id\":\"1018\",\"type\":\"LinearAxis\"},{\"attributes\":{\"axis\":{\"id\":\"1018\"},\"dimension\":1,\"ticker\":null},\"id\":\"1021\",\"type\":\"Grid\"},{\"attributes\":{\"color_mapper\":{\"id\":\"1003\"},\"formatter\":{\"id\":\"1041\"},\"label_standoff\":18,\"location\":[20,0],\"ticker\":{\"id\":\"1040\"}},\"id\":\"1042\",\"type\":\"ColorBar\"},{\"attributes\":{},\"id\":\"1053\",\"type\":\"BasicTickFormatter\"},{\"attributes\":{\"format\":\"$,\"},\"id\":\"1041\",\"type\":\"NumeralTickFormatter\"},{\"attributes\":{\"active_drag\":\"auto\",\"active_inspect\":\"auto\",\"active_multi\":null,\"active_scroll\":\"auto\",\"active_tap\":\"auto\",\"tools\":[{\"id\":\"1004\"},{\"id\":\"1022\"},{\"id\":\"1023\"},{\"id\":\"1024\"},{\"id\":\"1025\"},{\"id\":\"1026\"}]},\"id\":\"1028\",\"type\":\"Toolbar\"},{\"attributes\":{},\"id\":\"1022\",\"type\":\"SaveTool\"},{\"attributes\":{},\"id\":\"1023\",\"type\":\"PanTool\"},{\"attributes\":{\"overlay\":{\"id\":\"1027\"}},\"id\":\"1024\",\"type\":\"BoxZoomTool\"},{\"attributes\":{},\"id\":\"1025\",\"type\":\"ResetTool\"},{\"attributes\":{},\"id\":\"1040\",\"type\":\"AdaptiveTicker\"},{\"attributes\":{},\"id\":\"1026\",\"type\":\"WheelZoomTool\"},{\"attributes\":{\"source\":{\"id\":\"1002\"}},\"id\":\"1039\",\"type\":\"CDSView\"},{\"attributes\":{\"data_source\":{\"id\":\"1002\"},\"glyph\":{\"id\":\"1036\"},\"hover_glyph\":null,\"muted_glyph\":null,\"nonselection_glyph\":{\"id\":\"1037\"},\"selection_glyph\":null,\"view\":{\"id\":\"1039\"}},\"id\":\"1038\",\"type\":\"GlyphRenderer\"},{\"attributes\":{\"callback\":null,\"tooltips\":[[\"Opening\",\"@Opening{$,}\"]]},\"id\":\"1004\",\"type\":\"HoverTool\"},{\"attributes\":{},\"id\":\"1015\",\"type\":\"BasicTicker\"},{\"attributes\":{},\"id\":\"1056\",\"type\":\"Selection\"},{\"attributes\":{\"high\":67566407.14285715,\"low\":91943.0,\"palette\":[\"#2166ac\",\"#4393c3\",\"#92c5de\",\"#d1e5f0\",\"#f7f7f7\",\"#fddbc7\",\"#f4a582\",\"#d6604d\",\"#b2182b\"]},\"id\":\"1003\",\"type\":\"LinearColorMapper\"},{\"attributes\":{\"data\":{\"Opening\":{\"__ndarray__\":\"AAAALEqJZ0EAAADQ5fppQbdt22ZgGWRBAAAAwBRGcUEAAACICUV2QQAAAOxMnHVBAAAAoPW1fEGO4zguqqBmQauqqhrIOlhBAAAAoLRVZ0EAAABQ0kV2QQAAAKgJ1GlBVVVVpeadZ0HRRRe9npdoQauqqqIZFotBAAAAoGoYVUEAAABJ1IyDQQAAACgijndBMzMzM3r/dkGrqqo68olpQZqZmckPFmdBxU7sxBcPXUF00UUXKR59QVVVVVX8e1VBVVVVZQ+BW0Ecx3E8OE1oQauqqj4GUHJBAAAAAAcuaUEAAAAw9qVzQXIcx0F/R4NBip3Y6THscUEAAADIAE5sQXIcx/EXGW1BdNFFl1yXYEEAAACA3uF3QU/sxM5I9lZBntiJnZQoYkFJkiSZz6lwQQAAAEjMkXJBAAAA+Hhlb0FVVVW5NEaMQQAAAEjG73dBRhddlEXZckF3d3cXK8JxQUYXXTTOI2JBAAAACMEZaUEAAABiv7V+QQAAAGBIrGVBVVVVVbQWRUGamZlpmCR0QQAAAGAzynBBT+zEzrxwTEEAAAB+N72EQauqqpZvCotBdmInFvftekGKndgJWPBkQQAAAKhDI3FBsRM7sd4FZUF2YicG2qZ0QY7jOJ6JtIBBAAAAFNVjZUGrqqrKnPFtQSVJkvQhuYNBo4suWi6ra0GrqqqOXayHQQAAANTtlHxBAAAAUKpTfEHi4eFB/9JvQWInduKsQWVBjuM4zl0DakEUO7GjBG12Qauqqurjl2NBAAAAjO/iYUGrqqpK6kR1QVVVVelvVIJBVVVVRSD3dEGrqqpen8SHQWZmZja3rXlBZmZmlk3bfEE5juPYdKVlQVVVVbXJUWVBAAAA4PlOZEEAAAAw59eEQemii45SNnlBAAAAPCdua0EAAADAabB+QQAAABxahnBBAAAANPScjEFVVVXl6I6CQRdddHlneoJBx3EchxGof0EAAADyMbBkQQAAANy+K3NBAAAA/kygfEFu27a1a6V1QU/sxI6oE21BAAAAzJ4cZkGamZkBp4BxQauqqobnDIdBJUmSHO0bkEEAAABAte95Qbdt2+7vkIFBAAAAuDSsjUFVVVUFCHVoQQAAAOaEiINBbtu2Hd1IfkEAAACajpZyQQAAAH6VuH9Bq6qqcv8IcUGamZlJG6J4QQAAAOA+t1ZBAAAAAMPFS0EAAABA8NZhQQAAAABwcvZAAAAAgPF3S0EAAACAWstAQQAAAOD512pB\",\"dtype\":\"float64\",\"order\":\"little\",\"shape\":[117]},\"index\":[0,1,2,3,4,5,6,7,8,9,10,11,12,13,14,15,16,17,18,19,20,21,22,23,24,25,26,27,28,29,30,31,32,33,34,35,36,37,38,39,40,41,42,43,44,45,46,47,48,49,50,51,52,53,54,55,56,57,58,59,60,61,62,63,64,65,66,67,68,69,70,71,72,73,74,75,76,77,78,79,80,81,82,83,84,85,86,87,88,89,90,91,92,93,94,95,96,97,98,99,100,101,102,103,104,105,106,107,108,109,110,111,112,113,114,115,116],\"month\":[1,2,3,4,5,6,7,8,9,10,11,12,1,2,3,4,5,6,7,8,9,10,11,12,1,2,3,4,5,6,7,8,9,10,11,12,1,2,3,4,5,6,7,8,9,10,11,12,1,2,3,4,5,6,7,8,9,10,11,12,1,2,3,4,5,6,7,8,9,10,11,12,1,2,3,4,5,6,7,8,9,10,11,12,1,2,3,4,5,6,7,8,9,10,11,12,1,2,3,4,5,6,7,8,9,10,11,12,1,2,3,8,9,10,11,12,3],\"startYear\":[2011,2011,2011,2011,2011,2011,2011,2011,2011,2011,2011,2011,2012,2012,2012,2012,2012,2012,2012,2012,2012,2012,2012,2012,2013,2013,2013,2013,2013,2013,2013,2013,2013,2013,2013,2013,2014,2014,2014,2014,2014,2014,2014,2014,2014,2014,2014,2014,2015,2015,2015,2015,2015,2015,2015,2015,2015,2015,2015,2015,2016,2016,2016,2016,2016,2016,2016,2016,2016,2016,2016,2016,2017,2017,2017,2017,2017,2017,2017,2017,2017,2017,2017,2017,2018,2018,2018,2018,2018,2018,2018,2018,2018,2018,2018,2018,2019,2019,2019,2019,2019,2019,2019,2019,2019,2019,2019,2019,2020,2020,2020,2020,2020,2020,2020,2020,2021]},\"selected\":{\"id\":\"1056\"},\"selection_policy\":{\"id\":\"1055\"}},\"id\":\"1002\",\"type\":\"ColumnDataSource\"},{\"attributes\":{\"axis_label\":\"Year\",\"formatter\":{\"id\":\"1051\"},\"ticker\":{\"id\":\"1015\"}},\"id\":\"1014\",\"type\":\"LinearAxis\"}],\"root_ids\":[\"1005\"]},\"title\":\"Bokeh Application\",\"version\":\"2.1.1\"}};\n",
       "  var render_items = [{\"docid\":\"bd1cb5da-e1d9-498b-9cd3-34615c055a8c\",\"root_ids\":[\"1005\"],\"roots\":{\"1005\":\"58493cfd-5610-4136-baf1-8a12e1a49ccd\"}}];\n",
       "  root.Bokeh.embed.embed_items_notebook(docs_json, render_items);\n",
       "\n",
       "  }\n",
       "  if (root.Bokeh !== undefined) {\n",
       "    embed_document(root);\n",
       "  } else {\n",
       "    var attempts = 0;\n",
       "    var timer = setInterval(function(root) {\n",
       "      if (root.Bokeh !== undefined) {\n",
       "        clearInterval(timer);\n",
       "        embed_document(root);\n",
       "      } else {\n",
       "        attempts++;\n",
       "        if (attempts > 100) {\n",
       "          clearInterval(timer);\n",
       "          console.log(\"Bokeh: ERROR: Unable to run BokehJS code because BokehJS library is missing\");\n",
       "        }\n",
       "      }\n",
       "    }, 10, root)\n",
       "  }\n",
       "})(window);"
      ],
      "application/vnd.bokehjs_exec.v0+json": ""
     },
     "metadata": {
      "application/vnd.bokehjs_exec.v0+json": {
       "id": "1005"
      }
     },
     "output_type": "display_data"
    }
   ],
   "source": [
    "newdata = ColumnDataSource(opening_by_month_year)\n",
    "\n",
    "mapper = LinearColorMapper(palette=bokeh.palettes.RdBu[9],\n",
    "                           low=opening_by_month_year[\"Opening\"].min(), high=opening_by_month_year[\"Opening\"].max())\n",
    "\n",
    "\n",
    "hover = HoverTool(\n",
    "    tooltips=[\n",
    "        (\"Opening\", \"@Opening{$,}\"),\n",
    "    ]\n",
    ")\n",
    "\n",
    "TOOLS = [hover, \"save,pan,box_zoom,reset,wheel_zoom\"]\n",
    "\n",
    "\n",
    "p = figure(x_axis_label='Year',\n",
    "           y_axis_label='Month',\n",
    "           tools=TOOLS,\n",
    "           plot_width=900)\n",
    "\n",
    "p.rect(x=\"startYear\", y=\"month\", width=1, height=1, source=newdata,\n",
    "       fill_color={'field': 'Opening', 'transform': mapper})\n",
    "\n",
    "color_bar = ColorBar(color_mapper=mapper, location=(20, 0), label_standoff=18,\n",
    "                     ticker=AdaptiveTicker(), formatter=NumeralTickFormatter(format=\"$,\"))\n",
    "\n",
    "p.add_layout(color_bar, 'right')\n",
    "\n",
    "p.title.text = \"Movie Opening Performance by Year and Month\"\n",
    "p.title.align = \"center\"\n",
    "p.title.text_font_size = \"20px\"\n",
    "\n",
    "show(p)"
   ]
  },
  {
   "cell_type": "markdown",
   "metadata": {},
   "source": [
    "## 4. Genre Analysis"
   ]
  },
  {
   "cell_type": "code",
   "execution_count": 30,
   "metadata": {
    "ExecuteTime": {
     "end_time": "2021-04-26T16:32:04.585504Z",
     "start_time": "2021-04-26T16:32:04.121977Z"
    }
   },
   "outputs": [
    {
     "data": {
      "image/png": "[encoded data removed]",
      "text/plain": [
       "<PIL.Image.Image image mode=RGB size=1000x300 at 0x1AF0BBD26A0>"
      ]
     },
     "execution_count": 30,
     "metadata": {},
     "output_type": "execute_result"
    }
   ],
   "source": [
    "# Join the different processed abstracts together.\n",
    "colors = [\"#BF0A30\", \"#002868\"]\n",
    "cmap = LinearSegmentedColormap.from_list(\"mycmap\", colors)\n",
    "\n",
    "long_string = ' '.join(df_movies['genres'].values.tolist())\n",
    "\n",
    "# Create a WordCloud object\n",
    "wordcloud = WordCloud(background_color=\"white\", colormap=cmap, width=1000,\n",
    "                        height=300, max_font_size=500,relative_scaling=0.3,\n",
    "                        min_font_size=5)\n",
    "\n",
    "# Generate a word cloud\n",
    "wordcloud.generate(long_string)\n",
    "\n",
    "# Visualize the word cloud\n",
    "wordcloud.to_image()"
   ]
  },
  {
   "cell_type": "markdown",
   "metadata": {},
   "source": [
    "Observing from the WordCloud of Genres for movie releases between 2011 to 2021, it can be observed that **Action** is the most common genre that was being shown in cinemas. This means that although ‘Action’ movies are more profitable as of late, it is not solely because these genres have the most amount of movies"
   ]
  },
  {
   "cell_type": "markdown",
   "metadata": {},
   "source": [
    "### 4.1. Opening Performance for each Genre Across the Years"
   ]
  },
  {
   "cell_type": "code",
   "execution_count": 31,
   "metadata": {
    "ExecuteTime": {
     "end_time": "2021-04-26T16:32:04.600672Z",
     "start_time": "2021-04-26T16:32:04.587006Z"
    }
   },
   "outputs": [],
   "source": [
    "def genre_opening_analyzer(category = 'Opening'):\n",
    "    genre_list = ['Action', 'Biography', 'Comedy', 'Drama', 'Adventure', 'Crime', 'Horror', 'Animation']\n",
    "    grouped_data = df_movies.groupby(['startYear', 'genres'])[category].mean().reset_index()\n",
    "    fig = go.Figure()\n",
    "    for i in genre_list:\n",
    "        fig.add_trace(\n",
    "            go.Scatter(\n",
    "                y=grouped_data[grouped_data['genres'] == i][category].values,\n",
    "                x=grouped_data[grouped_data['genres'] == i]['startYear'].values,\n",
    "                name=i\n",
    "            ))\n",
    "    fig.update_layout(\n",
    "        autosize=False,\n",
    "        title= f'{category} Performance for each Genre Across the Years',\n",
    "        title_x=0.5,\n",
    "        xaxis_title='Years',\n",
    "        yaxis_title=f'{category} Performance',\n",
    "        width=950,\n",
    "        height=650,\n",
    "        margin=dict(\n",
    "            l=0,\n",
    "            r=0,\n",
    "            b=100,\n",
    "            t=100,\n",
    "            pad=0,\n",
    "        ),\n",
    "        #     paper_bgcolor='rgba(0,0,0,0)',\n",
    "        # showgrid = True,\n",
    "        plot_bgcolor='Grey',\n",
    "        legend_title_text='Genres',\n",
    "        paper_bgcolor=\"LightSteelBlue\"\n",
    "    )\n",
    "    fig.show()"
   ]
  },
  {
   "cell_type": "code",
   "execution_count": 32,
   "metadata": {
    "ExecuteTime": {
     "end_time": "2021-04-26T16:32:04.615811Z",
     "start_time": "2021-04-26T16:32:04.602173Z"
    }
   },
   "outputs": [],
   "source": [
    "categories = ['Opening', 'Gross', 'Worldwide Gross']"
   ]
  },
  {
   "cell_type": "code",
   "execution_count": 33,
   "metadata": {
    "ExecuteTime": {
     "end_time": "2021-04-26T16:32:04.723708Z",
     "start_time": "2021-04-26T16:32:04.617786Z"
    },
    "scrolled": false
   },
   "outputs": [
    {
     "data": {
      "application/vnd.jupyter.widget-view+json": {
       "model_id": "6f4d859fca2849fa92f66a85b2782e9b",
       "version_major": 2,
       "version_minor": 0
      },
      "text/plain": [
       "interactive(children=(Dropdown(description='category', options=('Opening', 'Gross', 'Worldwide Gross'), value=…"
      ]
     },
     "metadata": {},
     "output_type": "display_data"
    }
   ],
   "source": [
    "interactive3 = interact(genre_opening_analyzer, category = categories)"
   ]
  },
  {
   "cell_type": "markdown",
   "metadata": {},
   "source": [
    "### 4.2. Average Budget per Genre"
   ]
  },
  {
   "cell_type": "code",
   "execution_count": 34,
   "metadata": {
    "ExecuteTime": {
     "end_time": "2021-04-26T16:32:04.940542Z",
     "start_time": "2021-04-26T16:32:04.725044Z"
    }
   },
   "outputs": [
    {
     "data": {
      "text/html": [
       "<div>\n",
       "<style scoped>\n",
       "    .dataframe tbody tr th:only-of-type {\n",
       "        vertical-align: middle;\n",
       "    }\n",
       "\n",
       "    .dataframe tbody tr th {\n",
       "        vertical-align: top;\n",
       "    }\n",
       "\n",
       "    .dataframe thead th {\n",
       "        text-align: right;\n",
       "    }\n",
       "</style>\n",
       "<table border=\"1\" class=\"dataframe\">\n",
       "  <thead>\n",
       "    <tr style=\"text-align: right;\">\n",
       "      <th></th>\n",
       "      <th>tconst</th>\n",
       "      <th>title</th>\n",
       "      <th>release</th>\n",
       "      <th>director</th>\n",
       "      <th>budget</th>\n",
       "      <th>opening</th>\n",
       "      <th>gross</th>\n",
       "      <th>worldwide_gross</th>\n",
       "      <th>metacritic_score</th>\n",
       "      <th>mpaa_rating</th>\n",
       "    </tr>\n",
       "  </thead>\n",
       "  <tbody>\n",
       "    <tr>\n",
       "      <th>0</th>\n",
       "      <td>tt0293429</td>\n",
       "      <td>Mortal Kombat</td>\n",
       "      <td>23 April 2021 (USA)</td>\n",
       "      <td>Simon McQuoid</td>\n",
       "      <td>NaN</td>\n",
       "      <td>NaN</td>\n",
       "      <td>NaN</td>\n",
       "      <td>10700000</td>\n",
       "      <td>NaN</td>\n",
       "      <td>R</td>\n",
       "    </tr>\n",
       "    <tr>\n",
       "      <th>1</th>\n",
       "      <td>tt0315642</td>\n",
       "      <td>Wazir</td>\n",
       "      <td>8 January 2016 (USA)</td>\n",
       "      <td>Bejoy Nambiar</td>\n",
       "      <td>NaN</td>\n",
       "      <td>586028</td>\n",
       "      <td>1124045</td>\n",
       "      <td>5633588</td>\n",
       "      <td>NaN</td>\n",
       "      <td>Not Rated</td>\n",
       "    </tr>\n",
       "    <tr>\n",
       "      <th>2</th>\n",
       "      <td>tt0331314</td>\n",
       "      <td>Bunyan and Babe</td>\n",
       "      <td>12 January 2017 (USA)</td>\n",
       "      <td>Louis Ross</td>\n",
       "      <td>NaN</td>\n",
       "      <td>NaN</td>\n",
       "      <td>NaN</td>\n",
       "      <td>72060</td>\n",
       "      <td>NaN</td>\n",
       "      <td>PG</td>\n",
       "    </tr>\n",
       "    <tr>\n",
       "      <th>3</th>\n",
       "      <td>tt0369610</td>\n",
       "      <td>Jurassic World</td>\n",
       "      <td>12 June 2015 (USA)</td>\n",
       "      <td>Colin Trevorrow</td>\n",
       "      <td>150000000</td>\n",
       "      <td>208806270</td>\n",
       "      <td>652385625</td>\n",
       "      <td>1670516444</td>\n",
       "      <td>59</td>\n",
       "      <td>PG-13</td>\n",
       "    </tr>\n",
       "    <tr>\n",
       "      <th>4</th>\n",
       "      <td>tt0385887</td>\n",
       "      <td>Motherless Brooklyn</td>\n",
       "      <td>1 November 2019 (USA)</td>\n",
       "      <td>Edward Norton</td>\n",
       "      <td>26000000</td>\n",
       "      <td>3500454</td>\n",
       "      <td>9277736</td>\n",
       "      <td>18477736</td>\n",
       "      <td>60</td>\n",
       "      <td>R</td>\n",
       "    </tr>\n",
       "  </tbody>\n",
       "</table>\n",
       "</div>"
      ],
      "text/plain": [
       "      tconst                title                release         director  \\\n",
       "0  tt0293429        Mortal Kombat    23 April 2021 (USA)    Simon McQuoid   \n",
       "1  tt0315642                Wazir   8 January 2016 (USA)    Bejoy Nambiar   \n",
       "2  tt0331314      Bunyan and Babe  12 January 2017 (USA)       Louis Ross   \n",
       "3  tt0369610       Jurassic World     12 June 2015 (USA)  Colin Trevorrow   \n",
       "4  tt0385887  Motherless Brooklyn  1 November 2019 (USA)    Edward Norton   \n",
       "\n",
       "      budget    opening      gross worldwide_gross metacritic_score  \\\n",
       "0        NaN        NaN        NaN        10700000              NaN   \n",
       "1        NaN     586028    1124045         5633588              NaN   \n",
       "2        NaN        NaN        NaN           72060              NaN   \n",
       "3  150000000  208806270  652385625      1670516444               59   \n",
       "4   26000000    3500454    9277736        18477736               60   \n",
       "\n",
       "  mpaa_rating  \n",
       "0           R  \n",
       "1   Not Rated  \n",
       "2          PG  \n",
       "3       PG-13  \n",
       "4           R  "
      ]
     },
     "execution_count": 34,
     "metadata": {},
     "output_type": "execute_result"
    }
   ],
   "source": [
    "# Load scrapy json to my_data\n",
    "with open('data/scraped/results_final1.json', 'r') as f:\n",
    "    my_data = json.load(f)\n",
    "    \n",
    "with open('data/scraped/results_final2.json', 'r') as f:\n",
    "    my_data2 = json.load(f)   \n",
    "\n",
    "imdb_info1 = pd.DataFrame(my_data)\n",
    "imdb_info2 = pd.DataFrame(my_data2)\n",
    "imdb_info = imdb_info1.append(imdb_info2, ignore_index=True)\n",
    "imdb_info = imdb_info.replace(r'^\\s*$', np.nan, regex=True)\n",
    "imdb_info.rename({'title_id':'tconst'}, axis =1, inplace = True)\n",
    "imdb_info.head()"
   ]
  },
  {
   "cell_type": "code",
   "execution_count": 35,
   "metadata": {
    "ExecuteTime": {
     "end_time": "2021-04-26T16:32:05.173071Z",
     "start_time": "2021-04-26T16:32:04.942568Z"
    }
   },
   "outputs": [],
   "source": [
    "imdb_info = imdb_info.merge(title_basics_df, on = 'tconst')\n",
    "imdb_info_withbudget = imdb_info.dropna(subset = ['budget'])\n",
    "imdb_info_withbudget['budget'] = imdb_info_withbudget['budget'].astype(int)"
   ]
  },
  {
   "cell_type": "code",
   "execution_count": 36,
   "metadata": {
    "ExecuteTime": {
     "end_time": "2021-04-26T16:32:05.591571Z",
     "start_time": "2021-04-26T16:32:05.174544Z"
    }
   },
   "outputs": [
    {
     "data": {
      "image/png": "[encoded data removed]",
      "text/plain": [
       "<Figure size 1080x576 with 1 Axes>"
      ]
     },
     "metadata": {
      "image/png": {
       "height": 568,
       "width": 1072
      },
      "needs_background": "light"
     },
     "output_type": "display_data"
    }
   ],
   "source": [
    "fig = plt.figure(figsize = (15, 8))\n",
    "\n",
    "# fliersize is the size of outlier markers\n",
    "g = sns.boxplot(x = 'genres', y = 'budget', data = imdb_info_withbudget, \n",
    "                palette=\"Set2\", linewidth = 1, fliersize= 1.5)\n",
    "\n",
    "g.set(title = 'Average Budget per Genre', \n",
    "      ylabel = \"Average Budget ($M)\", xlabel = \"\")\n",
    "\n",
    "# put a horizontal line on overall mean\n",
    "plt.axhline(imdb_info_withbudget.budget.mean(), ls='--', lw = 1, color = 'black')\n",
    "\n",
    "plt.xticks(rotation=45, ha='right')\n",
    "plt.tight_layout()\n",
    "#fig.savefig(\"filename.png\")\n",
    "plt.show()"
   ]
  },
  {
   "cell_type": "code",
   "execution_count": null,
   "metadata": {},
   "outputs": [],
   "source": []
  }
 ],
 "metadata": {
  "kernelspec": {
   "display_name": "Python 3",
   "language": "python",
   "name": "python3"
  },
  "language_info": {
   "codemirror_mode": {
    "name": "ipython",
    "version": 3
   },
   "file_extension": ".py",
   "mimetype": "text/x-python",
   "name": "python",
   "nbconvert_exporter": "python",
   "pygments_lexer": "ipython3",
   "version": "3.8.3"
  }
 },
 "nbformat": 4,
 "nbformat_minor": 4
}
