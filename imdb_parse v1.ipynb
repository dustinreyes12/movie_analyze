{
 "cells": [
  {
   "cell_type": "code",
   "execution_count": 1,
   "metadata": {
    "ExecuteTime": {
     "end_time": "2021-04-24T17:11:16.786715Z",
     "start_time": "2021-04-24T17:11:15.607721Z"
    }
   },
   "outputs": [],
   "source": [
    "import pickle\n",
    "import numpy as np\n",
    "import pandas as pd\n",
    "import warnings\n",
    "from tqdm import tqdm\n",
    "warnings.filterwarnings('ignore')\n",
    "tqdm.pandas()\n",
    "%matplotlib inline"
   ]
  },
  {
   "cell_type": "code",
   "execution_count": 2,
   "metadata": {
    "ExecuteTime": {
     "end_time": "2021-04-24T17:11:16.802217Z",
     "start_time": "2021-04-24T17:11:16.788717Z"
    }
   },
   "outputs": [],
   "source": [
    "imdb_filenames = ['name.basics.tsv.gz', 'title.akas.tsv.gz', \n",
    "                  'title.basics.tsv.gz', 'title.crew.tsv.gz', \n",
    "                  'title.principals.tsv.gz', 'title.ratings.tsv.gz']"
   ]
  },
  {
   "cell_type": "code",
   "execution_count": 3,
   "metadata": {
    "ExecuteTime": {
     "end_time": "2021-04-24T17:12:10.320219Z",
     "start_time": "2021-04-24T17:11:16.805217Z"
    }
   },
   "outputs": [],
   "source": [
    "title_basics_df = pd.read_csv('data/title.basics.tsv.gz', compression='gzip', header=0, sep='\\t', quotechar='\"')\n",
    "title_cast_df = pd.read_csv('data/title.principals.tsv.gz', compression='gzip', header=0, sep='\\t', quotechar='\"',\n",
    "                           usecols = ['tconst', 'nconst'])\n",
    "title_ratings_df = pd.read_csv('data/title.ratings.tsv.gz', compression='gzip', header=0, sep='\\t', quotechar='\"')"
   ]
  },
  {
   "cell_type": "code",
   "execution_count": 4,
   "metadata": {
    "ExecuteTime": {
     "end_time": "2021-04-24T17:12:11.777221Z",
     "start_time": "2021-04-24T17:12:10.322218Z"
    }
   },
   "outputs": [],
   "source": [
    "title_basics_df = title_basics_df[title_basics_df['startYear'] !='\\\\N']"
   ]
  },
  {
   "cell_type": "code",
   "execution_count": 5,
   "metadata": {
    "ExecuteTime": {
     "end_time": "2021-04-24T17:12:12.986250Z",
     "start_time": "2021-04-24T17:12:11.778721Z"
    }
   },
   "outputs": [],
   "source": [
    "title_basics_df = title_basics_df[title_basics_df['runtimeMinutes'] !='\\\\N']"
   ]
  },
  {
   "cell_type": "code",
   "execution_count": 6,
   "metadata": {
    "ExecuteTime": {
     "end_time": "2021-04-24T17:12:13.001719Z",
     "start_time": "2021-04-24T17:12:12.988218Z"
    }
   },
   "outputs": [
    {
     "data": {
      "text/plain": [
       "tconst            object\n",
       "titleType         object\n",
       "primaryTitle      object\n",
       "originalTitle     object\n",
       "isAdult           object\n",
       "startYear         object\n",
       "endYear           object\n",
       "runtimeMinutes    object\n",
       "genres            object\n",
       "dtype: object"
      ]
     },
     "execution_count": 6,
     "metadata": {},
     "output_type": "execute_result"
    }
   ],
   "source": [
    "title_basics_df.dtypes"
   ]
  },
  {
   "cell_type": "code",
   "execution_count": 7,
   "metadata": {
    "ExecuteTime": {
     "end_time": "2021-04-24T17:12:13.032717Z",
     "start_time": "2021-04-24T17:12:13.004718Z"
    }
   },
   "outputs": [
    {
     "data": {
      "text/html": [
       "<div>\n",
       "<style scoped>\n",
       "    .dataframe tbody tr th:only-of-type {\n",
       "        vertical-align: middle;\n",
       "    }\n",
       "\n",
       "    .dataframe tbody tr th {\n",
       "        vertical-align: top;\n",
       "    }\n",
       "\n",
       "    .dataframe thead th {\n",
       "        text-align: right;\n",
       "    }\n",
       "</style>\n",
       "<table border=\"1\" class=\"dataframe\">\n",
       "  <thead>\n",
       "    <tr style=\"text-align: right;\">\n",
       "      <th></th>\n",
       "      <th>tconst</th>\n",
       "      <th>titleType</th>\n",
       "      <th>primaryTitle</th>\n",
       "      <th>originalTitle</th>\n",
       "      <th>isAdult</th>\n",
       "      <th>startYear</th>\n",
       "      <th>endYear</th>\n",
       "      <th>runtimeMinutes</th>\n",
       "      <th>genres</th>\n",
       "    </tr>\n",
       "  </thead>\n",
       "  <tbody>\n",
       "    <tr>\n",
       "      <th>0</th>\n",
       "      <td>tt0000001</td>\n",
       "      <td>short</td>\n",
       "      <td>Carmencita</td>\n",
       "      <td>Carmencita</td>\n",
       "      <td>0</td>\n",
       "      <td>1894</td>\n",
       "      <td>\\N</td>\n",
       "      <td>1</td>\n",
       "      <td>Documentary,Short</td>\n",
       "    </tr>\n",
       "    <tr>\n",
       "      <th>1</th>\n",
       "      <td>tt0000002</td>\n",
       "      <td>short</td>\n",
       "      <td>Le clown et ses chiens</td>\n",
       "      <td>Le clown et ses chiens</td>\n",
       "      <td>0</td>\n",
       "      <td>1892</td>\n",
       "      <td>\\N</td>\n",
       "      <td>5</td>\n",
       "      <td>Animation,Short</td>\n",
       "    </tr>\n",
       "    <tr>\n",
       "      <th>2</th>\n",
       "      <td>tt0000003</td>\n",
       "      <td>short</td>\n",
       "      <td>Pauvre Pierrot</td>\n",
       "      <td>Pauvre Pierrot</td>\n",
       "      <td>0</td>\n",
       "      <td>1892</td>\n",
       "      <td>\\N</td>\n",
       "      <td>4</td>\n",
       "      <td>Animation,Comedy,Romance</td>\n",
       "    </tr>\n",
       "    <tr>\n",
       "      <th>3</th>\n",
       "      <td>tt0000004</td>\n",
       "      <td>short</td>\n",
       "      <td>Un bon bock</td>\n",
       "      <td>Un bon bock</td>\n",
       "      <td>0</td>\n",
       "      <td>1892</td>\n",
       "      <td>\\N</td>\n",
       "      <td>12</td>\n",
       "      <td>Animation,Short</td>\n",
       "    </tr>\n",
       "    <tr>\n",
       "      <th>4</th>\n",
       "      <td>tt0000005</td>\n",
       "      <td>short</td>\n",
       "      <td>Blacksmith Scene</td>\n",
       "      <td>Blacksmith Scene</td>\n",
       "      <td>0</td>\n",
       "      <td>1893</td>\n",
       "      <td>\\N</td>\n",
       "      <td>1</td>\n",
       "      <td>Comedy,Short</td>\n",
       "    </tr>\n",
       "  </tbody>\n",
       "</table>\n",
       "</div>"
      ],
      "text/plain": [
       "      tconst titleType            primaryTitle           originalTitle  \\\n",
       "0  tt0000001     short              Carmencita              Carmencita   \n",
       "1  tt0000002     short  Le clown et ses chiens  Le clown et ses chiens   \n",
       "2  tt0000003     short          Pauvre Pierrot          Pauvre Pierrot   \n",
       "3  tt0000004     short             Un bon bock             Un bon bock   \n",
       "4  tt0000005     short        Blacksmith Scene        Blacksmith Scene   \n",
       "\n",
       "  isAdult startYear endYear runtimeMinutes                    genres  \n",
       "0       0      1894      \\N              1         Documentary,Short  \n",
       "1       0      1892      \\N              5           Animation,Short  \n",
       "2       0      1892      \\N              4  Animation,Comedy,Romance  \n",
       "3       0      1892      \\N             12           Animation,Short  \n",
       "4       0      1893      \\N              1              Comedy,Short  "
      ]
     },
     "execution_count": 7,
     "metadata": {},
     "output_type": "execute_result"
    }
   ],
   "source": [
    "title_basics_df.head()"
   ]
  },
  {
   "cell_type": "code",
   "execution_count": 18,
   "metadata": {
    "ExecuteTime": {
     "end_time": "2021-04-24T17:15:13.431093Z",
     "start_time": "2021-04-24T17:15:13.264560Z"
    }
   },
   "outputs": [
    {
     "data": {
      "text/html": [
       "<div>\n",
       "<style scoped>\n",
       "    .dataframe tbody tr th:only-of-type {\n",
       "        vertical-align: middle;\n",
       "    }\n",
       "\n",
       "    .dataframe tbody tr th {\n",
       "        vertical-align: top;\n",
       "    }\n",
       "\n",
       "    .dataframe thead th {\n",
       "        text-align: right;\n",
       "    }\n",
       "</style>\n",
       "<table border=\"1\" class=\"dataframe\">\n",
       "  <thead>\n",
       "    <tr style=\"text-align: right;\">\n",
       "      <th></th>\n",
       "      <th>tconst</th>\n",
       "      <th>titleType</th>\n",
       "      <th>primaryTitle</th>\n",
       "      <th>originalTitle</th>\n",
       "      <th>isAdult</th>\n",
       "      <th>startYear</th>\n",
       "      <th>endYear</th>\n",
       "      <th>runtimeMinutes</th>\n",
       "      <th>genres</th>\n",
       "    </tr>\n",
       "  </thead>\n",
       "  <tbody>\n",
       "    <tr>\n",
       "      <th>2686023</th>\n",
       "      <td>tt1300854</td>\n",
       "      <td>movie</td>\n",
       "      <td>Iron Man 3</td>\n",
       "      <td>Iron Man Three</td>\n",
       "      <td>0</td>\n",
       "      <td>2013</td>\n",
       "      <td>\\N</td>\n",
       "      <td>130</td>\n",
       "      <td>Action,Adventure,Sci-Fi</td>\n",
       "    </tr>\n",
       "    <tr>\n",
       "      <th>4622805</th>\n",
       "      <td>tt2877040</td>\n",
       "      <td>tvEpisode</td>\n",
       "      <td>Iron Man 3</td>\n",
       "      <td>Iron Man 3</td>\n",
       "      <td>0</td>\n",
       "      <td>2013</td>\n",
       "      <td>\\N</td>\n",
       "      <td>7</td>\n",
       "      <td>Talk-Show</td>\n",
       "    </tr>\n",
       "    <tr>\n",
       "      <th>4633399</th>\n",
       "      <td>tt2901620</td>\n",
       "      <td>tvEpisode</td>\n",
       "      <td>Iron Man 3</td>\n",
       "      <td>Iron Man 3</td>\n",
       "      <td>0</td>\n",
       "      <td>2013</td>\n",
       "      <td>\\N</td>\n",
       "      <td>4</td>\n",
       "      <td>Comedy,Short</td>\n",
       "    </tr>\n",
       "    <tr>\n",
       "      <th>6025815</th>\n",
       "      <td>tt6059698</td>\n",
       "      <td>tvEpisode</td>\n",
       "      <td>Iron Man 3</td>\n",
       "      <td>Iron Man 3</td>\n",
       "      <td>0</td>\n",
       "      <td>2013</td>\n",
       "      <td>\\N</td>\n",
       "      <td>10</td>\n",
       "      <td>Comedy</td>\n",
       "    </tr>\n",
       "  </tbody>\n",
       "</table>\n",
       "</div>"
      ],
      "text/plain": [
       "            tconst  titleType primaryTitle   originalTitle isAdult startYear  \\\n",
       "2686023  tt1300854      movie   Iron Man 3  Iron Man Three       0      2013   \n",
       "4622805  tt2877040  tvEpisode   Iron Man 3      Iron Man 3       0      2013   \n",
       "4633399  tt2901620  tvEpisode   Iron Man 3      Iron Man 3       0      2013   \n",
       "6025815  tt6059698  tvEpisode   Iron Man 3      Iron Man 3       0      2013   \n",
       "\n",
       "        endYear runtimeMinutes                   genres  \n",
       "2686023      \\N            130  Action,Adventure,Sci-Fi  \n",
       "4622805      \\N              7                Talk-Show  \n",
       "4633399      \\N              4             Comedy,Short  \n",
       "6025815      \\N             10                   Comedy  "
      ]
     },
     "execution_count": 18,
     "metadata": {},
     "output_type": "execute_result"
    }
   ],
   "source": [
    "# title_basics_df[title_basics_df['primaryTitle']=='Iron Man 3']"
   ]
  },
  {
   "cell_type": "code",
   "execution_count": 20,
   "metadata": {
    "ExecuteTime": {
     "end_time": "2021-04-24T17:15:43.521714Z",
     "start_time": "2021-04-24T17:15:42.267536Z"
    }
   },
   "outputs": [],
   "source": [
    "title_basics_df['titleType'] = title_basics_df['titleType'].astype(str)\n",
    "title_basics_df['isAdult'] = title_basics_df['isAdult'].astype(int)\n",
    "title_basics_df['runtimeMinutes'] = title_basics_df['runtimeMinutes'].astype(int)\n",
    "title_basics_df['startYear'] = title_basics_df['startYear'].astype(int)"
   ]
  },
  {
   "cell_type": "code",
   "execution_count": 21,
   "metadata": {
    "ExecuteTime": {
     "end_time": "2021-04-24T17:15:45.251370Z",
     "start_time": "2021-04-24T17:15:45.204858Z"
    }
   },
   "outputs": [
    {
     "data": {
      "text/plain": [
       "array([1894, 1892, 1893, 1895, 1896, 1897, 1898, 1899, 1900, 1901, 1904,\n",
       "       1902, 1903, 1905, 1912, 1907, 1908, 1910, 1906, 1909, 1914, 1913,\n",
       "       1911, 1919, 1916, 1915, 1936, 1917, 1925, 1918, 1922, 1920, 1921,\n",
       "       1923, 2019, 1924, 1927, 1929, 2000, 1926, 1993, 1935, 2014, 1928,\n",
       "       2004, 1942, 1930, 2011, 1934, 1931, 1932, 1939, 1937, 1933, 1950,\n",
       "       1938, 1951, 1945, 1946, 1940, 1944, 1949, 1947, 1941, 1952, 1970,\n",
       "       1957, 1943, 1959, 1948, 2001, 1953, 2008, 1954, 1965, 1983, 1980,\n",
       "       1973, 1961, 1995, 1955, 1962, 1958, 1956, 1977, 1960, 1964, 1967,\n",
       "       1968, 1963, 1969, 1985, 1971, 1966, 2021, 1976, 1990, 1986, 1972,\n",
       "       2020, 1979, 1974, 1978, 1981, 1988, 1975, 1989, 2009, 1987, 2010,\n",
       "       2018, 1984, 1982, 1992, 1991, 1997, 1994, 1999, 2005, 1998, 2002,\n",
       "       1996, 2017, 2016, 2006, 2007, 2003, 2012, 2013, 2015, 1891, 1888,\n",
       "       1890, 2023, 2022, 2026, 1878, 2027, 2025, 1887, 1874, 2024, 1883,\n",
       "       1881, 1885])"
      ]
     },
     "execution_count": 21,
     "metadata": {},
     "output_type": "execute_result"
    }
   ],
   "source": [
    "title_basics_df['startYear'].unique()"
   ]
  },
  {
   "cell_type": "code",
   "execution_count": 23,
   "metadata": {
    "ExecuteTime": {
     "end_time": "2021-04-24T17:16:07.908753Z",
     "start_time": "2021-04-24T17:16:07.519244Z"
    }
   },
   "outputs": [],
   "source": [
    "mask = ((title_basics_df['startYear'] >= 2005) &\n",
    "        (title_basics_df['startYear'] <= 2021) &\n",
    "        (title_basics_df['titleType'] == 'movie') &\n",
    "        (title_basics_df['isAdult'] == 0) & \n",
    "        (title_basics_df['runtimeMinutes'] >80) &\n",
    "        (title_basics_df['genres'] != '') &\n",
    "        (title_basics_df['genres'] != 'Documentary'))"
   ]
  },
  {
   "cell_type": "code",
   "execution_count": 24,
   "metadata": {
    "ExecuteTime": {
     "end_time": "2021-04-24T17:16:12.473703Z",
     "start_time": "2021-04-24T17:16:08.802529Z"
    }
   },
   "outputs": [],
   "source": [
    "## Helper Functions\n",
    "def clean_year(y):\n",
    "    # Return year as an integer or 'NaN' if empty\n",
    "    import numpy as np\n",
    "    try:\n",
    "        return int(y)\n",
    "    except:\n",
    "        return np.nan\n",
    "\n",
    "def clean_genre(y):\n",
    "    # Return only the first genre listed\n",
    "    y = str(y)\n",
    "    if y == '\\\\N':\n",
    "        return ''\n",
    "    return y.split(',')[0].strip()\n",
    "\n",
    "title_basics_df.drop('endYear', axis=1, inplace=True)\n",
    "title_basics_df['startYear'] = title_basics_df['startYear'].apply(clean_year)\n",
    "title_basics_df['runtimeMinutes'] = title_basics_df['runtimeMinutes'].apply(clean_year)\n",
    "title_basics_df['genres'] = title_basics_df['genres'].apply(clean_genre)\n",
    "title_basics_df.dropna(inplace=True, how='any', subset=['startYear', 'runtimeMinutes'])"
   ]
  },
  {
   "cell_type": "code",
   "execution_count": 12,
   "metadata": {
    "ExecuteTime": {
     "end_time": "2021-04-20T20:20:32.961189Z",
     "start_time": "2021-04-20T20:20:32.946683Z"
    }
   },
   "outputs": [
    {
     "data": {
      "text/plain": [
       "(2162551, 8)"
      ]
     },
     "execution_count": 12,
     "metadata": {},
     "output_type": "execute_result"
    }
   ],
   "source": [
    "title_basics_df.shape"
   ]
  },
  {
   "cell_type": "code",
   "execution_count": 27,
   "metadata": {
    "ExecuteTime": {
     "end_time": "2021-04-24T17:16:21.654459Z",
     "start_time": "2021-04-24T17:16:21.630961Z"
    }
   },
   "outputs": [
    {
     "data": {
      "text/html": [
       "<div>\n",
       "<style scoped>\n",
       "    .dataframe tbody tr th:only-of-type {\n",
       "        vertical-align: middle;\n",
       "    }\n",
       "\n",
       "    .dataframe tbody tr th {\n",
       "        vertical-align: top;\n",
       "    }\n",
       "\n",
       "    .dataframe thead th {\n",
       "        text-align: right;\n",
       "    }\n",
       "</style>\n",
       "<table border=\"1\" class=\"dataframe\">\n",
       "  <thead>\n",
       "    <tr style=\"text-align: right;\">\n",
       "      <th></th>\n",
       "      <th>tconst</th>\n",
       "      <th>titleType</th>\n",
       "      <th>primaryTitle</th>\n",
       "      <th>originalTitle</th>\n",
       "      <th>isAdult</th>\n",
       "      <th>startYear</th>\n",
       "      <th>runtimeMinutes</th>\n",
       "      <th>genres</th>\n",
       "    </tr>\n",
       "  </thead>\n",
       "  <tbody>\n",
       "    <tr>\n",
       "      <th>0</th>\n",
       "      <td>tt0000001</td>\n",
       "      <td>short</td>\n",
       "      <td>Carmencita</td>\n",
       "      <td>Carmencita</td>\n",
       "      <td>0</td>\n",
       "      <td>1894</td>\n",
       "      <td>1</td>\n",
       "      <td>Documentary</td>\n",
       "    </tr>\n",
       "    <tr>\n",
       "      <th>1</th>\n",
       "      <td>tt0000002</td>\n",
       "      <td>short</td>\n",
       "      <td>Le clown et ses chiens</td>\n",
       "      <td>Le clown et ses chiens</td>\n",
       "      <td>0</td>\n",
       "      <td>1892</td>\n",
       "      <td>5</td>\n",
       "      <td>Animation</td>\n",
       "    </tr>\n",
       "    <tr>\n",
       "      <th>2</th>\n",
       "      <td>tt0000003</td>\n",
       "      <td>short</td>\n",
       "      <td>Pauvre Pierrot</td>\n",
       "      <td>Pauvre Pierrot</td>\n",
       "      <td>0</td>\n",
       "      <td>1892</td>\n",
       "      <td>4</td>\n",
       "      <td>Animation</td>\n",
       "    </tr>\n",
       "    <tr>\n",
       "      <th>3</th>\n",
       "      <td>tt0000004</td>\n",
       "      <td>short</td>\n",
       "      <td>Un bon bock</td>\n",
       "      <td>Un bon bock</td>\n",
       "      <td>0</td>\n",
       "      <td>1892</td>\n",
       "      <td>12</td>\n",
       "      <td>Animation</td>\n",
       "    </tr>\n",
       "    <tr>\n",
       "      <th>4</th>\n",
       "      <td>tt0000005</td>\n",
       "      <td>short</td>\n",
       "      <td>Blacksmith Scene</td>\n",
       "      <td>Blacksmith Scene</td>\n",
       "      <td>0</td>\n",
       "      <td>1893</td>\n",
       "      <td>1</td>\n",
       "      <td>Comedy</td>\n",
       "    </tr>\n",
       "  </tbody>\n",
       "</table>\n",
       "</div>"
      ],
      "text/plain": [
       "      tconst titleType            primaryTitle           originalTitle  \\\n",
       "0  tt0000001     short              Carmencita              Carmencita   \n",
       "1  tt0000002     short  Le clown et ses chiens  Le clown et ses chiens   \n",
       "2  tt0000003     short          Pauvre Pierrot          Pauvre Pierrot   \n",
       "3  tt0000004     short             Un bon bock             Un bon bock   \n",
       "4  tt0000005     short        Blacksmith Scene        Blacksmith Scene   \n",
       "\n",
       "   isAdult  startYear  runtimeMinutes       genres  \n",
       "0        0       1894               1  Documentary  \n",
       "1        0       1892               5    Animation  \n",
       "2        0       1892               4    Animation  \n",
       "3        0       1892              12    Animation  \n",
       "4        0       1893               1       Comedy  "
      ]
     },
     "execution_count": 27,
     "metadata": {},
     "output_type": "execute_result"
    }
   ],
   "source": [
    "title_basics_df.head()"
   ]
  },
  {
   "cell_type": "code",
   "execution_count": 28,
   "metadata": {
    "ExecuteTime": {
     "end_time": "2021-04-24T17:16:21.978848Z",
     "start_time": "2021-04-24T17:16:21.964861Z"
    }
   },
   "outputs": [
    {
     "data": {
      "text/html": [
       "<div>\n",
       "<style scoped>\n",
       "    .dataframe tbody tr th:only-of-type {\n",
       "        vertical-align: middle;\n",
       "    }\n",
       "\n",
       "    .dataframe tbody tr th {\n",
       "        vertical-align: top;\n",
       "    }\n",
       "\n",
       "    .dataframe thead th {\n",
       "        text-align: right;\n",
       "    }\n",
       "</style>\n",
       "<table border=\"1\" class=\"dataframe\">\n",
       "  <thead>\n",
       "    <tr style=\"text-align: right;\">\n",
       "      <th></th>\n",
       "      <th>tconst</th>\n",
       "      <th>nconst</th>\n",
       "    </tr>\n",
       "  </thead>\n",
       "  <tbody>\n",
       "    <tr>\n",
       "      <th>0</th>\n",
       "      <td>tt0000001</td>\n",
       "      <td>nm1588970</td>\n",
       "    </tr>\n",
       "    <tr>\n",
       "      <th>1</th>\n",
       "      <td>tt0000001</td>\n",
       "      <td>nm0005690</td>\n",
       "    </tr>\n",
       "    <tr>\n",
       "      <th>2</th>\n",
       "      <td>tt0000001</td>\n",
       "      <td>nm0374658</td>\n",
       "    </tr>\n",
       "    <tr>\n",
       "      <th>3</th>\n",
       "      <td>tt0000002</td>\n",
       "      <td>nm0721526</td>\n",
       "    </tr>\n",
       "    <tr>\n",
       "      <th>4</th>\n",
       "      <td>tt0000002</td>\n",
       "      <td>nm1335271</td>\n",
       "    </tr>\n",
       "  </tbody>\n",
       "</table>\n",
       "</div>"
      ],
      "text/plain": [
       "      tconst     nconst\n",
       "0  tt0000001  nm1588970\n",
       "1  tt0000001  nm0005690\n",
       "2  tt0000001  nm0374658\n",
       "3  tt0000002  nm0721526\n",
       "4  tt0000002  nm1335271"
      ]
     },
     "execution_count": 28,
     "metadata": {},
     "output_type": "execute_result"
    }
   ],
   "source": [
    "title_cast_df.head()"
   ]
  },
  {
   "cell_type": "code",
   "execution_count": 29,
   "metadata": {
    "ExecuteTime": {
     "end_time": "2021-04-24T17:16:23.928505Z",
     "start_time": "2021-04-24T17:16:23.922507Z"
    }
   },
   "outputs": [
    {
     "data": {
      "text/plain": [
       "(44252270, 2)"
      ]
     },
     "execution_count": 29,
     "metadata": {},
     "output_type": "execute_result"
    }
   ],
   "source": [
    "title_cast_df.shape"
   ]
  },
  {
   "cell_type": "code",
   "execution_count": 16,
   "metadata": {
    "ExecuteTime": {
     "end_time": "2021-04-20T20:20:33.038663Z",
     "start_time": "2021-04-20T20:20:33.024637Z"
    }
   },
   "outputs": [],
   "source": [
    "def f(df):\n",
    "    keys, values = df.sort_values('tconst').values.T\n",
    "    ukeys, index = np.unique(keys, True)\n",
    "    arrays = np.split(values, index[1:])\n",
    "    df2 = pd.DataFrame({'tconst':ukeys, 'nconst':[list(a) for a in arrays]})\n",
    "    return df2"
   ]
  },
  {
   "cell_type": "code",
   "execution_count": 17,
   "metadata": {
    "ExecuteTime": {
     "end_time": "2021-04-20T20:21:54.013545Z",
     "start_time": "2021-04-20T20:20:33.040637Z"
    }
   },
   "outputs": [],
   "source": [
    "title_cast_df = f(title_cast_df)"
   ]
  },
  {
   "cell_type": "code",
   "execution_count": 18,
   "metadata": {
    "ExecuteTime": {
     "end_time": "2021-04-20T20:21:54.044541Z",
     "start_time": "2021-04-20T20:21:54.017041Z"
    }
   },
   "outputs": [
    {
     "data": {
      "text/html": [
       "<div>\n",
       "<style scoped>\n",
       "    .dataframe tbody tr th:only-of-type {\n",
       "        vertical-align: middle;\n",
       "    }\n",
       "\n",
       "    .dataframe tbody tr th {\n",
       "        vertical-align: top;\n",
       "    }\n",
       "\n",
       "    .dataframe thead th {\n",
       "        text-align: right;\n",
       "    }\n",
       "</style>\n",
       "<table border=\"1\" class=\"dataframe\">\n",
       "  <thead>\n",
       "    <tr style=\"text-align: right;\">\n",
       "      <th></th>\n",
       "      <th>tconst</th>\n",
       "      <th>nconst</th>\n",
       "    </tr>\n",
       "  </thead>\n",
       "  <tbody>\n",
       "    <tr>\n",
       "      <th>0</th>\n",
       "      <td>tt0000001</td>\n",
       "      <td>[nm1588970, nm0005690, nm0374658]</td>\n",
       "    </tr>\n",
       "    <tr>\n",
       "      <th>1</th>\n",
       "      <td>tt0000002</td>\n",
       "      <td>[nm0721526, nm1335271]</td>\n",
       "    </tr>\n",
       "    <tr>\n",
       "      <th>2</th>\n",
       "      <td>tt0000003</td>\n",
       "      <td>[nm1335271, nm5442200, nm0721526, nm1770680]</td>\n",
       "    </tr>\n",
       "    <tr>\n",
       "      <th>3</th>\n",
       "      <td>tt0000004</td>\n",
       "      <td>[nm0721526, nm1335271]</td>\n",
       "    </tr>\n",
       "    <tr>\n",
       "      <th>4</th>\n",
       "      <td>tt0000005</td>\n",
       "      <td>[nm0443482, nm0653042, nm0005690, nm0249379]</td>\n",
       "    </tr>\n",
       "  </tbody>\n",
       "</table>\n",
       "</div>"
      ],
      "text/plain": [
       "      tconst                                        nconst\n",
       "0  tt0000001             [nm1588970, nm0005690, nm0374658]\n",
       "1  tt0000002                        [nm0721526, nm1335271]\n",
       "2  tt0000003  [nm1335271, nm5442200, nm0721526, nm1770680]\n",
       "3  tt0000004                        [nm0721526, nm1335271]\n",
       "4  tt0000005  [nm0443482, nm0653042, nm0005690, nm0249379]"
      ]
     },
     "execution_count": 18,
     "metadata": {},
     "output_type": "execute_result"
    }
   ],
   "source": [
    "title_cast_df.head()"
   ]
  },
  {
   "cell_type": "code",
   "execution_count": 19,
   "metadata": {
    "ExecuteTime": {
     "end_time": "2021-04-20T20:21:54.075541Z",
     "start_time": "2021-04-20T20:21:54.048042Z"
    }
   },
   "outputs": [
    {
     "data": {
      "text/html": [
       "<div>\n",
       "<style scoped>\n",
       "    .dataframe tbody tr th:only-of-type {\n",
       "        vertical-align: middle;\n",
       "    }\n",
       "\n",
       "    .dataframe tbody tr th {\n",
       "        vertical-align: top;\n",
       "    }\n",
       "\n",
       "    .dataframe thead th {\n",
       "        text-align: right;\n",
       "    }\n",
       "</style>\n",
       "<table border=\"1\" class=\"dataframe\">\n",
       "  <thead>\n",
       "    <tr style=\"text-align: right;\">\n",
       "      <th></th>\n",
       "      <th>tconst</th>\n",
       "      <th>titleType</th>\n",
       "      <th>primaryTitle</th>\n",
       "      <th>originalTitle</th>\n",
       "      <th>isAdult</th>\n",
       "      <th>startYear</th>\n",
       "      <th>runtimeMinutes</th>\n",
       "      <th>genres</th>\n",
       "    </tr>\n",
       "  </thead>\n",
       "  <tbody>\n",
       "    <tr>\n",
       "      <th>0</th>\n",
       "      <td>tt0000001</td>\n",
       "      <td>short</td>\n",
       "      <td>Carmencita</td>\n",
       "      <td>Carmencita</td>\n",
       "      <td>0</td>\n",
       "      <td>1894</td>\n",
       "      <td>1</td>\n",
       "      <td>Documentary</td>\n",
       "    </tr>\n",
       "    <tr>\n",
       "      <th>1</th>\n",
       "      <td>tt0000002</td>\n",
       "      <td>short</td>\n",
       "      <td>Le clown et ses chiens</td>\n",
       "      <td>Le clown et ses chiens</td>\n",
       "      <td>0</td>\n",
       "      <td>1892</td>\n",
       "      <td>5</td>\n",
       "      <td>Animation</td>\n",
       "    </tr>\n",
       "    <tr>\n",
       "      <th>2</th>\n",
       "      <td>tt0000003</td>\n",
       "      <td>short</td>\n",
       "      <td>Pauvre Pierrot</td>\n",
       "      <td>Pauvre Pierrot</td>\n",
       "      <td>0</td>\n",
       "      <td>1892</td>\n",
       "      <td>4</td>\n",
       "      <td>Animation</td>\n",
       "    </tr>\n",
       "    <tr>\n",
       "      <th>3</th>\n",
       "      <td>tt0000004</td>\n",
       "      <td>short</td>\n",
       "      <td>Un bon bock</td>\n",
       "      <td>Un bon bock</td>\n",
       "      <td>0</td>\n",
       "      <td>1892</td>\n",
       "      <td>12</td>\n",
       "      <td>Animation</td>\n",
       "    </tr>\n",
       "    <tr>\n",
       "      <th>4</th>\n",
       "      <td>tt0000005</td>\n",
       "      <td>short</td>\n",
       "      <td>Blacksmith Scene</td>\n",
       "      <td>Blacksmith Scene</td>\n",
       "      <td>0</td>\n",
       "      <td>1893</td>\n",
       "      <td>1</td>\n",
       "      <td>Comedy</td>\n",
       "    </tr>\n",
       "  </tbody>\n",
       "</table>\n",
       "</div>"
      ],
      "text/plain": [
       "      tconst titleType            primaryTitle           originalTitle  \\\n",
       "0  tt0000001     short              Carmencita              Carmencita   \n",
       "1  tt0000002     short  Le clown et ses chiens  Le clown et ses chiens   \n",
       "2  tt0000003     short          Pauvre Pierrot          Pauvre Pierrot   \n",
       "3  tt0000004     short             Un bon bock             Un bon bock   \n",
       "4  tt0000005     short        Blacksmith Scene        Blacksmith Scene   \n",
       "\n",
       "   isAdult  startYear  runtimeMinutes       genres  \n",
       "0        0       1894               1  Documentary  \n",
       "1        0       1892               5    Animation  \n",
       "2        0       1892               4    Animation  \n",
       "3        0       1892              12    Animation  \n",
       "4        0       1893               1       Comedy  "
      ]
     },
     "execution_count": 19,
     "metadata": {},
     "output_type": "execute_result"
    }
   ],
   "source": [
    "title_basics_df.head()"
   ]
  },
  {
   "cell_type": "code",
   "execution_count": 20,
   "metadata": {
    "ExecuteTime": {
     "end_time": "2021-04-20T20:22:04.226540Z",
     "start_time": "2021-04-20T20:21:54.079540Z"
    }
   },
   "outputs": [],
   "source": [
    "titles = title_basics_df[mask].merge(title_cast_df, on='tconst')\n",
    "titles = titles.merge(title_ratings_df, on='tconst')"
   ]
  },
  {
   "cell_type": "code",
   "execution_count": 21,
   "metadata": {
    "ExecuteTime": {
     "end_time": "2021-04-20T20:22:04.257542Z",
     "start_time": "2021-04-20T20:22:04.228040Z"
    }
   },
   "outputs": [
    {
     "data": {
      "text/html": [
       "<div>\n",
       "<style scoped>\n",
       "    .dataframe tbody tr th:only-of-type {\n",
       "        vertical-align: middle;\n",
       "    }\n",
       "\n",
       "    .dataframe tbody tr th {\n",
       "        vertical-align: top;\n",
       "    }\n",
       "\n",
       "    .dataframe thead th {\n",
       "        text-align: right;\n",
       "    }\n",
       "</style>\n",
       "<table border=\"1\" class=\"dataframe\">\n",
       "  <thead>\n",
       "    <tr style=\"text-align: right;\">\n",
       "      <th></th>\n",
       "      <th>tconst</th>\n",
       "      <th>titleType</th>\n",
       "      <th>primaryTitle</th>\n",
       "      <th>originalTitle</th>\n",
       "      <th>isAdult</th>\n",
       "      <th>startYear</th>\n",
       "      <th>runtimeMinutes</th>\n",
       "      <th>genres</th>\n",
       "      <th>nconst</th>\n",
       "      <th>averageRating</th>\n",
       "      <th>numVotes</th>\n",
       "    </tr>\n",
       "  </thead>\n",
       "  <tbody>\n",
       "    <tr>\n",
       "      <th>0</th>\n",
       "      <td>tt0019996</td>\n",
       "      <td>movie</td>\n",
       "      <td>Hongxia</td>\n",
       "      <td>Hongxia</td>\n",
       "      <td>0</td>\n",
       "      <td>2011</td>\n",
       "      <td>94</td>\n",
       "      <td>Action</td>\n",
       "      <td>[nm0266662, nm0920761, nm0955817, nm0946300]</td>\n",
       "      <td>6.3</td>\n",
       "      <td>52</td>\n",
       "    </tr>\n",
       "    <tr>\n",
       "      <th>1</th>\n",
       "      <td>tt0036177</td>\n",
       "      <td>movie</td>\n",
       "      <td>Muhomatsu no issho</td>\n",
       "      <td>Muhomatsu no issho</td>\n",
       "      <td>0</td>\n",
       "      <td>2008</td>\n",
       "      <td>100</td>\n",
       "      <td>Action</td>\n",
       "      <td>[nm0411632, nm0594335, nm1156001, nm0412616, n...</td>\n",
       "      <td>7.3</td>\n",
       "      <td>81</td>\n",
       "    </tr>\n",
       "    <tr>\n",
       "      <th>2</th>\n",
       "      <td>tt0069049</td>\n",
       "      <td>movie</td>\n",
       "      <td>The Other Side of the Wind</td>\n",
       "      <td>The Other Side of the Wind</td>\n",
       "      <td>0</td>\n",
       "      <td>2018</td>\n",
       "      <td>122</td>\n",
       "      <td>Drama</td>\n",
       "      <td>[nm0004372, nm0006166, nm1475059, nm0550881, n...</td>\n",
       "      <td>6.8</td>\n",
       "      <td>6464</td>\n",
       "    </tr>\n",
       "    <tr>\n",
       "      <th>3</th>\n",
       "      <td>tt0088751</td>\n",
       "      <td>movie</td>\n",
       "      <td>The Naked Monster</td>\n",
       "      <td>The Naked Monster</td>\n",
       "      <td>0</td>\n",
       "      <td>2005</td>\n",
       "      <td>100</td>\n",
       "      <td>Comedy</td>\n",
       "      <td>[nm1848380, nm0006100, nm0628399, nm0078540, n...</td>\n",
       "      <td>5.4</td>\n",
       "      <td>287</td>\n",
       "    </tr>\n",
       "    <tr>\n",
       "      <th>4</th>\n",
       "      <td>tt0110476</td>\n",
       "      <td>movie</td>\n",
       "      <td>Master i Margarita</td>\n",
       "      <td>Master i Margarita</td>\n",
       "      <td>0</td>\n",
       "      <td>2006</td>\n",
       "      <td>125</td>\n",
       "      <td>Drama</td>\n",
       "      <td>[nm0804691, nm2157023, nm0119888, nm0438671, n...</td>\n",
       "      <td>6.6</td>\n",
       "      <td>577</td>\n",
       "    </tr>\n",
       "  </tbody>\n",
       "</table>\n",
       "</div>"
      ],
      "text/plain": [
       "      tconst titleType                primaryTitle  \\\n",
       "0  tt0019996     movie                     Hongxia   \n",
       "1  tt0036177     movie          Muhomatsu no issho   \n",
       "2  tt0069049     movie  The Other Side of the Wind   \n",
       "3  tt0088751     movie           The Naked Monster   \n",
       "4  tt0110476     movie          Master i Margarita   \n",
       "\n",
       "                originalTitle  isAdult  startYear  runtimeMinutes  genres  \\\n",
       "0                     Hongxia        0       2011              94  Action   \n",
       "1          Muhomatsu no issho        0       2008             100  Action   \n",
       "2  The Other Side of the Wind        0       2018             122   Drama   \n",
       "3           The Naked Monster        0       2005             100  Comedy   \n",
       "4          Master i Margarita        0       2006             125   Drama   \n",
       "\n",
       "                                              nconst  averageRating  numVotes  \n",
       "0       [nm0266662, nm0920761, nm0955817, nm0946300]            6.3        52  \n",
       "1  [nm0411632, nm0594335, nm1156001, nm0412616, n...            7.3        81  \n",
       "2  [nm0004372, nm0006166, nm1475059, nm0550881, n...            6.8      6464  \n",
       "3  [nm1848380, nm0006100, nm0628399, nm0078540, n...            5.4       287  \n",
       "4  [nm0804691, nm2157023, nm0119888, nm0438671, n...            6.6       577  "
      ]
     },
     "execution_count": 21,
     "metadata": {},
     "output_type": "execute_result"
    }
   ],
   "source": [
    "titles.head()"
   ]
  },
  {
   "cell_type": "code",
   "execution_count": 22,
   "metadata": {
    "ExecuteTime": {
     "end_time": "2021-04-20T20:22:04.273038Z",
     "start_time": "2021-04-20T20:22:04.262040Z"
    }
   },
   "outputs": [
    {
     "data": {
      "text/plain": [
       "(75314, 11)"
      ]
     },
     "execution_count": 22,
     "metadata": {},
     "output_type": "execute_result"
    }
   ],
   "source": [
    "titles.shape"
   ]
  },
  {
   "cell_type": "code",
   "execution_count": 23,
   "metadata": {
    "ExecuteTime": {
     "end_time": "2021-04-20T20:22:04.335040Z",
     "start_time": "2021-04-20T20:22:04.275541Z"
    }
   },
   "outputs": [],
   "source": [
    "with open('imdb_spider/data.pkl', 'wb') as picklefile:\n",
    "    pickle.dump(titles['tconst'].values, picklefile)"
   ]
  },
  {
   "cell_type": "code",
   "execution_count": null,
   "metadata": {},
   "outputs": [],
   "source": []
  }
 ],
 "metadata": {
  "kernelspec": {
   "display_name": "Python 3",
   "language": "python",
   "name": "python3"
  },
  "language_info": {
   "codemirror_mode": {
    "name": "ipython",
    "version": 3
   },
   "file_extension": ".py",
   "mimetype": "text/x-python",
   "name": "python",
   "nbconvert_exporter": "python",
   "pygments_lexer": "ipython3",
   "version": "3.8.3"
  }
 },
 "nbformat": 4,
 "nbformat_minor": 4
}
