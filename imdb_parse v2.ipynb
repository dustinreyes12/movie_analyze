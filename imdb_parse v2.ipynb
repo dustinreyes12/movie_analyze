{
 "cells": [
  {
   "cell_type": "code",
   "execution_count": 1,
   "metadata": {
    "ExecuteTime": {
     "end_time": "2021-04-24T17:17:26.994069Z",
     "start_time": "2021-04-24T17:17:26.046534Z"
    }
   },
   "outputs": [],
   "source": [
    "import pickle\n",
    "import numpy as np\n",
    "import pandas as pd\n",
    "import warnings\n",
    "from tqdm import tqdm\n",
    "warnings.filterwarnings('ignore')\n",
    "tqdm.pandas()\n",
    "%matplotlib inline"
   ]
  },
  {
   "cell_type": "code",
   "execution_count": 2,
   "metadata": {
    "ExecuteTime": {
     "end_time": "2021-04-24T17:17:27.009539Z",
     "start_time": "2021-04-24T17:17:26.996534Z"
    }
   },
   "outputs": [],
   "source": [
    "imdb_filenames = ['name.basics.tsv.gz', 'title.akas.tsv.gz', \n",
    "                  'title.basics.tsv.gz', 'title.crew.tsv.gz', \n",
    "                  'title.principals.tsv.gz', 'title.ratings.tsv.gz']"
   ]
  },
  {
   "cell_type": "code",
   "execution_count": 3,
   "metadata": {
    "ExecuteTime": {
     "end_time": "2021-04-24T17:18:17.704844Z",
     "start_time": "2021-04-24T17:17:27.012536Z"
    }
   },
   "outputs": [],
   "source": [
    "title_basics_df = pd.read_csv('data/title.basics.tsv.gz', compression='gzip', header=0, sep='\\t', quotechar='\"')\n",
    "title_cast_df = pd.read_csv('data/title.principals.tsv.gz', compression='gzip', header=0, sep='\\t', quotechar='\"',\n",
    "                           usecols = ['tconst', 'nconst'])\n",
    "title_ratings_df = pd.read_csv('data/title.ratings.tsv.gz', compression='gzip', header=0, sep='\\t', quotechar='\"')"
   ]
  },
  {
   "cell_type": "code",
   "execution_count": 4,
   "metadata": {
    "ExecuteTime": {
     "end_time": "2021-04-24T17:18:19.115411Z",
     "start_time": "2021-04-24T17:18:17.707347Z"
    }
   },
   "outputs": [],
   "source": [
    "title_basics_df = title_basics_df[title_basics_df['startYear'] !='\\\\N']"
   ]
  },
  {
   "cell_type": "code",
   "execution_count": 5,
   "metadata": {
    "ExecuteTime": {
     "end_time": "2021-04-24T17:18:20.184535Z",
     "start_time": "2021-04-24T17:18:19.116845Z"
    }
   },
   "outputs": [],
   "source": [
    "title_basics_df = title_basics_df[title_basics_df['runtimeMinutes'] !='\\\\N']"
   ]
  },
  {
   "cell_type": "code",
   "execution_count": 6,
   "metadata": {
    "ExecuteTime": {
     "end_time": "2021-04-24T17:18:20.199843Z",
     "start_time": "2021-04-24T17:18:20.186346Z"
    }
   },
   "outputs": [
    {
     "data": {
      "text/plain": [
       "tconst            object\n",
       "titleType         object\n",
       "primaryTitle      object\n",
       "originalTitle     object\n",
       "isAdult           object\n",
       "startYear         object\n",
       "endYear           object\n",
       "runtimeMinutes    object\n",
       "genres            object\n",
       "dtype: object"
      ]
     },
     "execution_count": 6,
     "metadata": {},
     "output_type": "execute_result"
    }
   ],
   "source": [
    "title_basics_df.dtypes"
   ]
  },
  {
   "cell_type": "code",
   "execution_count": 7,
   "metadata": {
    "ExecuteTime": {
     "end_time": "2021-04-24T17:18:20.230878Z",
     "start_time": "2021-04-24T17:18:20.201845Z"
    }
   },
   "outputs": [
    {
     "data": {
      "text/html": [
       "<div>\n",
       "<style scoped>\n",
       "    .dataframe tbody tr th:only-of-type {\n",
       "        vertical-align: middle;\n",
       "    }\n",
       "\n",
       "    .dataframe tbody tr th {\n",
       "        vertical-align: top;\n",
       "    }\n",
       "\n",
       "    .dataframe thead th {\n",
       "        text-align: right;\n",
       "    }\n",
       "</style>\n",
       "<table border=\"1\" class=\"dataframe\">\n",
       "  <thead>\n",
       "    <tr style=\"text-align: right;\">\n",
       "      <th></th>\n",
       "      <th>tconst</th>\n",
       "      <th>titleType</th>\n",
       "      <th>primaryTitle</th>\n",
       "      <th>originalTitle</th>\n",
       "      <th>isAdult</th>\n",
       "      <th>startYear</th>\n",
       "      <th>endYear</th>\n",
       "      <th>runtimeMinutes</th>\n",
       "      <th>genres</th>\n",
       "    </tr>\n",
       "  </thead>\n",
       "  <tbody>\n",
       "    <tr>\n",
       "      <th>0</th>\n",
       "      <td>tt0000001</td>\n",
       "      <td>short</td>\n",
       "      <td>Carmencita</td>\n",
       "      <td>Carmencita</td>\n",
       "      <td>0</td>\n",
       "      <td>1894</td>\n",
       "      <td>\\N</td>\n",
       "      <td>1</td>\n",
       "      <td>Documentary,Short</td>\n",
       "    </tr>\n",
       "    <tr>\n",
       "      <th>1</th>\n",
       "      <td>tt0000002</td>\n",
       "      <td>short</td>\n",
       "      <td>Le clown et ses chiens</td>\n",
       "      <td>Le clown et ses chiens</td>\n",
       "      <td>0</td>\n",
       "      <td>1892</td>\n",
       "      <td>\\N</td>\n",
       "      <td>5</td>\n",
       "      <td>Animation,Short</td>\n",
       "    </tr>\n",
       "    <tr>\n",
       "      <th>2</th>\n",
       "      <td>tt0000003</td>\n",
       "      <td>short</td>\n",
       "      <td>Pauvre Pierrot</td>\n",
       "      <td>Pauvre Pierrot</td>\n",
       "      <td>0</td>\n",
       "      <td>1892</td>\n",
       "      <td>\\N</td>\n",
       "      <td>4</td>\n",
       "      <td>Animation,Comedy,Romance</td>\n",
       "    </tr>\n",
       "    <tr>\n",
       "      <th>3</th>\n",
       "      <td>tt0000004</td>\n",
       "      <td>short</td>\n",
       "      <td>Un bon bock</td>\n",
       "      <td>Un bon bock</td>\n",
       "      <td>0</td>\n",
       "      <td>1892</td>\n",
       "      <td>\\N</td>\n",
       "      <td>12</td>\n",
       "      <td>Animation,Short</td>\n",
       "    </tr>\n",
       "    <tr>\n",
       "      <th>4</th>\n",
       "      <td>tt0000005</td>\n",
       "      <td>short</td>\n",
       "      <td>Blacksmith Scene</td>\n",
       "      <td>Blacksmith Scene</td>\n",
       "      <td>0</td>\n",
       "      <td>1893</td>\n",
       "      <td>\\N</td>\n",
       "      <td>1</td>\n",
       "      <td>Comedy,Short</td>\n",
       "    </tr>\n",
       "  </tbody>\n",
       "</table>\n",
       "</div>"
      ],
      "text/plain": [
       "      tconst titleType            primaryTitle           originalTitle  \\\n",
       "0  tt0000001     short              Carmencita              Carmencita   \n",
       "1  tt0000002     short  Le clown et ses chiens  Le clown et ses chiens   \n",
       "2  tt0000003     short          Pauvre Pierrot          Pauvre Pierrot   \n",
       "3  tt0000004     short             Un bon bock             Un bon bock   \n",
       "4  tt0000005     short        Blacksmith Scene        Blacksmith Scene   \n",
       "\n",
       "  isAdult startYear endYear runtimeMinutes                    genres  \n",
       "0       0      1894      \\N              1         Documentary,Short  \n",
       "1       0      1892      \\N              5           Animation,Short  \n",
       "2       0      1892      \\N              4  Animation,Comedy,Romance  \n",
       "3       0      1892      \\N             12           Animation,Short  \n",
       "4       0      1893      \\N              1              Comedy,Short  "
      ]
     },
     "execution_count": 7,
     "metadata": {},
     "output_type": "execute_result"
    }
   ],
   "source": [
    "title_basics_df.head()"
   ]
  },
  {
   "cell_type": "code",
   "execution_count": 8,
   "metadata": {
    "ExecuteTime": {
     "end_time": "2021-04-24T17:18:21.346995Z",
     "start_time": "2021-04-24T17:18:20.234380Z"
    }
   },
   "outputs": [],
   "source": [
    "title_basics_df['titleType'] = title_basics_df['titleType'].astype(str)\n",
    "title_basics_df['isAdult'] = title_basics_df['isAdult'].astype(int)\n",
    "title_basics_df['runtimeMinutes'] = title_basics_df['runtimeMinutes'].astype(int)\n",
    "title_basics_df['startYear'] = title_basics_df['startYear'].astype(int)"
   ]
  },
  {
   "cell_type": "code",
   "execution_count": 9,
   "metadata": {
    "ExecuteTime": {
     "end_time": "2021-04-24T17:18:21.377995Z",
     "start_time": "2021-04-24T17:18:21.348940Z"
    }
   },
   "outputs": [
    {
     "data": {
      "text/plain": [
       "array([1894, 1892, 1893, 1895, 1896, 1897, 1898, 1899, 1900, 1901, 1904,\n",
       "       1902, 1903, 1905, 1912, 1907, 1908, 1910, 1906, 1909, 1914, 1913,\n",
       "       1911, 1919, 1916, 1915, 1936, 1917, 1925, 1918, 1922, 1920, 1921,\n",
       "       1923, 2019, 1924, 1927, 1929, 2000, 1926, 1993, 1935, 2014, 1928,\n",
       "       2004, 1942, 1930, 2011, 1934, 1931, 1932, 1939, 1937, 1933, 1950,\n",
       "       1938, 1951, 1945, 1946, 1940, 1944, 1949, 1947, 1941, 1952, 1970,\n",
       "       1957, 1943, 1959, 1948, 2001, 1953, 2008, 1954, 1965, 1983, 1980,\n",
       "       1973, 1961, 1995, 1955, 1962, 1958, 1956, 1977, 1960, 1964, 1967,\n",
       "       1968, 1963, 1969, 1985, 1971, 1966, 2021, 1976, 1990, 1986, 1972,\n",
       "       2020, 1979, 1974, 1978, 1981, 1988, 1975, 1989, 2009, 1987, 2010,\n",
       "       2018, 1984, 1982, 1992, 1991, 1997, 1994, 1999, 2005, 1998, 2002,\n",
       "       1996, 2017, 2016, 2006, 2007, 2003, 2012, 2013, 2015, 1891, 1888,\n",
       "       1890, 2023, 2022, 2026, 1878, 2027, 2025, 1887, 1874, 2024, 1883,\n",
       "       1881, 1885])"
      ]
     },
     "execution_count": 9,
     "metadata": {},
     "output_type": "execute_result"
    }
   ],
   "source": [
    "title_basics_df['startYear'].unique()"
   ]
  },
  {
   "cell_type": "code",
   "execution_count": 10,
   "metadata": {
    "ExecuteTime": {
     "end_time": "2021-04-24T17:18:21.393438Z",
     "start_time": "2021-04-24T17:18:21.379437Z"
    }
   },
   "outputs": [],
   "source": [
    "# 2015 - 2021\n",
    "# 2005 - 2010\n",
    "# 2011 - 2014"
   ]
  },
  {
   "cell_type": "code",
   "execution_count": 11,
   "metadata": {
    "ExecuteTime": {
     "end_time": "2021-04-24T17:18:21.811937Z",
     "start_time": "2021-04-24T17:18:21.395437Z"
    }
   },
   "outputs": [],
   "source": [
    "mask = ((title_basics_df['startYear'] >= 2011) &\n",
    "        (title_basics_df['startYear'] <= 2021) &\n",
    "        (title_basics_df['titleType'] == 'movie') &\n",
    "        (title_basics_df['isAdult'] == 0) & \n",
    "        (title_basics_df['runtimeMinutes'] >80) &\n",
    "        (title_basics_df['genres'] != '') &\n",
    "        (title_basics_df['genres'] != 'Documentary'))"
   ]
  },
  {
   "cell_type": "code",
   "execution_count": 12,
   "metadata": {
    "ExecuteTime": {
     "end_time": "2021-04-24T17:18:25.671445Z",
     "start_time": "2021-04-24T17:18:21.814937Z"
    }
   },
   "outputs": [],
   "source": [
    "def clean_year(y):\n",
    "    # Return year as an integer or 'NaN' if empty\n",
    "    import numpy as np\n",
    "    try:\n",
    "        return int(y)\n",
    "    except:\n",
    "        return np.nan\n",
    "\n",
    "def clean_genre(y):\n",
    "    # Return only the first genre listed\n",
    "    y = str(y)\n",
    "    if y == '\\\\N':\n",
    "        return ''\n",
    "    return y.split(',')[0].strip()\n",
    "\n",
    "title_basics_df.drop('endYear', axis=1, inplace=True)\n",
    "title_basics_df['startYear'] = title_basics_df['startYear'].apply(clean_year)\n",
    "title_basics_df['runtimeMinutes'] = title_basics_df['runtimeMinutes'].apply(clean_year)\n",
    "title_basics_df['genres'] = title_basics_df['genres'].apply(clean_genre)\n",
    "title_basics_df.dropna(inplace=True, how='any', subset=['startYear', 'runtimeMinutes'])"
   ]
  },
  {
   "cell_type": "code",
   "execution_count": 13,
   "metadata": {
    "ExecuteTime": {
     "end_time": "2021-04-24T17:18:25.686946Z",
     "start_time": "2021-04-24T17:18:25.673938Z"
    }
   },
   "outputs": [
    {
     "data": {
      "text/plain": [
       "(2162551, 8)"
      ]
     },
     "execution_count": 13,
     "metadata": {},
     "output_type": "execute_result"
    }
   ],
   "source": [
    "title_basics_df.shape"
   ]
  },
  {
   "cell_type": "code",
   "execution_count": 14,
   "metadata": {
    "ExecuteTime": {
     "end_time": "2021-04-24T17:18:25.717949Z",
     "start_time": "2021-04-24T17:18:25.688936Z"
    }
   },
   "outputs": [
    {
     "data": {
      "text/html": [
       "<div>\n",
       "<style scoped>\n",
       "    .dataframe tbody tr th:only-of-type {\n",
       "        vertical-align: middle;\n",
       "    }\n",
       "\n",
       "    .dataframe tbody tr th {\n",
       "        vertical-align: top;\n",
       "    }\n",
       "\n",
       "    .dataframe thead th {\n",
       "        text-align: right;\n",
       "    }\n",
       "</style>\n",
       "<table border=\"1\" class=\"dataframe\">\n",
       "  <thead>\n",
       "    <tr style=\"text-align: right;\">\n",
       "      <th></th>\n",
       "      <th>tconst</th>\n",
       "      <th>titleType</th>\n",
       "      <th>primaryTitle</th>\n",
       "      <th>originalTitle</th>\n",
       "      <th>isAdult</th>\n",
       "      <th>startYear</th>\n",
       "      <th>runtimeMinutes</th>\n",
       "      <th>genres</th>\n",
       "    </tr>\n",
       "  </thead>\n",
       "  <tbody>\n",
       "    <tr>\n",
       "      <th>0</th>\n",
       "      <td>tt0000001</td>\n",
       "      <td>short</td>\n",
       "      <td>Carmencita</td>\n",
       "      <td>Carmencita</td>\n",
       "      <td>0</td>\n",
       "      <td>1894</td>\n",
       "      <td>1</td>\n",
       "      <td>Documentary</td>\n",
       "    </tr>\n",
       "    <tr>\n",
       "      <th>1</th>\n",
       "      <td>tt0000002</td>\n",
       "      <td>short</td>\n",
       "      <td>Le clown et ses chiens</td>\n",
       "      <td>Le clown et ses chiens</td>\n",
       "      <td>0</td>\n",
       "      <td>1892</td>\n",
       "      <td>5</td>\n",
       "      <td>Animation</td>\n",
       "    </tr>\n",
       "    <tr>\n",
       "      <th>2</th>\n",
       "      <td>tt0000003</td>\n",
       "      <td>short</td>\n",
       "      <td>Pauvre Pierrot</td>\n",
       "      <td>Pauvre Pierrot</td>\n",
       "      <td>0</td>\n",
       "      <td>1892</td>\n",
       "      <td>4</td>\n",
       "      <td>Animation</td>\n",
       "    </tr>\n",
       "    <tr>\n",
       "      <th>3</th>\n",
       "      <td>tt0000004</td>\n",
       "      <td>short</td>\n",
       "      <td>Un bon bock</td>\n",
       "      <td>Un bon bock</td>\n",
       "      <td>0</td>\n",
       "      <td>1892</td>\n",
       "      <td>12</td>\n",
       "      <td>Animation</td>\n",
       "    </tr>\n",
       "    <tr>\n",
       "      <th>4</th>\n",
       "      <td>tt0000005</td>\n",
       "      <td>short</td>\n",
       "      <td>Blacksmith Scene</td>\n",
       "      <td>Blacksmith Scene</td>\n",
       "      <td>0</td>\n",
       "      <td>1893</td>\n",
       "      <td>1</td>\n",
       "      <td>Comedy</td>\n",
       "    </tr>\n",
       "  </tbody>\n",
       "</table>\n",
       "</div>"
      ],
      "text/plain": [
       "      tconst titleType            primaryTitle           originalTitle  \\\n",
       "0  tt0000001     short              Carmencita              Carmencita   \n",
       "1  tt0000002     short  Le clown et ses chiens  Le clown et ses chiens   \n",
       "2  tt0000003     short          Pauvre Pierrot          Pauvre Pierrot   \n",
       "3  tt0000004     short             Un bon bock             Un bon bock   \n",
       "4  tt0000005     short        Blacksmith Scene        Blacksmith Scene   \n",
       "\n",
       "   isAdult  startYear  runtimeMinutes       genres  \n",
       "0        0       1894               1  Documentary  \n",
       "1        0       1892               5    Animation  \n",
       "2        0       1892               4    Animation  \n",
       "3        0       1892              12    Animation  \n",
       "4        0       1893               1       Comedy  "
      ]
     },
     "execution_count": 14,
     "metadata": {},
     "output_type": "execute_result"
    }
   ],
   "source": [
    "title_basics_df.head()"
   ]
  },
  {
   "cell_type": "code",
   "execution_count": 15,
   "metadata": {
    "ExecuteTime": {
     "end_time": "2021-04-24T17:18:25.748935Z",
     "start_time": "2021-04-24T17:18:25.720437Z"
    }
   },
   "outputs": [
    {
     "data": {
      "text/html": [
       "<div>\n",
       "<style scoped>\n",
       "    .dataframe tbody tr th:only-of-type {\n",
       "        vertical-align: middle;\n",
       "    }\n",
       "\n",
       "    .dataframe tbody tr th {\n",
       "        vertical-align: top;\n",
       "    }\n",
       "\n",
       "    .dataframe thead th {\n",
       "        text-align: right;\n",
       "    }\n",
       "</style>\n",
       "<table border=\"1\" class=\"dataframe\">\n",
       "  <thead>\n",
       "    <tr style=\"text-align: right;\">\n",
       "      <th></th>\n",
       "      <th>tconst</th>\n",
       "      <th>nconst</th>\n",
       "    </tr>\n",
       "  </thead>\n",
       "  <tbody>\n",
       "    <tr>\n",
       "      <th>0</th>\n",
       "      <td>tt0000001</td>\n",
       "      <td>nm1588970</td>\n",
       "    </tr>\n",
       "    <tr>\n",
       "      <th>1</th>\n",
       "      <td>tt0000001</td>\n",
       "      <td>nm0005690</td>\n",
       "    </tr>\n",
       "    <tr>\n",
       "      <th>2</th>\n",
       "      <td>tt0000001</td>\n",
       "      <td>nm0374658</td>\n",
       "    </tr>\n",
       "    <tr>\n",
       "      <th>3</th>\n",
       "      <td>tt0000002</td>\n",
       "      <td>nm0721526</td>\n",
       "    </tr>\n",
       "    <tr>\n",
       "      <th>4</th>\n",
       "      <td>tt0000002</td>\n",
       "      <td>nm1335271</td>\n",
       "    </tr>\n",
       "  </tbody>\n",
       "</table>\n",
       "</div>"
      ],
      "text/plain": [
       "      tconst     nconst\n",
       "0  tt0000001  nm1588970\n",
       "1  tt0000001  nm0005690\n",
       "2  tt0000001  nm0374658\n",
       "3  tt0000002  nm0721526\n",
       "4  tt0000002  nm1335271"
      ]
     },
     "execution_count": 15,
     "metadata": {},
     "output_type": "execute_result"
    }
   ],
   "source": [
    "title_cast_df.head()"
   ]
  },
  {
   "cell_type": "code",
   "execution_count": 16,
   "metadata": {
    "ExecuteTime": {
     "end_time": "2021-04-24T17:18:25.764450Z",
     "start_time": "2021-04-24T17:18:25.751436Z"
    }
   },
   "outputs": [
    {
     "data": {
      "text/plain": [
       "(44252270, 2)"
      ]
     },
     "execution_count": 16,
     "metadata": {},
     "output_type": "execute_result"
    }
   ],
   "source": [
    "title_cast_df.shape"
   ]
  },
  {
   "cell_type": "code",
   "execution_count": 17,
   "metadata": {
    "ExecuteTime": {
     "end_time": "2021-04-24T17:18:25.795450Z",
     "start_time": "2021-04-24T17:18:25.767436Z"
    }
   },
   "outputs": [],
   "source": [
    "def f(df):\n",
    "    keys, values = df.sort_values('tconst').values.T\n",
    "    ukeys, index = np.unique(keys, True)\n",
    "    arrays = np.split(values, index[1:])\n",
    "    df2 = pd.DataFrame({'tconst':ukeys, 'nconst':[list(a) for a in arrays]})\n",
    "    return df2"
   ]
  },
  {
   "cell_type": "code",
   "execution_count": 18,
   "metadata": {
    "ExecuteTime": {
     "end_time": "2021-04-24T17:20:00.682436Z",
     "start_time": "2021-04-24T17:18:25.798937Z"
    }
   },
   "outputs": [],
   "source": [
    "title_cast_df = f(title_cast_df)"
   ]
  },
  {
   "cell_type": "code",
   "execution_count": 19,
   "metadata": {
    "ExecuteTime": {
     "end_time": "2021-04-24T17:20:00.713437Z",
     "start_time": "2021-04-24T17:20:00.685442Z"
    }
   },
   "outputs": [
    {
     "data": {
      "text/html": [
       "<div>\n",
       "<style scoped>\n",
       "    .dataframe tbody tr th:only-of-type {\n",
       "        vertical-align: middle;\n",
       "    }\n",
       "\n",
       "    .dataframe tbody tr th {\n",
       "        vertical-align: top;\n",
       "    }\n",
       "\n",
       "    .dataframe thead th {\n",
       "        text-align: right;\n",
       "    }\n",
       "</style>\n",
       "<table border=\"1\" class=\"dataframe\">\n",
       "  <thead>\n",
       "    <tr style=\"text-align: right;\">\n",
       "      <th></th>\n",
       "      <th>tconst</th>\n",
       "      <th>nconst</th>\n",
       "    </tr>\n",
       "  </thead>\n",
       "  <tbody>\n",
       "    <tr>\n",
       "      <th>0</th>\n",
       "      <td>tt0000001</td>\n",
       "      <td>[nm1588970, nm0005690, nm0374658]</td>\n",
       "    </tr>\n",
       "    <tr>\n",
       "      <th>1</th>\n",
       "      <td>tt0000002</td>\n",
       "      <td>[nm0721526, nm1335271]</td>\n",
       "    </tr>\n",
       "    <tr>\n",
       "      <th>2</th>\n",
       "      <td>tt0000003</td>\n",
       "      <td>[nm1335271, nm5442200, nm0721526, nm1770680]</td>\n",
       "    </tr>\n",
       "    <tr>\n",
       "      <th>3</th>\n",
       "      <td>tt0000004</td>\n",
       "      <td>[nm0721526, nm1335271]</td>\n",
       "    </tr>\n",
       "    <tr>\n",
       "      <th>4</th>\n",
       "      <td>tt0000005</td>\n",
       "      <td>[nm0443482, nm0653042, nm0005690, nm0249379]</td>\n",
       "    </tr>\n",
       "  </tbody>\n",
       "</table>\n",
       "</div>"
      ],
      "text/plain": [
       "      tconst                                        nconst\n",
       "0  tt0000001             [nm1588970, nm0005690, nm0374658]\n",
       "1  tt0000002                        [nm0721526, nm1335271]\n",
       "2  tt0000003  [nm1335271, nm5442200, nm0721526, nm1770680]\n",
       "3  tt0000004                        [nm0721526, nm1335271]\n",
       "4  tt0000005  [nm0443482, nm0653042, nm0005690, nm0249379]"
      ]
     },
     "execution_count": 19,
     "metadata": {},
     "output_type": "execute_result"
    }
   ],
   "source": [
    "title_cast_df.head()"
   ]
  },
  {
   "cell_type": "code",
   "execution_count": 20,
   "metadata": {
    "ExecuteTime": {
     "end_time": "2021-04-24T17:20:00.759943Z",
     "start_time": "2021-04-24T17:20:00.716937Z"
    }
   },
   "outputs": [
    {
     "data": {
      "text/html": [
       "<div>\n",
       "<style scoped>\n",
       "    .dataframe tbody tr th:only-of-type {\n",
       "        vertical-align: middle;\n",
       "    }\n",
       "\n",
       "    .dataframe tbody tr th {\n",
       "        vertical-align: top;\n",
       "    }\n",
       "\n",
       "    .dataframe thead th {\n",
       "        text-align: right;\n",
       "    }\n",
       "</style>\n",
       "<table border=\"1\" class=\"dataframe\">\n",
       "  <thead>\n",
       "    <tr style=\"text-align: right;\">\n",
       "      <th></th>\n",
       "      <th>tconst</th>\n",
       "      <th>titleType</th>\n",
       "      <th>primaryTitle</th>\n",
       "      <th>originalTitle</th>\n",
       "      <th>isAdult</th>\n",
       "      <th>startYear</th>\n",
       "      <th>runtimeMinutes</th>\n",
       "      <th>genres</th>\n",
       "    </tr>\n",
       "  </thead>\n",
       "  <tbody>\n",
       "    <tr>\n",
       "      <th>0</th>\n",
       "      <td>tt0000001</td>\n",
       "      <td>short</td>\n",
       "      <td>Carmencita</td>\n",
       "      <td>Carmencita</td>\n",
       "      <td>0</td>\n",
       "      <td>1894</td>\n",
       "      <td>1</td>\n",
       "      <td>Documentary</td>\n",
       "    </tr>\n",
       "    <tr>\n",
       "      <th>1</th>\n",
       "      <td>tt0000002</td>\n",
       "      <td>short</td>\n",
       "      <td>Le clown et ses chiens</td>\n",
       "      <td>Le clown et ses chiens</td>\n",
       "      <td>0</td>\n",
       "      <td>1892</td>\n",
       "      <td>5</td>\n",
       "      <td>Animation</td>\n",
       "    </tr>\n",
       "    <tr>\n",
       "      <th>2</th>\n",
       "      <td>tt0000003</td>\n",
       "      <td>short</td>\n",
       "      <td>Pauvre Pierrot</td>\n",
       "      <td>Pauvre Pierrot</td>\n",
       "      <td>0</td>\n",
       "      <td>1892</td>\n",
       "      <td>4</td>\n",
       "      <td>Animation</td>\n",
       "    </tr>\n",
       "    <tr>\n",
       "      <th>3</th>\n",
       "      <td>tt0000004</td>\n",
       "      <td>short</td>\n",
       "      <td>Un bon bock</td>\n",
       "      <td>Un bon bock</td>\n",
       "      <td>0</td>\n",
       "      <td>1892</td>\n",
       "      <td>12</td>\n",
       "      <td>Animation</td>\n",
       "    </tr>\n",
       "    <tr>\n",
       "      <th>4</th>\n",
       "      <td>tt0000005</td>\n",
       "      <td>short</td>\n",
       "      <td>Blacksmith Scene</td>\n",
       "      <td>Blacksmith Scene</td>\n",
       "      <td>0</td>\n",
       "      <td>1893</td>\n",
       "      <td>1</td>\n",
       "      <td>Comedy</td>\n",
       "    </tr>\n",
       "  </tbody>\n",
       "</table>\n",
       "</div>"
      ],
      "text/plain": [
       "      tconst titleType            primaryTitle           originalTitle  \\\n",
       "0  tt0000001     short              Carmencita              Carmencita   \n",
       "1  tt0000002     short  Le clown et ses chiens  Le clown et ses chiens   \n",
       "2  tt0000003     short          Pauvre Pierrot          Pauvre Pierrot   \n",
       "3  tt0000004     short             Un bon bock             Un bon bock   \n",
       "4  tt0000005     short        Blacksmith Scene        Blacksmith Scene   \n",
       "\n",
       "   isAdult  startYear  runtimeMinutes       genres  \n",
       "0        0       1894               1  Documentary  \n",
       "1        0       1892               5    Animation  \n",
       "2        0       1892               4    Animation  \n",
       "3        0       1892              12    Animation  \n",
       "4        0       1893               1       Comedy  "
      ]
     },
     "execution_count": 20,
     "metadata": {},
     "output_type": "execute_result"
    }
   ],
   "source": [
    "title_basics_df.head()"
   ]
  },
  {
   "cell_type": "code",
   "execution_count": 21,
   "metadata": {
    "ExecuteTime": {
     "end_time": "2021-04-24T17:20:10.337435Z",
     "start_time": "2021-04-24T17:20:00.763447Z"
    }
   },
   "outputs": [],
   "source": [
    "titles = title_basics_df[mask].merge(title_cast_df, on='tconst')\n",
    "titles = titles.merge(title_ratings_df, on='tconst')"
   ]
  },
  {
   "cell_type": "code",
   "execution_count": 22,
   "metadata": {
    "ExecuteTime": {
     "end_time": "2021-04-24T17:20:10.368444Z",
     "start_time": "2021-04-24T17:20:10.339435Z"
    }
   },
   "outputs": [
    {
     "data": {
      "text/html": [
       "<div>\n",
       "<style scoped>\n",
       "    .dataframe tbody tr th:only-of-type {\n",
       "        vertical-align: middle;\n",
       "    }\n",
       "\n",
       "    .dataframe tbody tr th {\n",
       "        vertical-align: top;\n",
       "    }\n",
       "\n",
       "    .dataframe thead th {\n",
       "        text-align: right;\n",
       "    }\n",
       "</style>\n",
       "<table border=\"1\" class=\"dataframe\">\n",
       "  <thead>\n",
       "    <tr style=\"text-align: right;\">\n",
       "      <th></th>\n",
       "      <th>tconst</th>\n",
       "      <th>titleType</th>\n",
       "      <th>primaryTitle</th>\n",
       "      <th>originalTitle</th>\n",
       "      <th>isAdult</th>\n",
       "      <th>startYear</th>\n",
       "      <th>runtimeMinutes</th>\n",
       "      <th>genres</th>\n",
       "      <th>nconst</th>\n",
       "      <th>averageRating</th>\n",
       "      <th>numVotes</th>\n",
       "    </tr>\n",
       "  </thead>\n",
       "  <tbody>\n",
       "    <tr>\n",
       "      <th>0</th>\n",
       "      <td>tt0019996</td>\n",
       "      <td>movie</td>\n",
       "      <td>Hongxia</td>\n",
       "      <td>Hongxia</td>\n",
       "      <td>0</td>\n",
       "      <td>2011</td>\n",
       "      <td>94</td>\n",
       "      <td>Action</td>\n",
       "      <td>[nm0266662, nm0920761, nm0955817, nm0946300]</td>\n",
       "      <td>6.3</td>\n",
       "      <td>52</td>\n",
       "    </tr>\n",
       "    <tr>\n",
       "      <th>1</th>\n",
       "      <td>tt0069049</td>\n",
       "      <td>movie</td>\n",
       "      <td>The Other Side of the Wind</td>\n",
       "      <td>The Other Side of the Wind</td>\n",
       "      <td>0</td>\n",
       "      <td>2018</td>\n",
       "      <td>122</td>\n",
       "      <td>Drama</td>\n",
       "      <td>[nm0004372, nm0006166, nm1475059, nm0550881, n...</td>\n",
       "      <td>6.8</td>\n",
       "      <td>6464</td>\n",
       "    </tr>\n",
       "    <tr>\n",
       "      <th>2</th>\n",
       "      <td>tt0116991</td>\n",
       "      <td>movie</td>\n",
       "      <td>Mariette in Ecstasy</td>\n",
       "      <td>Mariette in Ecstasy</td>\n",
       "      <td>0</td>\n",
       "      <td>2019</td>\n",
       "      <td>101</td>\n",
       "      <td>Drama</td>\n",
       "      <td>[nm0765477, nm0007037, nm0458356, nm0696895, n...</td>\n",
       "      <td>7.7</td>\n",
       "      <td>45</td>\n",
       "    </tr>\n",
       "    <tr>\n",
       "      <th>3</th>\n",
       "      <td>tt0137204</td>\n",
       "      <td>movie</td>\n",
       "      <td>Joe Finds Grace</td>\n",
       "      <td>Joe Finds Grace</td>\n",
       "      <td>0</td>\n",
       "      <td>2017</td>\n",
       "      <td>83</td>\n",
       "      <td>Adventure</td>\n",
       "      <td>[nm0365480, nm0003210, nm0367762, nm0186322, n...</td>\n",
       "      <td>8.6</td>\n",
       "      <td>277</td>\n",
       "    </tr>\n",
       "    <tr>\n",
       "      <th>4</th>\n",
       "      <td>tt0137818</td>\n",
       "      <td>movie</td>\n",
       "      <td>Housesitter: The Night They Saved Siegfried's ...</td>\n",
       "      <td>Housesitter: The Night They Saved Siegfried's ...</td>\n",
       "      <td>0</td>\n",
       "      <td>2018</td>\n",
       "      <td>95</td>\n",
       "      <td></td>\n",
       "      <td>[nm10293681, nm0219703, nm0947053, nm0638396, ...</td>\n",
       "      <td>4.1</td>\n",
       "      <td>21</td>\n",
       "    </tr>\n",
       "  </tbody>\n",
       "</table>\n",
       "</div>"
      ],
      "text/plain": [
       "      tconst titleType                                       primaryTitle  \\\n",
       "0  tt0019996     movie                                            Hongxia   \n",
       "1  tt0069049     movie                         The Other Side of the Wind   \n",
       "2  tt0116991     movie                                Mariette in Ecstasy   \n",
       "3  tt0137204     movie                                    Joe Finds Grace   \n",
       "4  tt0137818     movie  Housesitter: The Night They Saved Siegfried's ...   \n",
       "\n",
       "                                       originalTitle  isAdult  startYear  \\\n",
       "0                                            Hongxia        0       2011   \n",
       "1                         The Other Side of the Wind        0       2018   \n",
       "2                                Mariette in Ecstasy        0       2019   \n",
       "3                                    Joe Finds Grace        0       2017   \n",
       "4  Housesitter: The Night They Saved Siegfried's ...        0       2018   \n",
       "\n",
       "   runtimeMinutes     genres  \\\n",
       "0              94     Action   \n",
       "1             122      Drama   \n",
       "2             101      Drama   \n",
       "3              83  Adventure   \n",
       "4              95              \n",
       "\n",
       "                                              nconst  averageRating  numVotes  \n",
       "0       [nm0266662, nm0920761, nm0955817, nm0946300]            6.3        52  \n",
       "1  [nm0004372, nm0006166, nm1475059, nm0550881, n...            6.8      6464  \n",
       "2  [nm0765477, nm0007037, nm0458356, nm0696895, n...            7.7        45  \n",
       "3  [nm0365480, nm0003210, nm0367762, nm0186322, n...            8.6       277  \n",
       "4  [nm10293681, nm0219703, nm0947053, nm0638396, ...            4.1        21  "
      ]
     },
     "execution_count": 22,
     "metadata": {},
     "output_type": "execute_result"
    }
   ],
   "source": [
    "titles.head()"
   ]
  },
  {
   "cell_type": "code",
   "execution_count": 23,
   "metadata": {
    "ExecuteTime": {
     "end_time": "2021-04-24T17:20:10.383938Z",
     "start_time": "2021-04-24T17:20:10.373439Z"
    }
   },
   "outputs": [
    {
     "data": {
      "text/plain": [
       "(53701, 11)"
      ]
     },
     "execution_count": 23,
     "metadata": {},
     "output_type": "execute_result"
    }
   ],
   "source": [
    "titles.shape"
   ]
  },
  {
   "cell_type": "code",
   "execution_count": 24,
   "metadata": {
    "ExecuteTime": {
     "end_time": "2021-04-24T17:20:10.415038Z",
     "start_time": "2021-04-24T17:20:10.386938Z"
    }
   },
   "outputs": [],
   "source": [
    "# with open('spider/data.pkl', 'wb') as picklefile:\n",
    "#     pickle.dump(titles['tconst'].values, picklefile)"
   ]
  },
  {
   "cell_type": "code",
   "execution_count": 25,
   "metadata": {
    "ExecuteTime": {
     "end_time": "2021-04-24T17:20:10.430435Z",
     "start_time": "2021-04-24T17:20:10.417938Z"
    }
   },
   "outputs": [],
   "source": [
    "# titles = titles.merge(title_ratings_df, on='tconst')"
   ]
  },
  {
   "cell_type": "code",
   "execution_count": 26,
   "metadata": {
    "ExecuteTime": {
     "end_time": "2021-04-24T17:20:10.461438Z",
     "start_time": "2021-04-24T17:20:10.432936Z"
    }
   },
   "outputs": [
    {
     "data": {
      "text/plain": [
       "Index(['tconst', 'titleType', 'primaryTitle', 'originalTitle', 'isAdult',\n",
       "       'startYear', 'runtimeMinutes', 'genres', 'nconst', 'averageRating',\n",
       "       'numVotes'],\n",
       "      dtype='object')"
      ]
     },
     "execution_count": 26,
     "metadata": {},
     "output_type": "execute_result"
    }
   ],
   "source": [
    "titles.columns"
   ]
  },
  {
   "cell_type": "code",
   "execution_count": 27,
   "metadata": {
    "ExecuteTime": {
     "end_time": "2021-04-24T17:20:10.523449Z",
     "start_time": "2021-04-24T17:20:10.464435Z"
    }
   },
   "outputs": [],
   "source": [
    "titles['leadActor'] = titles['nconst'].apply(lambda x: x[0])"
   ]
  },
  {
   "cell_type": "code",
   "execution_count": 28,
   "metadata": {
    "ExecuteTime": {
     "end_time": "2021-04-24T17:20:10.631935Z",
     "start_time": "2021-04-24T17:20:10.526447Z"
    }
   },
   "outputs": [
    {
     "data": {
      "text/html": [
       "<div>\n",
       "<style scoped>\n",
       "    .dataframe tbody tr th:only-of-type {\n",
       "        vertical-align: middle;\n",
       "    }\n",
       "\n",
       "    .dataframe tbody tr th {\n",
       "        vertical-align: top;\n",
       "    }\n",
       "\n",
       "    .dataframe thead th {\n",
       "        text-align: right;\n",
       "    }\n",
       "</style>\n",
       "<table border=\"1\" class=\"dataframe\">\n",
       "  <thead>\n",
       "    <tr style=\"text-align: right;\">\n",
       "      <th></th>\n",
       "      <th>title_id</th>\n",
       "      <th>title</th>\n",
       "      <th>release</th>\n",
       "      <th>director</th>\n",
       "      <th>budget</th>\n",
       "      <th>opening</th>\n",
       "      <th>gross</th>\n",
       "      <th>worldwide_gross</th>\n",
       "      <th>metacritic_score</th>\n",
       "      <th>mpaa_rating</th>\n",
       "    </tr>\n",
       "  </thead>\n",
       "  <tbody>\n",
       "    <tr>\n",
       "      <th>0</th>\n",
       "      <td>tt0293429</td>\n",
       "      <td>Mortal Kombat</td>\n",
       "      <td>23 April 2021 (USA)</td>\n",
       "      <td>Simon McQuoid</td>\n",
       "      <td></td>\n",
       "      <td></td>\n",
       "      <td></td>\n",
       "      <td>10700000</td>\n",
       "      <td></td>\n",
       "      <td>R</td>\n",
       "    </tr>\n",
       "    <tr>\n",
       "      <th>1</th>\n",
       "      <td>tt0315642</td>\n",
       "      <td>Wazir</td>\n",
       "      <td>8 January 2016 (USA)</td>\n",
       "      <td>Bejoy Nambiar</td>\n",
       "      <td></td>\n",
       "      <td>586028</td>\n",
       "      <td>1124045</td>\n",
       "      <td>5633588</td>\n",
       "      <td></td>\n",
       "      <td>Not Rated</td>\n",
       "    </tr>\n",
       "    <tr>\n",
       "      <th>2</th>\n",
       "      <td>tt0331314</td>\n",
       "      <td>Bunyan and Babe</td>\n",
       "      <td>12 January 2017 (USA)</td>\n",
       "      <td>Louis Ross</td>\n",
       "      <td></td>\n",
       "      <td></td>\n",
       "      <td></td>\n",
       "      <td>72060</td>\n",
       "      <td></td>\n",
       "      <td>PG</td>\n",
       "    </tr>\n",
       "    <tr>\n",
       "      <th>3</th>\n",
       "      <td>tt0369610</td>\n",
       "      <td>Jurassic World</td>\n",
       "      <td>12 June 2015 (USA)</td>\n",
       "      <td>Colin Trevorrow</td>\n",
       "      <td>150000000</td>\n",
       "      <td>208806270</td>\n",
       "      <td>652385625</td>\n",
       "      <td>1670516444</td>\n",
       "      <td>59</td>\n",
       "      <td>PG-13</td>\n",
       "    </tr>\n",
       "    <tr>\n",
       "      <th>4</th>\n",
       "      <td>tt0385887</td>\n",
       "      <td>Motherless Brooklyn</td>\n",
       "      <td>1 November 2019 (USA)</td>\n",
       "      <td>Edward Norton</td>\n",
       "      <td>26000000</td>\n",
       "      <td>3500454</td>\n",
       "      <td>9277736</td>\n",
       "      <td>18477736</td>\n",
       "      <td>60</td>\n",
       "      <td>R</td>\n",
       "    </tr>\n",
       "  </tbody>\n",
       "</table>\n",
       "</div>"
      ],
      "text/plain": [
       "    title_id                title                release         director  \\\n",
       "0  tt0293429        Mortal Kombat    23 April 2021 (USA)    Simon McQuoid   \n",
       "1  tt0315642                Wazir   8 January 2016 (USA)    Bejoy Nambiar   \n",
       "2  tt0331314      Bunyan and Babe  12 January 2017 (USA)       Louis Ross   \n",
       "3  tt0369610       Jurassic World     12 June 2015 (USA)  Colin Trevorrow   \n",
       "4  tt0385887  Motherless Brooklyn  1 November 2019 (USA)    Edward Norton   \n",
       "\n",
       "      budget    opening      gross worldwide_gross metacritic_score  \\\n",
       "0                                         10700000                    \n",
       "1                586028    1124045         5633588                    \n",
       "2                                            72060                    \n",
       "3  150000000  208806270  652385625      1670516444               59   \n",
       "4   26000000    3500454    9277736        18477736               60   \n",
       "\n",
       "  mpaa_rating  \n",
       "0           R  \n",
       "1   Not Rated  \n",
       "2          PG  \n",
       "3       PG-13  \n",
       "4           R  "
      ]
     },
     "execution_count": 28,
     "metadata": {},
     "output_type": "execute_result"
    }
   ],
   "source": [
    "# Load scrapy json to my_data\n",
    "with open('data/scraped/results_final1.json', 'r') as f:\n",
    "    my_data = json.load(f)\n",
    "    \n",
    "with open('data/scraped/results_final2.json', 'r') as f:\n",
    "    my_data2 = json.load(f)   \n",
    "\n",
    "imdb_info1 = pd.DataFrame(my_data)\n",
    "imdb_info2 = pd.DataFrame(my_data2)\n",
    "imdb_info = imdb_info1.append(imdb_info2, ignore_index=True)\n",
    "\n",
    "imdb_info.head()"
   ]
  },
  {
   "cell_type": "code",
   "execution_count": null,
   "metadata": {
    "ExecuteTime": {
     "end_time": "2021-04-23T10:20:09.351427Z",
     "start_time": "2021-04-23T10:20:09.337930Z"
    }
   },
   "outputs": [],
   "source": [
    "imdb_info.shape"
   ]
  },
  {
   "cell_type": "code",
   "execution_count": null,
   "metadata": {
    "ExecuteTime": {
     "end_time": "2021-04-23T10:20:09.366927Z",
     "start_time": "2021-04-23T10:20:09.353929Z"
    }
   },
   "outputs": [],
   "source": [
    "# dict(imdb_info['mpaa_rating'].value_counts())"
   ]
  },
  {
   "cell_type": "code",
   "execution_count": null,
   "metadata": {
    "ExecuteTime": {
     "end_time": "2021-04-23T10:20:09.397926Z",
     "start_time": "2021-04-23T10:20:09.368428Z"
    }
   },
   "outputs": [],
   "source": [
    "rating_list = ['R', 'PG-13', 'PG', 'G', 'R-13', 'R-16']\n",
    "imdb_mask = ((imdb_info['budget'] != '') &\n",
    "             (imdb_info['opening'] != '') &\n",
    "             (imdb_info['mpaa_rating'].isin(rating_list)))"
   ]
  },
  {
   "cell_type": "code",
   "execution_count": null,
   "metadata": {
    "ExecuteTime": {
     "end_time": "2021-04-23T10:20:09.413428Z",
     "start_time": "2021-04-23T10:20:09.399929Z"
    }
   },
   "outputs": [],
   "source": [
    "imdb_info = imdb_info[imdb_mask]"
   ]
  },
  {
   "cell_type": "code",
   "execution_count": null,
   "metadata": {
    "ExecuteTime": {
     "end_time": "2021-04-23T10:20:09.444427Z",
     "start_time": "2021-04-23T10:20:09.414928Z"
    }
   },
   "outputs": [],
   "source": [
    "imdb_info.shape"
   ]
  },
  {
   "cell_type": "code",
   "execution_count": null,
   "metadata": {
    "ExecuteTime": {
     "end_time": "2021-04-23T10:20:09.599441Z",
     "start_time": "2021-04-23T10:20:09.446429Z"
    }
   },
   "outputs": [],
   "source": [
    "imdb_info['budget'] = imdb_info['budget'].apply(int)\n",
    "imdb_info['budget_mil'] = imdb_info['budget']/1000000.\n",
    "imdb_info['opening'] = imdb_info['opening'].apply(int)\n",
    "imdb_info['opening_mil'] = imdb_info['opening']/1000000.\n",
    "imdb_info['release'] = pd.to_datetime(imdb_info['release'].apply(lambda x: x.split('(')[0].strip()))\n",
    "imdb_info['tconst'] = imdb_info['title_id']\n",
    "imdb_info.drop('title_id', inplace=True, axis=1)\n",
    "imdb_info.head()"
   ]
  },
  {
   "cell_type": "code",
   "execution_count": null,
   "metadata": {
    "ExecuteTime": {
     "end_time": "2021-04-23T10:20:09.630259Z",
     "start_time": "2021-04-23T10:20:09.600761Z"
    }
   },
   "outputs": [],
   "source": [
    "imdb_info.to_csv('data/imdb_info.csv', index = False)"
   ]
  },
  {
   "cell_type": "code",
   "execution_count": null,
   "metadata": {
    "ExecuteTime": {
     "end_time": "2021-04-23T10:20:09.661263Z",
     "start_time": "2021-04-23T10:20:09.632260Z"
    }
   },
   "outputs": [],
   "source": [
    "imdb_info[imdb_info['title'].str.lower().str.contains('frozen')]"
   ]
  },
  {
   "cell_type": "code",
   "execution_count": null,
   "metadata": {
    "ExecuteTime": {
     "end_time": "2021-04-23T10:20:09.769759Z",
     "start_time": "2021-04-23T10:20:09.664262Z"
    }
   },
   "outputs": [],
   "source": [
    "# Merge IMDB Info with titles data\n",
    "titles_all = imdb_info.merge(titles, on='tconst')"
   ]
  },
  {
   "cell_type": "code",
   "execution_count": null,
   "metadata": {
    "ExecuteTime": {
     "end_time": "2021-04-23T10:20:09.800760Z",
     "start_time": "2021-04-23T10:20:09.771262Z"
    }
   },
   "outputs": [],
   "source": [
    "titles_all.head()"
   ]
  },
  {
   "cell_type": "code",
   "execution_count": null,
   "metadata": {
    "ExecuteTime": {
     "end_time": "2021-04-23T10:20:09.816262Z",
     "start_time": "2021-04-23T10:20:09.802761Z"
    }
   },
   "outputs": [],
   "source": [
    "titles_all.shape"
   ]
  },
  {
   "cell_type": "code",
   "execution_count": null,
   "metadata": {
    "ExecuteTime": {
     "end_time": "2021-04-23T10:20:10.079451Z",
     "start_time": "2021-04-23T10:20:09.817764Z"
    }
   },
   "outputs": [],
   "source": [
    "col_names = ['tconst', 'nconst']\n",
    "expanded_data = []\n",
    "for idx, row in titles_all[col_names].iterrows():\n",
    "    for name in row['nconst']:\n",
    "        expanded_data.append([row['tconst'], name.strip()])\n",
    "expanded_data = pd.DataFrame(expanded_data, columns=['tconst', 'nconst'])\n",
    "expanded_data.head()"
   ]
  },
  {
   "cell_type": "code",
   "execution_count": null,
   "metadata": {
    "ExecuteTime": {
     "end_time": "2021-04-23T10:20:31.391952Z",
     "start_time": "2021-04-23T10:20:10.080760Z"
    }
   },
   "outputs": [],
   "source": [
    "name_basics_df = pd.read_csv('data/name.basics.tsv.gz', compression='gzip', header=0, sep='\\t', quotechar='\"')"
   ]
  },
  {
   "cell_type": "code",
   "execution_count": null,
   "metadata": {
    "ExecuteTime": {
     "end_time": "2021-04-23T10:20:31.407297Z",
     "start_time": "2021-04-23T10:20:31.393261Z"
    }
   },
   "outputs": [],
   "source": [
    "name_basics_df.head()"
   ]
  },
  {
   "cell_type": "code",
   "execution_count": null,
   "metadata": {
    "ExecuteTime": {
     "end_time": "2021-04-23T10:20:45.821721Z",
     "start_time": "2021-04-23T10:20:31.409262Z"
    }
   },
   "outputs": [],
   "source": [
    "df_names = expanded_data.merge(name_basics_df, how='left', on='nconst')"
   ]
  },
  {
   "cell_type": "code",
   "execution_count": null,
   "metadata": {
    "ExecuteTime": {
     "end_time": "2021-04-23T10:20:45.852729Z",
     "start_time": "2021-04-23T10:20:45.823722Z"
    }
   },
   "outputs": [],
   "source": [
    "df_names.dropna(subset = ['primaryProfession'], inplace = True)"
   ]
  },
  {
   "cell_type": "code",
   "execution_count": null,
   "metadata": {
    "ExecuteTime": {
     "end_time": "2021-04-23T10:20:45.868222Z",
     "start_time": "2021-04-23T10:20:45.854721Z"
    }
   },
   "outputs": [],
   "source": [
    "df_names.head()"
   ]
  },
  {
   "cell_type": "code",
   "execution_count": null,
   "metadata": {
    "ExecuteTime": {
     "end_time": "2021-04-23T10:20:45.914780Z",
     "start_time": "2021-04-23T10:20:45.870721Z"
    }
   },
   "outputs": [],
   "source": [
    "# Clean Up (limit to single primary profession)\n",
    "df_names['primaryProfession'] = df_names['primaryProfession'].apply(lambda x: x.split(',')[0].strip())\n",
    "df_names.head()"
   ]
  },
  {
   "cell_type": "code",
   "execution_count": null,
   "metadata": {
    "ExecuteTime": {
     "end_time": "2021-04-23T10:20:45.945720Z",
     "start_time": "2021-04-23T10:20:45.916720Z"
    }
   },
   "outputs": [],
   "source": [
    "df_names.shape"
   ]
  },
  {
   "cell_type": "code",
   "execution_count": null,
   "metadata": {
    "ExecuteTime": {
     "end_time": "2021-04-23T10:20:45.992220Z",
     "start_time": "2021-04-23T10:20:45.948219Z"
    }
   },
   "outputs": [],
   "source": [
    "titles_all.drop('nconst', axis = 1, inplace = True)"
   ]
  },
  {
   "cell_type": "code",
   "execution_count": null,
   "metadata": {
    "ExecuteTime": {
     "end_time": "2021-04-23T10:20:46.085221Z",
     "start_time": "2021-04-23T10:20:45.995220Z"
    }
   },
   "outputs": [],
   "source": [
    "# merge this with titles_all dataframe\n",
    "df_total = df_names.merge(titles_all, how='left', on='tconst')\n",
    "df_total.head()"
   ]
  },
  {
   "cell_type": "code",
   "execution_count": null,
   "metadata": {
    "ExecuteTime": {
     "end_time": "2021-04-23T10:20:46.100722Z",
     "start_time": "2021-04-23T10:20:46.087719Z"
    }
   },
   "outputs": [],
   "source": [
    "df_total.columns"
   ]
  },
  {
   "cell_type": "code",
   "execution_count": null,
   "metadata": {
    "ExecuteTime": {
     "end_time": "2021-04-23T10:20:46.116221Z",
     "start_time": "2021-04-23T10:20:46.102721Z"
    }
   },
   "outputs": [],
   "source": [
    "df_total.shape"
   ]
  },
  {
   "cell_type": "code",
   "execution_count": null,
   "metadata": {
    "ExecuteTime": {
     "end_time": "2021-04-23T10:20:46.131720Z",
     "start_time": "2021-04-23T10:20:46.119725Z"
    }
   },
   "outputs": [],
   "source": [
    "# df_total[df_total['title'].str.contains('Frozen')]"
   ]
  },
  {
   "cell_type": "code",
   "execution_count": null,
   "metadata": {
    "ExecuteTime": {
     "end_time": "2021-04-23T10:20:46.147219Z",
     "start_time": "2021-04-23T10:20:46.133720Z"
    }
   },
   "outputs": [],
   "source": [
    "df_total.columns"
   ]
  },
  {
   "cell_type": "code",
   "execution_count": null,
   "metadata": {
    "ExecuteTime": {
     "end_time": "2021-04-23T10:20:46.178223Z",
     "start_time": "2021-04-23T10:20:46.165221Z"
    }
   },
   "outputs": [],
   "source": [
    "# df_total.to_csv('data/df_processed_total1.csv', index = False)"
   ]
  }
 ],
 "metadata": {
  "kernelspec": {
   "display_name": "Python 3",
   "language": "python",
   "name": "python3"
  },
  "language_info": {
   "codemirror_mode": {
    "name": "ipython",
    "version": 3
   },
   "file_extension": ".py",
   "mimetype": "text/x-python",
   "name": "python",
   "nbconvert_exporter": "python",
   "pygments_lexer": "ipython3",
   "version": "3.8.3"
  }
 },
 "nbformat": 4,
 "nbformat_minor": 4
}
