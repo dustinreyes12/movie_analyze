{
 "cells": [
  {
   "cell_type": "markdown",
   "metadata": {
    "ExecuteTime": {
     "end_time": "2021-04-26T16:38:52.562059Z",
     "start_time": "2021-04-26T16:38:52.555559Z"
    }
   },
   "source": [
    "## Give Me The Next AAA Title\n",
    "# Predictive Modeling\n",
    "### Movie Profitability Prediction Based on Popularity\n",
    "****\n",
    "\n",
    "<br>\n",
    "by Dustin Reyes\n",
    "<br>\n",
    "<br>\n",
    "Prepared for:\n",
    "<br>\n",
    "Mynt (Globe Fintech Innovations, Inc.)\n",
    "<br>\n",
    "<br>"
   ]
  },
  {
   "cell_type": "code",
   "execution_count": 1,
   "metadata": {
    "ExecuteTime": {
     "end_time": "2021-04-26T17:18:44.028966Z",
     "start_time": "2021-04-26T17:18:41.194430Z"
    }
   },
   "outputs": [],
   "source": [
    "import os\n",
    "import math\n",
    "import numpy as np\n",
    "import pandas as pd\n",
    "import seaborn as sns\n",
    "\n",
    "import matplotlib\n",
    "import matplotlib.pyplot as plt\n",
    "from xgboost.sklearn import XGBRegressor\n",
    "from sklearn.model_selection import train_test_split\n",
    "from sklearn.metrics import mean_squared_error, roc_auc_score, make_scorer, accuracy_score\n",
    "from collections import Counter\n",
    "from xgboost import XGBClassifier, plot_importance\n",
    "from pytrends.request import TrendReq\n",
    "\n",
    "import statsmodels.api as sm\n",
    "from sklearn.preprocessing import MinMaxScaler\n",
    "from sklearn.preprocessing import StandardScaler\n",
    "from sklearn.neighbors import KNeighborsClassifier\n",
    "from sklearn.tree import DecisionTreeClassifier\n",
    "from sklearn.linear_model import LogisticRegression\n",
    "from sklearn.svm import LinearSVC\n",
    "from sklearn.svm import SVC\n",
    "from sklearn.model_selection import train_test_split\n",
    "from sklearn.model_selection import GridSearchCV\n",
    "from sklearn.preprocessing import LabelEncoder\n",
    "from sklearn.ensemble import RandomForestClassifier\n",
    "from sklearn.ensemble import GradientBoostingClassifier\n",
    "from sklearn.ensemble import AdaBoostClassifier\n",
    "from sklearn.linear_model import SGDClassifier\n",
    "\n",
    "import warnings\n",
    "from tqdm import tqdm\n",
    "warnings.filterwarnings('ignore')\n",
    "tqdm.pandas()\n",
    "%matplotlib inline"
   ]
  },
  {
   "cell_type": "code",
   "execution_count": 2,
   "metadata": {
    "ExecuteTime": {
     "end_time": "2021-04-26T17:18:44.075466Z",
     "start_time": "2021-04-26T17:18:44.030433Z"
    }
   },
   "outputs": [
    {
     "data": {
      "text/html": [
       "<div>\n",
       "<style scoped>\n",
       "    .dataframe tbody tr th:only-of-type {\n",
       "        vertical-align: middle;\n",
       "    }\n",
       "\n",
       "    .dataframe tbody tr th {\n",
       "        vertical-align: top;\n",
       "    }\n",
       "\n",
       "    .dataframe thead th {\n",
       "        text-align: right;\n",
       "    }\n",
       "</style>\n",
       "<table border=\"1\" class=\"dataframe\">\n",
       "  <thead>\n",
       "    <tr style=\"text-align: right;\">\n",
       "      <th></th>\n",
       "      <th>title</th>\n",
       "      <th>release</th>\n",
       "      <th>director</th>\n",
       "      <th>budget</th>\n",
       "      <th>opening</th>\n",
       "      <th>gross</th>\n",
       "      <th>worldwide_gross</th>\n",
       "      <th>metacritic_score</th>\n",
       "      <th>mpaa_rating</th>\n",
       "      <th>budget_mil</th>\n",
       "      <th>...</th>\n",
       "      <th>primaryTitle</th>\n",
       "      <th>originalTitle</th>\n",
       "      <th>isAdult</th>\n",
       "      <th>startYear</th>\n",
       "      <th>runtimeMinutes</th>\n",
       "      <th>genres</th>\n",
       "      <th>averageRating</th>\n",
       "      <th>numVotes</th>\n",
       "      <th>leadActor</th>\n",
       "      <th>top3_actors</th>\n",
       "    </tr>\n",
       "  </thead>\n",
       "  <tbody>\n",
       "    <tr>\n",
       "      <th>0</th>\n",
       "      <td>Season of the Witch</td>\n",
       "      <td>2011-01-07</td>\n",
       "      <td>Dominic Sena</td>\n",
       "      <td>40000000</td>\n",
       "      <td>10612375</td>\n",
       "      <td>24827228</td>\n",
       "      <td>91627228.0</td>\n",
       "      <td>28.0</td>\n",
       "      <td>PG-13</td>\n",
       "      <td>40.0</td>\n",
       "      <td>...</td>\n",
       "      <td>Season of the Witch</td>\n",
       "      <td>Season of the Witch</td>\n",
       "      <td>0</td>\n",
       "      <td>2011</td>\n",
       "      <td>95</td>\n",
       "      <td>Action</td>\n",
       "      <td>5.4</td>\n",
       "      <td>90902</td>\n",
       "      <td>nm0651414</td>\n",
       "      <td>['Robert De Niro', 'Harvey Keitel', 'David Pro...</td>\n",
       "    </tr>\n",
       "    <tr>\n",
       "      <th>1</th>\n",
       "      <td>The Green Hornet</td>\n",
       "      <td>2011-01-14</td>\n",
       "      <td>Michel Gondry</td>\n",
       "      <td>120000000</td>\n",
       "      <td>33526876</td>\n",
       "      <td>98780042</td>\n",
       "      <td>227817248.0</td>\n",
       "      <td>39.0</td>\n",
       "      <td>PG-13</td>\n",
       "      <td>120.0</td>\n",
       "      <td>...</td>\n",
       "      <td>The Green Hornet</td>\n",
       "      <td>The Green Hornet</td>\n",
       "      <td>0</td>\n",
       "      <td>2011</td>\n",
       "      <td>119</td>\n",
       "      <td>Action</td>\n",
       "      <td>5.8</td>\n",
       "      <td>155886</td>\n",
       "      <td>nm0006133</td>\n",
       "      <td>['Seth Rogen', 'Jay Chou', 'Cameron Diaz']</td>\n",
       "    </tr>\n",
       "    <tr>\n",
       "      <th>2</th>\n",
       "      <td>The Mechanic</td>\n",
       "      <td>2011-01-28</td>\n",
       "      <td>Simon West</td>\n",
       "      <td>40000000</td>\n",
       "      <td>11422006</td>\n",
       "      <td>29121498</td>\n",
       "      <td>76130093.0</td>\n",
       "      <td>49.0</td>\n",
       "      <td>R</td>\n",
       "      <td>40.0</td>\n",
       "      <td>...</td>\n",
       "      <td>The Mechanic</td>\n",
       "      <td>The Mechanic</td>\n",
       "      <td>0</td>\n",
       "      <td>2011</td>\n",
       "      <td>93</td>\n",
       "      <td>Action</td>\n",
       "      <td>6.6</td>\n",
       "      <td>152076</td>\n",
       "      <td>nm0153587</td>\n",
       "      <td>['Jason Statham', 'Ben Foster', 'Tony Goldwyn']</td>\n",
       "    </tr>\n",
       "    <tr>\n",
       "      <th>3</th>\n",
       "      <td>The Rite</td>\n",
       "      <td>2011-01-28</td>\n",
       "      <td>Mikael Håfström</td>\n",
       "      <td>37000000</td>\n",
       "      <td>14789393</td>\n",
       "      <td>33047633</td>\n",
       "      <td>96560591.0</td>\n",
       "      <td>38.0</td>\n",
       "      <td>PG-13</td>\n",
       "      <td>37.0</td>\n",
       "      <td>...</td>\n",
       "      <td>The Rite</td>\n",
       "      <td>The Rite</td>\n",
       "      <td>0</td>\n",
       "      <td>2011</td>\n",
       "      <td>114</td>\n",
       "      <td>Drama</td>\n",
       "      <td>6.0</td>\n",
       "      <td>91850</td>\n",
       "      <td>nm1246087</td>\n",
       "      <td>['Anthony Hopkins', \"Colin O'Donoghue\", 'Alice...</td>\n",
       "    </tr>\n",
       "    <tr>\n",
       "      <th>4</th>\n",
       "      <td>Sanctum</td>\n",
       "      <td>2011-02-04</td>\n",
       "      <td>Alister Grierson</td>\n",
       "      <td>30000000</td>\n",
       "      <td>9447930</td>\n",
       "      <td>23209310</td>\n",
       "      <td>108609310.0</td>\n",
       "      <td>42.0</td>\n",
       "      <td>R</td>\n",
       "      <td>30.0</td>\n",
       "      <td>...</td>\n",
       "      <td>Sanctum</td>\n",
       "      <td>Sanctum</td>\n",
       "      <td>0</td>\n",
       "      <td>2011</td>\n",
       "      <td>108</td>\n",
       "      <td>Action</td>\n",
       "      <td>5.9</td>\n",
       "      <td>53868</td>\n",
       "      <td>nm1718906</td>\n",
       "      <td>['Richard Roxburgh', 'Ioan Gruffudd', 'Rhys Wa...</td>\n",
       "    </tr>\n",
       "  </tbody>\n",
       "</table>\n",
       "<p>5 rows × 23 columns</p>\n",
       "</div>"
      ],
      "text/plain": [
       "                 title     release          director     budget   opening  \\\n",
       "0  Season of the Witch  2011-01-07      Dominic Sena   40000000  10612375   \n",
       "1     The Green Hornet  2011-01-14     Michel Gondry  120000000  33526876   \n",
       "2         The Mechanic  2011-01-28        Simon West   40000000  11422006   \n",
       "3             The Rite  2011-01-28   Mikael Håfström   37000000  14789393   \n",
       "4              Sanctum  2011-02-04  Alister Grierson   30000000   9447930   \n",
       "\n",
       "      gross  worldwide_gross  metacritic_score mpaa_rating  budget_mil  ...  \\\n",
       "0  24827228       91627228.0              28.0       PG-13        40.0  ...   \n",
       "1  98780042      227817248.0              39.0       PG-13       120.0  ...   \n",
       "2  29121498       76130093.0              49.0           R        40.0  ...   \n",
       "3  33047633       96560591.0              38.0       PG-13        37.0  ...   \n",
       "4  23209310      108609310.0              42.0           R        30.0  ...   \n",
       "\n",
       "          primaryTitle        originalTitle isAdult startYear runtimeMinutes  \\\n",
       "0  Season of the Witch  Season of the Witch       0      2011             95   \n",
       "1     The Green Hornet     The Green Hornet       0      2011            119   \n",
       "2         The Mechanic         The Mechanic       0      2011             93   \n",
       "3             The Rite             The Rite       0      2011            114   \n",
       "4              Sanctum              Sanctum       0      2011            108   \n",
       "\n",
       "   genres  averageRating  numVotes  leadActor  \\\n",
       "0  Action            5.4     90902  nm0651414   \n",
       "1  Action            5.8    155886  nm0006133   \n",
       "2  Action            6.6    152076  nm0153587   \n",
       "3   Drama            6.0     91850  nm1246087   \n",
       "4  Action            5.9     53868  nm1718906   \n",
       "\n",
       "                                         top3_actors  \n",
       "0  ['Robert De Niro', 'Harvey Keitel', 'David Pro...  \n",
       "1         ['Seth Rogen', 'Jay Chou', 'Cameron Diaz']  \n",
       "2    ['Jason Statham', 'Ben Foster', 'Tony Goldwyn']  \n",
       "3  ['Anthony Hopkins', \"Colin O'Donoghue\", 'Alice...  \n",
       "4  ['Richard Roxburgh', 'Ioan Gruffudd', 'Rhys Wa...  \n",
       "\n",
       "[5 rows x 23 columns]"
      ]
     },
     "execution_count": 2,
     "metadata": {},
     "output_type": "execute_result"
    }
   ],
   "source": [
    "df = pd.read_csv('data2/data_imdb_complete.csv')\n",
    "df.head()"
   ]
  },
  {
   "cell_type": "code",
   "execution_count": 3,
   "metadata": {
    "ExecuteTime": {
     "end_time": "2021-04-26T17:18:44.090929Z",
     "start_time": "2021-04-26T17:18:44.077430Z"
    }
   },
   "outputs": [],
   "source": [
    "df.drop(['originalTitle', 'primaryTitle', 'isAdult',\n",
    "         'leadActor', 'tconst', 'director', 'budget_mil', 'opening_mil', 'titleType'], axis=1, inplace=True)"
   ]
  },
  {
   "cell_type": "code",
   "execution_count": 4,
   "metadata": {
    "ExecuteTime": {
     "end_time": "2021-04-26T17:18:44.121934Z",
     "start_time": "2021-04-26T17:18:44.093430Z"
    }
   },
   "outputs": [
    {
     "data": {
      "text/html": [
       "<div>\n",
       "<style scoped>\n",
       "    .dataframe tbody tr th:only-of-type {\n",
       "        vertical-align: middle;\n",
       "    }\n",
       "\n",
       "    .dataframe tbody tr th {\n",
       "        vertical-align: top;\n",
       "    }\n",
       "\n",
       "    .dataframe thead th {\n",
       "        text-align: right;\n",
       "    }\n",
       "</style>\n",
       "<table border=\"1\" class=\"dataframe\">\n",
       "  <thead>\n",
       "    <tr style=\"text-align: right;\">\n",
       "      <th></th>\n",
       "      <th>title</th>\n",
       "      <th>release</th>\n",
       "      <th>budget</th>\n",
       "      <th>opening</th>\n",
       "      <th>gross</th>\n",
       "      <th>worldwide_gross</th>\n",
       "      <th>metacritic_score</th>\n",
       "      <th>mpaa_rating</th>\n",
       "      <th>startYear</th>\n",
       "      <th>runtimeMinutes</th>\n",
       "      <th>genres</th>\n",
       "      <th>averageRating</th>\n",
       "      <th>numVotes</th>\n",
       "      <th>top3_actors</th>\n",
       "    </tr>\n",
       "  </thead>\n",
       "  <tbody>\n",
       "    <tr>\n",
       "      <th>0</th>\n",
       "      <td>Season of the Witch</td>\n",
       "      <td>2011-01-07</td>\n",
       "      <td>40000000</td>\n",
       "      <td>10612375</td>\n",
       "      <td>24827228</td>\n",
       "      <td>91627228.0</td>\n",
       "      <td>28.0</td>\n",
       "      <td>PG-13</td>\n",
       "      <td>2011</td>\n",
       "      <td>95</td>\n",
       "      <td>Action</td>\n",
       "      <td>5.4</td>\n",
       "      <td>90902</td>\n",
       "      <td>['Robert De Niro', 'Harvey Keitel', 'David Pro...</td>\n",
       "    </tr>\n",
       "    <tr>\n",
       "      <th>1</th>\n",
       "      <td>The Green Hornet</td>\n",
       "      <td>2011-01-14</td>\n",
       "      <td>120000000</td>\n",
       "      <td>33526876</td>\n",
       "      <td>98780042</td>\n",
       "      <td>227817248.0</td>\n",
       "      <td>39.0</td>\n",
       "      <td>PG-13</td>\n",
       "      <td>2011</td>\n",
       "      <td>119</td>\n",
       "      <td>Action</td>\n",
       "      <td>5.8</td>\n",
       "      <td>155886</td>\n",
       "      <td>['Seth Rogen', 'Jay Chou', 'Cameron Diaz']</td>\n",
       "    </tr>\n",
       "    <tr>\n",
       "      <th>2</th>\n",
       "      <td>The Mechanic</td>\n",
       "      <td>2011-01-28</td>\n",
       "      <td>40000000</td>\n",
       "      <td>11422006</td>\n",
       "      <td>29121498</td>\n",
       "      <td>76130093.0</td>\n",
       "      <td>49.0</td>\n",
       "      <td>R</td>\n",
       "      <td>2011</td>\n",
       "      <td>93</td>\n",
       "      <td>Action</td>\n",
       "      <td>6.6</td>\n",
       "      <td>152076</td>\n",
       "      <td>['Jason Statham', 'Ben Foster', 'Tony Goldwyn']</td>\n",
       "    </tr>\n",
       "    <tr>\n",
       "      <th>3</th>\n",
       "      <td>The Rite</td>\n",
       "      <td>2011-01-28</td>\n",
       "      <td>37000000</td>\n",
       "      <td>14789393</td>\n",
       "      <td>33047633</td>\n",
       "      <td>96560591.0</td>\n",
       "      <td>38.0</td>\n",
       "      <td>PG-13</td>\n",
       "      <td>2011</td>\n",
       "      <td>114</td>\n",
       "      <td>Drama</td>\n",
       "      <td>6.0</td>\n",
       "      <td>91850</td>\n",
       "      <td>['Anthony Hopkins', \"Colin O'Donoghue\", 'Alice...</td>\n",
       "    </tr>\n",
       "    <tr>\n",
       "      <th>4</th>\n",
       "      <td>Sanctum</td>\n",
       "      <td>2011-02-04</td>\n",
       "      <td>30000000</td>\n",
       "      <td>9447930</td>\n",
       "      <td>23209310</td>\n",
       "      <td>108609310.0</td>\n",
       "      <td>42.0</td>\n",
       "      <td>R</td>\n",
       "      <td>2011</td>\n",
       "      <td>108</td>\n",
       "      <td>Action</td>\n",
       "      <td>5.9</td>\n",
       "      <td>53868</td>\n",
       "      <td>['Richard Roxburgh', 'Ioan Gruffudd', 'Rhys Wa...</td>\n",
       "    </tr>\n",
       "  </tbody>\n",
       "</table>\n",
       "</div>"
      ],
      "text/plain": [
       "                 title     release     budget   opening     gross  \\\n",
       "0  Season of the Witch  2011-01-07   40000000  10612375  24827228   \n",
       "1     The Green Hornet  2011-01-14  120000000  33526876  98780042   \n",
       "2         The Mechanic  2011-01-28   40000000  11422006  29121498   \n",
       "3             The Rite  2011-01-28   37000000  14789393  33047633   \n",
       "4              Sanctum  2011-02-04   30000000   9447930  23209310   \n",
       "\n",
       "   worldwide_gross  metacritic_score mpaa_rating  startYear  runtimeMinutes  \\\n",
       "0       91627228.0              28.0       PG-13       2011              95   \n",
       "1      227817248.0              39.0       PG-13       2011             119   \n",
       "2       76130093.0              49.0           R       2011              93   \n",
       "3       96560591.0              38.0       PG-13       2011             114   \n",
       "4      108609310.0              42.0           R       2011             108   \n",
       "\n",
       "   genres  averageRating  numVotes  \\\n",
       "0  Action            5.4     90902   \n",
       "1  Action            5.8    155886   \n",
       "2  Action            6.6    152076   \n",
       "3   Drama            6.0     91850   \n",
       "4  Action            5.9     53868   \n",
       "\n",
       "                                         top3_actors  \n",
       "0  ['Robert De Niro', 'Harvey Keitel', 'David Pro...  \n",
       "1         ['Seth Rogen', 'Jay Chou', 'Cameron Diaz']  \n",
       "2    ['Jason Statham', 'Ben Foster', 'Tony Goldwyn']  \n",
       "3  ['Anthony Hopkins', \"Colin O'Donoghue\", 'Alice...  \n",
       "4  ['Richard Roxburgh', 'Ioan Gruffudd', 'Rhys Wa...  "
      ]
     },
     "execution_count": 4,
     "metadata": {},
     "output_type": "execute_result"
    }
   ],
   "source": [
    "df.head()"
   ]
  },
  {
   "cell_type": "code",
   "execution_count": 5,
   "metadata": {
    "ExecuteTime": {
     "end_time": "2021-04-26T17:18:44.137429Z",
     "start_time": "2021-04-26T17:18:44.124933Z"
    }
   },
   "outputs": [
    {
     "data": {
      "text/plain": [
       "Index(['title', 'release', 'budget', 'opening', 'gross', 'worldwide_gross',\n",
       "       'metacritic_score', 'mpaa_rating', 'startYear', 'runtimeMinutes',\n",
       "       'genres', 'averageRating', 'numVotes', 'top3_actors'],\n",
       "      dtype='object')"
      ]
     },
     "execution_count": 5,
     "metadata": {},
     "output_type": "execute_result"
    }
   ],
   "source": [
    "df.columns"
   ]
  },
  {
   "cell_type": "code",
   "execution_count": 6,
   "metadata": {
    "ExecuteTime": {
     "end_time": "2021-04-26T17:18:44.152930Z",
     "start_time": "2021-04-26T17:18:44.139930Z"
    }
   },
   "outputs": [],
   "source": [
    "df['previousYear'] = df['startYear'] - 1"
   ]
  },
  {
   "cell_type": "markdown",
   "metadata": {},
   "source": [
    "### Getting Movie Search Interests (1 Year prior Release)"
   ]
  },
  {
   "cell_type": "code",
   "execution_count": 7,
   "metadata": {
    "ExecuteTime": {
     "end_time": "2021-04-26T17:18:44.710463Z",
     "start_time": "2021-04-26T17:18:44.156933Z"
    }
   },
   "outputs": [],
   "source": [
    "pytrend = TrendReq(hl='en-US', tz=360)"
   ]
  },
  {
   "cell_type": "code",
   "execution_count": 8,
   "metadata": {
    "ExecuteTime": {
     "end_time": "2021-04-26T17:18:44.725930Z",
     "start_time": "2021-04-26T17:18:44.711931Z"
    }
   },
   "outputs": [],
   "source": [
    "testlst = ['Season of the Witch', 'The Green Hornet', 'The Mechanic']"
   ]
  },
  {
   "cell_type": "code",
   "execution_count": 9,
   "metadata": {
    "ExecuteTime": {
     "end_time": "2021-04-26T17:18:44.741431Z",
     "start_time": "2021-04-26T17:18:44.727930Z"
    }
   },
   "outputs": [],
   "source": [
    "def get_trends_specific(list_movies, year):\n",
    "    df = pd.DataFrame()\n",
    "#     df2 = pd.DataFrame()\n",
    "    df['movies'] = list_movies\n",
    "    df['year'] = year\n",
    "    df['year'] = df['year'].astype(str)\n",
    "    df['Year1'] = df['year'] + '-' + '01' + '-' + '01'\n",
    "    df['year'] = df['year'].astype(int)\n",
    "    df['next_year'] = df['year'] + 1\n",
    "    df['next_year'] = df['next_year'].astype(str)\n",
    "    df['Year2'] = df['next_year'] + '-' + '01' + '-' + '01'\n",
    "\n",
    "    dataset = []\n",
    "    for x in range(0, len(list_movies)):\n",
    "        keywords = [list_movies[x]]\n",
    "        pytrend.build_payload(\n",
    "            kw_list=keywords,\n",
    "            cat=0,\n",
    "            timeframe=df['Year1'].unique()[0] + \" \" + df['Year2'].unique()[0],\n",
    "            geo='US')\n",
    "        data = pytrend.interest_over_time()\n",
    "        if not data.empty:\n",
    "            data = data.drop(labels=['isPartial'], axis='columns')\n",
    "            dataset.append(data)\n",
    "    result = pd.concat(dataset, axis=1)\n",
    "#     return result\n",
    "    result.reset_index(inplace=True)\n",
    "    result['year'] = result['date'].dt.year\n",
    "    name_cols = result.columns.tolist()[1:-1]\n",
    "    result.drop('date', axis=1, inplace=True)\n",
    "    df2 = pd.DataFrame(result[name_cols].sum())\n",
    "    df2.columns = ['search_interest']\n",
    "    df2['year'] = year\n",
    "    df2.reset_index(inplace = True)\n",
    "    df2.rename({'index': 'title'}, axis = 1, inplace =True)\n",
    "    return df2"
   ]
  },
  {
   "cell_type": "code",
   "execution_count": 10,
   "metadata": {
    "ExecuteTime": {
     "end_time": "2021-04-26T17:18:44.756933Z",
     "start_time": "2021-04-26T17:18:44.743431Z"
    }
   },
   "outputs": [],
   "source": [
    "movie_list = df['title'].unique().tolist()\n",
    "# movie_list = ['The Mechanic', 'Big Mommas: Like Father, Like Son']"
   ]
  },
  {
   "cell_type": "code",
   "execution_count": 11,
   "metadata": {
    "ExecuteTime": {
     "end_time": "2021-04-26T17:35:17.697220Z",
     "start_time": "2021-04-26T17:18:44.759430Z"
    },
    "scrolled": true
   },
   "outputs": [
    {
     "name": "stderr",
     "output_type": "stream",
     "text": [
      "  1%|▋                                                                                | 9/1109 [00:08<16:17,  1.13it/s]"
     ]
    },
    {
     "name": "stdout",
     "output_type": "stream",
     "text": [
      "No Data for: Big Mommas: Like Father, Like Son\n"
     ]
    },
    {
     "name": "stderr",
     "output_type": "stream",
     "text": [
      "  3%|██▏                                                                             | 30/1109 [00:27<16:16,  1.10it/s]"
     ]
    },
    {
     "name": "stdout",
     "output_type": "stream",
     "text": [
      "No Data for: Hoodwinked Too! Hood vs. Evil\n"
     ]
    },
    {
     "name": "stderr",
     "output_type": "stream",
     "text": [
      "  8%|██████▍                                                                         | 89/1109 [01:20<13:07,  1.29it/s]"
     ]
    },
    {
     "name": "stdout",
     "output_type": "stream",
     "text": [
      "No Data for: The Twilight Saga: Breaking Dawn - Part 1\n"
     ]
    },
    {
     "name": "stderr",
     "output_type": "stream",
     "text": [
      " 18%|█████████████▉                                                                 | 195/1109 [02:54<12:47,  1.19it/s]"
     ]
    },
    {
     "name": "stdout",
     "output_type": "stream",
     "text": [
      "No Data for: Atlas Shrugged II: The Strike\n"
     ]
    },
    {
     "name": "stderr",
     "output_type": "stream",
     "text": [
      " 19%|██████████████▋                                                                | 207/1109 [03:05<17:05,  1.14s/it]"
     ]
    },
    {
     "name": "stdout",
     "output_type": "stream",
     "text": [
      "No Data for: The Twilight Saga: Breaking Dawn - Part 2\n"
     ]
    },
    {
     "name": "stderr",
     "output_type": "stream",
     "text": [
      " 34%|██████████████████████████▌                                                    | 373/1109 [05:26<09:04,  1.35it/s]"
     ]
    },
    {
     "name": "stdout",
     "output_type": "stream",
     "text": [
      "No Data for: Legends of Oz: Dorothy's Return\n"
     ]
    },
    {
     "name": "stderr",
     "output_type": "stream",
     "text": [
      " 53%|█████████████████████████████████████████▉                                     | 589/1109 [08:24<07:01,  1.23it/s]"
     ]
    },
    {
     "name": "stdout",
     "output_type": "stream",
     "text": [
      "No Data for: Star Wars: Episode VII - The Force Awakens\n"
     ]
    },
    {
     "name": "stderr",
     "output_type": "stream",
     "text": [
      " 55%|███████████████████████████████████████████▍                                   | 609/1109 [08:42<07:06,  1.17it/s]"
     ]
    },
    {
     "name": "stdout",
     "output_type": "stream",
     "text": [
      "No Data for: Hail, Caesar!\n"
     ]
    },
    {
     "name": "stderr",
     "output_type": "stream",
     "text": [
      " 64%|██████████████████████████████████████████████████▌                            | 709/1109 [10:07<05:53,  1.13it/s]"
     ]
    },
    {
     "name": "stdout",
     "output_type": "stream",
     "text": [
      "No Data for: Boo! A Madea Halloween\n"
     ]
    },
    {
     "name": "stderr",
     "output_type": "stream",
     "text": [
      " 74%|██████████████████████████████████████████████████████████▎                    | 818/1109 [11:55<04:38,  1.04it/s]"
     ]
    },
    {
     "name": "stdout",
     "output_type": "stream",
     "text": [
      "No Data for: Mother!\n"
     ]
    },
    {
     "name": "stderr",
     "output_type": "stream",
     "text": [
      " 77%|████████████████████████████████████████████████████████████▍                  | 849/1109 [12:26<04:47,  1.11s/it]"
     ]
    },
    {
     "name": "stdout",
     "output_type": "stream",
     "text": [
      "No Data for: Star Wars: Episode VIII - The Last Jedi\n"
     ]
    },
    {
     "name": "stderr",
     "output_type": "stream",
     "text": [
      " 78%|█████████████████████████████████████████████████████████████▊                 | 868/1109 [12:45<03:59,  1.00it/s]"
     ]
    },
    {
     "name": "stdout",
     "output_type": "stream",
     "text": [
      "No Data for: Bilal: A New Breed of Hero\n"
     ]
    },
    {
     "name": "stderr",
     "output_type": "stream",
     "text": [
      " 83%|█████████████████████████████████████████████████████████████████▍             | 918/1109 [13:34<03:25,  1.08s/it]"
     ]
    },
    {
     "name": "stdout",
     "output_type": "stream",
     "text": [
      "No Data for: Mamma Mia! Here We Go Again\n"
     ]
    },
    {
     "name": "stderr",
     "output_type": "stream",
     "text": [
      " 91%|██████████████████████████████████████████████████████████████████████▋       | 1005/1109 [14:58<01:36,  1.07it/s]"
     ]
    },
    {
     "name": "stdout",
     "output_type": "stream",
     "text": [
      "No Data for: Shazam!\n"
     ]
    },
    {
     "name": "stderr",
     "output_type": "stream",
     "text": [
      "100%|██████████████████████████████████████████████████████████████████████████████| 1109/1109 [16:32<00:00,  1.12it/s]\n"
     ]
    }
   ],
   "source": [
    "res = []\n",
    "for i in tqdm(movie_list):\n",
    "    try:\n",
    "        year_item = df[df['title'] == i]['startYear'].values[0]\n",
    "        title = [i]\n",
    "        df_test = get_trends_specific(title, year_item)\n",
    "        res.append(df_test)\n",
    "    except:\n",
    "        print('No Data for:', i)\n",
    "        continue\n",
    "df_movieseaches = pd.concat(res, axis=0)"
   ]
  },
  {
   "cell_type": "code",
   "execution_count": 15,
   "metadata": {
    "ExecuteTime": {
     "end_time": "2021-04-26T17:37:26.189510Z",
     "start_time": "2021-04-26T17:37:26.181974Z"
    }
   },
   "outputs": [],
   "source": [
    "df_movieseaches.reset_index(drop = True, inplace = True)"
   ]
  },
  {
   "cell_type": "code",
   "execution_count": 16,
   "metadata": {
    "ExecuteTime": {
     "end_time": "2021-04-26T17:37:26.867368Z",
     "start_time": "2021-04-26T17:37:26.853211Z"
    }
   },
   "outputs": [
    {
     "data": {
      "text/html": [
       "<div>\n",
       "<style scoped>\n",
       "    .dataframe tbody tr th:only-of-type {\n",
       "        vertical-align: middle;\n",
       "    }\n",
       "\n",
       "    .dataframe tbody tr th {\n",
       "        vertical-align: top;\n",
       "    }\n",
       "\n",
       "    .dataframe thead th {\n",
       "        text-align: right;\n",
       "    }\n",
       "</style>\n",
       "<table border=\"1\" class=\"dataframe\">\n",
       "  <thead>\n",
       "    <tr style=\"text-align: right;\">\n",
       "      <th></th>\n",
       "      <th>title</th>\n",
       "      <th>search_interest</th>\n",
       "      <th>year</th>\n",
       "    </tr>\n",
       "  </thead>\n",
       "  <tbody>\n",
       "    <tr>\n",
       "      <th>0</th>\n",
       "      <td>Season of the Witch</td>\n",
       "      <td>943</td>\n",
       "      <td>2011</td>\n",
       "    </tr>\n",
       "    <tr>\n",
       "      <th>1</th>\n",
       "      <td>The Green Hornet</td>\n",
       "      <td>694</td>\n",
       "      <td>2011</td>\n",
       "    </tr>\n",
       "    <tr>\n",
       "      <th>2</th>\n",
       "      <td>The Mechanic</td>\n",
       "      <td>1260</td>\n",
       "      <td>2011</td>\n",
       "    </tr>\n",
       "    <tr>\n",
       "      <th>3</th>\n",
       "      <td>The Rite</td>\n",
       "      <td>1036</td>\n",
       "      <td>2011</td>\n",
       "    </tr>\n",
       "    <tr>\n",
       "      <th>4</th>\n",
       "      <td>Sanctum</td>\n",
       "      <td>1038</td>\n",
       "      <td>2011</td>\n",
       "    </tr>\n",
       "    <tr>\n",
       "      <th>...</th>\n",
       "      <td>...</td>\n",
       "      <td>...</td>\n",
       "      <td>...</td>\n",
       "    </tr>\n",
       "    <tr>\n",
       "      <th>1090</th>\n",
       "      <td>Freaky</td>\n",
       "      <td>2132</td>\n",
       "      <td>2020</td>\n",
       "    </tr>\n",
       "    <tr>\n",
       "      <th>1091</th>\n",
       "      <td>Monster Hunter</td>\n",
       "      <td>1868</td>\n",
       "      <td>2020</td>\n",
       "    </tr>\n",
       "    <tr>\n",
       "      <th>1092</th>\n",
       "      <td>Chaos Walking</td>\n",
       "      <td>420</td>\n",
       "      <td>2021</td>\n",
       "    </tr>\n",
       "    <tr>\n",
       "      <th>1093</th>\n",
       "      <td>Nobody</td>\n",
       "      <td>716</td>\n",
       "      <td>2021</td>\n",
       "    </tr>\n",
       "    <tr>\n",
       "      <th>1094</th>\n",
       "      <td>Godzilla vs. Kong</td>\n",
       "      <td>340</td>\n",
       "      <td>2021</td>\n",
       "    </tr>\n",
       "  </tbody>\n",
       "</table>\n",
       "<p>1095 rows × 3 columns</p>\n",
       "</div>"
      ],
      "text/plain": [
       "                    title  search_interest  year\n",
       "0     Season of the Witch              943  2011\n",
       "1        The Green Hornet              694  2011\n",
       "2            The Mechanic             1260  2011\n",
       "3                The Rite             1036  2011\n",
       "4                 Sanctum             1038  2011\n",
       "...                   ...              ...   ...\n",
       "1090               Freaky             2132  2020\n",
       "1091       Monster Hunter             1868  2020\n",
       "1092        Chaos Walking              420  2021\n",
       "1093               Nobody              716  2021\n",
       "1094    Godzilla vs. Kong              340  2021\n",
       "\n",
       "[1095 rows x 3 columns]"
      ]
     },
     "execution_count": 16,
     "metadata": {},
     "output_type": "execute_result"
    }
   ],
   "source": [
    "df_movieseaches"
   ]
  },
  {
   "cell_type": "code",
   "execution_count": 17,
   "metadata": {
    "ExecuteTime": {
     "end_time": "2021-04-26T17:37:34.606663Z",
     "start_time": "2021-04-26T17:37:34.588697Z"
    }
   },
   "outputs": [],
   "source": [
    "# df_movieseaches.to_csv('data2/movie_popularity.csv', index = False)"
   ]
  },
  {
   "cell_type": "code",
   "execution_count": 24,
   "metadata": {
    "ExecuteTime": {
     "end_time": "2021-04-26T17:55:08.992321Z",
     "start_time": "2021-04-26T17:55:08.982785Z"
    }
   },
   "outputs": [],
   "source": [
    "list1 = [['Hoodwinked Too! Hood vs. Evil', 797, 2011],\n",
    "         ['The Twilight Saga: Breaking Dawn - Part 1', 893, 2011],\n",
    "         ['Atlas Shrugged: Part II', 572, 2011],\n",
    "         ['The Twilight Saga: Breaking Dawn - Part 2', 844, 2012],\n",
    "         ['Star Wars: Episode VII - The Force Awakens', 905, 2015],\n",
    "         ['Hail, Caesar!', 561, 2016],\n",
    "         ['Boo! A Madea Halloween', 477, 2016],\n",
    "         ['Mother!', 503, 2017],\n",
    "         ['Star Wars: Episode VIII - The Last Jedi', 1392, 2017],\n",
    "         ['Bilal: A New Breed of Hero', 854, 2015],\n",
    "         ['Mamma Mia! Here We Go Again', 702, 2018],\n",
    "         ['Shazam!', 734, 2019]]"
   ]
  },
  {
   "cell_type": "code",
   "execution_count": 27,
   "metadata": {
    "ExecuteTime": {
     "end_time": "2021-04-26T17:56:24.759046Z",
     "start_time": "2021-04-26T17:56:24.744046Z"
    }
   },
   "outputs": [],
   "source": [
    "a_series = pd.DataFrame(list1, columns = df_movieseaches.columns)"
   ]
  },
  {
   "cell_type": "code",
   "execution_count": 29,
   "metadata": {
    "ExecuteTime": {
     "end_time": "2021-04-26T17:57:16.418473Z",
     "start_time": "2021-04-26T17:57:16.409978Z"
    }
   },
   "outputs": [],
   "source": [
    "df_movieseaches = df_movieseaches.append(a_series, ignore_index=True)"
   ]
  },
  {
   "cell_type": "code",
   "execution_count": 31,
   "metadata": {
    "ExecuteTime": {
     "end_time": "2021-04-26T17:57:38.767785Z",
     "start_time": "2021-04-26T17:57:38.755785Z"
    }
   },
   "outputs": [],
   "source": [
    "# df_movieseaches.to_csv('data2/movie_popularity2.csv', index = False)"
   ]
  }
 ],
 "metadata": {
  "kernelspec": {
   "display_name": "Python 3",
   "language": "python",
   "name": "python3"
  },
  "language_info": {
   "codemirror_mode": {
    "name": "ipython",
    "version": 3
   },
   "file_extension": ".py",
   "mimetype": "text/x-python",
   "name": "python",
   "nbconvert_exporter": "python",
   "pygments_lexer": "ipython3",
   "version": "3.8.3"
  }
 },
 "nbformat": 4,
 "nbformat_minor": 4
}
