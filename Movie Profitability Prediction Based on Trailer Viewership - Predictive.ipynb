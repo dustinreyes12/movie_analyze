{
 "cells": [
  {
   "cell_type": "markdown",
   "metadata": {},
   "source": [
    "## Give Me The Next AAA Title\n",
    "# Predictive Modeling\n",
    "### Movie Profitability Prediction Based on Trailer Viewership\n",
    "****\n",
    "\n",
    "<br>\n",
    "by Dustin Reyes\n",
    "<br>\n",
    "<br>\n",
    "Prepared for:\n",
    "<br>\n",
    "Mynt (Globe Fintech Innovations, Inc.)\n",
    "<br>\n",
    "<br>"
   ]
  },
  {
   "cell_type": "markdown",
   "metadata": {},
   "source": [
    "The purpose of this notebook is to identify if movie success in terms of profitability can be observed through trailer popularity through social media sites which in this case is Youtube. Youtube is deemed as the premiere video playback platform and content creation site in the world. It is by no-means an important outlet for marketing executives to showcase a movie for the public to see. This notebook uses data from TMDB (The Movie Database) alongside data gathered through Youtube API, OMDB API and data scraped from The Numbers to predict if a movie will be profitable based on Youtube Trailer Viewership."
   ]
  },
  {
   "cell_type": "code",
   "execution_count": 40,
   "metadata": {
    "ExecuteTime": {
     "end_time": "2021-04-27T06:25:45.788727Z",
     "start_time": "2021-04-27T06:25:45.769719Z"
    }
   },
   "outputs": [],
   "source": [
    "import os\n",
    "import math\n",
    "import numpy as np\n",
    "import pandas as pd\n",
    "import seaborn as sns\n",
    "\n",
    "import matplotlib\n",
    "import matplotlib.pyplot as plt\n",
    "from xgboost.sklearn import XGBRegressor\n",
    "from sklearn.model_selection import train_test_split\n",
    "from sklearn.metrics import mean_squared_error, roc_auc_score, make_scorer, accuracy_score\n",
    "from collections import Counter\n",
    "from xgboost import XGBClassifier, plot_importance\n",
    "\n",
    "\n",
    "import statsmodels.api as sm\n",
    "from sklearn.preprocessing import MinMaxScaler\n",
    "from sklearn.preprocessing import StandardScaler\n",
    "from sklearn.neighbors import KNeighborsClassifier\n",
    "from sklearn.tree import DecisionTreeClassifier\n",
    "from sklearn.linear_model import LogisticRegression\n",
    "from sklearn.svm import LinearSVC\n",
    "from sklearn.svm import SVC\n",
    "from sklearn.model_selection import train_test_split\n",
    "from sklearn.model_selection import GridSearchCV\n",
    "from sklearn.preprocessing import LabelEncoder\n",
    "from sklearn.ensemble import RandomForestClassifier\n",
    "from sklearn.ensemble import GradientBoostingClassifier\n",
    "from sklearn.ensemble import AdaBoostClassifier\n",
    "from sklearn.linear_model import SGDClassifier\n",
    "from sklearn.metrics import roc_auc_score"
   ]
  },
  {
   "cell_type": "code",
   "execution_count": 41,
   "metadata": {
    "ExecuteTime": {
     "end_time": "2021-04-27T06:25:45.850736Z",
     "start_time": "2021-04-27T06:25:45.791266Z"
    }
   },
   "outputs": [],
   "source": [
    "cols1 = ['id', 'imdbId', 'numlang', 'cn', 'da', 'de',\n",
    "         'en', 'es', 'fr', 'hi', 'it', 'ja', 'ko', 'ml', 'ru', 'ta',\n",
    "         'zh']\n",
    "df1 = pd.read_csv('data2/languages_parsed.csv', usecols=cols1)\n",
    "df2 = pd.read_csv('data2/dategenre_parse.csv')"
   ]
  },
  {
   "cell_type": "code",
   "execution_count": 42,
   "metadata": {
    "ExecuteTime": {
     "end_time": "2021-04-27T06:25:45.882272Z",
     "start_time": "2021-04-27T06:25:45.855236Z"
    }
   },
   "outputs": [],
   "source": [
    "df1['id'] = df1['id'].astype('str')\n",
    "df2['id'] = df2['id'].astype('str')"
   ]
  },
  {
   "cell_type": "code",
   "execution_count": 43,
   "metadata": {
    "ExecuteTime": {
     "end_time": "2021-04-27T06:25:45.912754Z",
     "start_time": "2021-04-27T06:25:45.888223Z"
    }
   },
   "outputs": [],
   "source": [
    "df3 = pd.merge(df2, df1, on='id')"
   ]
  },
  {
   "cell_type": "code",
   "execution_count": 44,
   "metadata": {
    "ExecuteTime": {
     "end_time": "2021-04-27T06:25:45.943749Z",
     "start_time": "2021-04-27T06:25:45.914764Z"
    }
   },
   "outputs": [
    {
     "data": {
      "text/html": [
       "<div>\n",
       "<style scoped>\n",
       "    .dataframe tbody tr th:only-of-type {\n",
       "        vertical-align: middle;\n",
       "    }\n",
       "\n",
       "    .dataframe tbody tr th {\n",
       "        vertical-align: top;\n",
       "    }\n",
       "\n",
       "    .dataframe thead th {\n",
       "        text-align: right;\n",
       "    }\n",
       "</style>\n",
       "<table border=\"1\" class=\"dataframe\">\n",
       "  <thead>\n",
       "    <tr style=\"text-align: right;\">\n",
       "      <th></th>\n",
       "      <th>adult</th>\n",
       "      <th>budget</th>\n",
       "      <th>id</th>\n",
       "      <th>original_language</th>\n",
       "      <th>production_countries</th>\n",
       "      <th>revenue</th>\n",
       "      <th>runtime</th>\n",
       "      <th>spoken_languages</th>\n",
       "      <th>views</th>\n",
       "      <th>likes</th>\n",
       "      <th>...</th>\n",
       "      <th>es</th>\n",
       "      <th>fr</th>\n",
       "      <th>hi</th>\n",
       "      <th>it</th>\n",
       "      <th>ja</th>\n",
       "      <th>ko</th>\n",
       "      <th>ml</th>\n",
       "      <th>ru</th>\n",
       "      <th>ta</th>\n",
       "      <th>zh</th>\n",
       "    </tr>\n",
       "  </thead>\n",
       "  <tbody>\n",
       "    <tr>\n",
       "      <th>0</th>\n",
       "      <td>False</td>\n",
       "      <td>30000000</td>\n",
       "      <td>862</td>\n",
       "      <td>en</td>\n",
       "      <td>[{'iso_3166_1': 'US', 'name': 'United States o...</td>\n",
       "      <td>373554033.0</td>\n",
       "      <td>81.0</td>\n",
       "      <td>[{'iso_639_1': 'en', 'name': 'English'}]</td>\n",
       "      <td>8050136</td>\n",
       "      <td>6330</td>\n",
       "      <td>...</td>\n",
       "      <td>0</td>\n",
       "      <td>0</td>\n",
       "      <td>0</td>\n",
       "      <td>0</td>\n",
       "      <td>0</td>\n",
       "      <td>0</td>\n",
       "      <td>0</td>\n",
       "      <td>0</td>\n",
       "      <td>0</td>\n",
       "      <td>0</td>\n",
       "    </tr>\n",
       "    <tr>\n",
       "      <th>1</th>\n",
       "      <td>False</td>\n",
       "      <td>65000000</td>\n",
       "      <td>8844</td>\n",
       "      <td>en</td>\n",
       "      <td>[{'iso_3166_1': 'US', 'name': 'United States o...</td>\n",
       "      <td>262797249.0</td>\n",
       "      <td>104.0</td>\n",
       "      <td>[{'iso_639_1': 'en', 'name': 'English'}, {'iso...</td>\n",
       "      <td>83048</td>\n",
       "      <td>70</td>\n",
       "      <td>...</td>\n",
       "      <td>0</td>\n",
       "      <td>0</td>\n",
       "      <td>0</td>\n",
       "      <td>0</td>\n",
       "      <td>0</td>\n",
       "      <td>0</td>\n",
       "      <td>0</td>\n",
       "      <td>0</td>\n",
       "      <td>0</td>\n",
       "      <td>0</td>\n",
       "    </tr>\n",
       "    <tr>\n",
       "      <th>2</th>\n",
       "      <td>False</td>\n",
       "      <td>16000000</td>\n",
       "      <td>31357</td>\n",
       "      <td>en</td>\n",
       "      <td>[{'iso_3166_1': 'US', 'name': 'United States o...</td>\n",
       "      <td>81452156.0</td>\n",
       "      <td>127.0</td>\n",
       "      <td>[{'iso_639_1': 'en', 'name': 'English'}]</td>\n",
       "      <td>104948</td>\n",
       "      <td>0</td>\n",
       "      <td>...</td>\n",
       "      <td>0</td>\n",
       "      <td>0</td>\n",
       "      <td>0</td>\n",
       "      <td>0</td>\n",
       "      <td>0</td>\n",
       "      <td>0</td>\n",
       "      <td>0</td>\n",
       "      <td>0</td>\n",
       "      <td>0</td>\n",
       "      <td>0</td>\n",
       "    </tr>\n",
       "    <tr>\n",
       "      <th>3</th>\n",
       "      <td>False</td>\n",
       "      <td>60000000</td>\n",
       "      <td>949</td>\n",
       "      <td>en</td>\n",
       "      <td>[{'iso_3166_1': 'US', 'name': 'United States o...</td>\n",
       "      <td>187436818.0</td>\n",
       "      <td>170.0</td>\n",
       "      <td>[{'iso_639_1': 'en', 'name': 'English'}, {'iso...</td>\n",
       "      <td>32419</td>\n",
       "      <td>119</td>\n",
       "      <td>...</td>\n",
       "      <td>0</td>\n",
       "      <td>0</td>\n",
       "      <td>0</td>\n",
       "      <td>0</td>\n",
       "      <td>0</td>\n",
       "      <td>0</td>\n",
       "      <td>0</td>\n",
       "      <td>0</td>\n",
       "      <td>0</td>\n",
       "      <td>0</td>\n",
       "    </tr>\n",
       "    <tr>\n",
       "      <th>4</th>\n",
       "      <td>False</td>\n",
       "      <td>35000000</td>\n",
       "      <td>9091</td>\n",
       "      <td>en</td>\n",
       "      <td>[{'iso_3166_1': 'US', 'name': 'United States o...</td>\n",
       "      <td>64350171.0</td>\n",
       "      <td>106.0</td>\n",
       "      <td>[{'iso_639_1': 'en', 'name': 'English'}]</td>\n",
       "      <td>6162</td>\n",
       "      <td>12</td>\n",
       "      <td>...</td>\n",
       "      <td>0</td>\n",
       "      <td>0</td>\n",
       "      <td>0</td>\n",
       "      <td>0</td>\n",
       "      <td>0</td>\n",
       "      <td>0</td>\n",
       "      <td>0</td>\n",
       "      <td>0</td>\n",
       "      <td>0</td>\n",
       "      <td>0</td>\n",
       "    </tr>\n",
       "  </tbody>\n",
       "</table>\n",
       "<p>5 rows × 50 columns</p>\n",
       "</div>"
      ],
      "text/plain": [
       "   adult    budget     id original_language  \\\n",
       "0  False  30000000    862                en   \n",
       "1  False  65000000   8844                en   \n",
       "2  False  16000000  31357                en   \n",
       "3  False  60000000    949                en   \n",
       "4  False  35000000   9091                en   \n",
       "\n",
       "                                production_countries      revenue  runtime  \\\n",
       "0  [{'iso_3166_1': 'US', 'name': 'United States o...  373554033.0     81.0   \n",
       "1  [{'iso_3166_1': 'US', 'name': 'United States o...  262797249.0    104.0   \n",
       "2  [{'iso_3166_1': 'US', 'name': 'United States o...   81452156.0    127.0   \n",
       "3  [{'iso_3166_1': 'US', 'name': 'United States o...  187436818.0    170.0   \n",
       "4  [{'iso_3166_1': 'US', 'name': 'United States o...   64350171.0    106.0   \n",
       "\n",
       "                                    spoken_languages    views  likes  ...  es  \\\n",
       "0           [{'iso_639_1': 'en', 'name': 'English'}]  8050136   6330  ...   0   \n",
       "1  [{'iso_639_1': 'en', 'name': 'English'}, {'iso...    83048     70  ...   0   \n",
       "2           [{'iso_639_1': 'en', 'name': 'English'}]   104948      0  ...   0   \n",
       "3  [{'iso_639_1': 'en', 'name': 'English'}, {'iso...    32419    119  ...   0   \n",
       "4           [{'iso_639_1': 'en', 'name': 'English'}]     6162     12  ...   0   \n",
       "\n",
       "   fr  hi  it  ja  ko  ml  ru  ta  zh  \n",
       "0   0   0   0   0   0   0   0   0   0  \n",
       "1   0   0   0   0   0   0   0   0   0  \n",
       "2   0   0   0   0   0   0   0   0   0  \n",
       "3   0   0   0   0   0   0   0   0   0  \n",
       "4   0   0   0   0   0   0   0   0   0  \n",
       "\n",
       "[5 rows x 50 columns]"
      ]
     },
     "execution_count": 44,
     "metadata": {},
     "output_type": "execute_result"
    }
   ],
   "source": [
    "df3.head()"
   ]
  },
  {
   "cell_type": "code",
   "execution_count": 45,
   "metadata": {
    "ExecuteTime": {
     "end_time": "2021-04-27T06:25:45.959220Z",
     "start_time": "2021-04-27T06:25:45.945251Z"
    }
   },
   "outputs": [
    {
     "data": {
      "text/plain": [
       "Index(['adult', 'budget', 'id', 'original_language', 'production_countries',\n",
       "       'revenue', 'runtime', 'spoken_languages', 'views', 'likes', 'dislikes',\n",
       "       'n_trailers', 'daysStart', 'dayInYear', 'Foreign', 'TV Movie',\n",
       "       'History', 'Thriller', 'Science Fiction', 'Music', 'Romance', 'Comedy',\n",
       "       'Mystery', 'Fantasy', 'Horror', 'Documentary', 'Western', 'Adventure',\n",
       "       'Action', 'Animation', 'Family', 'Crime', 'Drama', 'War', 'imdbId',\n",
       "       'numlang', 'cn', 'da', 'de', 'en', 'es', 'fr', 'hi', 'it', 'ja', 'ko',\n",
       "       'ml', 'ru', 'ta', 'zh'],\n",
       "      dtype='object')"
      ]
     },
     "execution_count": 45,
     "metadata": {},
     "output_type": "execute_result"
    }
   ],
   "source": [
    "df3.columns"
   ]
  },
  {
   "cell_type": "code",
   "execution_count": 46,
   "metadata": {
    "ExecuteTime": {
     "end_time": "2021-04-27T06:25:45.974720Z",
     "start_time": "2021-04-27T06:25:45.962221Z"
    }
   },
   "outputs": [],
   "source": [
    "cols_drop1 = ['original_language',\n",
    "              'production_countries', 'spoken_languages',\n",
    "             'imdbId']\n",
    "df3.drop(cols_drop1, axis=1, inplace=True)"
   ]
  },
  {
   "cell_type": "code",
   "execution_count": 47,
   "metadata": {
    "ExecuteTime": {
     "end_time": "2021-04-27T06:25:46.021234Z",
     "start_time": "2021-04-27T06:25:45.980226Z"
    }
   },
   "outputs": [
    {
     "data": {
      "text/html": [
       "<div>\n",
       "<style scoped>\n",
       "    .dataframe tbody tr th:only-of-type {\n",
       "        vertical-align: middle;\n",
       "    }\n",
       "\n",
       "    .dataframe tbody tr th {\n",
       "        vertical-align: top;\n",
       "    }\n",
       "\n",
       "    .dataframe thead th {\n",
       "        text-align: right;\n",
       "    }\n",
       "</style>\n",
       "<table border=\"1\" class=\"dataframe\">\n",
       "  <thead>\n",
       "    <tr style=\"text-align: right;\">\n",
       "      <th></th>\n",
       "      <th>adult</th>\n",
       "      <th>budget</th>\n",
       "      <th>id</th>\n",
       "      <th>revenue</th>\n",
       "      <th>runtime</th>\n",
       "      <th>views</th>\n",
       "      <th>likes</th>\n",
       "      <th>dislikes</th>\n",
       "      <th>n_trailers</th>\n",
       "      <th>daysStart</th>\n",
       "      <th>...</th>\n",
       "      <th>es</th>\n",
       "      <th>fr</th>\n",
       "      <th>hi</th>\n",
       "      <th>it</th>\n",
       "      <th>ja</th>\n",
       "      <th>ko</th>\n",
       "      <th>ml</th>\n",
       "      <th>ru</th>\n",
       "      <th>ta</th>\n",
       "      <th>zh</th>\n",
       "    </tr>\n",
       "  </thead>\n",
       "  <tbody>\n",
       "    <tr>\n",
       "      <th>0</th>\n",
       "      <td>False</td>\n",
       "      <td>30000000</td>\n",
       "      <td>862</td>\n",
       "      <td>373554033.0</td>\n",
       "      <td>81.0</td>\n",
       "      <td>8050136</td>\n",
       "      <td>6330</td>\n",
       "      <td>1965</td>\n",
       "      <td>3</td>\n",
       "      <td>29484</td>\n",
       "      <td>...</td>\n",
       "      <td>0</td>\n",
       "      <td>0</td>\n",
       "      <td>0</td>\n",
       "      <td>0</td>\n",
       "      <td>0</td>\n",
       "      <td>0</td>\n",
       "      <td>0</td>\n",
       "      <td>0</td>\n",
       "      <td>0</td>\n",
       "      <td>0</td>\n",
       "    </tr>\n",
       "    <tr>\n",
       "      <th>1</th>\n",
       "      <td>False</td>\n",
       "      <td>65000000</td>\n",
       "      <td>8844</td>\n",
       "      <td>262797249.0</td>\n",
       "      <td>104.0</td>\n",
       "      <td>83048</td>\n",
       "      <td>70</td>\n",
       "      <td>14</td>\n",
       "      <td>1</td>\n",
       "      <td>29530</td>\n",
       "      <td>...</td>\n",
       "      <td>0</td>\n",
       "      <td>0</td>\n",
       "      <td>0</td>\n",
       "      <td>0</td>\n",
       "      <td>0</td>\n",
       "      <td>0</td>\n",
       "      <td>0</td>\n",
       "      <td>0</td>\n",
       "      <td>0</td>\n",
       "      <td>0</td>\n",
       "    </tr>\n",
       "    <tr>\n",
       "      <th>2</th>\n",
       "      <td>False</td>\n",
       "      <td>16000000</td>\n",
       "      <td>31357</td>\n",
       "      <td>81452156.0</td>\n",
       "      <td>127.0</td>\n",
       "      <td>104948</td>\n",
       "      <td>0</td>\n",
       "      <td>0</td>\n",
       "      <td>1</td>\n",
       "      <td>29537</td>\n",
       "      <td>...</td>\n",
       "      <td>0</td>\n",
       "      <td>0</td>\n",
       "      <td>0</td>\n",
       "      <td>0</td>\n",
       "      <td>0</td>\n",
       "      <td>0</td>\n",
       "      <td>0</td>\n",
       "      <td>0</td>\n",
       "      <td>0</td>\n",
       "      <td>0</td>\n",
       "    </tr>\n",
       "    <tr>\n",
       "      <th>3</th>\n",
       "      <td>False</td>\n",
       "      <td>60000000</td>\n",
       "      <td>949</td>\n",
       "      <td>187436818.0</td>\n",
       "      <td>170.0</td>\n",
       "      <td>32419</td>\n",
       "      <td>119</td>\n",
       "      <td>1</td>\n",
       "      <td>1</td>\n",
       "      <td>29530</td>\n",
       "      <td>...</td>\n",
       "      <td>0</td>\n",
       "      <td>0</td>\n",
       "      <td>0</td>\n",
       "      <td>0</td>\n",
       "      <td>0</td>\n",
       "      <td>0</td>\n",
       "      <td>0</td>\n",
       "      <td>0</td>\n",
       "      <td>0</td>\n",
       "      <td>0</td>\n",
       "    </tr>\n",
       "    <tr>\n",
       "      <th>4</th>\n",
       "      <td>False</td>\n",
       "      <td>35000000</td>\n",
       "      <td>9091</td>\n",
       "      <td>64350171.0</td>\n",
       "      <td>106.0</td>\n",
       "      <td>6162</td>\n",
       "      <td>12</td>\n",
       "      <td>3</td>\n",
       "      <td>2</td>\n",
       "      <td>29537</td>\n",
       "      <td>...</td>\n",
       "      <td>0</td>\n",
       "      <td>0</td>\n",
       "      <td>0</td>\n",
       "      <td>0</td>\n",
       "      <td>0</td>\n",
       "      <td>0</td>\n",
       "      <td>0</td>\n",
       "      <td>0</td>\n",
       "      <td>0</td>\n",
       "      <td>0</td>\n",
       "    </tr>\n",
       "  </tbody>\n",
       "</table>\n",
       "<p>5 rows × 46 columns</p>\n",
       "</div>"
      ],
      "text/plain": [
       "   adult    budget     id      revenue  runtime    views  likes  dislikes  \\\n",
       "0  False  30000000    862  373554033.0     81.0  8050136   6330      1965   \n",
       "1  False  65000000   8844  262797249.0    104.0    83048     70        14   \n",
       "2  False  16000000  31357   81452156.0    127.0   104948      0         0   \n",
       "3  False  60000000    949  187436818.0    170.0    32419    119         1   \n",
       "4  False  35000000   9091   64350171.0    106.0     6162     12         3   \n",
       "\n",
       "   n_trailers  daysStart  ...  es  fr  hi  it  ja  ko  ml  ru  ta  zh  \n",
       "0           3      29484  ...   0   0   0   0   0   0   0   0   0   0  \n",
       "1           1      29530  ...   0   0   0   0   0   0   0   0   0   0  \n",
       "2           1      29537  ...   0   0   0   0   0   0   0   0   0   0  \n",
       "3           1      29530  ...   0   0   0   0   0   0   0   0   0   0  \n",
       "4           2      29537  ...   0   0   0   0   0   0   0   0   0   0  \n",
       "\n",
       "[5 rows x 46 columns]"
      ]
     },
     "execution_count": 47,
     "metadata": {},
     "output_type": "execute_result"
    }
   ],
   "source": [
    "df3.head()"
   ]
  },
  {
   "cell_type": "code",
   "execution_count": 48,
   "metadata": {
    "ExecuteTime": {
     "end_time": "2021-04-27T06:25:46.036733Z",
     "start_time": "2021-04-27T06:25:46.023721Z"
    }
   },
   "outputs": [],
   "source": [
    "df3 = df3.replace(r'^\\s*$', np.nan, regex=True)"
   ]
  },
  {
   "cell_type": "code",
   "execution_count": 49,
   "metadata": {
    "ExecuteTime": {
     "end_time": "2021-04-27T06:25:46.067769Z",
     "start_time": "2021-04-27T06:25:46.038732Z"
    }
   },
   "outputs": [],
   "source": [
    "df3.dropna(inplace = True)"
   ]
  },
  {
   "cell_type": "markdown",
   "metadata": {
    "ExecuteTime": {
     "end_time": "2021-04-27T06:25:46.083221Z",
     "start_time": "2021-04-27T06:25:46.070723Z"
    }
   },
   "source": [
    "To define profitability, we use the Return of Investment as the numerical quantity to describe a movie's profitability. This meant subtracting the investment/budget allocated for a movie to its revenue then dividing it to the investment allocated. The main downside of this calculation is that in the Film industry, there are typically more factors to consider in terms of ROI but this basic calculation should suffice for now. A movie was then deemed profitable if its ROI is greater than or equal to two."
   ]
  },
  {
   "cell_type": "code",
   "execution_count": 51,
   "metadata": {
    "ExecuteTime": {
     "end_time": "2021-04-27T06:25:46.098804Z",
     "start_time": "2021-04-27T06:25:46.086221Z"
    }
   },
   "outputs": [],
   "source": [
    "df3['ROI'] = (df3['revenue'] - df3['budget'])/df3['budget']"
   ]
  },
  {
   "cell_type": "code",
   "execution_count": 52,
   "metadata": {
    "ExecuteTime": {
     "end_time": "2021-04-27T06:25:46.114219Z",
     "start_time": "2021-04-27T06:25:46.101767Z"
    }
   },
   "outputs": [],
   "source": [
    "df3['profitability'] = np.where(df3['ROI'] >= 2, 1, 0)"
   ]
  },
  {
   "cell_type": "code",
   "execution_count": 53,
   "metadata": {
    "ExecuteTime": {
     "end_time": "2021-04-27T06:25:46.129753Z",
     "start_time": "2021-04-27T06:25:46.117221Z"
    }
   },
   "outputs": [
    {
     "data": {
      "text/plain": [
       "0    3133\n",
       "1    1823\n",
       "Name: profitability, dtype: int64"
      ]
     },
     "execution_count": 53,
     "metadata": {},
     "output_type": "execute_result"
    }
   ],
   "source": [
    "df3['profitability'].value_counts()"
   ]
  },
  {
   "cell_type": "code",
   "execution_count": 54,
   "metadata": {
    "ExecuteTime": {
     "end_time": "2021-04-27T06:25:46.160723Z",
     "start_time": "2021-04-27T06:25:46.132220Z"
    }
   },
   "outputs": [
    {
     "data": {
      "text/html": [
       "<div>\n",
       "<style scoped>\n",
       "    .dataframe tbody tr th:only-of-type {\n",
       "        vertical-align: middle;\n",
       "    }\n",
       "\n",
       "    .dataframe tbody tr th {\n",
       "        vertical-align: top;\n",
       "    }\n",
       "\n",
       "    .dataframe thead th {\n",
       "        text-align: right;\n",
       "    }\n",
       "</style>\n",
       "<table border=\"1\" class=\"dataframe\">\n",
       "  <thead>\n",
       "    <tr style=\"text-align: right;\">\n",
       "      <th></th>\n",
       "      <th>adult</th>\n",
       "      <th>budget</th>\n",
       "      <th>id</th>\n",
       "      <th>revenue</th>\n",
       "      <th>runtime</th>\n",
       "      <th>views</th>\n",
       "      <th>likes</th>\n",
       "      <th>dislikes</th>\n",
       "      <th>n_trailers</th>\n",
       "      <th>daysStart</th>\n",
       "      <th>...</th>\n",
       "      <th>hi</th>\n",
       "      <th>it</th>\n",
       "      <th>ja</th>\n",
       "      <th>ko</th>\n",
       "      <th>ml</th>\n",
       "      <th>ru</th>\n",
       "      <th>ta</th>\n",
       "      <th>zh</th>\n",
       "      <th>ROI</th>\n",
       "      <th>profitability</th>\n",
       "    </tr>\n",
       "  </thead>\n",
       "  <tbody>\n",
       "    <tr>\n",
       "      <th>0</th>\n",
       "      <td>False</td>\n",
       "      <td>30000000</td>\n",
       "      <td>862</td>\n",
       "      <td>373554033.0</td>\n",
       "      <td>81.0</td>\n",
       "      <td>8050136</td>\n",
       "      <td>6330</td>\n",
       "      <td>1965</td>\n",
       "      <td>3</td>\n",
       "      <td>29484</td>\n",
       "      <td>...</td>\n",
       "      <td>0</td>\n",
       "      <td>0</td>\n",
       "      <td>0</td>\n",
       "      <td>0</td>\n",
       "      <td>0</td>\n",
       "      <td>0</td>\n",
       "      <td>0</td>\n",
       "      <td>0</td>\n",
       "      <td>11.451801</td>\n",
       "      <td>1</td>\n",
       "    </tr>\n",
       "    <tr>\n",
       "      <th>1</th>\n",
       "      <td>False</td>\n",
       "      <td>65000000</td>\n",
       "      <td>8844</td>\n",
       "      <td>262797249.0</td>\n",
       "      <td>104.0</td>\n",
       "      <td>83048</td>\n",
       "      <td>70</td>\n",
       "      <td>14</td>\n",
       "      <td>1</td>\n",
       "      <td>29530</td>\n",
       "      <td>...</td>\n",
       "      <td>0</td>\n",
       "      <td>0</td>\n",
       "      <td>0</td>\n",
       "      <td>0</td>\n",
       "      <td>0</td>\n",
       "      <td>0</td>\n",
       "      <td>0</td>\n",
       "      <td>0</td>\n",
       "      <td>3.043035</td>\n",
       "      <td>1</td>\n",
       "    </tr>\n",
       "    <tr>\n",
       "      <th>2</th>\n",
       "      <td>False</td>\n",
       "      <td>16000000</td>\n",
       "      <td>31357</td>\n",
       "      <td>81452156.0</td>\n",
       "      <td>127.0</td>\n",
       "      <td>104948</td>\n",
       "      <td>0</td>\n",
       "      <td>0</td>\n",
       "      <td>1</td>\n",
       "      <td>29537</td>\n",
       "      <td>...</td>\n",
       "      <td>0</td>\n",
       "      <td>0</td>\n",
       "      <td>0</td>\n",
       "      <td>0</td>\n",
       "      <td>0</td>\n",
       "      <td>0</td>\n",
       "      <td>0</td>\n",
       "      <td>0</td>\n",
       "      <td>4.090760</td>\n",
       "      <td>1</td>\n",
       "    </tr>\n",
       "    <tr>\n",
       "      <th>3</th>\n",
       "      <td>False</td>\n",
       "      <td>60000000</td>\n",
       "      <td>949</td>\n",
       "      <td>187436818.0</td>\n",
       "      <td>170.0</td>\n",
       "      <td>32419</td>\n",
       "      <td>119</td>\n",
       "      <td>1</td>\n",
       "      <td>1</td>\n",
       "      <td>29530</td>\n",
       "      <td>...</td>\n",
       "      <td>0</td>\n",
       "      <td>0</td>\n",
       "      <td>0</td>\n",
       "      <td>0</td>\n",
       "      <td>0</td>\n",
       "      <td>0</td>\n",
       "      <td>0</td>\n",
       "      <td>0</td>\n",
       "      <td>2.123947</td>\n",
       "      <td>1</td>\n",
       "    </tr>\n",
       "    <tr>\n",
       "      <th>4</th>\n",
       "      <td>False</td>\n",
       "      <td>35000000</td>\n",
       "      <td>9091</td>\n",
       "      <td>64350171.0</td>\n",
       "      <td>106.0</td>\n",
       "      <td>6162</td>\n",
       "      <td>12</td>\n",
       "      <td>3</td>\n",
       "      <td>2</td>\n",
       "      <td>29537</td>\n",
       "      <td>...</td>\n",
       "      <td>0</td>\n",
       "      <td>0</td>\n",
       "      <td>0</td>\n",
       "      <td>0</td>\n",
       "      <td>0</td>\n",
       "      <td>0</td>\n",
       "      <td>0</td>\n",
       "      <td>0</td>\n",
       "      <td>0.838576</td>\n",
       "      <td>0</td>\n",
       "    </tr>\n",
       "  </tbody>\n",
       "</table>\n",
       "<p>5 rows × 48 columns</p>\n",
       "</div>"
      ],
      "text/plain": [
       "   adult    budget     id      revenue  runtime    views  likes  dislikes  \\\n",
       "0  False  30000000    862  373554033.0     81.0  8050136   6330      1965   \n",
       "1  False  65000000   8844  262797249.0    104.0    83048     70        14   \n",
       "2  False  16000000  31357   81452156.0    127.0   104948      0         0   \n",
       "3  False  60000000    949  187436818.0    170.0    32419    119         1   \n",
       "4  False  35000000   9091   64350171.0    106.0     6162     12         3   \n",
       "\n",
       "   n_trailers  daysStart  ...  hi  it  ja  ko  ml  ru  ta  zh        ROI  \\\n",
       "0           3      29484  ...   0   0   0   0   0   0   0   0  11.451801   \n",
       "1           1      29530  ...   0   0   0   0   0   0   0   0   3.043035   \n",
       "2           1      29537  ...   0   0   0   0   0   0   0   0   4.090760   \n",
       "3           1      29530  ...   0   0   0   0   0   0   0   0   2.123947   \n",
       "4           2      29537  ...   0   0   0   0   0   0   0   0   0.838576   \n",
       "\n",
       "   profitability  \n",
       "0              1  \n",
       "1              1  \n",
       "2              1  \n",
       "3              1  \n",
       "4              0  \n",
       "\n",
       "[5 rows x 48 columns]"
      ]
     },
     "execution_count": 54,
     "metadata": {},
     "output_type": "execute_result"
    }
   ],
   "source": [
    "df3.head()"
   ]
  },
  {
   "cell_type": "markdown",
   "metadata": {},
   "source": [
    "## 1. Exploratory Data Analysis"
   ]
  },
  {
   "cell_type": "markdown",
   "metadata": {},
   "source": [
    "### 1.1. Class Distribution"
   ]
  },
  {
   "cell_type": "code",
   "execution_count": 56,
   "metadata": {
    "ExecuteTime": {
     "end_time": "2021-04-27T06:25:46.362217Z",
     "start_time": "2021-04-27T06:25:46.179720Z"
    }
   },
   "outputs": [
    {
     "data": {
      "image/png": "[encoded data removed]",
      "text/plain": [
       "<Figure size 432x432 with 1 Axes>"
      ]
     },
     "metadata": {
      "needs_background": "light"
     },
     "output_type": "display_data"
    }
   ],
   "source": [
    "plt.figure(figsize=(6, 6))\n",
    "sns.countplot(df3['profitability'])\n",
    "plt.title('Class Distribution of Movie Profitability', fontsize=20)\n",
    "plt.xlabel('Profitability', fontsize=16)\n",
    "plt.ylabel('Number Of Movies', fontsize=16)\n",
    "plt.show()"
   ]
  },
  {
   "cell_type": "markdown",
   "metadata": {},
   "source": [
    "From the graph above, it can be seen that there is a slight imbalance to the data and this must be taken care of in order to remove biases during the inference of output."
   ]
  },
  {
   "cell_type": "markdown",
   "metadata": {},
   "source": [
    "### 1.2. Revenue Distribution"
   ]
  },
  {
   "cell_type": "code",
   "execution_count": 18,
   "metadata": {
    "ExecuteTime": {
     "end_time": "2021-04-27T06:06:04.553296Z",
     "start_time": "2021-04-27T06:06:04.306797Z"
    }
   },
   "outputs": [
    {
     "data": {
      "image/png": "[encoded data removed]",
      "text/plain": [
       "<Figure size 1080x432 with 1 Axes>"
      ]
     },
     "metadata": {
      "needs_background": "light"
     },
     "output_type": "display_data"
    }
   ],
   "source": [
    "fig = plt.figure(figsize = (15, 6)) # set figure size\n",
    "\n",
    "# plot distribution plot of global gross revenue \n",
    "sns.distplot(df3['revenue'], label = 'Global') \n",
    "\n",
    "plt.title(\"Distribution of Gross Revenue\")\n",
    "plt.xlabel(\"Gross Revenue ($M)\")\n",
    "plt.legend() # add legend\n",
    "plt.show()"
   ]
  },
  {
   "cell_type": "markdown",
   "metadata": {},
   "source": [
    "We can see that it is strongly right-skewed, it is a pretty usual trend for income data. Taking the log transformation of this data can help us visualize what’s happening in the dense area more clearly."
   ]
  },
  {
   "cell_type": "code",
   "execution_count": 19,
   "metadata": {
    "ExecuteTime": {
     "end_time": "2021-04-27T06:06:04.770330Z",
     "start_time": "2021-04-27T06:06:04.555297Z"
    }
   },
   "outputs": [
    {
     "data": {
      "image/png": "[encoded data removed]",
      "text/plain": [
       "<Figure size 1080x432 with 1 Axes>"
      ]
     },
     "metadata": {
      "needs_background": "light"
     },
     "output_type": "display_data"
    }
   ],
   "source": [
    "fig = plt.figure(figsize = (15, 6))\n",
    "\n",
    "# taking a natural log of revenue\n",
    "sns.distplot(np.log(df3['revenue']), label = 'Global') \n",
    "plt.title(\"Log Distribution of Gross Revenue\")\n",
    "plt.xlabel(\"Log Gross Revenue\")\n",
    "plt.legend()\n",
    "\n",
    "#fig.savefig(\"filename.png\")\n",
    "\n",
    "plt.show()"
   ]
  },
  {
   "cell_type": "markdown",
   "metadata": {},
   "source": [
    "### 1.3. Budget to Revenue Relationship"
   ]
  },
  {
   "cell_type": "code",
   "execution_count": 20,
   "metadata": {
    "ExecuteTime": {
     "end_time": "2021-04-27T06:06:05.095843Z",
     "start_time": "2021-04-27T06:06:04.772296Z"
    }
   },
   "outputs": [
    {
     "data": {
      "image/png": "[encoded data removed]",
      "text/plain": [
       "<Figure size 1080x576 with 1 Axes>"
      ]
     },
     "metadata": {
      "needs_background": "light"
     },
     "output_type": "display_data"
    }
   ],
   "source": [
    "fig = plt.figure(figsize=(15, 8))\n",
    "\n",
    "# plotting two scatterplots with 70% transparency.\n",
    "sns.scatterplot(x='budget', y='revenue', hue = 'profitability', alpha=0.7, data=df3)\n",
    "\n",
    "plt.title(\"Budget to Gross Revenue\")\n",
    "plt.ylabel(\"Gross Revenue ($M)\")\n",
    "plt.xlabel(\"Production Budget ($M)\")\n",
    "plt.legend()\n",
    "\n",
    "# matplotlib's tight_layout function magically fit elements within the figure\n",
    "# so it does not get cropped when you save it out.\n",
    "plt.tight_layout()\n",
    "\n",
    "# plt.savefig(\"filename.png\")\n",
    "\n",
    "plt.show()"
   ]
  },
  {
   "cell_type": "markdown",
   "metadata": {},
   "source": [
    "It seems like a high budget does not always lead to high revenue though this was uncommon. Most movies with high budgets tend to have better gross revenue as the budget allocation can be divided into several components such as marketing budget, VFX budget, Quality Assurance, Actor budgets and so on.  Also, some movies yield high revenues with relatively lower budgets when it targets the global market."
   ]
  },
  {
   "cell_type": "markdown",
   "metadata": {},
   "source": [
    "### 1.4. Correlations"
   ]
  },
  {
   "cell_type": "code",
   "execution_count": 22,
   "metadata": {
    "ExecuteTime": {
     "end_time": "2021-04-27T06:06:05.436796Z",
     "start_time": "2021-04-27T06:06:05.120796Z"
    }
   },
   "outputs": [
    {
     "data": {
      "text/plain": [
       "<matplotlib.axes._subplots.AxesSubplot at 0x1a02810ebb0>"
      ]
     },
     "execution_count": 22,
     "metadata": {},
     "output_type": "execute_result"
    },
    {
     "data": {
      "image/png": "[encoded data removed]",
      "text/plain": [
       "<Figure size 720x576 with 2 Axes>"
      ]
     },
     "metadata": {
      "needs_background": "light"
     },
     "output_type": "display_data"
    }
   ],
   "source": [
    "f, ax = plt.subplots(figsize=(10, 8))\n",
    "sns.heatmap(df3[['budget', 'revenue', 'runtime', 'views', 'likes',\n",
    "                 'dislikes']].corr(), annot=True, linewidths=.5, fmt='.1f', ax=ax)\n",
    "# sns.heatmap(df.corr(), annot=True, linewidths=.5, fmt='.1f', ax=ax)"
   ]
  },
  {
   "cell_type": "markdown",
   "metadata": {},
   "source": [
    "Observations for these are the ff:\n",
    "1. Revenue is positively correlated with budget therefore a high budget movie is more likely to generate more revenue than a low budget movie.\n",
    "2. Views and Likes from Youtube trailers were also positively correlated with a movie budget. These movies most likely has more production values in terms of effects, CGI, and actors thus garnering more views and likes.\n",
    "3. Surprisingly, movie runtime is has a low positive correlation with budget. This might mean budget cuts due to estimated runtime of a movie.\n",
    "4. Likes and Views are highly positively correlated. However, this correlation can be biased as the distribution of likes and dislikes with respect to views is highly imbalanced."
   ]
  },
  {
   "cell_type": "markdown",
   "metadata": {},
   "source": [
    "### 1.5. Proportionality Chance Criterion"
   ]
  },
  {
   "cell_type": "code",
   "execution_count": 23,
   "metadata": {
    "ExecuteTime": {
     "end_time": "2021-04-27T06:06:05.452331Z",
     "start_time": "2021-04-27T06:06:05.439799Z"
    }
   },
   "outputs": [],
   "source": [
    "# Class count\n",
    "count_class_0, count_class_1 = df3['profitability'].value_counts()\n",
    "\n",
    "# Divide by class\n",
    "df_class_0 = df3[df3['profitability'] == 0]\n",
    "df_class_1 = df3[df3['profitability'] == 1]"
   ]
  },
  {
   "cell_type": "code",
   "execution_count": 24,
   "metadata": {
    "ExecuteTime": {
     "end_time": "2021-04-27T06:06:05.483333Z",
     "start_time": "2021-04-27T06:06:05.454804Z"
    }
   },
   "outputs": [],
   "source": [
    "# Resample the majority class into the minority class\n",
    "df_class_0_under = df_class_0.sample(count_class_1)\n",
    "df3 = pd.concat([df_class_0_under, df_class_1], axis=0)"
   ]
  },
  {
   "cell_type": "code",
   "execution_count": 25,
   "metadata": {
    "ExecuteTime": {
     "end_time": "2021-04-27T06:06:05.622796Z",
     "start_time": "2021-04-27T06:06:05.484797Z"
    }
   },
   "outputs": [
    {
     "name": "stdout",
     "output_type": "stream",
     "text": [
      "Division per class:       0\n",
      "0  1823\n",
      "1  1823\n",
      "\n",
      "1.25 * Proportion Chance Criterion: 62.5%\n"
     ]
    },
    {
     "data": {
      "image/png": "[encoded data removed]",
      "text/plain": [
       "<Figure size 432x288 with 1 Axes>"
      ]
     },
     "metadata": {
      "needs_background": "light"
     },
     "output_type": "display_data"
    }
   ],
   "source": [
    "state_counts = Counter(df3['profitability'])\n",
    "df_state = pd.DataFrame.from_dict(state_counts, orient='index')\n",
    "df_state.plot(kind='bar')\n",
    "\n",
    "num = (df_state[0]/df_state[0].sum())**2\n",
    "print(\"Division per class: {}\\n\".format(df_state))\n",
    "print(\"1.25 * Proportion Chance Criterion: {}%\".format(1.25*100*num.sum()))"
   ]
  },
  {
   "cell_type": "markdown",
   "metadata": {},
   "source": [
    "The proportionality chance criterion specifies if our model can be considered as an effective predictive analytics model. This does not guarantee generalization on the other hand and only serves as the baseline."
   ]
  },
  {
   "cell_type": "markdown",
   "metadata": {},
   "source": [
    "### 2.0. Modeling"
   ]
  },
  {
   "cell_type": "code",
   "execution_count": 26,
   "metadata": {
    "ExecuteTime": {
     "end_time": "2021-04-27T06:06:05.638298Z",
     "start_time": "2021-04-27T06:06:05.624295Z"
    }
   },
   "outputs": [],
   "source": [
    "cl1 = KNeighborsClassifier(n_jobs=-1)\n",
    "cl2 = LogisticRegression(penalty='l1', max_iter=1000,\n",
    "                         solver='liblinear', n_jobs=-1)\n",
    "cl3 = LogisticRegression(penalty='l2', max_iter=1000, n_jobs=-1)\n",
    "cl4 = LinearSVC(penalty='l1', dual=False, max_iter=10000)\n",
    "cl5 = LinearSVC(penalty='l2', max_iter=10000)\n",
    "cl6 = SVC(kernel='rbf', )\n",
    "#cl7 = SVC(kernel='poly', degree=3)\n",
    "cl8 = RandomForestClassifier(n_jobs=-1)\n",
    "cl9 = GradientBoostingClassifier()\n",
    "cl10 = AdaBoostClassifier(DecisionTreeClassifier(max_depth=1))\n",
    "\n",
    "\n",
    "kneighbors = range(1, 31)\n",
    "C_list = np.logspace(-5, 5, num=10)\n",
    "gamma_list = np.logspace(-5, 5, num=10)\n",
    "max_depthlist = [3, 4, 6]\n",
    "max_featureslist = [1, 2, 3, 4]\n",
    "n_estimatorslist = [100, 200, 300]\n",
    "learningrate_list = [.2, 0.1, 0.02, 0.01]\n",
    "\n",
    "estimators = [('KNN', cl1, {'n_neighbors': kneighbors}),\n",
    "              ('Logistic Regression (L1)', cl2, {'C': C_list}),\n",
    "              ('Logistic Regression (L2)', cl3, {'C': C_list}),\n",
    "              ('Linear SVM (L1)', cl4, {'C': C_list}),\n",
    "              ('Linear SVM (L2)', cl5, {'C': C_list}),\n",
    "              ('Random Forest Classifier', cl8, {'n_estimators': n_estimatorslist,\n",
    "                                                 'max_depth': max_depthlist,\n",
    "                                                 'max_features': max_featureslist}),\n",
    "              ('Gradient Boosting Classifier', cl9, {'n_estimators': n_estimatorslist,\n",
    "                                                     'max_depth': max_depthlist,\n",
    "                                                     'learning_rate': learningrate_list}),\n",
    "              ('AdaBoost Classifier', cl10, {'n_estimators': n_estimatorslist,\n",
    "                                             'learning_rate': learningrate_list})]"
   ]
  },
  {
   "cell_type": "code",
   "execution_count": 27,
   "metadata": {
    "ExecuteTime": {
     "end_time": "2021-04-27T06:06:05.669295Z",
     "start_time": "2021-04-27T06:06:05.642800Z"
    }
   },
   "outputs": [],
   "source": [
    "dropcols = ['adult','id','profitability', 'TV Movie', 'revenue', 'revenue', 'ROI']\n",
    "X = df3.drop(dropcols, axis=1)\n",
    "y = df3['profitability']"
   ]
  },
  {
   "cell_type": "code",
   "execution_count": 28,
   "metadata": {
    "ExecuteTime": {
     "end_time": "2021-04-27T06:06:05.715855Z",
     "start_time": "2021-04-27T06:06:05.671302Z"
    }
   },
   "outputs": [],
   "source": [
    "X_train, X_val, y_train, y_val = train_test_split(X, y, test_size=0.25,\n",
    "                                                  random_state=15)\n",
    "scaler = MinMaxScaler()\n",
    "X_train = scaler.fit_transform(X_train)\n",
    "X_val = scaler.transform(X_val)"
   ]
  },
  {
   "cell_type": "code",
   "execution_count": 29,
   "metadata": {
    "ExecuteTime": {
     "end_time": "2021-04-27T06:08:54.353750Z",
     "start_time": "2021-04-27T06:06:05.717319Z"
    }
   },
   "outputs": [
    {
     "name": "stdout",
     "output_type": "stream",
     "text": [
      "Training ('KNN', KNeighborsClassifier(n_jobs=-1), {'n_neighbors': range(1, 31)})\n",
      "\n",
      "Training ('Logistic Regression (L1)', LogisticRegression(max_iter=1000, n_jobs=-1, penalty='l1', solver='liblinear'), {'C': array([1.00000000e-05, 1.29154967e-04, 1.66810054e-03, 2.15443469e-02,\n",
      "       2.78255940e-01, 3.59381366e+00, 4.64158883e+01, 5.99484250e+02,\n",
      "       7.74263683e+03, 1.00000000e+05])})\n",
      "\n"
     ]
    },
    {
     "name": "stderr",
     "output_type": "stream",
     "text": [
      "D:\\Anaconda\\lib\\site-packages\\sklearn\\linear_model\\_logistic.py:1353: UserWarning: 'n_jobs' > 1 does not have any effect when 'solver' is set to 'liblinear'. Got 'n_jobs' = 8.\n",
      "  warnings.warn(\"'n_jobs' > 1 does not have any effect when\"\n"
     ]
    },
    {
     "name": "stdout",
     "output_type": "stream",
     "text": [
      "Training ('Logistic Regression (L2)', LogisticRegression(max_iter=1000, n_jobs=-1), {'C': array([1.00000000e-05, 1.29154967e-04, 1.66810054e-03, 2.15443469e-02,\n",
      "       2.78255940e-01, 3.59381366e+00, 4.64158883e+01, 5.99484250e+02,\n",
      "       7.74263683e+03, 1.00000000e+05])})\n",
      "\n",
      "Training ('Linear SVM (L1)', LinearSVC(dual=False, max_iter=10000, penalty='l1'), {'C': array([1.00000000e-05, 1.29154967e-04, 1.66810054e-03, 2.15443469e-02,\n",
      "       2.78255940e-01, 3.59381366e+00, 4.64158883e+01, 5.99484250e+02,\n",
      "       7.74263683e+03, 1.00000000e+05])})\n",
      "\n",
      "Training ('Linear SVM (L2)', LinearSVC(max_iter=10000), {'C': array([1.00000000e-05, 1.29154967e-04, 1.66810054e-03, 2.15443469e-02,\n",
      "       2.78255940e-01, 3.59381366e+00, 4.64158883e+01, 5.99484250e+02,\n",
      "       7.74263683e+03, 1.00000000e+05])})\n",
      "\n"
     ]
    },
    {
     "name": "stderr",
     "output_type": "stream",
     "text": [
      "D:\\Anaconda\\lib\\site-packages\\sklearn\\svm\\_base.py:976: ConvergenceWarning: Liblinear failed to converge, increase the number of iterations.\n",
      "  warnings.warn(\"Liblinear failed to converge, increase \"\n"
     ]
    },
    {
     "name": "stdout",
     "output_type": "stream",
     "text": [
      "Training ('Random Forest Classifier', RandomForestClassifier(n_jobs=-1), {'n_estimators': [100, 200, 300], 'max_depth': [3, 4, 6], 'max_features': [1, 2, 3, 4]})\n",
      "\n",
      "Training ('Gradient Boosting Classifier', GradientBoostingClassifier(), {'n_estimators': [100, 200, 300], 'max_depth': [3, 4, 6], 'learning_rate': [0.2, 0.1, 0.02, 0.01]})\n",
      "\n",
      "Training ('AdaBoost Classifier', AdaBoostClassifier(base_estimator=DecisionTreeClassifier(max_depth=1)), {'n_estimators': [100, 200, 300], 'learning_rate': [0.2, 0.1, 0.02, 0.01]})\n",
      "\n"
     ]
    }
   ],
   "source": [
    "models = {}\n",
    "for est in estimators:\n",
    "    print(f'Training {est}\\n')\n",
    "    gs_cv = GridSearchCV(est[1], param_grid=est[2], n_jobs=-1)\n",
    "    gs_cv.fit(X_train, y_train)\n",
    "    models[est[0]] = gs_cv"
   ]
  },
  {
   "cell_type": "code",
   "execution_count": 30,
   "metadata": {
    "ExecuteTime": {
     "end_time": "2021-04-27T06:08:55.113313Z",
     "start_time": "2021-04-27T06:08:54.355244Z"
    }
   },
   "outputs": [],
   "source": [
    "cols = ['Machine Learning Method', 'Training Accuracy', 'Test Accuracy',\n",
    "        'Best Parameter', 'Top Predictor']\n",
    "df_results = pd.DataFrame(columns=cols)\n",
    "\n",
    "for i, m in enumerate(models):\n",
    "    try:\n",
    "        top = X.columns[np.argmax(\n",
    "            np.abs(models[m].best_estimator_.coef_.T.mean(axis=1)))]\n",
    "    except AttributeError:\n",
    "        try:\n",
    "            top = X.columns[\n",
    "                np.argmax(np.abs(models[m].best_estimator_.feature_importances_))]\n",
    "        except AttributeError:\n",
    "            top = np.nan\n",
    "    except AttributeError:\n",
    "        top = np.nan\n",
    "\n",
    "    df_results.loc[i] = [m,\n",
    "                  models[m].best_estimator_.score(X_train, y_train),\n",
    "                  models[m].best_estimator_.score(X_val, y_val),\n",
    "                  models[m].best_params_,\n",
    "                  top]"
   ]
  },
  {
   "cell_type": "code",
   "execution_count": 31,
   "metadata": {
    "ExecuteTime": {
     "end_time": "2021-04-27T06:08:55.128744Z",
     "start_time": "2021-04-27T06:08:55.114744Z"
    }
   },
   "outputs": [
    {
     "data": {
      "text/html": [
       "<div>\n",
       "<style scoped>\n",
       "    .dataframe tbody tr th:only-of-type {\n",
       "        vertical-align: middle;\n",
       "    }\n",
       "\n",
       "    .dataframe tbody tr th {\n",
       "        vertical-align: top;\n",
       "    }\n",
       "\n",
       "    .dataframe thead th {\n",
       "        text-align: right;\n",
       "    }\n",
       "</style>\n",
       "<table border=\"1\" class=\"dataframe\">\n",
       "  <thead>\n",
       "    <tr style=\"text-align: right;\">\n",
       "      <th></th>\n",
       "      <th>Machine Learning Method</th>\n",
       "      <th>Training Accuracy</th>\n",
       "      <th>Test Accuracy</th>\n",
       "      <th>Best Parameter</th>\n",
       "      <th>Top Predictor</th>\n",
       "    </tr>\n",
       "  </thead>\n",
       "  <tbody>\n",
       "    <tr>\n",
       "      <th>0</th>\n",
       "      <td>KNN</td>\n",
       "      <td>0.675567</td>\n",
       "      <td>0.605263</td>\n",
       "      <td>{'n_neighbors': 8}</td>\n",
       "      <td>NaN</td>\n",
       "    </tr>\n",
       "    <tr>\n",
       "      <th>1</th>\n",
       "      <td>Logistic Regression (L1)</td>\n",
       "      <td>0.649232</td>\n",
       "      <td>0.660088</td>\n",
       "      <td>{'C': 46.41588833612782}</td>\n",
       "      <td>dislikes</td>\n",
       "    </tr>\n",
       "    <tr>\n",
       "      <th>2</th>\n",
       "      <td>Logistic Regression (L2)</td>\n",
       "      <td>0.648500</td>\n",
       "      <td>0.661184</td>\n",
       "      <td>{'C': 7742.636826811277}</td>\n",
       "      <td>dislikes</td>\n",
       "    </tr>\n",
       "    <tr>\n",
       "      <th>3</th>\n",
       "      <td>Linear SVM (L1)</td>\n",
       "      <td>0.649598</td>\n",
       "      <td>0.664474</td>\n",
       "      <td>{'C': 3.593813663804626}</td>\n",
       "      <td>dislikes</td>\n",
       "    </tr>\n",
       "    <tr>\n",
       "      <th>4</th>\n",
       "      <td>Linear SVM (L2)</td>\n",
       "      <td>0.649232</td>\n",
       "      <td>0.664474</td>\n",
       "      <td>{'C': 46.41588833612782}</td>\n",
       "      <td>dislikes</td>\n",
       "    </tr>\n",
       "    <tr>\n",
       "      <th>5</th>\n",
       "      <td>Random Forest Classifier</td>\n",
       "      <td>0.721287</td>\n",
       "      <td>0.657895</td>\n",
       "      <td>{'max_depth': 6, 'max_features': 2, 'n_estimat...</td>\n",
       "      <td>daysStart</td>\n",
       "    </tr>\n",
       "    <tr>\n",
       "      <th>6</th>\n",
       "      <td>Gradient Boosting Classifier</td>\n",
       "      <td>0.825165</td>\n",
       "      <td>0.671053</td>\n",
       "      <td>{'learning_rate': 0.1, 'max_depth': 4, 'n_esti...</td>\n",
       "      <td>daysStart</td>\n",
       "    </tr>\n",
       "    <tr>\n",
       "      <th>7</th>\n",
       "      <td>AdaBoost Classifier</td>\n",
       "      <td>0.704828</td>\n",
       "      <td>0.664474</td>\n",
       "      <td>{'learning_rate': 0.2, 'n_estimators': 200}</td>\n",
       "      <td>dayInYear</td>\n",
       "    </tr>\n",
       "  </tbody>\n",
       "</table>\n",
       "</div>"
      ],
      "text/plain": [
       "        Machine Learning Method  Training Accuracy  Test Accuracy  \\\n",
       "0                           KNN           0.675567       0.605263   \n",
       "1      Logistic Regression (L1)           0.649232       0.660088   \n",
       "2      Logistic Regression (L2)           0.648500       0.661184   \n",
       "3               Linear SVM (L1)           0.649598       0.664474   \n",
       "4               Linear SVM (L2)           0.649232       0.664474   \n",
       "5      Random Forest Classifier           0.721287       0.657895   \n",
       "6  Gradient Boosting Classifier           0.825165       0.671053   \n",
       "7           AdaBoost Classifier           0.704828       0.664474   \n",
       "\n",
       "                                      Best Parameter Top Predictor  \n",
       "0                                 {'n_neighbors': 8}           NaN  \n",
       "1                           {'C': 46.41588833612782}      dislikes  \n",
       "2                           {'C': 7742.636826811277}      dislikes  \n",
       "3                           {'C': 3.593813663804626}      dislikes  \n",
       "4                           {'C': 46.41588833612782}      dislikes  \n",
       "5  {'max_depth': 6, 'max_features': 2, 'n_estimat...     daysStart  \n",
       "6  {'learning_rate': 0.1, 'max_depth': 4, 'n_esti...     daysStart  \n",
       "7        {'learning_rate': 0.2, 'n_estimators': 200}     dayInYear  "
      ]
     },
     "execution_count": 31,
     "metadata": {},
     "output_type": "execute_result"
    }
   ],
   "source": [
    "df_results"
   ]
  },
  {
   "cell_type": "code",
   "execution_count": 32,
   "metadata": {
    "ExecuteTime": {
     "end_time": "2021-04-27T06:08:55.159744Z",
     "start_time": "2021-04-27T06:08:55.131752Z"
    }
   },
   "outputs": [
    {
     "data": {
      "text/plain": [
       "{'learning_rate': 0.1, 'max_depth': 4, 'n_estimators': 100}"
      ]
     },
     "execution_count": 32,
     "metadata": {},
     "output_type": "execute_result"
    }
   ],
   "source": [
    "df_results.iloc[6]['Best Parameter']"
   ]
  },
  {
   "cell_type": "code",
   "execution_count": null,
   "metadata": {},
   "outputs": [],
   "source": []
  },
  {
   "cell_type": "markdown",
   "metadata": {},
   "source": [
    "In terms of test accuracy, Gradient Boosting Classifier gave the best performance. However, in terms of generalization, I would go with Random Forest Classifier as it has a lesser tendency to overfit in this use case."
   ]
  },
  {
   "cell_type": "code",
   "execution_count": 33,
   "metadata": {
    "ExecuteTime": {
     "end_time": "2021-04-27T06:08:56.136290Z",
     "start_time": "2021-04-27T06:08:55.162247Z"
    }
   },
   "outputs": [
    {
     "name": "stdout",
     "output_type": "stream",
     "text": [
      "0.6710526315789473\n"
     ]
    }
   ],
   "source": [
    "model = GradientBoostingClassifier(\n",
    "    max_depth=4, learning_rate=0.1, n_estimators=100)\n",
    "model.fit(X_train, y_train)\n",
    "print(model.score(X_val, y_val))\n",
    "# print(model.feature_importances_) #use inbuilt class feature_importances of tree based classifiers\n",
    "# plot graph of feature importances for better visualization\n",
    "feat_importances = pd.DataFrame(model.feature_importances_, index=X.columns, columns = ['importance'])\n",
    "feat_importances.sort_values(by = 'importance', ascending = False, inplace = True)"
   ]
  },
  {
   "cell_type": "code",
   "execution_count": 34,
   "metadata": {
    "ExecuteTime": {
     "end_time": "2021-04-27T06:08:56.151751Z",
     "start_time": "2021-04-27T06:08:56.138747Z"
    }
   },
   "outputs": [],
   "source": [
    "feat_importances = feat_importances.head(10)"
   ]
  },
  {
   "cell_type": "code",
   "execution_count": 35,
   "metadata": {
    "ExecuteTime": {
     "end_time": "2021-04-27T06:08:56.399786Z",
     "start_time": "2021-04-27T06:08:56.154746Z"
    }
   },
   "outputs": [
    {
     "data": {
      "text/plain": [
       "<matplotlib.axes._subplots.AxesSubplot at 0x1a02afdce50>"
      ]
     },
     "execution_count": 35,
     "metadata": {},
     "output_type": "execute_result"
    },
    {
     "data": {
      "image/png": "[encoded data removed]",
      "text/plain": [
       "<Figure size 432x288 with 1 Axes>"
      ]
     },
     "metadata": {
      "needs_background": "light"
     },
     "output_type": "display_data"
    }
   ],
   "source": [
    "sns.barplot(x=\"importance\", y=feat_importances.index, data=feat_importances)"
   ]
  },
  {
   "cell_type": "markdown",
   "metadata": {
    "ExecuteTime": {
     "end_time": "2021-04-27T06:08:56.415244Z",
     "start_time": "2021-04-27T06:08:56.402248Z"
    }
   },
   "source": [
    "The most important feature was how recently the movie was released (daysStart), relative to the earliest release date in our data. This idea makes sense because with technological progress, movie budgets have gone up and filmmakers can depict certain scenes more graphically and realistically. People globally also have more purchasing power, allowing them to spend more on watching movies.\n",
    "\n",
    "However, it was really interesting that an important feature was which day in the year a movie was released. This means that temporal patterns should be considered when releasing a movie as more people can either have more free time or have the capacity to watch more films than other days.\n",
    "\n",
    "Also, the 3 features we extracted from YouTube data are among the top 10 most important features, which validates our hypothesis that trailer metadata could be predictive of movie profitability. "
   ]
  },
  {
   "cell_type": "code",
   "execution_count": 37,
   "metadata": {
    "ExecuteTime": {
     "end_time": "2021-04-27T06:08:56.446244Z",
     "start_time": "2021-04-27T06:08:56.417254Z"
    }
   },
   "outputs": [
    {
     "data": {
      "text/plain": [
       "0.54607939809751"
      ]
     },
     "execution_count": 37,
     "metadata": {},
     "output_type": "execute_result"
    }
   ],
   "source": [
    "roc_auc_score(y, model.predict_proba(X)[:, 1])"
   ]
  },
  {
   "cell_type": "markdown",
   "metadata": {},
   "source": [
    "The ROC AUC Score was not that good however, with the addition of more data and features such as actor popularity, movie studio accolades and marketing budget in social media sites and online platforms the model can definitely be improved."
   ]
  },
  {
   "cell_type": "code",
   "execution_count": 38,
   "metadata": {
    "ExecuteTime": {
     "end_time": "2021-04-27T06:08:56.554747Z",
     "start_time": "2021-04-27T06:08:56.448245Z"
    }
   },
   "outputs": [
    {
     "data": {
      "image/png": "[encoded data removed]",
      "text/plain": [
       "<Figure size 180x180 with 1 Axes>"
      ]
     },
     "metadata": {
      "needs_background": "light"
     },
     "output_type": "display_data"
    },
    {
     "name": "stdout",
     "output_type": "stream",
     "text": [
      "              precision    recall  f1-score   support\n",
      "\n",
      "           0       0.68      0.68      0.68       467\n",
      "           1       0.66      0.66      0.66       445\n",
      "\n",
      "    accuracy                           0.67       912\n",
      "   macro avg       0.67      0.67      0.67       912\n",
      "weighted avg       0.67      0.67      0.67       912\n",
      "\n"
     ]
    }
   ],
   "source": [
    "from sklearn.metrics import classification_report\n",
    "from sklearn.metrics import confusion_matrix\n",
    "\n",
    "#pipe_svc.fit(X_train, y_train)\n",
    "y_pred = model.predict(X_val)\n",
    "confmat = confusion_matrix(y_true=y_val, y_pred=y_pred)\n",
    "fig, ax = plt.subplots(figsize=(2.5, 2.5))\n",
    "ax.matshow(confmat, cmap=plt.cm.Blues, alpha=0.3)\n",
    "for i in range(confmat.shape[0]):\n",
    "    for j in range(confmat.shape[1]):\n",
    "        ax.text(x=j, y=i, s=confmat[i, j], va='center', ha='center')\n",
    "plt.xlabel('predicted label')\n",
    "plt.ylabel('true label')\n",
    "plt.show()\n",
    "\n",
    "print(classification_report(y_val, y_pred))"
   ]
  },
  {
   "cell_type": "markdown",
   "metadata": {},
   "source": [
    "### Limitations"
   ]
  },
  {
   "cell_type": "markdown",
   "metadata": {},
   "source": [
    "A possible problem with the data that was used is that some of the YouTube trailer views and likes may have happened after the movie was released. If trailers get watched more because movies are successful and not vice versa, this can be a problem. This would mean feedback or leaking of the target variable into our predictors.\n",
    "\n",
    "Unfortunately, YouTube does not allow access to historical data about videos (creators can only get access to their own channel history after 2015). The only way to get this data would be to collect it on new movies before the release.\n",
    "\n",
    "We do not think this problem is critical for two reasons. First, we hypothesize most trailer watches happen before the movie is released since they are released with much fanfare months in advance. Second, though some of the watch data undoubtedly comes after the release, it is not all caused by the popularity of the movie. Trailer likes and dislikes will be especially robust to this problem - though popularity may inflate view count, likes and dislikes are based on the quality of the trailer, so it does not matter if they come before or after release date."
   ]
  }
 ],
 "metadata": {
  "kernelspec": {
   "display_name": "Python 3",
   "language": "python",
   "name": "python3"
  },
  "language_info": {
   "codemirror_mode": {
    "name": "ipython",
    "version": 3
   },
   "file_extension": ".py",
   "mimetype": "text/x-python",
   "name": "python",
   "nbconvert_exporter": "python",
   "pygments_lexer": "ipython3",
   "version": "3.8.3"
  }
 },
 "nbformat": 4,
 "nbformat_minor": 4
}
