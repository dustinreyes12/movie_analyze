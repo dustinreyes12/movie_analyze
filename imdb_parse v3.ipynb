{
 "cells": [
  {
   "cell_type": "code",
   "execution_count": 1,
   "metadata": {
    "ExecuteTime": {
     "end_time": "2021-04-22T17:28:55.185309Z",
     "start_time": "2021-04-22T17:28:53.132810Z"
    }
   },
   "outputs": [],
   "source": [
    "import pickle\n",
    "import numpy as np\n",
    "import pandas as pd\n",
    "import warnings\n",
    "from tqdm import tqdm\n",
    "warnings.filterwarnings('ignore')\n",
    "tqdm.pandas()\n",
    "%matplotlib inline"
   ]
  },
  {
   "cell_type": "code",
   "execution_count": 2,
   "metadata": {
    "ExecuteTime": {
     "end_time": "2021-04-22T17:28:55.278310Z",
     "start_time": "2021-04-22T17:28:55.186808Z"
    }
   },
   "outputs": [],
   "source": [
    "df = pd.read_csv('data/df_processed_total1.csv')"
   ]
  },
  {
   "cell_type": "code",
   "execution_count": 3,
   "metadata": {
    "ExecuteTime": {
     "end_time": "2021-04-22T17:28:55.758843Z",
     "start_time": "2021-04-22T17:28:55.280313Z"
    }
   },
   "outputs": [],
   "source": [
    "df_stars = pd.read_csv('data/star_power.csv',\n",
    "                       usecols=['nconst', 'Name', 'Start Date', \n",
    "                                'End Date', 'Star Ranking'])"
   ]
  },
  {
   "cell_type": "code",
   "execution_count": 4,
   "metadata": {
    "ExecuteTime": {
     "end_time": "2021-04-22T17:28:55.789815Z",
     "start_time": "2021-04-22T17:28:55.760310Z"
    }
   },
   "outputs": [
    {
     "data": {
      "text/html": [
       "<div>\n",
       "<style scoped>\n",
       "    .dataframe tbody tr th:only-of-type {\n",
       "        vertical-align: middle;\n",
       "    }\n",
       "\n",
       "    .dataframe tbody tr th {\n",
       "        vertical-align: top;\n",
       "    }\n",
       "\n",
       "    .dataframe thead th {\n",
       "        text-align: right;\n",
       "    }\n",
       "</style>\n",
       "<table border=\"1\" class=\"dataframe\">\n",
       "  <thead>\n",
       "    <tr style=\"text-align: right;\">\n",
       "      <th></th>\n",
       "      <th>tconst</th>\n",
       "      <th>nconst</th>\n",
       "      <th>primaryName</th>\n",
       "      <th>birthYear</th>\n",
       "      <th>deathYear</th>\n",
       "      <th>primaryProfession</th>\n",
       "      <th>knownForTitles</th>\n",
       "      <th>title</th>\n",
       "      <th>release</th>\n",
       "      <th>director</th>\n",
       "      <th>...</th>\n",
       "      <th>titleType</th>\n",
       "      <th>primaryTitle</th>\n",
       "      <th>originalTitle</th>\n",
       "      <th>isAdult</th>\n",
       "      <th>startYear</th>\n",
       "      <th>runtimeMinutes</th>\n",
       "      <th>genres</th>\n",
       "      <th>averageRating</th>\n",
       "      <th>numVotes</th>\n",
       "      <th>leadActor</th>\n",
       "    </tr>\n",
       "  </thead>\n",
       "  <tbody>\n",
       "    <tr>\n",
       "      <th>0</th>\n",
       "      <td>tt0369610</td>\n",
       "      <td>nm0415425</td>\n",
       "      <td>Rick Jaffa</td>\n",
       "      <td>1956</td>\n",
       "      <td>\\N</td>\n",
       "      <td>writer</td>\n",
       "      <td>tt1318514,tt0369610,tt4566758,tt2103281</td>\n",
       "      <td>Jurassic World</td>\n",
       "      <td>2015-06-12</td>\n",
       "      <td>Colin Trevorrow</td>\n",
       "      <td>...</td>\n",
       "      <td>movie</td>\n",
       "      <td>Jurassic World</td>\n",
       "      <td>Jurassic World</td>\n",
       "      <td>0</td>\n",
       "      <td>2015</td>\n",
       "      <td>124</td>\n",
       "      <td>Action</td>\n",
       "      <td>7.0</td>\n",
       "      <td>584990</td>\n",
       "      <td>nm0415425</td>\n",
       "    </tr>\n",
       "    <tr>\n",
       "      <th>1</th>\n",
       "      <td>tt0369610</td>\n",
       "      <td>nm0000341</td>\n",
       "      <td>Michael Crichton</td>\n",
       "      <td>1942</td>\n",
       "      <td>2008</td>\n",
       "      <td>writer</td>\n",
       "      <td>tt0117998,tt0107290,tt0070909,tt0108757</td>\n",
       "      <td>Jurassic World</td>\n",
       "      <td>2015-06-12</td>\n",
       "      <td>Colin Trevorrow</td>\n",
       "      <td>...</td>\n",
       "      <td>movie</td>\n",
       "      <td>Jurassic World</td>\n",
       "      <td>Jurassic World</td>\n",
       "      <td>0</td>\n",
       "      <td>2015</td>\n",
       "      <td>124</td>\n",
       "      <td>Action</td>\n",
       "      <td>7.0</td>\n",
       "      <td>584990</td>\n",
       "      <td>nm0415425</td>\n",
       "    </tr>\n",
       "    <tr>\n",
       "      <th>2</th>\n",
       "      <td>tt0369610</td>\n",
       "      <td>nm2081046</td>\n",
       "      <td>Derek Connolly</td>\n",
       "      <td>\\N</td>\n",
       "      <td>\\N</td>\n",
       "      <td>writer</td>\n",
       "      <td>tt1862079,tt5884052,tt0369610,tt3731562</td>\n",
       "      <td>Jurassic World</td>\n",
       "      <td>2015-06-12</td>\n",
       "      <td>Colin Trevorrow</td>\n",
       "      <td>...</td>\n",
       "      <td>movie</td>\n",
       "      <td>Jurassic World</td>\n",
       "      <td>Jurassic World</td>\n",
       "      <td>0</td>\n",
       "      <td>2015</td>\n",
       "      <td>124</td>\n",
       "      <td>Action</td>\n",
       "      <td>7.0</td>\n",
       "      <td>584990</td>\n",
       "      <td>nm0415425</td>\n",
       "    </tr>\n",
       "    <tr>\n",
       "      <th>3</th>\n",
       "      <td>tt0369610</td>\n",
       "      <td>nm0798646</td>\n",
       "      <td>Amanda Silver</td>\n",
       "      <td>1963</td>\n",
       "      <td>\\N</td>\n",
       "      <td>writer</td>\n",
       "      <td>tt0369610,tt1318514,tt4566758,tt2103281</td>\n",
       "      <td>Jurassic World</td>\n",
       "      <td>2015-06-12</td>\n",
       "      <td>Colin Trevorrow</td>\n",
       "      <td>...</td>\n",
       "      <td>movie</td>\n",
       "      <td>Jurassic World</td>\n",
       "      <td>Jurassic World</td>\n",
       "      <td>0</td>\n",
       "      <td>2015</td>\n",
       "      <td>124</td>\n",
       "      <td>Action</td>\n",
       "      <td>7.0</td>\n",
       "      <td>584990</td>\n",
       "      <td>nm0415425</td>\n",
       "    </tr>\n",
       "    <tr>\n",
       "      <th>4</th>\n",
       "      <td>tt0369610</td>\n",
       "      <td>nm0339460</td>\n",
       "      <td>Judy Greer</td>\n",
       "      <td>1975</td>\n",
       "      <td>\\N</td>\n",
       "      <td>actress</td>\n",
       "      <td>tt0369610,tt0988595,tt0337563,tt0478970</td>\n",
       "      <td>Jurassic World</td>\n",
       "      <td>2015-06-12</td>\n",
       "      <td>Colin Trevorrow</td>\n",
       "      <td>...</td>\n",
       "      <td>movie</td>\n",
       "      <td>Jurassic World</td>\n",
       "      <td>Jurassic World</td>\n",
       "      <td>0</td>\n",
       "      <td>2015</td>\n",
       "      <td>124</td>\n",
       "      <td>Action</td>\n",
       "      <td>7.0</td>\n",
       "      <td>584990</td>\n",
       "      <td>nm0415425</td>\n",
       "    </tr>\n",
       "  </tbody>\n",
       "</table>\n",
       "<p>5 rows × 28 columns</p>\n",
       "</div>"
      ],
      "text/plain": [
       "      tconst     nconst       primaryName birthYear deathYear  \\\n",
       "0  tt0369610  nm0415425        Rick Jaffa      1956        \\N   \n",
       "1  tt0369610  nm0000341  Michael Crichton      1942      2008   \n",
       "2  tt0369610  nm2081046    Derek Connolly        \\N        \\N   \n",
       "3  tt0369610  nm0798646     Amanda Silver      1963        \\N   \n",
       "4  tt0369610  nm0339460        Judy Greer      1975        \\N   \n",
       "\n",
       "  primaryProfession                           knownForTitles           title  \\\n",
       "0            writer  tt1318514,tt0369610,tt4566758,tt2103281  Jurassic World   \n",
       "1            writer  tt0117998,tt0107290,tt0070909,tt0108757  Jurassic World   \n",
       "2            writer  tt1862079,tt5884052,tt0369610,tt3731562  Jurassic World   \n",
       "3            writer  tt0369610,tt1318514,tt4566758,tt2103281  Jurassic World   \n",
       "4           actress  tt0369610,tt0988595,tt0337563,tt0478970  Jurassic World   \n",
       "\n",
       "      release         director  ...  titleType    primaryTitle  \\\n",
       "0  2015-06-12  Colin Trevorrow  ...      movie  Jurassic World   \n",
       "1  2015-06-12  Colin Trevorrow  ...      movie  Jurassic World   \n",
       "2  2015-06-12  Colin Trevorrow  ...      movie  Jurassic World   \n",
       "3  2015-06-12  Colin Trevorrow  ...      movie  Jurassic World   \n",
       "4  2015-06-12  Colin Trevorrow  ...      movie  Jurassic World   \n",
       "\n",
       "    originalTitle  isAdult  startYear runtimeMinutes  genres  averageRating  \\\n",
       "0  Jurassic World        0       2015            124  Action            7.0   \n",
       "1  Jurassic World        0       2015            124  Action            7.0   \n",
       "2  Jurassic World        0       2015            124  Action            7.0   \n",
       "3  Jurassic World        0       2015            124  Action            7.0   \n",
       "4  Jurassic World        0       2015            124  Action            7.0   \n",
       "\n",
       "  numVotes  leadActor  \n",
       "0   584990  nm0415425  \n",
       "1   584990  nm0415425  \n",
       "2   584990  nm0415425  \n",
       "3   584990  nm0415425  \n",
       "4   584990  nm0415425  \n",
       "\n",
       "[5 rows x 28 columns]"
      ]
     },
     "execution_count": 4,
     "metadata": {},
     "output_type": "execute_result"
    }
   ],
   "source": [
    "df.head()"
   ]
  },
  {
   "cell_type": "code",
   "execution_count": 5,
   "metadata": {
    "ExecuteTime": {
     "end_time": "2021-04-22T17:29:20.237899Z",
     "start_time": "2021-04-22T17:29:20.230942Z"
    }
   },
   "outputs": [
    {
     "data": {
      "text/plain": [
       "Index(['tconst', 'nconst', 'primaryName', 'birthYear', 'deathYear',\n",
       "       'primaryProfession', 'knownForTitles', 'title', 'release', 'director',\n",
       "       'budget', 'opening', 'gross', 'worldwide_gross', 'metacritic_score',\n",
       "       'mpaa_rating', 'budget_mil', 'opening_mil', 'titleType', 'primaryTitle',\n",
       "       'originalTitle', 'isAdult', 'startYear', 'runtimeMinutes', 'genres',\n",
       "       'averageRating', 'numVotes', 'leadActor'],\n",
       "      dtype='object')"
      ]
     },
     "execution_count": 5,
     "metadata": {},
     "output_type": "execute_result"
    }
   ],
   "source": [
    "df.columns"
   ]
  },
  {
   "cell_type": "code",
   "execution_count": 6,
   "metadata": {
    "ExecuteTime": {
     "end_time": "2021-04-22T17:29:38.333870Z",
     "start_time": "2021-04-22T17:29:38.315870Z"
    }
   },
   "outputs": [
    {
     "data": {
      "text/html": [
       "<div>\n",
       "<style scoped>\n",
       "    .dataframe tbody tr th:only-of-type {\n",
       "        vertical-align: middle;\n",
       "    }\n",
       "\n",
       "    .dataframe tbody tr th {\n",
       "        vertical-align: top;\n",
       "    }\n",
       "\n",
       "    .dataframe thead th {\n",
       "        text-align: right;\n",
       "    }\n",
       "</style>\n",
       "<table border=\"1\" class=\"dataframe\">\n",
       "  <thead>\n",
       "    <tr style=\"text-align: right;\">\n",
       "      <th></th>\n",
       "      <th>release</th>\n",
       "      <th>startYear</th>\n",
       "    </tr>\n",
       "  </thead>\n",
       "  <tbody>\n",
       "    <tr>\n",
       "      <th>0</th>\n",
       "      <td>2015-06-12</td>\n",
       "      <td>2015</td>\n",
       "    </tr>\n",
       "    <tr>\n",
       "      <th>1</th>\n",
       "      <td>2015-06-12</td>\n",
       "      <td>2015</td>\n",
       "    </tr>\n",
       "    <tr>\n",
       "      <th>2</th>\n",
       "      <td>2015-06-12</td>\n",
       "      <td>2015</td>\n",
       "    </tr>\n",
       "    <tr>\n",
       "      <th>3</th>\n",
       "      <td>2015-06-12</td>\n",
       "      <td>2015</td>\n",
       "    </tr>\n",
       "    <tr>\n",
       "      <th>4</th>\n",
       "      <td>2015-06-12</td>\n",
       "      <td>2015</td>\n",
       "    </tr>\n",
       "    <tr>\n",
       "      <th>...</th>\n",
       "      <td>...</td>\n",
       "      <td>...</td>\n",
       "    </tr>\n",
       "    <tr>\n",
       "      <th>11761</th>\n",
       "      <td>2015-04-17</td>\n",
       "      <td>2014</td>\n",
       "    </tr>\n",
       "    <tr>\n",
       "      <th>11762</th>\n",
       "      <td>2015-04-17</td>\n",
       "      <td>2014</td>\n",
       "    </tr>\n",
       "    <tr>\n",
       "      <th>11763</th>\n",
       "      <td>2015-04-17</td>\n",
       "      <td>2014</td>\n",
       "    </tr>\n",
       "    <tr>\n",
       "      <th>11764</th>\n",
       "      <td>2015-04-17</td>\n",
       "      <td>2014</td>\n",
       "    </tr>\n",
       "    <tr>\n",
       "      <th>11765</th>\n",
       "      <td>2015-04-17</td>\n",
       "      <td>2014</td>\n",
       "    </tr>\n",
       "  </tbody>\n",
       "</table>\n",
       "<p>11766 rows × 2 columns</p>\n",
       "</div>"
      ],
      "text/plain": [
       "          release  startYear\n",
       "0      2015-06-12       2015\n",
       "1      2015-06-12       2015\n",
       "2      2015-06-12       2015\n",
       "3      2015-06-12       2015\n",
       "4      2015-06-12       2015\n",
       "...           ...        ...\n",
       "11761  2015-04-17       2014\n",
       "11762  2015-04-17       2014\n",
       "11763  2015-04-17       2014\n",
       "11764  2015-04-17       2014\n",
       "11765  2015-04-17       2014\n",
       "\n",
       "[11766 rows x 2 columns]"
      ]
     },
     "execution_count": 6,
     "metadata": {},
     "output_type": "execute_result"
    }
   ],
   "source": [
    "df[['release', 'startYear']]"
   ]
  },
  {
   "cell_type": "code",
   "execution_count": null,
   "metadata": {},
   "outputs": [],
   "source": []
  },
  {
   "cell_type": "code",
   "execution_count": null,
   "metadata": {},
   "outputs": [],
   "source": []
  },
  {
   "cell_type": "code",
   "execution_count": null,
   "metadata": {},
   "outputs": [],
   "source": []
  },
  {
   "cell_type": "code",
   "execution_count": null,
   "metadata": {},
   "outputs": [],
   "source": []
  },
  {
   "cell_type": "code",
   "execution_count": null,
   "metadata": {},
   "outputs": [],
   "source": []
  },
  {
   "cell_type": "code",
   "execution_count": null,
   "metadata": {},
   "outputs": [],
   "source": []
  },
  {
   "cell_type": "code",
   "execution_count": null,
   "metadata": {},
   "outputs": [],
   "source": []
  },
  {
   "cell_type": "code",
   "execution_count": null,
   "metadata": {
    "ExecuteTime": {
     "end_time": "2021-04-22T17:14:21.054804Z",
     "start_time": "2021-04-22T17:14:21.033766Z"
    }
   },
   "outputs": [],
   "source": [
    "df_stars.head()"
   ]
  },
  {
   "cell_type": "code",
   "execution_count": null,
   "metadata": {
    "ExecuteTime": {
     "end_time": "2021-04-22T17:14:26.631291Z",
     "start_time": "2021-04-22T17:14:26.617291Z"
    }
   },
   "outputs": [],
   "source": [
    "df.shape"
   ]
  },
  {
   "cell_type": "code",
   "execution_count": null,
   "metadata": {
    "ExecuteTime": {
     "end_time": "2021-04-22T17:14:27.002840Z",
     "start_time": "2021-04-22T17:14:26.986791Z"
    }
   },
   "outputs": [],
   "source": [
    "df_stars.shape"
   ]
  },
  {
   "cell_type": "code",
   "execution_count": null,
   "metadata": {
    "ExecuteTime": {
     "end_time": "2021-04-22T17:14:49.213539Z",
     "start_time": "2021-04-22T17:14:49.198538Z"
    }
   },
   "outputs": [],
   "source": [
    "df_stars.dtypes"
   ]
  },
  {
   "cell_type": "code",
   "execution_count": null,
   "metadata": {
    "ExecuteTime": {
     "end_time": "2021-04-22T17:15:01.653813Z",
     "start_time": "2021-04-22T17:15:01.429317Z"
    }
   },
   "outputs": [],
   "source": [
    "# Filter out unavailable data\n",
    "def remove_unavailable_rankings(x):\n",
    "    if x == 'UNAVAILABLE':\n",
    "        return -9999\n",
    "    return int(x)\n",
    "\n",
    "df_stars['Star Ranking'] = df_stars['Star Ranking'].apply(remove_unavailable_rankings)\n",
    "df_stars = df_stars[df_stars['Star Ranking'] > 0]\n",
    "df_stars.head()"
   ]
  },
  {
   "cell_type": "code",
   "execution_count": null,
   "metadata": {
    "ExecuteTime": {
     "end_time": "2021-04-22T17:15:09.122081Z",
     "start_time": "2021-04-22T17:15:08.430048Z"
    }
   },
   "outputs": [],
   "source": [
    "df = df.merge(df_stars, how='inner', on='nconst')"
   ]
  },
  {
   "cell_type": "code",
   "execution_count": null,
   "metadata": {
    "ExecuteTime": {
     "end_time": "2021-04-22T17:15:09.153078Z",
     "start_time": "2021-04-22T17:15:09.123548Z"
    }
   },
   "outputs": [],
   "source": [
    "df.head()"
   ]
  },
  {
   "cell_type": "code",
   "execution_count": null,
   "metadata": {
    "ExecuteTime": {
     "end_time": "2021-04-22T17:15:10.005547Z",
     "start_time": "2021-04-22T17:15:09.800547Z"
    }
   },
   "outputs": [],
   "source": [
    "df[df['primaryName'] == 'Dwayne Johnson']"
   ]
  },
  {
   "cell_type": "code",
   "execution_count": null,
   "metadata": {
    "ExecuteTime": {
     "end_time": "2021-04-22T08:27:12.662461Z",
     "start_time": "2021-04-22T08:27:12.652459Z"
    }
   },
   "outputs": [],
   "source": [
    "df.dtypes"
   ]
  },
  {
   "cell_type": "code",
   "execution_count": null,
   "metadata": {
    "ExecuteTime": {
     "end_time": "2021-04-22T17:15:26.320822Z",
     "start_time": "2021-04-22T17:15:25.978786Z"
    }
   },
   "outputs": [],
   "source": [
    "pop = df[df['End Date'].astype(str).str.contains('2018')].sort_values(by = 'Star Ranking')"
   ]
  },
  {
   "cell_type": "code",
   "execution_count": null,
   "metadata": {
    "ExecuteTime": {
     "end_time": "2021-04-22T17:15:28.164473Z",
     "start_time": "2021-04-22T17:15:28.140483Z"
    }
   },
   "outputs": [],
   "source": [
    "pop.head()"
   ]
  }
 ],
 "metadata": {
  "kernelspec": {
   "display_name": "Python 3",
   "language": "python",
   "name": "python3"
  },
  "language_info": {
   "codemirror_mode": {
    "name": "ipython",
    "version": 3
   },
   "file_extension": ".py",
   "mimetype": "text/x-python",
   "name": "python",
   "nbconvert_exporter": "python",
   "pygments_lexer": "ipython3",
   "version": "3.8.3"
  }
 },
 "nbformat": 4,
 "nbformat_minor": 4
}
