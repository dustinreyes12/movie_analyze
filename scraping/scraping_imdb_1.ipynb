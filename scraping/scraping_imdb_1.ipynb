{
 "cells": [
  {
   "cell_type": "code",
   "execution_count": null,
   "metadata": {
    "ExecuteTime": {
     "end_time": "2021-04-20T16:56:30.272047Z",
     "start_time": "2021-04-20T16:56:28.913546Z"
    }
   },
   "outputs": [],
   "source": [
    "import os\n",
    "import requests\n",
    "import numpy as np\n",
    "import pandas as pd\n",
    "import warnings\n",
    "from tqdm import tqdm\n",
    "warnings.filterwarnings('ignore')\n",
    "tqdm.pandas()\n",
    "%matplotlib inline"
   ]
  },
  {
   "cell_type": "code",
   "execution_count": null,
   "metadata": {
    "ExecuteTime": {
     "end_time": "2021-04-20T16:49:57.169601Z",
     "start_time": "2021-04-20T16:49:57.167098Z"
    }
   },
   "outputs": [],
   "source": [
    "# Download the given files from the IMDB Database\n",
    "# These are refreshed daily"
   ]
  },
  {
   "cell_type": "code",
   "execution_count": null,
   "metadata": {
    "ExecuteTime": {
     "end_time": "2021-04-20T16:56:32.756045Z",
     "start_time": "2021-04-20T16:56:32.739056Z"
    }
   },
   "outputs": [],
   "source": [
    "def download(url: str, dest_folder: str):\n",
    "    if not os.path.exists(dest_folder):\n",
    "        os.makedirs(dest_folder)  # create folder if it does not exist\n",
    "\n",
    "    # be careful with file names\n",
    "    filename = url.split('/')[-1].replace(\" \", \"_\")\n",
    "    file_path = os.path.join(dest_folder, filename)\n",
    "\n",
    "    r = requests.get(url, stream=True)\n",
    "    if r.ok:\n",
    "        print(\"saving to\", os.path.abspath(file_path))\n",
    "        with open(file_path, 'wb') as f:\n",
    "            for chunk in r.iter_content(chunk_size=1024 * 8):\n",
    "                if chunk:\n",
    "                    f.write(chunk)\n",
    "                    f.flush()\n",
    "                    os.fsync(f.fileno())\n",
    "    else:  # HTTP status code 4XX/5XX\n",
    "        print(\"Download failed: status code {}\\n{}\".format(r.status_code, r.text))"
   ]
  },
  {
   "cell_type": "code",
   "execution_count": null,
   "metadata": {
    "ExecuteTime": {
     "end_time": "2021-04-20T16:43:22.284003Z",
     "start_time": "2021-04-20T16:40:52.693493Z"
    }
   },
   "outputs": [],
   "source": [
    "imdb_filenames = ['name.basics.tsv.gz', 'title.akas.tsv.gz', \n",
    "                  'title.basics.tsv.gz', 'title.crew.tsv.gz', \n",
    "                  'title.principals.tsv.gz', 'title.ratings.tsv.gz']\n",
    "\n",
    "## Uncomment the code below to redownload the files\n",
    "# for file in tqdm(imdb_filenames):\n",
    "#     download(f\"https://datasets.imdbws.com/{file}\", dest_folder=\"../data\")"
   ]
  },
  {
   "cell_type": "code",
   "execution_count": null,
   "metadata": {
    "ExecuteTime": {
     "end_time": "2021-04-20T17:04:14.354072Z",
     "start_time": "2021-04-20T17:03:57.218553Z"
    }
   },
   "outputs": [],
   "source": [
    "# df = pd.read_csv('../data/title.basics.tsv.gz', compression='gzip', header=0, sep='\\t', quotechar='\"')"
   ]
  },
  {
   "cell_type": "code",
   "execution_count": null,
   "metadata": {
    "ExecuteTime": {
     "end_time": "2021-04-20T17:06:05.367686Z",
     "start_time": "2021-04-20T17:06:05.353689Z"
    }
   },
   "outputs": [],
   "source": [
    "# df.head()"
   ]
  },
  {
   "cell_type": "code",
   "execution_count": null,
   "metadata": {},
   "outputs": [],
   "source": []
  }
 ],
 "metadata": {
  "kernelspec": {
   "display_name": "Python 3",
   "language": "python",
   "name": "python3"
  },
  "language_info": {
   "codemirror_mode": {
    "name": "ipython",
    "version": 3
   },
   "file_extension": ".py",
   "mimetype": "text/x-python",
   "name": "python",
   "nbconvert_exporter": "python",
   "pygments_lexer": "ipython3",
   "version": "3.8.3"
  }
 },
 "nbformat": 4,
 "nbformat_minor": 4
}
