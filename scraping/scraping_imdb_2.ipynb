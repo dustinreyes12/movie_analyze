{
 "cells": [
  {
   "cell_type": "code",
   "execution_count": 2,
   "metadata": {
    "ExecuteTime": {
     "end_time": "2021-04-20T18:00:30.637177Z",
     "start_time": "2021-04-20T18:00:30.629145Z"
    }
   },
   "outputs": [],
   "source": [
    "import scrapy\n",
    "import pickle"
   ]
  },
  {
   "cell_type": "code",
   "execution_count": 3,
   "metadata": {
    "ExecuteTime": {
     "end_time": "2021-04-20T18:02:35.420225Z",
     "start_time": "2021-04-20T18:02:34.929226Z"
    }
   },
   "outputs": [],
   "source": [
    "class IMDBSpider(scrapy.Spider):\n",
    "    name = 'imdb_spider'\n",
    "\n",
    "    # Use a delay on the scraping to avoid overloading IMDB's servers!\n",
    "    custom_settings = {\n",
    "        \"DOWNLOAD_DELAY\": 3,\n",
    "        \"CONCURRENT_REQUESTS_PER_DOMAIN\": 3,\n",
    "        \"HTTPCACHE_ENABLED\": True\n",
    "    }\n",
    "\n",
    "    # Load the list of title IDs from the pickle file\n",
    "    # created in the previous section\n",
    "    with open(\"../data/data.pkl\", 'rb') as picklefile:\n",
    "        links = list(pickle.load(picklefile))\n",
    "\n",
    "    # Generate the list of urls to scrape (based on title ID)\n",
    "    start_urls = [\n",
    "        'http://www.imdb.com/title/%s/' % l for l in links\n",
    "    ]\n",
    "\n",
    "    # Methods go here!\n",
    "    def parse(self, response):\n",
    "        # Extract the links to the individual festival pages\n",
    "        if 'Box Office' in response.xpath('//h3[@class=\"subheading\"]/text()').extract():\n",
    "            title_id = response.url.split('/')[-2]\n",
    "            title = response.xpath(\n",
    "                '//h1[@itemprop=\"name\"]/text()').extract()[0].replace('\\xa0', '')\n",
    "            release = response.xpath(\n",
    "                '//div[@class=\"subtext\"]/a/text()').extract()[0].replace('\\n', '')\n",
    "            try:\n",
    "                rating = response.xpath(\n",
    "                    '//meta[@itemprop=\"contentRating\"]/@content').extract()[0]\n",
    "            except:\n",
    "                rating = ''\n",
    "\n",
    "            try:\n",
    "                director = response.xpath(\n",
    "                    '//span[@itemprop=\"director\"]/a/span[@itemprop=\"name\"]/text()').extract()[0]\n",
    "            except:\n",
    "                director = ''\n",
    "\n",
    "            try:\n",
    "                studio = response.xpath(\n",
    "                    '//span[@itemprop=\"creator\"][@itemtype=\"http://schema.org/Organization\"]/a/span[@itemprop=\"name\"]/text()').extract()[0]\n",
    "            except:\n",
    "                studio = ''\n",
    "\n",
    "            moneys = response.xpath(\n",
    "                '//h3[@class=\"subheading\"]')[0].xpath('following-sibling::div/text()').re(r'\\$[0-9,]+')\n",
    "            money_labels = response.xpath(\n",
    "                '//h3[@class=\"subheading\"]')[0].xpath('following-sibling::div/h4/text()').extract()\n",
    "            moneys = [i.replace(',', '').replace('$', '') for i in moneys]\n",
    "\n",
    "            budget = ''\n",
    "            opening = ''\n",
    "            gross = ''\n",
    "            worldwide_gross = ''\n",
    "            try:\n",
    "                for m, l in zip(moneys, money_labels[:len(moneys)]):\n",
    "                    if 'budget' in l.lower():\n",
    "                        budget = m\n",
    "                    elif 'opening' in l.lower():\n",
    "                        opening = m\n",
    "                    elif 'worldwide' in l.lower():\n",
    "                        worldwide_gross = m\n",
    "                    elif 'gross' in l.lower():\n",
    "                        gross = m\n",
    "                    else:\n",
    "                        continue\n",
    "            except:\n",
    "                pass\n",
    "\n",
    "            try:\n",
    "                metacritic_score = response.xpath(\n",
    "                    '//div[@class=\"titleReviewBarItem\"]/a/div/span/text()').extract()[0]\n",
    "            except:\n",
    "                metacritic_score = ''\n",
    "\n",
    "            yield {\n",
    "                'title_id': title_id,\n",
    "                'title': title,\n",
    "                'release': release,\n",
    "                'director': director,\n",
    "                'studio': studio,\n",
    "                'budget': budget,\n",
    "                'opening': opening,\n",
    "                'gross': gross,\n",
    "                'worldwide_gross': worldwide_gross,\n",
    "                'metacritic_score': metacritic_score,\n",
    "                'mpaa_rating': rating\n",
    "            }"
   ]
  },
  {
   "cell_type": "code",
   "execution_count": null,
   "metadata": {},
   "outputs": [],
   "source": []
  }
 ],
 "metadata": {
  "kernelspec": {
   "display_name": "Python 3",
   "language": "python",
   "name": "python3"
  },
  "language_info": {
   "codemirror_mode": {
    "name": "ipython",
    "version": 3
   },
   "file_extension": ".py",
   "mimetype": "text/x-python",
   "name": "python",
   "nbconvert_exporter": "python",
   "pygments_lexer": "ipython3",
   "version": "3.8.3"
  }
 },
 "nbformat": 4,
 "nbformat_minor": 4
}
