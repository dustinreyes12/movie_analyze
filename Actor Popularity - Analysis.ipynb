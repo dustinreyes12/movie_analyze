{
 "cells": [
  {
   "cell_type": "markdown",
   "metadata": {},
   "source": [
    "## Give Me The Next AAA Title\n",
    "# Most Popular Actors (2011 - present)\n",
    "****\n",
    "\n",
    "<br>\n",
    "by Dustin Reyes\n",
    "<br>\n",
    "<br>\n",
    "Prepared for:\n",
    "<br>\n",
    "Mynt (Globe Fintech Innovations, Inc.)\n",
    "<br>\n",
    "<br>"
   ]
  },
  {
   "cell_type": "code",
   "execution_count": 1,
   "metadata": {
    "ExecuteTime": {
     "end_time": "2021-04-26T16:30:42.484849Z",
     "start_time": "2021-04-26T16:30:40.754684Z"
    }
   },
   "outputs": [],
   "source": [
    "import imdb\n",
    "import pickle\n",
    "import numpy as np\n",
    "import pandas as pd\n",
    "import warnings\n",
    "import datetime as dt\n",
    "from tqdm import tqdm\n",
    "from ast import literal_eval\n",
    "import matplotlib.pyplot as plt\n",
    "import seaborn as sns\n",
    "from ipywidgets import interact\n",
    "from random import randint\n",
    "from time import sleep\n",
    "from pytrends.request import TrendReq\n",
    "warnings.filterwarnings('ignore')\n",
    "tqdm.pandas()\n",
    "%matplotlib inline"
   ]
  },
  {
   "cell_type": "code",
   "execution_count": 2,
   "metadata": {
    "ExecuteTime": {
     "end_time": "2021-04-26T16:30:42.577847Z",
     "start_time": "2021-04-26T16:30:42.486847Z"
    }
   },
   "outputs": [],
   "source": [
    "df = pd.read_csv('data/df_processed_total1.csv')"
   ]
  },
  {
   "cell_type": "code",
   "execution_count": 3,
   "metadata": {
    "ExecuteTime": {
     "end_time": "2021-04-26T16:30:42.593352Z",
     "start_time": "2021-04-26T16:30:42.579848Z"
    }
   },
   "outputs": [],
   "source": [
    "# df_names = pd.read_csv('data/name.basics.tsv.gz', compression='gzip', header=0, sep='\\t', quotechar='\"')"
   ]
  },
  {
   "cell_type": "code",
   "execution_count": 4,
   "metadata": {
    "ExecuteTime": {
     "end_time": "2021-04-26T16:30:42.624347Z",
     "start_time": "2021-04-26T16:30:42.595348Z"
    }
   },
   "outputs": [
    {
     "data": {
      "text/html": [
       "<div>\n",
       "<style scoped>\n",
       "    .dataframe tbody tr th:only-of-type {\n",
       "        vertical-align: middle;\n",
       "    }\n",
       "\n",
       "    .dataframe tbody tr th {\n",
       "        vertical-align: top;\n",
       "    }\n",
       "\n",
       "    .dataframe thead th {\n",
       "        text-align: right;\n",
       "    }\n",
       "</style>\n",
       "<table border=\"1\" class=\"dataframe\">\n",
       "  <thead>\n",
       "    <tr style=\"text-align: right;\">\n",
       "      <th></th>\n",
       "      <th>tconst</th>\n",
       "      <th>nconst</th>\n",
       "      <th>primaryName</th>\n",
       "      <th>birthYear</th>\n",
       "      <th>deathYear</th>\n",
       "      <th>primaryProfession</th>\n",
       "      <th>knownForTitles</th>\n",
       "      <th>title</th>\n",
       "      <th>release</th>\n",
       "      <th>director</th>\n",
       "      <th>...</th>\n",
       "      <th>titleType</th>\n",
       "      <th>primaryTitle</th>\n",
       "      <th>originalTitle</th>\n",
       "      <th>isAdult</th>\n",
       "      <th>startYear</th>\n",
       "      <th>runtimeMinutes</th>\n",
       "      <th>genres</th>\n",
       "      <th>averageRating</th>\n",
       "      <th>numVotes</th>\n",
       "      <th>leadActor</th>\n",
       "    </tr>\n",
       "  </thead>\n",
       "  <tbody>\n",
       "    <tr>\n",
       "      <th>0</th>\n",
       "      <td>tt0369610</td>\n",
       "      <td>nm0415425</td>\n",
       "      <td>Rick Jaffa</td>\n",
       "      <td>1956</td>\n",
       "      <td>\\N</td>\n",
       "      <td>writer</td>\n",
       "      <td>tt1318514,tt0369610,tt4566758,tt2103281</td>\n",
       "      <td>Jurassic World</td>\n",
       "      <td>2015-06-12</td>\n",
       "      <td>Colin Trevorrow</td>\n",
       "      <td>...</td>\n",
       "      <td>movie</td>\n",
       "      <td>Jurassic World</td>\n",
       "      <td>Jurassic World</td>\n",
       "      <td>0</td>\n",
       "      <td>2015</td>\n",
       "      <td>124</td>\n",
       "      <td>Action</td>\n",
       "      <td>7.0</td>\n",
       "      <td>584990</td>\n",
       "      <td>nm0415425</td>\n",
       "    </tr>\n",
       "    <tr>\n",
       "      <th>1</th>\n",
       "      <td>tt0369610</td>\n",
       "      <td>nm0000341</td>\n",
       "      <td>Michael Crichton</td>\n",
       "      <td>1942</td>\n",
       "      <td>2008</td>\n",
       "      <td>writer</td>\n",
       "      <td>tt0117998,tt0107290,tt0070909,tt0108757</td>\n",
       "      <td>Jurassic World</td>\n",
       "      <td>2015-06-12</td>\n",
       "      <td>Colin Trevorrow</td>\n",
       "      <td>...</td>\n",
       "      <td>movie</td>\n",
       "      <td>Jurassic World</td>\n",
       "      <td>Jurassic World</td>\n",
       "      <td>0</td>\n",
       "      <td>2015</td>\n",
       "      <td>124</td>\n",
       "      <td>Action</td>\n",
       "      <td>7.0</td>\n",
       "      <td>584990</td>\n",
       "      <td>nm0415425</td>\n",
       "    </tr>\n",
       "    <tr>\n",
       "      <th>2</th>\n",
       "      <td>tt0369610</td>\n",
       "      <td>nm2081046</td>\n",
       "      <td>Derek Connolly</td>\n",
       "      <td>\\N</td>\n",
       "      <td>\\N</td>\n",
       "      <td>writer</td>\n",
       "      <td>tt1862079,tt5884052,tt0369610,tt3731562</td>\n",
       "      <td>Jurassic World</td>\n",
       "      <td>2015-06-12</td>\n",
       "      <td>Colin Trevorrow</td>\n",
       "      <td>...</td>\n",
       "      <td>movie</td>\n",
       "      <td>Jurassic World</td>\n",
       "      <td>Jurassic World</td>\n",
       "      <td>0</td>\n",
       "      <td>2015</td>\n",
       "      <td>124</td>\n",
       "      <td>Action</td>\n",
       "      <td>7.0</td>\n",
       "      <td>584990</td>\n",
       "      <td>nm0415425</td>\n",
       "    </tr>\n",
       "    <tr>\n",
       "      <th>3</th>\n",
       "      <td>tt0369610</td>\n",
       "      <td>nm0798646</td>\n",
       "      <td>Amanda Silver</td>\n",
       "      <td>1963</td>\n",
       "      <td>\\N</td>\n",
       "      <td>writer</td>\n",
       "      <td>tt0369610,tt1318514,tt4566758,tt2103281</td>\n",
       "      <td>Jurassic World</td>\n",
       "      <td>2015-06-12</td>\n",
       "      <td>Colin Trevorrow</td>\n",
       "      <td>...</td>\n",
       "      <td>movie</td>\n",
       "      <td>Jurassic World</td>\n",
       "      <td>Jurassic World</td>\n",
       "      <td>0</td>\n",
       "      <td>2015</td>\n",
       "      <td>124</td>\n",
       "      <td>Action</td>\n",
       "      <td>7.0</td>\n",
       "      <td>584990</td>\n",
       "      <td>nm0415425</td>\n",
       "    </tr>\n",
       "    <tr>\n",
       "      <th>4</th>\n",
       "      <td>tt0369610</td>\n",
       "      <td>nm0339460</td>\n",
       "      <td>Judy Greer</td>\n",
       "      <td>1975</td>\n",
       "      <td>\\N</td>\n",
       "      <td>actress</td>\n",
       "      <td>tt0369610,tt0988595,tt0337563,tt0478970</td>\n",
       "      <td>Jurassic World</td>\n",
       "      <td>2015-06-12</td>\n",
       "      <td>Colin Trevorrow</td>\n",
       "      <td>...</td>\n",
       "      <td>movie</td>\n",
       "      <td>Jurassic World</td>\n",
       "      <td>Jurassic World</td>\n",
       "      <td>0</td>\n",
       "      <td>2015</td>\n",
       "      <td>124</td>\n",
       "      <td>Action</td>\n",
       "      <td>7.0</td>\n",
       "      <td>584990</td>\n",
       "      <td>nm0415425</td>\n",
       "    </tr>\n",
       "  </tbody>\n",
       "</table>\n",
       "<p>5 rows × 28 columns</p>\n",
       "</div>"
      ],
      "text/plain": [
       "      tconst     nconst       primaryName birthYear deathYear  \\\n",
       "0  tt0369610  nm0415425        Rick Jaffa      1956        \\N   \n",
       "1  tt0369610  nm0000341  Michael Crichton      1942      2008   \n",
       "2  tt0369610  nm2081046    Derek Connolly        \\N        \\N   \n",
       "3  tt0369610  nm0798646     Amanda Silver      1963        \\N   \n",
       "4  tt0369610  nm0339460        Judy Greer      1975        \\N   \n",
       "\n",
       "  primaryProfession                           knownForTitles           title  \\\n",
       "0            writer  tt1318514,tt0369610,tt4566758,tt2103281  Jurassic World   \n",
       "1            writer  tt0117998,tt0107290,tt0070909,tt0108757  Jurassic World   \n",
       "2            writer  tt1862079,tt5884052,tt0369610,tt3731562  Jurassic World   \n",
       "3            writer  tt0369610,tt1318514,tt4566758,tt2103281  Jurassic World   \n",
       "4           actress  tt0369610,tt0988595,tt0337563,tt0478970  Jurassic World   \n",
       "\n",
       "      release         director  ...  titleType    primaryTitle  \\\n",
       "0  2015-06-12  Colin Trevorrow  ...      movie  Jurassic World   \n",
       "1  2015-06-12  Colin Trevorrow  ...      movie  Jurassic World   \n",
       "2  2015-06-12  Colin Trevorrow  ...      movie  Jurassic World   \n",
       "3  2015-06-12  Colin Trevorrow  ...      movie  Jurassic World   \n",
       "4  2015-06-12  Colin Trevorrow  ...      movie  Jurassic World   \n",
       "\n",
       "    originalTitle  isAdult  startYear runtimeMinutes  genres  averageRating  \\\n",
       "0  Jurassic World        0       2015            124  Action            7.0   \n",
       "1  Jurassic World        0       2015            124  Action            7.0   \n",
       "2  Jurassic World        0       2015            124  Action            7.0   \n",
       "3  Jurassic World        0       2015            124  Action            7.0   \n",
       "4  Jurassic World        0       2015            124  Action            7.0   \n",
       "\n",
       "  numVotes  leadActor  \n",
       "0   584990  nm0415425  \n",
       "1   584990  nm0415425  \n",
       "2   584990  nm0415425  \n",
       "3   584990  nm0415425  \n",
       "4   584990  nm0415425  \n",
       "\n",
       "[5 rows x 28 columns]"
      ]
     },
     "execution_count": 4,
     "metadata": {},
     "output_type": "execute_result"
    }
   ],
   "source": [
    "df.head()"
   ]
  },
  {
   "cell_type": "code",
   "execution_count": 5,
   "metadata": {
    "ExecuteTime": {
     "end_time": "2021-04-26T16:30:42.639848Z",
     "start_time": "2021-04-26T16:30:42.627348Z"
    }
   },
   "outputs": [
    {
     "data": {
      "text/plain": [
       "Index(['tconst', 'nconst', 'primaryName', 'birthYear', 'deathYear',\n",
       "       'primaryProfession', 'knownForTitles', 'title', 'release', 'director',\n",
       "       'budget', 'opening', 'gross', 'worldwide_gross', 'metacritic_score',\n",
       "       'mpaa_rating', 'budget_mil', 'opening_mil', 'titleType', 'primaryTitle',\n",
       "       'originalTitle', 'isAdult', 'startYear', 'runtimeMinutes', 'genres',\n",
       "       'averageRating', 'numVotes', 'leadActor'],\n",
       "      dtype='object')"
      ]
     },
     "execution_count": 5,
     "metadata": {},
     "output_type": "execute_result"
    }
   ],
   "source": [
    "df.columns"
   ]
  },
  {
   "cell_type": "code",
   "execution_count": 6,
   "metadata": {
    "ExecuteTime": {
     "end_time": "2021-04-26T16:30:42.670846Z",
     "start_time": "2021-04-26T16:30:42.641847Z"
    }
   },
   "outputs": [],
   "source": [
    "df_movies = df[['title', 'release', 'startYear']].drop_duplicates().sort_values('release')\n",
    "df_movies.reset_index(drop=True, inplace = True)"
   ]
  },
  {
   "cell_type": "code",
   "execution_count": 7,
   "metadata": {
    "ExecuteTime": {
     "end_time": "2021-04-26T16:30:42.701882Z",
     "start_time": "2021-04-26T16:30:42.674352Z"
    }
   },
   "outputs": [
    {
     "data": {
      "text/html": [
       "<div>\n",
       "<style scoped>\n",
       "    .dataframe tbody tr th:only-of-type {\n",
       "        vertical-align: middle;\n",
       "    }\n",
       "\n",
       "    .dataframe tbody tr th {\n",
       "        vertical-align: top;\n",
       "    }\n",
       "\n",
       "    .dataframe thead th {\n",
       "        text-align: right;\n",
       "    }\n",
       "</style>\n",
       "<table border=\"1\" class=\"dataframe\">\n",
       "  <thead>\n",
       "    <tr style=\"text-align: right;\">\n",
       "      <th></th>\n",
       "      <th>title</th>\n",
       "      <th>release</th>\n",
       "      <th>startYear</th>\n",
       "    </tr>\n",
       "  </thead>\n",
       "  <tbody>\n",
       "    <tr>\n",
       "      <th>0</th>\n",
       "      <td>Campus Radio</td>\n",
       "      <td>2011-01-01</td>\n",
       "      <td>2011</td>\n",
       "    </tr>\n",
       "    <tr>\n",
       "      <th>1</th>\n",
       "      <td>Season of the Witch</td>\n",
       "      <td>2011-01-07</td>\n",
       "      <td>2011</td>\n",
       "    </tr>\n",
       "    <tr>\n",
       "      <th>2</th>\n",
       "      <td>The Green Hornet</td>\n",
       "      <td>2011-01-14</td>\n",
       "      <td>2011</td>\n",
       "    </tr>\n",
       "    <tr>\n",
       "      <th>3</th>\n",
       "      <td>The Mechanic</td>\n",
       "      <td>2011-01-28</td>\n",
       "      <td>2011</td>\n",
       "    </tr>\n",
       "    <tr>\n",
       "      <th>4</th>\n",
       "      <td>The Rite</td>\n",
       "      <td>2011-01-28</td>\n",
       "      <td>2011</td>\n",
       "    </tr>\n",
       "  </tbody>\n",
       "</table>\n",
       "</div>"
      ],
      "text/plain": [
       "                 title     release  startYear\n",
       "0         Campus Radio  2011-01-01       2011\n",
       "1  Season of the Witch  2011-01-07       2011\n",
       "2     The Green Hornet  2011-01-14       2011\n",
       "3         The Mechanic  2011-01-28       2011\n",
       "4             The Rite  2011-01-28       2011"
      ]
     },
     "execution_count": 7,
     "metadata": {},
     "output_type": "execute_result"
    }
   ],
   "source": [
    "df_movies.head()"
   ]
  },
  {
   "cell_type": "code",
   "execution_count": 8,
   "metadata": {
    "ExecuteTime": {
     "end_time": "2021-04-26T16:30:42.717346Z",
     "start_time": "2021-04-26T16:30:42.704348Z"
    }
   },
   "outputs": [],
   "source": [
    "def get_top_three_actors(title):\n",
    "    ia = imdb.IMDb()\n",
    "    actors = []\n",
    "    try:\n",
    "        search_results = ia.search_movie(title)\n",
    "        if search_results:\n",
    "            movieID = search_results[0].movieID\n",
    "            movie = ia.get_movie(movieID)\n",
    "            if movie:\n",
    "                cast = movie.get('cast')\n",
    "                topActors = 3\n",
    "                for actor in cast[:topActors]:\n",
    "                    actors.append(actor['name'])\n",
    "        return actors\n",
    "    except:\n",
    "        actors.append('')\n",
    "        return actors"
   ]
  },
  {
   "cell_type": "markdown",
   "metadata": {},
   "source": [
    "## Top Three Actors of a Movie\n",
    "Getting the top three actors of each movie that we have"
   ]
  },
  {
   "cell_type": "code",
   "execution_count": 9,
   "metadata": {
    "ExecuteTime": {
     "end_time": "2021-04-26T16:30:42.732882Z",
     "start_time": "2021-04-26T16:30:42.718848Z"
    },
    "scrolled": true
   },
   "outputs": [],
   "source": [
    "# Takes a long time!\n",
    "# Uncomment to run\n",
    "# df_movies['top3_actors'] = df_movies['title'].progress_apply(get_top_three_actors)"
   ]
  },
  {
   "cell_type": "code",
   "execution_count": 10,
   "metadata": {
    "ExecuteTime": {
     "end_time": "2021-04-26T16:30:42.763848Z",
     "start_time": "2021-04-26T16:30:42.734348Z"
    }
   },
   "outputs": [],
   "source": [
    "# We save it into a dataframe for faster access\n",
    "# df_movies.to_csv('data/lead_actors.csv', index = False)"
   ]
  },
  {
   "cell_type": "code",
   "execution_count": 11,
   "metadata": {
    "ExecuteTime": {
     "end_time": "2021-04-26T16:30:42.779345Z",
     "start_time": "2021-04-26T16:30:42.765380Z"
    }
   },
   "outputs": [],
   "source": [
    "df_movies2 = pd.read_csv('data/lead_actors.csv')"
   ]
  },
  {
   "cell_type": "code",
   "execution_count": 12,
   "metadata": {
    "ExecuteTime": {
     "end_time": "2021-04-26T16:30:42.794846Z",
     "start_time": "2021-04-26T16:30:42.780845Z"
    }
   },
   "outputs": [],
   "source": [
    "df_movies2.drop(['release','startYear'], axis =1, inplace = True)"
   ]
  },
  {
   "cell_type": "code",
   "execution_count": 13,
   "metadata": {
    "ExecuteTime": {
     "end_time": "2021-04-26T16:30:42.825903Z",
     "start_time": "2021-04-26T16:30:42.795899Z"
    }
   },
   "outputs": [],
   "source": [
    "df_movies3 = pd.read_csv('data/titles_complete_info.csv')\n",
    "# df_movies3.head()"
   ]
  },
  {
   "cell_type": "code",
   "execution_count": 14,
   "metadata": {
    "ExecuteTime": {
     "end_time": "2021-04-26T16:30:42.841396Z",
     "start_time": "2021-04-26T16:30:42.827400Z"
    }
   },
   "outputs": [],
   "source": [
    "df_movies3 = df_movies3.merge(df_movies2, on='title').sort_values(\n",
    "    by='release').reset_index(drop=True)"
   ]
  },
  {
   "cell_type": "code",
   "execution_count": 15,
   "metadata": {
    "ExecuteTime": {
     "end_time": "2021-04-26T16:30:42.856898Z",
     "start_time": "2021-04-26T16:30:42.842902Z"
    }
   },
   "outputs": [],
   "source": [
    "df_movies3.dropna(inplace = True)"
   ]
  },
  {
   "cell_type": "code",
   "execution_count": 16,
   "metadata": {
    "ExecuteTime": {
     "end_time": "2021-04-26T16:30:42.887901Z",
     "start_time": "2021-04-26T16:30:42.858400Z"
    }
   },
   "outputs": [
    {
     "data": {
      "text/html": [
       "<div>\n",
       "<style scoped>\n",
       "    .dataframe tbody tr th:only-of-type {\n",
       "        vertical-align: middle;\n",
       "    }\n",
       "\n",
       "    .dataframe tbody tr th {\n",
       "        vertical-align: top;\n",
       "    }\n",
       "\n",
       "    .dataframe thead th {\n",
       "        text-align: right;\n",
       "    }\n",
       "</style>\n",
       "<table border=\"1\" class=\"dataframe\">\n",
       "  <thead>\n",
       "    <tr style=\"text-align: right;\">\n",
       "      <th></th>\n",
       "      <th>title</th>\n",
       "      <th>release</th>\n",
       "      <th>director</th>\n",
       "      <th>budget</th>\n",
       "      <th>opening</th>\n",
       "      <th>gross</th>\n",
       "      <th>worldwide_gross</th>\n",
       "      <th>metacritic_score</th>\n",
       "      <th>mpaa_rating</th>\n",
       "      <th>budget_mil</th>\n",
       "      <th>...</th>\n",
       "      <th>primaryTitle</th>\n",
       "      <th>originalTitle</th>\n",
       "      <th>isAdult</th>\n",
       "      <th>startYear</th>\n",
       "      <th>runtimeMinutes</th>\n",
       "      <th>genres</th>\n",
       "      <th>averageRating</th>\n",
       "      <th>numVotes</th>\n",
       "      <th>leadActor</th>\n",
       "      <th>top3_actors</th>\n",
       "    </tr>\n",
       "  </thead>\n",
       "  <tbody>\n",
       "    <tr>\n",
       "      <th>1</th>\n",
       "      <td>Season of the Witch</td>\n",
       "      <td>2011-01-07</td>\n",
       "      <td>Dominic Sena</td>\n",
       "      <td>40000000</td>\n",
       "      <td>10612375</td>\n",
       "      <td>24827228</td>\n",
       "      <td>91627228.0</td>\n",
       "      <td>28.0</td>\n",
       "      <td>PG-13</td>\n",
       "      <td>40.0</td>\n",
       "      <td>...</td>\n",
       "      <td>Season of the Witch</td>\n",
       "      <td>Season of the Witch</td>\n",
       "      <td>0</td>\n",
       "      <td>2011</td>\n",
       "      <td>95</td>\n",
       "      <td>Action</td>\n",
       "      <td>5.4</td>\n",
       "      <td>90902</td>\n",
       "      <td>nm0651414</td>\n",
       "      <td>['Robert De Niro', 'Harvey Keitel', 'David Pro...</td>\n",
       "    </tr>\n",
       "    <tr>\n",
       "      <th>2</th>\n",
       "      <td>The Green Hornet</td>\n",
       "      <td>2011-01-14</td>\n",
       "      <td>Michel Gondry</td>\n",
       "      <td>120000000</td>\n",
       "      <td>33526876</td>\n",
       "      <td>98780042</td>\n",
       "      <td>227817248.0</td>\n",
       "      <td>39.0</td>\n",
       "      <td>PG-13</td>\n",
       "      <td>120.0</td>\n",
       "      <td>...</td>\n",
       "      <td>The Green Hornet</td>\n",
       "      <td>The Green Hornet</td>\n",
       "      <td>0</td>\n",
       "      <td>2011</td>\n",
       "      <td>119</td>\n",
       "      <td>Action</td>\n",
       "      <td>5.8</td>\n",
       "      <td>155886</td>\n",
       "      <td>nm0006133</td>\n",
       "      <td>['Seth Rogen', 'Jay Chou', 'Cameron Diaz']</td>\n",
       "    </tr>\n",
       "    <tr>\n",
       "      <th>3</th>\n",
       "      <td>The Mechanic</td>\n",
       "      <td>2011-01-28</td>\n",
       "      <td>Simon West</td>\n",
       "      <td>40000000</td>\n",
       "      <td>11422006</td>\n",
       "      <td>29121498</td>\n",
       "      <td>76130093.0</td>\n",
       "      <td>49.0</td>\n",
       "      <td>R</td>\n",
       "      <td>40.0</td>\n",
       "      <td>...</td>\n",
       "      <td>The Mechanic</td>\n",
       "      <td>The Mechanic</td>\n",
       "      <td>0</td>\n",
       "      <td>2011</td>\n",
       "      <td>93</td>\n",
       "      <td>Action</td>\n",
       "      <td>6.6</td>\n",
       "      <td>152076</td>\n",
       "      <td>nm0153587</td>\n",
       "      <td>['Jason Statham', 'Ben Foster', 'Tony Goldwyn']</td>\n",
       "    </tr>\n",
       "  </tbody>\n",
       "</table>\n",
       "<p>3 rows × 23 columns</p>\n",
       "</div>"
      ],
      "text/plain": [
       "                 title     release       director     budget   opening  \\\n",
       "1  Season of the Witch  2011-01-07   Dominic Sena   40000000  10612375   \n",
       "2     The Green Hornet  2011-01-14  Michel Gondry  120000000  33526876   \n",
       "3         The Mechanic  2011-01-28     Simon West   40000000  11422006   \n",
       "\n",
       "      gross  worldwide_gross  metacritic_score mpaa_rating  budget_mil  ...  \\\n",
       "1  24827228       91627228.0              28.0       PG-13        40.0  ...   \n",
       "2  98780042      227817248.0              39.0       PG-13       120.0  ...   \n",
       "3  29121498       76130093.0              49.0           R        40.0  ...   \n",
       "\n",
       "          primaryTitle        originalTitle isAdult startYear runtimeMinutes  \\\n",
       "1  Season of the Witch  Season of the Witch       0      2011             95   \n",
       "2     The Green Hornet     The Green Hornet       0      2011            119   \n",
       "3         The Mechanic         The Mechanic       0      2011             93   \n",
       "\n",
       "   genres  averageRating  numVotes  leadActor  \\\n",
       "1  Action            5.4     90902  nm0651414   \n",
       "2  Action            5.8    155886  nm0006133   \n",
       "3  Action            6.6    152076  nm0153587   \n",
       "\n",
       "                                         top3_actors  \n",
       "1  ['Robert De Niro', 'Harvey Keitel', 'David Pro...  \n",
       "2         ['Seth Rogen', 'Jay Chou', 'Cameron Diaz']  \n",
       "3    ['Jason Statham', 'Ben Foster', 'Tony Goldwyn']  \n",
       "\n",
       "[3 rows x 23 columns]"
      ]
     },
     "execution_count": 16,
     "metadata": {},
     "output_type": "execute_result"
    }
   ],
   "source": [
    "df_movies3.head(3)"
   ]
  },
  {
   "cell_type": "code",
   "execution_count": 17,
   "metadata": {
    "ExecuteTime": {
     "end_time": "2021-04-26T16:30:42.918902Z",
     "start_time": "2021-04-26T16:30:42.889900Z"
    }
   },
   "outputs": [
    {
     "data": {
      "text/plain": [
       "Index(['title', 'release', 'director', 'budget', 'opening', 'gross',\n",
       "       'worldwide_gross', 'metacritic_score', 'mpaa_rating', 'budget_mil',\n",
       "       'opening_mil', 'tconst', 'titleType', 'primaryTitle', 'originalTitle',\n",
       "       'isAdult', 'startYear', 'runtimeMinutes', 'genres', 'averageRating',\n",
       "       'numVotes', 'leadActor', 'top3_actors'],\n",
       "      dtype='object')"
      ]
     },
     "execution_count": 17,
     "metadata": {},
     "output_type": "execute_result"
    }
   ],
   "source": [
    "df_movies3.columns"
   ]
  },
  {
   "cell_type": "code",
   "execution_count": 18,
   "metadata": {
    "ExecuteTime": {
     "end_time": "2021-04-26T16:30:42.949897Z",
     "start_time": "2021-04-26T16:30:42.920413Z"
    }
   },
   "outputs": [],
   "source": [
    "df_movies3['top3_actors'] = df_movies3['top3_actors'].apply(lambda x: literal_eval(x))"
   ]
  },
  {
   "cell_type": "code",
   "execution_count": 19,
   "metadata": {
    "ExecuteTime": {
     "end_time": "2021-04-26T16:30:43.213434Z",
     "start_time": "2021-04-26T16:30:42.952898Z"
    }
   },
   "outputs": [
    {
     "data": {
      "text/html": [
       "<div>\n",
       "<style scoped>\n",
       "    .dataframe tbody tr th:only-of-type {\n",
       "        vertical-align: middle;\n",
       "    }\n",
       "\n",
       "    .dataframe tbody tr th {\n",
       "        vertical-align: top;\n",
       "    }\n",
       "\n",
       "    .dataframe thead th {\n",
       "        text-align: right;\n",
       "    }\n",
       "</style>\n",
       "<table border=\"1\" class=\"dataframe\">\n",
       "  <thead>\n",
       "    <tr style=\"text-align: right;\">\n",
       "      <th></th>\n",
       "      <th>title</th>\n",
       "      <th>actors</th>\n",
       "      <th>gross</th>\n",
       "      <th>release</th>\n",
       "      <th>startYear</th>\n",
       "    </tr>\n",
       "  </thead>\n",
       "  <tbody>\n",
       "    <tr>\n",
       "      <th>0</th>\n",
       "      <td>Season of the Witch</td>\n",
       "      <td>Robert De Niro</td>\n",
       "      <td>24827228</td>\n",
       "      <td>2011-01-07</td>\n",
       "      <td>2011</td>\n",
       "    </tr>\n",
       "    <tr>\n",
       "      <th>1</th>\n",
       "      <td>Season of the Witch</td>\n",
       "      <td>Harvey Keitel</td>\n",
       "      <td>24827228</td>\n",
       "      <td>2011-01-07</td>\n",
       "      <td>2011</td>\n",
       "    </tr>\n",
       "    <tr>\n",
       "      <th>2</th>\n",
       "      <td>Season of the Witch</td>\n",
       "      <td>David Proval</td>\n",
       "      <td>24827228</td>\n",
       "      <td>2011-01-07</td>\n",
       "      <td>2011</td>\n",
       "    </tr>\n",
       "    <tr>\n",
       "      <th>3</th>\n",
       "      <td>The Green Hornet</td>\n",
       "      <td>Seth Rogen</td>\n",
       "      <td>98780042</td>\n",
       "      <td>2011-01-14</td>\n",
       "      <td>2011</td>\n",
       "    </tr>\n",
       "    <tr>\n",
       "      <th>4</th>\n",
       "      <td>The Green Hornet</td>\n",
       "      <td>Jay Chou</td>\n",
       "      <td>98780042</td>\n",
       "      <td>2011-01-14</td>\n",
       "      <td>2011</td>\n",
       "    </tr>\n",
       "  </tbody>\n",
       "</table>\n",
       "</div>"
      ],
      "text/plain": [
       "                 title          actors     gross     release  startYear\n",
       "0  Season of the Witch  Robert De Niro  24827228  2011-01-07       2011\n",
       "1  Season of the Witch   Harvey Keitel  24827228  2011-01-07       2011\n",
       "2  Season of the Witch    David Proval  24827228  2011-01-07       2011\n",
       "3     The Green Hornet      Seth Rogen  98780042  2011-01-14       2011\n",
       "4     The Green Hornet        Jay Chou  98780042  2011-01-14       2011"
      ]
     },
     "execution_count": 19,
     "metadata": {},
     "output_type": "execute_result"
    }
   ],
   "source": [
    "col_names = ['title', 'top3_actors', 'gross', 'release', 'startYear']\n",
    "expanded_data = []\n",
    "for idx, row in df_movies3[col_names].iterrows():\n",
    "    for name in row['top3_actors']:\n",
    "        expanded_data.append(\n",
    "            [row['title'], name.strip(), row['gross'], row['release'], row['startYear']])\n",
    "df_movie_expanded = pd.DataFrame(expanded_data, columns=[\n",
    "                             'title', 'actors', 'gross', 'release', 'startYear'])\n",
    "df_movie_expanded.head()"
   ]
  },
  {
   "cell_type": "code",
   "execution_count": 20,
   "metadata": {
    "ExecuteTime": {
     "end_time": "2021-04-26T16:30:43.228948Z",
     "start_time": "2021-04-26T16:30:43.214400Z"
    }
   },
   "outputs": [],
   "source": [
    "# df_movie_expanded[df_movie_expanded['title'].str.lower().str.contains('avengers')]"
   ]
  },
  {
   "cell_type": "code",
   "execution_count": 21,
   "metadata": {
    "ExecuteTime": {
     "end_time": "2021-04-26T16:30:43.259883Z",
     "start_time": "2021-04-26T16:30:43.229902Z"
    }
   },
   "outputs": [],
   "source": [
    "df_movie_actorgross = df_movie_expanded.groupby(['startYear', 'actors'])[\n",
    "    'gross'].sum().reset_index()\n",
    "df_movie_actorgross = df_movie_actorgross[df_movie_actorgross['actors'] != '']\n",
    "df_movie_actorgross = df_movie_actorgross[df_movie_actorgross['actors'] != 'Cole Konis']"
   ]
  },
  {
   "cell_type": "code",
   "execution_count": 22,
   "metadata": {
    "ExecuteTime": {
     "end_time": "2021-04-26T16:30:43.290658Z",
     "start_time": "2021-04-26T16:30:43.262682Z"
    }
   },
   "outputs": [],
   "source": [
    "df_movie_actorgross = df_movie_actorgross.groupby(['startYear']).apply(lambda x: x.nlargest(10,['gross'])).reset_index(drop=True)"
   ]
  },
  {
   "cell_type": "code",
   "execution_count": 23,
   "metadata": {
    "ExecuteTime": {
     "end_time": "2021-04-26T16:30:43.306150Z",
     "start_time": "2021-04-26T16:30:43.292653Z"
    }
   },
   "outputs": [
    {
     "data": {
      "text/html": [
       "<div>\n",
       "<style scoped>\n",
       "    .dataframe tbody tr th:only-of-type {\n",
       "        vertical-align: middle;\n",
       "    }\n",
       "\n",
       "    .dataframe tbody tr th {\n",
       "        vertical-align: top;\n",
       "    }\n",
       "\n",
       "    .dataframe thead th {\n",
       "        text-align: right;\n",
       "    }\n",
       "</style>\n",
       "<table border=\"1\" class=\"dataframe\">\n",
       "  <thead>\n",
       "    <tr style=\"text-align: right;\">\n",
       "      <th></th>\n",
       "      <th>startYear</th>\n",
       "      <th>actors</th>\n",
       "      <th>gross</th>\n",
       "    </tr>\n",
       "  </thead>\n",
       "  <tbody>\n",
       "    <tr>\n",
       "      <th>0</th>\n",
       "      <td>2011</td>\n",
       "      <td>Alan Rickman</td>\n",
       "      <td>381409310</td>\n",
       "    </tr>\n",
       "    <tr>\n",
       "      <th>1</th>\n",
       "      <td>2011</td>\n",
       "      <td>Michael Gambon</td>\n",
       "      <td>381409310</td>\n",
       "    </tr>\n",
       "    <tr>\n",
       "      <th>2</th>\n",
       "      <td>2011</td>\n",
       "      <td>Ralph Fiennes</td>\n",
       "      <td>381409310</td>\n",
       "    </tr>\n",
       "    <tr>\n",
       "      <th>3</th>\n",
       "      <td>2011</td>\n",
       "      <td>Johnny Depp</td>\n",
       "      <td>364549409</td>\n",
       "    </tr>\n",
       "    <tr>\n",
       "      <th>4</th>\n",
       "      <td>2011</td>\n",
       "      <td>Josh Duhamel</td>\n",
       "      <td>352390543</td>\n",
       "    </tr>\n",
       "  </tbody>\n",
       "</table>\n",
       "</div>"
      ],
      "text/plain": [
       "   startYear          actors      gross\n",
       "0       2011    Alan Rickman  381409310\n",
       "1       2011  Michael Gambon  381409310\n",
       "2       2011   Ralph Fiennes  381409310\n",
       "3       2011     Johnny Depp  364549409\n",
       "4       2011    Josh Duhamel  352390543"
      ]
     },
     "execution_count": 23,
     "metadata": {},
     "output_type": "execute_result"
    }
   ],
   "source": [
    "df_movie_actorgross.head()"
   ]
  },
  {
   "cell_type": "code",
   "execution_count": 24,
   "metadata": {
    "ExecuteTime": {
     "end_time": "2021-04-26T16:30:43.321652Z",
     "start_time": "2021-04-26T16:30:43.307650Z"
    }
   },
   "outputs": [],
   "source": [
    "def filter_data(year=2011):\n",
    "    test_df = df_movie_actorgross[df_movie_actorgross['startYear'] == year]\n",
    "    sns.barplot(x=\"gross\", y=\"actors\", data=test_df)\n",
    "    plt.show()"
   ]
  },
  {
   "cell_type": "code",
   "execution_count": 25,
   "metadata": {
    "ExecuteTime": {
     "end_time": "2021-04-26T16:30:43.352653Z",
     "start_time": "2021-04-26T16:30:43.323155Z"
    }
   },
   "outputs": [],
   "source": [
    "years = []\n",
    "\n",
    "for i in df_movie_actorgross['startYear'].unique():\n",
    "    years.append(i)"
   ]
  },
  {
   "cell_type": "code",
   "execution_count": 26,
   "metadata": {
    "ExecuteTime": {
     "end_time": "2021-04-26T16:30:43.538724Z",
     "start_time": "2021-04-26T16:30:43.354152Z"
    }
   },
   "outputs": [
    {
     "data": {
      "application/vnd.jupyter.widget-view+json": {
       "model_id": "d8bff0960da843afb396b690bd2a61c6",
       "version_major": 2,
       "version_minor": 0
      },
      "text/plain": [
       "interactive(children=(Dropdown(description='year', options=(2011, 2012, 2013, 2014, 2015, 2016, 2017, 2018, 20…"
      ]
     },
     "metadata": {},
     "output_type": "display_data"
    }
   ],
   "source": [
    "interactive = interact(filter_data, year = years)"
   ]
  },
  {
   "cell_type": "markdown",
   "metadata": {},
   "source": [
    "## Getting Google Trends Data"
   ]
  },
  {
   "cell_type": "code",
   "execution_count": 27,
   "metadata": {
    "ExecuteTime": {
     "end_time": "2021-04-26T16:30:43.554278Z",
     "start_time": "2021-04-26T16:30:43.540230Z"
    }
   },
   "outputs": [
    {
     "data": {
      "text/html": [
       "<div>\n",
       "<style scoped>\n",
       "    .dataframe tbody tr th:only-of-type {\n",
       "        vertical-align: middle;\n",
       "    }\n",
       "\n",
       "    .dataframe tbody tr th {\n",
       "        vertical-align: top;\n",
       "    }\n",
       "\n",
       "    .dataframe thead th {\n",
       "        text-align: right;\n",
       "    }\n",
       "</style>\n",
       "<table border=\"1\" class=\"dataframe\">\n",
       "  <thead>\n",
       "    <tr style=\"text-align: right;\">\n",
       "      <th></th>\n",
       "      <th>startYear</th>\n",
       "      <th>actors</th>\n",
       "      <th>gross</th>\n",
       "    </tr>\n",
       "  </thead>\n",
       "  <tbody>\n",
       "    <tr>\n",
       "      <th>0</th>\n",
       "      <td>2011</td>\n",
       "      <td>Alan Rickman</td>\n",
       "      <td>381409310</td>\n",
       "    </tr>\n",
       "    <tr>\n",
       "      <th>1</th>\n",
       "      <td>2011</td>\n",
       "      <td>Michael Gambon</td>\n",
       "      <td>381409310</td>\n",
       "    </tr>\n",
       "    <tr>\n",
       "      <th>2</th>\n",
       "      <td>2011</td>\n",
       "      <td>Ralph Fiennes</td>\n",
       "      <td>381409310</td>\n",
       "    </tr>\n",
       "    <tr>\n",
       "      <th>3</th>\n",
       "      <td>2011</td>\n",
       "      <td>Johnny Depp</td>\n",
       "      <td>364549409</td>\n",
       "    </tr>\n",
       "    <tr>\n",
       "      <th>4</th>\n",
       "      <td>2011</td>\n",
       "      <td>Josh Duhamel</td>\n",
       "      <td>352390543</td>\n",
       "    </tr>\n",
       "  </tbody>\n",
       "</table>\n",
       "</div>"
      ],
      "text/plain": [
       "   startYear          actors      gross\n",
       "0       2011    Alan Rickman  381409310\n",
       "1       2011  Michael Gambon  381409310\n",
       "2       2011   Ralph Fiennes  381409310\n",
       "3       2011     Johnny Depp  364549409\n",
       "4       2011    Josh Duhamel  352390543"
      ]
     },
     "execution_count": 27,
     "metadata": {},
     "output_type": "execute_result"
    }
   ],
   "source": [
    "df_movie_actorgross.head()"
   ]
  },
  {
   "cell_type": "code",
   "execution_count": 28,
   "metadata": {
    "ExecuteTime": {
     "end_time": "2021-04-26T16:30:43.569676Z",
     "start_time": "2021-04-26T16:30:43.555730Z"
    }
   },
   "outputs": [],
   "source": [
    "df_movie_actorgross2 = df_movie_actorgross[df_movie_actorgross['startYear'] != 2021]"
   ]
  },
  {
   "cell_type": "code",
   "execution_count": 29,
   "metadata": {
    "ExecuteTime": {
     "end_time": "2021-04-26T16:30:43.615806Z",
     "start_time": "2021-04-26T16:30:43.571677Z"
    }
   },
   "outputs": [],
   "source": [
    "df_movie_actorgross2['startYear'] = df_movie_actorgross2['startYear'].astype(str)"
   ]
  },
  {
   "cell_type": "code",
   "execution_count": 30,
   "metadata": {
    "ExecuteTime": {
     "end_time": "2021-04-26T16:30:43.646483Z",
     "start_time": "2021-04-26T16:30:43.617308Z"
    }
   },
   "outputs": [],
   "source": [
    "df_movie_actorgross2['Year1'] = df_movie_actorgross2['startYear'] + '-' + '01' + '-' + '01'"
   ]
  },
  {
   "cell_type": "code",
   "execution_count": 31,
   "metadata": {
    "ExecuteTime": {
     "end_time": "2021-04-26T16:30:43.661851Z",
     "start_time": "2021-04-26T16:30:43.648307Z"
    }
   },
   "outputs": [],
   "source": [
    "df_movie_actorgross2['startYear'] = df_movie_actorgross2['startYear'].astype(int)\n",
    "df_movie_actorgross2['nextYear'] = df_movie_actorgross2['startYear'] + 1\n",
    "df_movie_actorgross2['nextYear'] = df_movie_actorgross2['nextYear'].astype(str)\n",
    "df_movie_actorgross2['Year2'] = df_movie_actorgross2['nextYear'] + '-' + '01' + '-' + '01'"
   ]
  },
  {
   "cell_type": "code",
   "execution_count": 32,
   "metadata": {
    "ExecuteTime": {
     "end_time": "2021-04-26T16:30:44.264466Z",
     "start_time": "2021-04-26T16:30:43.663310Z"
    }
   },
   "outputs": [],
   "source": [
    "pytrend = TrendReq(hl='en-US', tz=360)"
   ]
  },
  {
   "cell_type": "code",
   "execution_count": 33,
   "metadata": {
    "ExecuteTime": {
     "end_time": "2021-04-26T16:30:44.295074Z",
     "start_time": "2021-04-26T16:30:44.270179Z"
    }
   },
   "outputs": [],
   "source": [
    "list_tups = [(2011, 2012), (2012, 2013), (2013, 2014), (2014, 2015),\n",
    "             (2015, 2016), (2016, 2017),\n",
    "             (2017, 2018), (2018, 2019), (2019, 2020)]\n",
    "\n",
    "\n",
    "def get_trends(year_lst, df):\n",
    "    dataframes = []\n",
    "    for x in year_lst:\n",
    "        print('Processing from: ', str(x[0]) + ' to ' + str(x[1]))\n",
    "        test_df = df[(df['startYear'] >= x[0]) & (df['startYear'] < x[1])]\n",
    "        actors = test_df['actors'].values.tolist()\n",
    "        dataset = []\n",
    "        for x in range(0, len(actors)):\n",
    "            keywords = [actors[x]]\n",
    "            pytrend.build_payload(\n",
    "                kw_list=keywords,\n",
    "                cat=0,\n",
    "                timeframe=test_df['Year1'].unique(\n",
    "                )[0] + \" \" + test_df['Year2'].unique()[0],\n",
    "                geo='US')\n",
    "            data = pytrend.interest_over_time()\n",
    "            if not data.empty:\n",
    "                data = data.drop(labels=['isPartial'], axis='columns')\n",
    "                dataset.append(data)\n",
    "        result = pd.concat(dataset, axis=1)\n",
    "        result.reset_index(inplace=True)\n",
    "        result['year'] = result['date'].dt.year\n",
    "        name_cols = result.columns.tolist()[1:-1]\n",
    "#         print(name_cols)\n",
    "        test_df['search_interests'] = result[name_cols].sum().values\n",
    "        test_df.drop(['Year1', 'nextYear', 'Year2'], axis=1, inplace=True)\n",
    "\n",
    "        dataframes.append(test_df)\n",
    "\n",
    "    final = pd.concat(dataframes, ignore_index=True)\n",
    "    return final"
   ]
  },
  {
   "cell_type": "code",
   "execution_count": 34,
   "metadata": {
    "ExecuteTime": {
     "end_time": "2021-04-26T16:30:44.310581Z",
     "start_time": "2021-04-26T16:30:44.297075Z"
    }
   },
   "outputs": [],
   "source": [
    "# df_lists = get_trends(list_tups, df_movie_actorgross2)"
   ]
  },
  {
   "cell_type": "code",
   "execution_count": 35,
   "metadata": {
    "ExecuteTime": {
     "end_time": "2021-04-26T16:30:44.326096Z",
     "start_time": "2021-04-26T16:30:44.313066Z"
    }
   },
   "outputs": [],
   "source": [
    "# df_lists.to_csv('data/actor_searches.csv', index = False)"
   ]
  },
  {
   "cell_type": "code",
   "execution_count": 36,
   "metadata": {
    "ExecuteTime": {
     "end_time": "2021-04-26T16:30:44.341575Z",
     "start_time": "2021-04-26T16:30:44.329065Z"
    }
   },
   "outputs": [],
   "source": [
    "df_lists = pd.read_csv('data/actor_searches.csv')"
   ]
  },
  {
   "cell_type": "code",
   "execution_count": 37,
   "metadata": {
    "ExecuteTime": {
     "end_time": "2021-04-26T16:30:44.357075Z",
     "start_time": "2021-04-26T16:30:44.344576Z"
    }
   },
   "outputs": [
    {
     "data": {
      "text/html": [
       "<div>\n",
       "<style scoped>\n",
       "    .dataframe tbody tr th:only-of-type {\n",
       "        vertical-align: middle;\n",
       "    }\n",
       "\n",
       "    .dataframe tbody tr th {\n",
       "        vertical-align: top;\n",
       "    }\n",
       "\n",
       "    .dataframe thead th {\n",
       "        text-align: right;\n",
       "    }\n",
       "</style>\n",
       "<table border=\"1\" class=\"dataframe\">\n",
       "  <thead>\n",
       "    <tr style=\"text-align: right;\">\n",
       "      <th></th>\n",
       "      <th>startYear</th>\n",
       "      <th>actors</th>\n",
       "      <th>gross</th>\n",
       "      <th>search_interests</th>\n",
       "    </tr>\n",
       "  </thead>\n",
       "  <tbody>\n",
       "    <tr>\n",
       "      <th>0</th>\n",
       "      <td>2011</td>\n",
       "      <td>Alan Rickman</td>\n",
       "      <td>381409310</td>\n",
       "      <td>1272</td>\n",
       "    </tr>\n",
       "    <tr>\n",
       "      <th>1</th>\n",
       "      <td>2011</td>\n",
       "      <td>Michael Gambon</td>\n",
       "      <td>381409310</td>\n",
       "      <td>1143</td>\n",
       "    </tr>\n",
       "    <tr>\n",
       "      <th>2</th>\n",
       "      <td>2011</td>\n",
       "      <td>Ralph Fiennes</td>\n",
       "      <td>381409310</td>\n",
       "      <td>1119</td>\n",
       "    </tr>\n",
       "    <tr>\n",
       "      <th>3</th>\n",
       "      <td>2011</td>\n",
       "      <td>Johnny Depp</td>\n",
       "      <td>364549409</td>\n",
       "      <td>2552</td>\n",
       "    </tr>\n",
       "    <tr>\n",
       "      <th>4</th>\n",
       "      <td>2011</td>\n",
       "      <td>Josh Duhamel</td>\n",
       "      <td>352390543</td>\n",
       "      <td>1812</td>\n",
       "    </tr>\n",
       "  </tbody>\n",
       "</table>\n",
       "</div>"
      ],
      "text/plain": [
       "   startYear          actors      gross  search_interests\n",
       "0       2011    Alan Rickman  381409310              1272\n",
       "1       2011  Michael Gambon  381409310              1143\n",
       "2       2011   Ralph Fiennes  381409310              1119\n",
       "3       2011     Johnny Depp  364549409              2552\n",
       "4       2011    Josh Duhamel  352390543              1812"
      ]
     },
     "execution_count": 37,
     "metadata": {},
     "output_type": "execute_result"
    }
   ],
   "source": [
    "df_lists.head()"
   ]
  },
  {
   "cell_type": "code",
   "execution_count": 38,
   "metadata": {
    "ExecuteTime": {
     "end_time": "2021-04-26T16:30:44.388072Z",
     "start_time": "2021-04-26T16:30:44.360574Z"
    }
   },
   "outputs": [
    {
     "data": {
      "text/html": [
       "<div>\n",
       "<style scoped>\n",
       "    .dataframe tbody tr th:only-of-type {\n",
       "        vertical-align: middle;\n",
       "    }\n",
       "\n",
       "    .dataframe tbody tr th {\n",
       "        vertical-align: top;\n",
       "    }\n",
       "\n",
       "    .dataframe thead th {\n",
       "        text-align: right;\n",
       "    }\n",
       "</style>\n",
       "<table border=\"1\" class=\"dataframe\">\n",
       "  <thead>\n",
       "    <tr style=\"text-align: right;\">\n",
       "      <th></th>\n",
       "      <th>startYear</th>\n",
       "      <th>actors</th>\n",
       "      <th>gross</th>\n",
       "      <th>search_interests</th>\n",
       "    </tr>\n",
       "  </thead>\n",
       "  <tbody>\n",
       "    <tr>\n",
       "      <th>70</th>\n",
       "      <td>2018</td>\n",
       "      <td>Chris Hemsworth</td>\n",
       "      <td>724635195</td>\n",
       "      <td>1736</td>\n",
       "    </tr>\n",
       "    <tr>\n",
       "      <th>74</th>\n",
       "      <td>2018</td>\n",
       "      <td>Mark Ruffalo</td>\n",
       "      <td>678815482</td>\n",
       "      <td>1523</td>\n",
       "    </tr>\n",
       "    <tr>\n",
       "      <th>75</th>\n",
       "      <td>2018</td>\n",
       "      <td>Robert Downey Jr.</td>\n",
       "      <td>678815482</td>\n",
       "      <td>1509</td>\n",
       "    </tr>\n",
       "    <tr>\n",
       "      <th>77</th>\n",
       "      <td>2018</td>\n",
       "      <td>Holly Hunter</td>\n",
       "      <td>608581744</td>\n",
       "      <td>1244</td>\n",
       "    </tr>\n",
       "    <tr>\n",
       "      <th>76</th>\n",
       "      <td>2018</td>\n",
       "      <td>Craig T. Nelson</td>\n",
       "      <td>608581744</td>\n",
       "      <td>1191</td>\n",
       "    </tr>\n",
       "    <tr>\n",
       "      <th>79</th>\n",
       "      <td>2018</td>\n",
       "      <td>Bryce Dallas Howard</td>\n",
       "      <td>417719760</td>\n",
       "      <td>1167</td>\n",
       "    </tr>\n",
       "    <tr>\n",
       "      <th>78</th>\n",
       "      <td>2018</td>\n",
       "      <td>Sarah Vowell</td>\n",
       "      <td>608581744</td>\n",
       "      <td>884</td>\n",
       "    </tr>\n",
       "    <tr>\n",
       "      <th>73</th>\n",
       "      <td>2018</td>\n",
       "      <td>Michael B. Jordan</td>\n",
       "      <td>700426566</td>\n",
       "      <td>669</td>\n",
       "    </tr>\n",
       "    <tr>\n",
       "      <th>72</th>\n",
       "      <td>2018</td>\n",
       "      <td>Lupita Nyong'o</td>\n",
       "      <td>700426566</td>\n",
       "      <td>621</td>\n",
       "    </tr>\n",
       "    <tr>\n",
       "      <th>71</th>\n",
       "      <td>2018</td>\n",
       "      <td>Chadwick Boseman</td>\n",
       "      <td>700426566</td>\n",
       "      <td>619</td>\n",
       "    </tr>\n",
       "  </tbody>\n",
       "</table>\n",
       "</div>"
      ],
      "text/plain": [
       "    startYear               actors      gross  search_interests\n",
       "70       2018      Chris Hemsworth  724635195              1736\n",
       "74       2018         Mark Ruffalo  678815482              1523\n",
       "75       2018    Robert Downey Jr.  678815482              1509\n",
       "77       2018         Holly Hunter  608581744              1244\n",
       "76       2018      Craig T. Nelson  608581744              1191\n",
       "79       2018  Bryce Dallas Howard  417719760              1167\n",
       "78       2018         Sarah Vowell  608581744               884\n",
       "73       2018    Michael B. Jordan  700426566               669\n",
       "72       2018       Lupita Nyong'o  700426566               621\n",
       "71       2018     Chadwick Boseman  700426566               619"
      ]
     },
     "execution_count": 38,
     "metadata": {},
     "output_type": "execute_result"
    }
   ],
   "source": [
    "df_lists[df_lists['startYear'] == 2018].sort_values(\n",
    "    by='search_interests', ascending=False)"
   ]
  },
  {
   "cell_type": "markdown",
   "metadata": {},
   "source": [
    "Therefore, the most popular actor in terms of gross earnings is Chris Hemsworth having 1736 search interest totals"
   ]
  },
  {
   "cell_type": "markdown",
   "metadata": {},
   "source": [
    "### Most Popular Actor of the Film with the Best Opening Performance"
   ]
  },
  {
   "cell_type": "code",
   "execution_count": 39,
   "metadata": {
    "ExecuteTime": {
     "end_time": "2021-04-26T16:30:44.403565Z",
     "start_time": "2021-04-26T16:30:44.389565Z"
    }
   },
   "outputs": [],
   "source": [
    "def get_top_15_actors(title):\n",
    "    ia = imdb.IMDb()\n",
    "    actors = []\n",
    "    try:\n",
    "        search_results = ia.search_movie(title)\n",
    "        if search_results:\n",
    "            movieID = search_results[0].movieID\n",
    "            movie = ia.get_movie(movieID)\n",
    "            if movie:\n",
    "                cast = movie.get('cast')\n",
    "                topActors = 15\n",
    "                for actor in cast[:topActors]:\n",
    "                    actors.append(actor['name'])\n",
    "        return actors\n",
    "    except:\n",
    "        actors.append('')\n",
    "        return actors"
   ]
  },
  {
   "cell_type": "code",
   "execution_count": 40,
   "metadata": {
    "ExecuteTime": {
     "end_time": "2021-04-26T16:30:44.419074Z",
     "start_time": "2021-04-26T16:30:44.405576Z"
    }
   },
   "outputs": [],
   "source": [
    "def get_trends_specific(list_names, year):\n",
    "    df = pd.DataFrame()\n",
    "#     df2 = pd.DataFrame()\n",
    "    df['actors'] = list_names\n",
    "    df['year'] = year\n",
    "    df['year'] = df['year'].astype(str)\n",
    "    df['Year1'] = df['year'] + '-' + '01' + '-' + '01'\n",
    "    df['year'] = df['year'].astype(int)\n",
    "    df['next_year'] = df['year'] + 1\n",
    "    df['next_year'] = df['next_year'].astype(str)\n",
    "    df['Year2'] = df['next_year'] + '-' + '01' + '-' + '01'\n",
    "\n",
    "    dataset = []\n",
    "    for x in range(0, len(list_names)):\n",
    "        keywords = [list_names[x]]\n",
    "        pytrend.build_payload(\n",
    "            kw_list=keywords,\n",
    "            cat=0,\n",
    "            timeframe=df['Year1'].unique()[0] + \" \" + df['Year2'].unique()[0],\n",
    "            geo='US')\n",
    "        data = pytrend.interest_over_time()\n",
    "        if not data.empty:\n",
    "            data = data.drop(labels=['isPartial'], axis='columns')\n",
    "            dataset.append(data)\n",
    "    result = pd.concat(dataset, axis=1)\n",
    "    result.reset_index(inplace=True)\n",
    "    result['year'] = result['date'].dt.year\n",
    "    name_cols = result.columns.tolist()[1:-1]\n",
    "    result.drop('date', axis=1, inplace=True)\n",
    "    df2 = pd.DataFrame(result[name_cols].sum())\n",
    "    df2.columns = ['search_interest']\n",
    "    df2['year'] = year\n",
    "    return df2"
   ]
  },
  {
   "cell_type": "code",
   "execution_count": 41,
   "metadata": {
    "ExecuteTime": {
     "end_time": "2021-04-26T16:30:44.434578Z",
     "start_time": "2021-04-26T16:30:44.420565Z"
    }
   },
   "outputs": [],
   "source": [
    "def movie_analyze(df, year):\n",
    "    test_df = df[df['startYear'] == year].sort_values(by = 'opening', ascending = False).head()\n",
    "    best_opening = test_df['title'].values.tolist()[0]\n",
    "    print(best_opening)\n",
    "    top_actors = get_top_15_actors(best_opening)\n",
    "    df_interest= get_trends_specific(top_actors, year)\n",
    "    df_interest.sort_values(by = 'search_interest', ascending = False, inplace = True)\n",
    "    return year, best_opening, df_interest"
   ]
  },
  {
   "cell_type": "code",
   "execution_count": 42,
   "metadata": {
    "ExecuteTime": {
     "end_time": "2021-04-26T16:30:44.450064Z",
     "start_time": "2021-04-26T16:30:44.437066Z"
    }
   },
   "outputs": [],
   "source": [
    "# year, movie_title, df_analysis = movie_analyze(df_movies3, year = 2019)"
   ]
  },
  {
   "cell_type": "code",
   "execution_count": 43,
   "metadata": {
    "ExecuteTime": {
     "end_time": "2021-04-26T16:30:44.465603Z",
     "start_time": "2021-04-26T16:30:44.453066Z"
    }
   },
   "outputs": [],
   "source": [
    "def top_search_visualizer(year_choice):\n",
    "    year, movie_title, df_analysis = movie_analyze(\n",
    "        df_movies3, year=year_choice)\n",
    "    fig_dims = (15, 10)\n",
    "    fig, ax = plt.subplots(figsize=fig_dims)\n",
    "    sns.barplot(y=df_analysis.index, x=\"search_interest\",\n",
    "                ax=ax, data=df_analysis)\n",
    "    ax.set(xlabel='Search Interests', ylabel='Most Searched Actors',\n",
    "           title=f\"{year}'s Most Searched Actors for the Film with the Best Opening Performance: {movie_title}\")\n",
    "    plt.show()"
   ]
  },
  {
   "cell_type": "code",
   "execution_count": 44,
   "metadata": {
    "ExecuteTime": {
     "end_time": "2021-04-26T16:31:05.872298Z",
     "start_time": "2021-04-26T16:30:44.468067Z"
    }
   },
   "outputs": [
    {
     "data": {
      "application/vnd.jupyter.widget-view+json": {
       "model_id": "3e148f772ffd4349b66ddd26dc976879",
       "version_major": 2,
       "version_minor": 0
      },
      "text/plain": [
       "interactive(children=(Dropdown(description='year_choice', options=(2011, 2012, 2013, 2014, 2015, 2016, 2017, 2…"
      ]
     },
     "metadata": {},
     "output_type": "display_data"
    }
   ],
   "source": [
    "interactive2 = interact(top_search_visualizer, year_choice = years)"
   ]
  },
  {
   "cell_type": "markdown",
   "metadata": {},
   "source": [
    "For 2018, the movie with the best opening performance is the highly anticipated **Avengers: Endgame**. In line with this, I pulled relevant information on the casts of Avengers: Endgame in order as I know that the actors of this movie were also some of the most popular actors in terms of search interests for that year. \n",
    "\n",
    "The previous analysis only analyzes the top 3 performing actors of each movie for a year but it seems that outside of that list, other actors were also famous during that year. This is the main purpose of this analysis wherein I pulled the top 15 actors of the highest opening movie. For 2018's Avengers: Endgame, we can observe that it was **Scarlett Johansson** which had the most search interests. Reasons for this include to what happened on her character in the movie or even hollywood showbusiness. "
   ]
  },
  {
   "cell_type": "code",
   "execution_count": 47,
   "metadata": {
    "ExecuteTime": {
     "end_time": "2021-04-26T16:38:03.608855Z",
     "start_time": "2021-04-26T16:38:03.575987Z"
    }
   },
   "outputs": [],
   "source": [
    "# df_movies3.to_csv('data2/data_imdb_complete.csv', index = False)"
   ]
  },
  {
   "cell_type": "code",
   "execution_count": null,
   "metadata": {},
   "outputs": [],
   "source": []
  },
  {
   "cell_type": "code",
   "execution_count": null,
   "metadata": {},
   "outputs": [],
   "source": []
  },
  {
   "cell_type": "code",
   "execution_count": null,
   "metadata": {},
   "outputs": [],
   "source": []
  },
  {
   "cell_type": "code",
   "execution_count": null,
   "metadata": {},
   "outputs": [],
   "source": []
  },
  {
   "cell_type": "code",
   "execution_count": null,
   "metadata": {},
   "outputs": [],
   "source": []
  }
 ],
 "metadata": {
  "kernelspec": {
   "display_name": "Python 3",
   "language": "python",
   "name": "python3"
  },
  "language_info": {
   "codemirror_mode": {
    "name": "ipython",
    "version": 3
   },
   "file_extension": ".py",
   "mimetype": "text/x-python",
   "name": "python",
   "nbconvert_exporter": "python",
   "pygments_lexer": "ipython3",
   "version": "3.8.3"
  }
 },
 "nbformat": 4,
 "nbformat_minor": 4
}
