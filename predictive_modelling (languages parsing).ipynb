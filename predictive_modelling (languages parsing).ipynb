{
 "cells": [
  {
   "cell_type": "markdown",
   "metadata": {},
   "source": [
    "## Give Me The Next AAA Title\n",
    "# Predictive Modeling\n",
    "### Featuring Engineering of Languages Spoken\n",
    "****\n",
    "\n",
    "<br>\n",
    "by Dustin Reyes\n",
    "<br>\n",
    "<br>\n",
    "Prepared for:\n",
    "<br>\n",
    "Mynt (Globe Fintech Innovations, Inc.)\n",
    "<br>\n",
    "<br>"
   ]
  },
  {
   "cell_type": "code",
   "execution_count": 1,
   "metadata": {
    "ExecuteTime": {
     "end_time": "2021-04-26T08:28:59.908206Z",
     "start_time": "2021-04-26T08:28:58.687036Z"
    }
   },
   "outputs": [],
   "source": [
    "import os\n",
    "import ast\n",
    "import numpy as np\n",
    "import pandas as pd\n",
    "import matplotlib.pyplot as plt\n",
    "%matplotlib inline"
   ]
  },
  {
   "cell_type": "code",
   "execution_count": 2,
   "metadata": {
    "ExecuteTime": {
     "end_time": "2021-04-26T08:29:54.333847Z",
     "start_time": "2021-04-26T08:29:54.249347Z"
    }
   },
   "outputs": [
    {
     "data": {
      "text/html": [
       "<div>\n",
       "<style scoped>\n",
       "    .dataframe tbody tr th:only-of-type {\n",
       "        vertical-align: middle;\n",
       "    }\n",
       "\n",
       "    .dataframe tbody tr th {\n",
       "        vertical-align: top;\n",
       "    }\n",
       "\n",
       "    .dataframe thead th {\n",
       "        text-align: right;\n",
       "    }\n",
       "</style>\n",
       "<table border=\"1\" class=\"dataframe\">\n",
       "  <thead>\n",
       "    <tr style=\"text-align: right;\">\n",
       "      <th></th>\n",
       "      <th>adult</th>\n",
       "      <th>budget</th>\n",
       "      <th>genres</th>\n",
       "      <th>id</th>\n",
       "      <th>original_language</th>\n",
       "      <th>production_countries</th>\n",
       "      <th>revenue</th>\n",
       "      <th>runtime</th>\n",
       "      <th>spoken_languages</th>\n",
       "      <th>movieId</th>\n",
       "      <th>imdbId</th>\n",
       "      <th>tmdbId</th>\n",
       "      <th>views</th>\n",
       "      <th>likes</th>\n",
       "      <th>dislikes</th>\n",
       "      <th>n_trailers</th>\n",
       "    </tr>\n",
       "  </thead>\n",
       "  <tbody>\n",
       "    <tr>\n",
       "      <th>0</th>\n",
       "      <td>False</td>\n",
       "      <td>30000000</td>\n",
       "      <td>[{'id': 16, 'name': 'Animation'}, {'id': 35, '...</td>\n",
       "      <td>862</td>\n",
       "      <td>en</td>\n",
       "      <td>[{'iso_3166_1': 'US', 'name': 'United States o...</td>\n",
       "      <td>373554033.0</td>\n",
       "      <td>81.0</td>\n",
       "      <td>[{'iso_639_1': 'en', 'name': 'English'}]</td>\n",
       "      <td>1</td>\n",
       "      <td>114709</td>\n",
       "      <td>862.0</td>\n",
       "      <td>8050136</td>\n",
       "      <td>6330</td>\n",
       "      <td>1965</td>\n",
       "      <td>3</td>\n",
       "    </tr>\n",
       "    <tr>\n",
       "      <th>1</th>\n",
       "      <td>False</td>\n",
       "      <td>65000000</td>\n",
       "      <td>[{'id': 12, 'name': 'Adventure'}, {'id': 14, '...</td>\n",
       "      <td>8844</td>\n",
       "      <td>en</td>\n",
       "      <td>[{'iso_3166_1': 'US', 'name': 'United States o...</td>\n",
       "      <td>262797249.0</td>\n",
       "      <td>104.0</td>\n",
       "      <td>[{'iso_639_1': 'en', 'name': 'English'}, {'iso...</td>\n",
       "      <td>2</td>\n",
       "      <td>113497</td>\n",
       "      <td>8844.0</td>\n",
       "      <td>83048</td>\n",
       "      <td>70</td>\n",
       "      <td>14</td>\n",
       "      <td>1</td>\n",
       "    </tr>\n",
       "    <tr>\n",
       "      <th>2</th>\n",
       "      <td>False</td>\n",
       "      <td>16000000</td>\n",
       "      <td>[{'id': 35, 'name': 'Comedy'}, {'id': 18, 'nam...</td>\n",
       "      <td>31357</td>\n",
       "      <td>en</td>\n",
       "      <td>[{'iso_3166_1': 'US', 'name': 'United States o...</td>\n",
       "      <td>81452156.0</td>\n",
       "      <td>127.0</td>\n",
       "      <td>[{'iso_639_1': 'en', 'name': 'English'}]</td>\n",
       "      <td>4</td>\n",
       "      <td>114885</td>\n",
       "      <td>31357.0</td>\n",
       "      <td>104948</td>\n",
       "      <td>0</td>\n",
       "      <td>0</td>\n",
       "      <td>1</td>\n",
       "    </tr>\n",
       "    <tr>\n",
       "      <th>3</th>\n",
       "      <td>False</td>\n",
       "      <td>60000000</td>\n",
       "      <td>[{'id': 28, 'name': 'Action'}, {'id': 80, 'nam...</td>\n",
       "      <td>949</td>\n",
       "      <td>en</td>\n",
       "      <td>[{'iso_3166_1': 'US', 'name': 'United States o...</td>\n",
       "      <td>187436818.0</td>\n",
       "      <td>170.0</td>\n",
       "      <td>[{'iso_639_1': 'en', 'name': 'English'}, {'iso...</td>\n",
       "      <td>6</td>\n",
       "      <td>113277</td>\n",
       "      <td>949.0</td>\n",
       "      <td>32419</td>\n",
       "      <td>119</td>\n",
       "      <td>1</td>\n",
       "      <td>1</td>\n",
       "    </tr>\n",
       "    <tr>\n",
       "      <th>4</th>\n",
       "      <td>False</td>\n",
       "      <td>35000000</td>\n",
       "      <td>[{'id': 28, 'name': 'Action'}, {'id': 12, 'nam...</td>\n",
       "      <td>9091</td>\n",
       "      <td>en</td>\n",
       "      <td>[{'iso_3166_1': 'US', 'name': 'United States o...</td>\n",
       "      <td>64350171.0</td>\n",
       "      <td>106.0</td>\n",
       "      <td>[{'iso_639_1': 'en', 'name': 'English'}]</td>\n",
       "      <td>9</td>\n",
       "      <td>114576</td>\n",
       "      <td>9091.0</td>\n",
       "      <td>6162</td>\n",
       "      <td>12</td>\n",
       "      <td>3</td>\n",
       "      <td>2</td>\n",
       "    </tr>\n",
       "  </tbody>\n",
       "</table>\n",
       "</div>"
      ],
      "text/plain": [
       "   adult    budget                                             genres     id  \\\n",
       "0  False  30000000  [{'id': 16, 'name': 'Animation'}, {'id': 35, '...    862   \n",
       "1  False  65000000  [{'id': 12, 'name': 'Adventure'}, {'id': 14, '...   8844   \n",
       "2  False  16000000  [{'id': 35, 'name': 'Comedy'}, {'id': 18, 'nam...  31357   \n",
       "3  False  60000000  [{'id': 28, 'name': 'Action'}, {'id': 80, 'nam...    949   \n",
       "4  False  35000000  [{'id': 28, 'name': 'Action'}, {'id': 12, 'nam...   9091   \n",
       "\n",
       "  original_language                               production_countries  \\\n",
       "0                en  [{'iso_3166_1': 'US', 'name': 'United States o...   \n",
       "1                en  [{'iso_3166_1': 'US', 'name': 'United States o...   \n",
       "2                en  [{'iso_3166_1': 'US', 'name': 'United States o...   \n",
       "3                en  [{'iso_3166_1': 'US', 'name': 'United States o...   \n",
       "4                en  [{'iso_3166_1': 'US', 'name': 'United States o...   \n",
       "\n",
       "       revenue  runtime                                   spoken_languages  \\\n",
       "0  373554033.0     81.0           [{'iso_639_1': 'en', 'name': 'English'}]   \n",
       "1  262797249.0    104.0  [{'iso_639_1': 'en', 'name': 'English'}, {'iso...   \n",
       "2   81452156.0    127.0           [{'iso_639_1': 'en', 'name': 'English'}]   \n",
       "3  187436818.0    170.0  [{'iso_639_1': 'en', 'name': 'English'}, {'iso...   \n",
       "4   64350171.0    106.0           [{'iso_639_1': 'en', 'name': 'English'}]   \n",
       "\n",
       "   movieId  imdbId   tmdbId    views  likes  dislikes  n_trailers  \n",
       "0        1  114709    862.0  8050136   6330      1965           3  \n",
       "1        2  113497   8844.0    83048     70        14           1  \n",
       "2        4  114885  31357.0   104948      0         0           1  \n",
       "3        6  113277    949.0    32419    119         1           1  \n",
       "4        9  114576   9091.0     6162     12         3           2  "
      ]
     },
     "execution_count": 2,
     "metadata": {},
     "output_type": "execute_result"
    }
   ],
   "source": [
    "movie_df = pd.read_csv('data2/combined_metadata.csv')\n",
    "movie_df = movie_df.drop(['Unnamed: 0'], axis=1)\n",
    "movie_df.head()"
   ]
  },
  {
   "cell_type": "code",
   "execution_count": 3,
   "metadata": {
    "ExecuteTime": {
     "end_time": "2021-04-26T08:30:19.248191Z",
     "start_time": "2021-04-26T08:30:18.377150Z"
    }
   },
   "outputs": [],
   "source": [
    "movie_df['genres'] = movie_df.apply(\n",
    "    lambda row: ast.literal_eval(row.genres), axis=1)\n",
    "movie_df['production_countries'] = movie_df.apply(\n",
    "    lambda row: ast.literal_eval(row.production_countries), axis=1)\n",
    "movie_df['spoken_languages'] = movie_df.apply(\n",
    "    lambda row: ast.literal_eval(row.spoken_languages), axis=1)"
   ]
  },
  {
   "cell_type": "code",
   "execution_count": 8,
   "metadata": {
    "ExecuteTime": {
     "end_time": "2021-04-26T08:31:08.405847Z",
     "start_time": "2021-04-26T08:31:08.400725Z"
    }
   },
   "outputs": [],
   "source": [
    "def english(row):\n",
    "    if row.spoken_languages:\n",
    "        for lang in row.spoken_languages:\n",
    "            if lang['name'] == 'English':\n",
    "                return 1\n",
    "    return 0\n",
    "\n",
    "\n",
    "def numlang(row):\n",
    "    if row.spoken_languages:\n",
    "        return len(row.spoken_languages)\n",
    "\n",
    "\n",
    "def listlangs(row):\n",
    "    if row.spoken_languages:\n",
    "        for lang in row.spoken_languages:\n",
    "            if lang['name'] != 'English':\n",
    "                print (lang['name'])"
   ]
  },
  {
   "cell_type": "code",
   "execution_count": 9,
   "metadata": {
    "ExecuteTime": {
     "end_time": "2021-04-26T08:31:32.368561Z",
     "start_time": "2021-04-26T08:31:32.154562Z"
    }
   },
   "outputs": [],
   "source": [
    "movie_df['numlang'] = movie_df.apply(numlang, axis=1)"
   ]
  },
  {
   "cell_type": "code",
   "execution_count": 12,
   "metadata": {
    "ExecuteTime": {
     "end_time": "2021-04-26T08:32:48.310803Z",
     "start_time": "2021-04-26T08:32:48.288802Z"
    }
   },
   "outputs": [],
   "source": [
    "one_hot = pd.get_dummies(movie_df['original_language'])"
   ]
  },
  {
   "cell_type": "code",
   "execution_count": 15,
   "metadata": {
    "ExecuteTime": {
     "end_time": "2021-04-26T08:33:02.632043Z",
     "start_time": "2021-04-26T08:33:02.560350Z"
    }
   },
   "outputs": [],
   "source": [
    "# remove obscure languages to avoid memorization\n",
    "for col in one_hot:\n",
    "    if sum(one_hot[col]) < 10:\n",
    "        one_hot = one_hot.drop([col], 1)"
   ]
  },
  {
   "cell_type": "code",
   "execution_count": 16,
   "metadata": {
    "ExecuteTime": {
     "end_time": "2021-04-26T08:33:16.072450Z",
     "start_time": "2021-04-26T08:33:16.062451Z"
    }
   },
   "outputs": [],
   "source": [
    "movie_df = movie_df.join(one_hot)"
   ]
  },
  {
   "cell_type": "code",
   "execution_count": 17,
   "metadata": {
    "ExecuteTime": {
     "end_time": "2021-04-26T08:33:35.121281Z",
     "start_time": "2021-04-26T08:33:35.108772Z"
    }
   },
   "outputs": [],
   "source": [
    "movie_df = movie_df.drop(['original_language'], 1)\n",
    "movie_df = movie_df.drop(['spoken_languages'], 1)"
   ]
  },
  {
   "cell_type": "code",
   "execution_count": 20,
   "metadata": {
    "ExecuteTime": {
     "end_time": "2021-04-26T08:39:34.804087Z",
     "start_time": "2021-04-26T08:39:34.788085Z"
    }
   },
   "outputs": [
    {
     "data": {
      "text/plain": [
       "Index(['adult', 'budget', 'genres', 'id', 'production_countries', 'revenue',\n",
       "       'runtime', 'movieId', 'imdbId', 'tmdbId', 'views', 'likes', 'dislikes',\n",
       "       'n_trailers', 'numlang', 'cn', 'da', 'de', 'en', 'es', 'fr', 'hi', 'it',\n",
       "       'ja', 'ko', 'ml', 'ru', 'ta', 'zh'],\n",
       "      dtype='object')"
      ]
     },
     "execution_count": 20,
     "metadata": {},
     "output_type": "execute_result"
    }
   ],
   "source": [
    "movie_df.columns"
   ]
  },
  {
   "cell_type": "code",
   "execution_count": 21,
   "metadata": {
    "ExecuteTime": {
     "end_time": "2021-04-26T08:58:44.596061Z",
     "start_time": "2021-04-26T08:58:44.473050Z"
    }
   },
   "outputs": [],
   "source": [
    "movie_df.to_csv('data2/languages_parsed.csv', index = False)"
   ]
  },
  {
   "cell_type": "code",
   "execution_count": null,
   "metadata": {},
   "outputs": [],
   "source": []
  }
 ],
 "metadata": {
  "kernelspec": {
   "display_name": "Python 3",
   "language": "python",
   "name": "python3"
  },
  "language_info": {
   "codemirror_mode": {
    "name": "ipython",
    "version": 3
   },
   "file_extension": ".py",
   "mimetype": "text/x-python",
   "name": "python",
   "nbconvert_exporter": "python",
   "pygments_lexer": "ipython3",
   "version": "3.8.3"
  }
 },
 "nbformat": 4,
 "nbformat_minor": 4
}
