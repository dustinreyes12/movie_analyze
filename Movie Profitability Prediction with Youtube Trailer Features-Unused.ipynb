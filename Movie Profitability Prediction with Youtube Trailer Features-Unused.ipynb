{
 "cells": [
  {
   "cell_type": "markdown",
   "metadata": {},
   "source": [
    "## Give Me The Next AAA Title\n",
    "# Predictive Modeling\n",
    "### Movie Profitability Prediction with Youtube Trailer Features\n",
    "****\n",
    "\n",
    "<br>\n",
    "by Dustin Reyes\n",
    "<br>\n",
    "<br>\n",
    "Prepared for:\n",
    "<br>\n",
    "Mynt (Globe Fintech Innovations, Inc.)\n",
    "<br>\n",
    "<br>"
   ]
  },
  {
   "cell_type": "code",
   "execution_count": 1,
   "metadata": {
    "ExecuteTime": {
     "end_time": "2021-04-27T03:05:32.558934Z",
     "start_time": "2021-04-27T03:05:29.779468Z"
    }
   },
   "outputs": [],
   "source": [
    "import os\n",
    "import math\n",
    "import numpy as np\n",
    "import pandas as pd\n",
    "import seaborn as sns\n",
    "\n",
    "import matplotlib\n",
    "import matplotlib.pyplot as plt\n",
    "from xgboost.sklearn import XGBRegressor\n",
    "from sklearn.model_selection import train_test_split\n",
    "from sklearn.metrics import mean_squared_error, roc_auc_score, make_scorer, accuracy_score\n",
    "from collections import Counter\n",
    "from xgboost import XGBClassifier, plot_importance\n",
    "\n",
    "\n",
    "import statsmodels.api as sm\n",
    "from sklearn.preprocessing import MinMaxScaler\n",
    "from sklearn.preprocessing import StandardScaler\n",
    "from sklearn.neighbors import KNeighborsClassifier\n",
    "from sklearn.tree import DecisionTreeClassifier\n",
    "from sklearn.linear_model import LogisticRegression\n",
    "from sklearn.svm import LinearSVC\n",
    "from sklearn.svm import SVC\n",
    "from sklearn.model_selection import train_test_split\n",
    "from sklearn.model_selection import GridSearchCV\n",
    "from sklearn.preprocessing import LabelEncoder\n",
    "from sklearn.ensemble import RandomForestClassifier\n",
    "from sklearn.ensemble import GradientBoostingClassifier\n",
    "from sklearn.ensemble import AdaBoostClassifier\n",
    "from sklearn.linear_model import SGDClassifier"
   ]
  },
  {
   "cell_type": "code",
   "execution_count": 2,
   "metadata": {
    "ExecuteTime": {
     "end_time": "2021-04-27T03:05:32.605621Z",
     "start_time": "2021-04-27T03:05:32.560945Z"
    }
   },
   "outputs": [],
   "source": [
    "cols1 = ['id', 'imdbId', 'numlang', 'cn', 'da', 'de',\n",
    "         'en', 'es', 'fr', 'hi', 'it', 'ja', 'ko', 'ml', 'ru', 'ta',\n",
    "         'zh']\n",
    "df1 = pd.read_csv('data2/languages_parsed.csv', usecols=cols1)\n",
    "df2 = pd.read_csv('data2/dategenre_parse.csv')"
   ]
  },
  {
   "cell_type": "code",
   "execution_count": 3,
   "metadata": {
    "ExecuteTime": {
     "end_time": "2021-04-27T03:05:32.636434Z",
     "start_time": "2021-04-27T03:05:32.607432Z"
    }
   },
   "outputs": [],
   "source": [
    "df1['id'] = df1['id'].astype('str')\n",
    "df2['id'] = df2['id'].astype('str')"
   ]
  },
  {
   "cell_type": "code",
   "execution_count": 4,
   "metadata": {
    "ExecuteTime": {
     "end_time": "2021-04-27T03:05:32.667435Z",
     "start_time": "2021-04-27T03:05:32.638932Z"
    }
   },
   "outputs": [],
   "source": [
    "df3 = pd.merge(df2, df1, on='id')"
   ]
  },
  {
   "cell_type": "code",
   "execution_count": 5,
   "metadata": {
    "ExecuteTime": {
     "end_time": "2021-04-27T03:05:32.682932Z",
     "start_time": "2021-04-27T03:05:32.669938Z"
    }
   },
   "outputs": [],
   "source": [
    "df3.rename({'imdbId':'tconst'}, axis = 1, inplace = True)"
   ]
  },
  {
   "cell_type": "code",
   "execution_count": 6,
   "metadata": {
    "ExecuteTime": {
     "end_time": "2021-04-27T03:05:32.713981Z",
     "start_time": "2021-04-27T03:05:32.685934Z"
    }
   },
   "outputs": [],
   "source": [
    "df4 = pd.read_csv('data2/data_imdb_complete.csv')\n",
    "df4.drop(['originalTitle', 'budget', 'primaryTitle', 'isAdult',\n",
    "         'leadActor', 'director', 'budget_mil', 'opening_mil', 'titleType', 'top3_actors'], axis=1, inplace=True)"
   ]
  },
  {
   "cell_type": "code",
   "execution_count": 7,
   "metadata": {
    "ExecuteTime": {
     "end_time": "2021-04-27T03:05:32.744984Z",
     "start_time": "2021-04-27T03:05:32.715433Z"
    }
   },
   "outputs": [],
   "source": [
    "df_final = df4.merge(df3, on = 'tconst')"
   ]
  },
  {
   "cell_type": "code",
   "execution_count": 8,
   "metadata": {
    "ExecuteTime": {
     "end_time": "2021-04-27T03:05:32.760434Z",
     "start_time": "2021-04-27T03:05:32.747431Z"
    }
   },
   "outputs": [],
   "source": [
    "df5 = pd.read_csv('data2/movie_popularity2.csv')"
   ]
  },
  {
   "cell_type": "code",
   "execution_count": 9,
   "metadata": {
    "ExecuteTime": {
     "end_time": "2021-04-27T03:05:32.791432Z",
     "start_time": "2021-04-27T03:05:32.764434Z"
    }
   },
   "outputs": [],
   "source": [
    "df_final = df_final.merge(df5, on = 'title')\n",
    "df_final.drop('year', axis = 1, inplace = True)"
   ]
  },
  {
   "cell_type": "code",
   "execution_count": 10,
   "metadata": {
    "ExecuteTime": {
     "end_time": "2021-04-27T03:05:32.822431Z",
     "start_time": "2021-04-27T03:05:32.794933Z"
    }
   },
   "outputs": [
    {
     "data": {
      "text/plain": [
       "Index(['title', 'release', 'opening', 'gross', 'worldwide_gross',\n",
       "       'metacritic_score', 'mpaa_rating', 'tconst', 'startYear',\n",
       "       'runtimeMinutes', 'genres', 'averageRating', 'numVotes', 'adult',\n",
       "       'budget', 'id', 'original_language', 'production_countries', 'revenue',\n",
       "       'runtime', 'spoken_languages', 'views', 'likes', 'dislikes',\n",
       "       'n_trailers', 'daysStart', 'dayInYear', 'Foreign', 'TV Movie',\n",
       "       'History', 'Thriller', 'Science Fiction', 'Music', 'Romance', 'Comedy',\n",
       "       'Mystery', 'Fantasy', 'Horror', 'Documentary', 'Western', 'Adventure',\n",
       "       'Action', 'Animation', 'Family', 'Crime', 'Drama', 'War', 'numlang',\n",
       "       'cn', 'da', 'de', 'en', 'es', 'fr', 'hi', 'it', 'ja', 'ko', 'ml', 'ru',\n",
       "       'ta', 'zh', 'search_interest'],\n",
       "      dtype='object')"
      ]
     },
     "execution_count": 10,
     "metadata": {},
     "output_type": "execute_result"
    }
   ],
   "source": [
    "df_final.columns"
   ]
  },
  {
   "cell_type": "code",
   "execution_count": 11,
   "metadata": {
    "ExecuteTime": {
     "end_time": "2021-04-27T03:05:32.869490Z",
     "start_time": "2021-04-27T03:05:32.826432Z"
    }
   },
   "outputs": [
    {
     "data": {
      "text/html": [
       "<div>\n",
       "<style scoped>\n",
       "    .dataframe tbody tr th:only-of-type {\n",
       "        vertical-align: middle;\n",
       "    }\n",
       "\n",
       "    .dataframe tbody tr th {\n",
       "        vertical-align: top;\n",
       "    }\n",
       "\n",
       "    .dataframe thead th {\n",
       "        text-align: right;\n",
       "    }\n",
       "</style>\n",
       "<table border=\"1\" class=\"dataframe\">\n",
       "  <thead>\n",
       "    <tr style=\"text-align: right;\">\n",
       "      <th></th>\n",
       "      <th>title</th>\n",
       "      <th>release</th>\n",
       "      <th>opening</th>\n",
       "      <th>gross</th>\n",
       "      <th>worldwide_gross</th>\n",
       "      <th>metacritic_score</th>\n",
       "      <th>mpaa_rating</th>\n",
       "      <th>tconst</th>\n",
       "      <th>startYear</th>\n",
       "      <th>runtimeMinutes</th>\n",
       "      <th>...</th>\n",
       "      <th>fr</th>\n",
       "      <th>hi</th>\n",
       "      <th>it</th>\n",
       "      <th>ja</th>\n",
       "      <th>ko</th>\n",
       "      <th>ml</th>\n",
       "      <th>ru</th>\n",
       "      <th>ta</th>\n",
       "      <th>zh</th>\n",
       "      <th>search_interest</th>\n",
       "    </tr>\n",
       "  </thead>\n",
       "  <tbody>\n",
       "    <tr>\n",
       "      <th>0</th>\n",
       "      <td>Season of the Witch</td>\n",
       "      <td>2011-01-07</td>\n",
       "      <td>10612375</td>\n",
       "      <td>24827228</td>\n",
       "      <td>91627228.0</td>\n",
       "      <td>28.0</td>\n",
       "      <td>PG-13</td>\n",
       "      <td>tt0479997</td>\n",
       "      <td>2011</td>\n",
       "      <td>95</td>\n",
       "      <td>...</td>\n",
       "      <td>0</td>\n",
       "      <td>0</td>\n",
       "      <td>0</td>\n",
       "      <td>0</td>\n",
       "      <td>0</td>\n",
       "      <td>0</td>\n",
       "      <td>0</td>\n",
       "      <td>0</td>\n",
       "      <td>0</td>\n",
       "      <td>943</td>\n",
       "    </tr>\n",
       "    <tr>\n",
       "      <th>1</th>\n",
       "      <td>The Green Hornet</td>\n",
       "      <td>2011-01-14</td>\n",
       "      <td>33526876</td>\n",
       "      <td>98780042</td>\n",
       "      <td>227817248.0</td>\n",
       "      <td>39.0</td>\n",
       "      <td>PG-13</td>\n",
       "      <td>tt0990407</td>\n",
       "      <td>2011</td>\n",
       "      <td>119</td>\n",
       "      <td>...</td>\n",
       "      <td>0</td>\n",
       "      <td>0</td>\n",
       "      <td>0</td>\n",
       "      <td>0</td>\n",
       "      <td>0</td>\n",
       "      <td>0</td>\n",
       "      <td>0</td>\n",
       "      <td>0</td>\n",
       "      <td>0</td>\n",
       "      <td>694</td>\n",
       "    </tr>\n",
       "    <tr>\n",
       "      <th>2</th>\n",
       "      <td>The Mechanic</td>\n",
       "      <td>2011-01-28</td>\n",
       "      <td>11422006</td>\n",
       "      <td>29121498</td>\n",
       "      <td>76130093.0</td>\n",
       "      <td>49.0</td>\n",
       "      <td>R</td>\n",
       "      <td>tt0472399</td>\n",
       "      <td>2011</td>\n",
       "      <td>93</td>\n",
       "      <td>...</td>\n",
       "      <td>0</td>\n",
       "      <td>0</td>\n",
       "      <td>0</td>\n",
       "      <td>0</td>\n",
       "      <td>0</td>\n",
       "      <td>0</td>\n",
       "      <td>0</td>\n",
       "      <td>0</td>\n",
       "      <td>0</td>\n",
       "      <td>1260</td>\n",
       "    </tr>\n",
       "    <tr>\n",
       "      <th>3</th>\n",
       "      <td>Sanctum</td>\n",
       "      <td>2011-02-04</td>\n",
       "      <td>9447930</td>\n",
       "      <td>23209310</td>\n",
       "      <td>108609310.0</td>\n",
       "      <td>42.0</td>\n",
       "      <td>R</td>\n",
       "      <td>tt0881320</td>\n",
       "      <td>2011</td>\n",
       "      <td>108</td>\n",
       "      <td>...</td>\n",
       "      <td>0</td>\n",
       "      <td>0</td>\n",
       "      <td>0</td>\n",
       "      <td>0</td>\n",
       "      <td>0</td>\n",
       "      <td>0</td>\n",
       "      <td>0</td>\n",
       "      <td>0</td>\n",
       "      <td>0</td>\n",
       "      <td>1038</td>\n",
       "    </tr>\n",
       "    <tr>\n",
       "      <th>4</th>\n",
       "      <td>Gnomeo &amp; Juliet</td>\n",
       "      <td>2011-02-11</td>\n",
       "      <td>25356909</td>\n",
       "      <td>99967670</td>\n",
       "      <td>193967670.0</td>\n",
       "      <td>53.0</td>\n",
       "      <td>G</td>\n",
       "      <td>tt0377981</td>\n",
       "      <td>2011</td>\n",
       "      <td>84</td>\n",
       "      <td>...</td>\n",
       "      <td>0</td>\n",
       "      <td>0</td>\n",
       "      <td>0</td>\n",
       "      <td>0</td>\n",
       "      <td>0</td>\n",
       "      <td>0</td>\n",
       "      <td>0</td>\n",
       "      <td>0</td>\n",
       "      <td>0</td>\n",
       "      <td>572</td>\n",
       "    </tr>\n",
       "  </tbody>\n",
       "</table>\n",
       "<p>5 rows × 63 columns</p>\n",
       "</div>"
      ],
      "text/plain": [
       "                 title     release   opening     gross  worldwide_gross  \\\n",
       "0  Season of the Witch  2011-01-07  10612375  24827228       91627228.0   \n",
       "1     The Green Hornet  2011-01-14  33526876  98780042      227817248.0   \n",
       "2         The Mechanic  2011-01-28  11422006  29121498       76130093.0   \n",
       "3              Sanctum  2011-02-04   9447930  23209310      108609310.0   \n",
       "4      Gnomeo & Juliet  2011-02-11  25356909  99967670      193967670.0   \n",
       "\n",
       "   metacritic_score mpaa_rating     tconst  startYear  runtimeMinutes  ... fr  \\\n",
       "0              28.0       PG-13  tt0479997       2011              95  ...  0   \n",
       "1              39.0       PG-13  tt0990407       2011             119  ...  0   \n",
       "2              49.0           R  tt0472399       2011              93  ...  0   \n",
       "3              42.0           R  tt0881320       2011             108  ...  0   \n",
       "4              53.0           G  tt0377981       2011              84  ...  0   \n",
       "\n",
       "   hi  it  ja  ko ml ru ta  zh  search_interest  \n",
       "0   0   0   0   0  0  0  0   0              943  \n",
       "1   0   0   0   0  0  0  0   0              694  \n",
       "2   0   0   0   0  0  0  0   0             1260  \n",
       "3   0   0   0   0  0  0  0   0             1038  \n",
       "4   0   0   0   0  0  0  0   0              572  \n",
       "\n",
       "[5 rows x 63 columns]"
      ]
     },
     "execution_count": 11,
     "metadata": {},
     "output_type": "execute_result"
    }
   ],
   "source": [
    "df_final.head()"
   ]
  },
  {
   "cell_type": "code",
   "execution_count": 12,
   "metadata": {
    "ExecuteTime": {
     "end_time": "2021-04-27T03:05:32.884433Z",
     "start_time": "2021-04-27T03:05:32.871933Z"
    }
   },
   "outputs": [],
   "source": [
    "cols_drop1 = ['n_trailers', 'original_language',\n",
    "              'production_countries', 'spoken_languages', 'title', 'release',\n",
    "             'tconst', 'genres']\n",
    "df_final.drop(cols_drop1, axis=1, inplace=True)"
   ]
  },
  {
   "cell_type": "code",
   "execution_count": 13,
   "metadata": {
    "ExecuteTime": {
     "end_time": "2021-04-27T03:05:32.930930Z",
     "start_time": "2021-04-27T03:05:32.886933Z"
    }
   },
   "outputs": [
    {
     "data": {
      "text/html": [
       "<div>\n",
       "<style scoped>\n",
       "    .dataframe tbody tr th:only-of-type {\n",
       "        vertical-align: middle;\n",
       "    }\n",
       "\n",
       "    .dataframe tbody tr th {\n",
       "        vertical-align: top;\n",
       "    }\n",
       "\n",
       "    .dataframe thead th {\n",
       "        text-align: right;\n",
       "    }\n",
       "</style>\n",
       "<table border=\"1\" class=\"dataframe\">\n",
       "  <thead>\n",
       "    <tr style=\"text-align: right;\">\n",
       "      <th></th>\n",
       "      <th>opening</th>\n",
       "      <th>gross</th>\n",
       "      <th>worldwide_gross</th>\n",
       "      <th>metacritic_score</th>\n",
       "      <th>mpaa_rating</th>\n",
       "      <th>startYear</th>\n",
       "      <th>runtimeMinutes</th>\n",
       "      <th>averageRating</th>\n",
       "      <th>numVotes</th>\n",
       "      <th>adult</th>\n",
       "      <th>...</th>\n",
       "      <th>fr</th>\n",
       "      <th>hi</th>\n",
       "      <th>it</th>\n",
       "      <th>ja</th>\n",
       "      <th>ko</th>\n",
       "      <th>ml</th>\n",
       "      <th>ru</th>\n",
       "      <th>ta</th>\n",
       "      <th>zh</th>\n",
       "      <th>search_interest</th>\n",
       "    </tr>\n",
       "  </thead>\n",
       "  <tbody>\n",
       "    <tr>\n",
       "      <th>0</th>\n",
       "      <td>10612375</td>\n",
       "      <td>24827228</td>\n",
       "      <td>91627228.0</td>\n",
       "      <td>28.0</td>\n",
       "      <td>PG-13</td>\n",
       "      <td>2011</td>\n",
       "      <td>95</td>\n",
       "      <td>5.4</td>\n",
       "      <td>90902</td>\n",
       "      <td>False</td>\n",
       "      <td>...</td>\n",
       "      <td>0</td>\n",
       "      <td>0</td>\n",
       "      <td>0</td>\n",
       "      <td>0</td>\n",
       "      <td>0</td>\n",
       "      <td>0</td>\n",
       "      <td>0</td>\n",
       "      <td>0</td>\n",
       "      <td>0</td>\n",
       "      <td>943</td>\n",
       "    </tr>\n",
       "    <tr>\n",
       "      <th>1</th>\n",
       "      <td>33526876</td>\n",
       "      <td>98780042</td>\n",
       "      <td>227817248.0</td>\n",
       "      <td>39.0</td>\n",
       "      <td>PG-13</td>\n",
       "      <td>2011</td>\n",
       "      <td>119</td>\n",
       "      <td>5.8</td>\n",
       "      <td>155886</td>\n",
       "      <td>False</td>\n",
       "      <td>...</td>\n",
       "      <td>0</td>\n",
       "      <td>0</td>\n",
       "      <td>0</td>\n",
       "      <td>0</td>\n",
       "      <td>0</td>\n",
       "      <td>0</td>\n",
       "      <td>0</td>\n",
       "      <td>0</td>\n",
       "      <td>0</td>\n",
       "      <td>694</td>\n",
       "    </tr>\n",
       "    <tr>\n",
       "      <th>2</th>\n",
       "      <td>11422006</td>\n",
       "      <td>29121498</td>\n",
       "      <td>76130093.0</td>\n",
       "      <td>49.0</td>\n",
       "      <td>R</td>\n",
       "      <td>2011</td>\n",
       "      <td>93</td>\n",
       "      <td>6.6</td>\n",
       "      <td>152076</td>\n",
       "      <td>False</td>\n",
       "      <td>...</td>\n",
       "      <td>0</td>\n",
       "      <td>0</td>\n",
       "      <td>0</td>\n",
       "      <td>0</td>\n",
       "      <td>0</td>\n",
       "      <td>0</td>\n",
       "      <td>0</td>\n",
       "      <td>0</td>\n",
       "      <td>0</td>\n",
       "      <td>1260</td>\n",
       "    </tr>\n",
       "    <tr>\n",
       "      <th>3</th>\n",
       "      <td>9447930</td>\n",
       "      <td>23209310</td>\n",
       "      <td>108609310.0</td>\n",
       "      <td>42.0</td>\n",
       "      <td>R</td>\n",
       "      <td>2011</td>\n",
       "      <td>108</td>\n",
       "      <td>5.9</td>\n",
       "      <td>53868</td>\n",
       "      <td>False</td>\n",
       "      <td>...</td>\n",
       "      <td>0</td>\n",
       "      <td>0</td>\n",
       "      <td>0</td>\n",
       "      <td>0</td>\n",
       "      <td>0</td>\n",
       "      <td>0</td>\n",
       "      <td>0</td>\n",
       "      <td>0</td>\n",
       "      <td>0</td>\n",
       "      <td>1038</td>\n",
       "    </tr>\n",
       "    <tr>\n",
       "      <th>4</th>\n",
       "      <td>25356909</td>\n",
       "      <td>99967670</td>\n",
       "      <td>193967670.0</td>\n",
       "      <td>53.0</td>\n",
       "      <td>G</td>\n",
       "      <td>2011</td>\n",
       "      <td>84</td>\n",
       "      <td>5.9</td>\n",
       "      <td>52865</td>\n",
       "      <td>False</td>\n",
       "      <td>...</td>\n",
       "      <td>0</td>\n",
       "      <td>0</td>\n",
       "      <td>0</td>\n",
       "      <td>0</td>\n",
       "      <td>0</td>\n",
       "      <td>0</td>\n",
       "      <td>0</td>\n",
       "      <td>0</td>\n",
       "      <td>0</td>\n",
       "      <td>572</td>\n",
       "    </tr>\n",
       "  </tbody>\n",
       "</table>\n",
       "<p>5 rows × 55 columns</p>\n",
       "</div>"
      ],
      "text/plain": [
       "    opening     gross  worldwide_gross  metacritic_score mpaa_rating  \\\n",
       "0  10612375  24827228       91627228.0              28.0       PG-13   \n",
       "1  33526876  98780042      227817248.0              39.0       PG-13   \n",
       "2  11422006  29121498       76130093.0              49.0           R   \n",
       "3   9447930  23209310      108609310.0              42.0           R   \n",
       "4  25356909  99967670      193967670.0              53.0           G   \n",
       "\n",
       "   startYear  runtimeMinutes  averageRating  numVotes  adult  ...  fr hi  it  \\\n",
       "0       2011              95            5.4     90902  False  ...   0  0   0   \n",
       "1       2011             119            5.8    155886  False  ...   0  0   0   \n",
       "2       2011              93            6.6    152076  False  ...   0  0   0   \n",
       "3       2011             108            5.9     53868  False  ...   0  0   0   \n",
       "4       2011              84            5.9     52865  False  ...   0  0   0   \n",
       "\n",
       "   ja  ko  ml  ru  ta  zh  search_interest  \n",
       "0   0   0   0   0   0   0              943  \n",
       "1   0   0   0   0   0   0              694  \n",
       "2   0   0   0   0   0   0             1260  \n",
       "3   0   0   0   0   0   0             1038  \n",
       "4   0   0   0   0   0   0              572  \n",
       "\n",
       "[5 rows x 55 columns]"
      ]
     },
     "execution_count": 13,
     "metadata": {},
     "output_type": "execute_result"
    }
   ],
   "source": [
    "df_final.head()"
   ]
  },
  {
   "cell_type": "code",
   "execution_count": 14,
   "metadata": {
    "ExecuteTime": {
     "end_time": "2021-04-27T03:05:32.961933Z",
     "start_time": "2021-04-27T03:05:32.932431Z"
    }
   },
   "outputs": [],
   "source": [
    "df_final = df_final.replace(r'^\\s*$', np.nan, regex=True)"
   ]
  },
  {
   "cell_type": "code",
   "execution_count": 15,
   "metadata": {
    "ExecuteTime": {
     "end_time": "2021-04-27T03:05:32.992971Z",
     "start_time": "2021-04-27T03:05:32.964935Z"
    }
   },
   "outputs": [],
   "source": [
    "df_final.dropna(inplace = True)"
   ]
  },
  {
   "cell_type": "code",
   "execution_count": 16,
   "metadata": {
    "ExecuteTime": {
     "end_time": "2021-04-27T03:05:33.008542Z",
     "start_time": "2021-04-27T03:05:32.994933Z"
    }
   },
   "outputs": [],
   "source": [
    "# df3.columns"
   ]
  },
  {
   "cell_type": "code",
   "execution_count": 17,
   "metadata": {
    "ExecuteTime": {
     "end_time": "2021-04-27T03:05:33.039543Z",
     "start_time": "2021-04-27T03:05:33.012542Z"
    }
   },
   "outputs": [],
   "source": [
    "df_final['ROI'] = (df_final['revenue'] - df_final['budget'])/df_final['budget']"
   ]
  },
  {
   "cell_type": "code",
   "execution_count": null,
   "metadata": {},
   "outputs": [],
   "source": []
  },
  {
   "cell_type": "code",
   "execution_count": 18,
   "metadata": {
    "ExecuteTime": {
     "end_time": "2021-04-27T03:05:33.070541Z",
     "start_time": "2021-04-27T03:05:33.041542Z"
    }
   },
   "outputs": [],
   "source": [
    "df_final['profitability'] = np.where(df_final['ROI'] >= 2, 1, 0)"
   ]
  },
  {
   "cell_type": "code",
   "execution_count": 19,
   "metadata": {
    "ExecuteTime": {
     "end_time": "2021-04-27T03:05:33.086039Z",
     "start_time": "2021-04-27T03:05:33.072541Z"
    }
   },
   "outputs": [
    {
     "data": {
      "text/plain": [
       "0    40\n",
       "1    21\n",
       "Name: profitability, dtype: int64"
      ]
     },
     "execution_count": 19,
     "metadata": {},
     "output_type": "execute_result"
    }
   ],
   "source": [
    "df_final['profitability'].value_counts()"
   ]
  },
  {
   "cell_type": "markdown",
   "metadata": {},
   "source": [
    "## 1. Exploratory Data Analysis"
   ]
  },
  {
   "cell_type": "markdown",
   "metadata": {},
   "source": [
    "### 1.1. Class Distribution"
   ]
  },
  {
   "cell_type": "code",
   "execution_count": 20,
   "metadata": {
    "ExecuteTime": {
     "end_time": "2021-04-27T03:05:33.241043Z",
     "start_time": "2021-04-27T03:05:33.088540Z"
    }
   },
   "outputs": [
    {
     "data": {
      "image/png": "[encoded data removed]",
      "text/plain": [
       "<Figure size 432x432 with 1 Axes>"
      ]
     },
     "metadata": {
      "needs_background": "light"
     },
     "output_type": "display_data"
    }
   ],
   "source": [
    "plt.figure(figsize=(6, 6))\n",
    "sns.countplot(df_final['profitability'])\n",
    "plt.title('Class Distribution of Movie Profitability', fontsize=20)\n",
    "plt.xlabel('Profitability', fontsize=16)\n",
    "plt.ylabel('Number Of Movies', fontsize=16)\n",
    "plt.show()"
   ]
  },
  {
   "cell_type": "markdown",
   "metadata": {},
   "source": [
    "### 1.2. Revenue Distribution"
   ]
  },
  {
   "cell_type": "code",
   "execution_count": 21,
   "metadata": {
    "ExecuteTime": {
     "end_time": "2021-04-27T03:05:33.256543Z",
     "start_time": "2021-04-27T03:05:33.243045Z"
    }
   },
   "outputs": [],
   "source": [
    "# fig = plt.figure(figsize = (15, 6)) # set figure size\n",
    "\n",
    "# # plot distribution plot of global gross revenue \n",
    "# sns.distplot(df_final['revenue'], label = 'Global') \n",
    "\n",
    "# plt.title(\"Distribution of Gross Revenue\")\n",
    "# plt.xlabel(\"Gross Revenue ($M)\")\n",
    "# plt.legend() # add legend\n",
    "# plt.show()"
   ]
  },
  {
   "cell_type": "markdown",
   "metadata": {},
   "source": [
    "We can see that it is strongly right-skewed, it is a pretty usual trend for income data. Taking the log transformation of this data can help us visualize what’s happening in the dense area more clearly."
   ]
  },
  {
   "cell_type": "code",
   "execution_count": 22,
   "metadata": {
    "ExecuteTime": {
     "end_time": "2021-04-27T03:05:33.442252Z",
     "start_time": "2021-04-27T03:05:33.259042Z"
    }
   },
   "outputs": [
    {
     "data": {
      "image/png": "[encoded data removed]",
      "text/plain": [
       "<Figure size 1080x432 with 1 Axes>"
      ]
     },
     "metadata": {
      "needs_background": "light"
     },
     "output_type": "display_data"
    }
   ],
   "source": [
    "fig = plt.figure(figsize = (15, 6))\n",
    "\n",
    "# taking a natural log of revenue\n",
    "sns.distplot(np.log(df_final['revenue']), label = 'Global') \n",
    "plt.title(\"Log Distribution of Gross Revenue\")\n",
    "plt.xlabel(\"Log Gross Revenue\")\n",
    "plt.legend()\n",
    "\n",
    "#fig.savefig(\"filename.png\")\n",
    "\n",
    "plt.show()"
   ]
  },
  {
   "cell_type": "markdown",
   "metadata": {},
   "source": [
    "### 1.3. Budget to Revenue Relationship"
   ]
  },
  {
   "cell_type": "code",
   "execution_count": 23,
   "metadata": {
    "ExecuteTime": {
     "end_time": "2021-04-27T03:05:33.659330Z",
     "start_time": "2021-04-27T03:05:33.448256Z"
    }
   },
   "outputs": [
    {
     "data": {
      "image/png": "[encoded data removed]",
      "text/plain": [
       "<Figure size 1080x576 with 1 Axes>"
      ]
     },
     "metadata": {
      "needs_background": "light"
     },
     "output_type": "display_data"
    }
   ],
   "source": [
    "fig = plt.figure(figsize=(15, 8))\n",
    "\n",
    "# plotting two scatterplots with 70% transparency.\n",
    "sns.scatterplot(x='budget', y='revenue', hue = 'profitability', alpha=0.7, data=df_final)\n",
    "\n",
    "plt.title(\"Budget to Gross Revenue\")\n",
    "plt.ylabel(\"Gross Revenue ($M)\")\n",
    "plt.xlabel(\"Production Budget ($M)\")\n",
    "plt.legend()\n",
    "\n",
    "# matplotlib's tight_layout function magically fit elements within the figure\n",
    "# so it does not get cropped when you save it out.\n",
    "plt.tight_layout()\n",
    "\n",
    "# plt.savefig(\"filename.png\")\n",
    "\n",
    "plt.show()"
   ]
  },
  {
   "cell_type": "markdown",
   "metadata": {},
   "source": [
    "It seems like a high budget does not always lead to high revenue. Also, some movies yield high revenues with relatively lower budgets when it targets the global market."
   ]
  },
  {
   "cell_type": "markdown",
   "metadata": {},
   "source": [
    "### 1.4. Correlations"
   ]
  },
  {
   "cell_type": "code",
   "execution_count": 24,
   "metadata": {
    "ExecuteTime": {
     "end_time": "2021-04-27T03:05:33.674831Z",
     "start_time": "2021-04-27T03:05:33.662330Z"
    }
   },
   "outputs": [
    {
     "data": {
      "text/plain": [
       "Index(['adult', 'budget', 'id', 'original_language', 'production_countries',\n",
       "       'revenue', 'runtime', 'spoken_languages', 'views', 'likes', 'dislikes',\n",
       "       'n_trailers', 'daysStart', 'dayInYear', 'Foreign', 'TV Movie',\n",
       "       'History', 'Thriller', 'Science Fiction', 'Music', 'Romance', 'Comedy',\n",
       "       'Mystery', 'Fantasy', 'Horror', 'Documentary', 'Western', 'Adventure',\n",
       "       'Action', 'Animation', 'Family', 'Crime', 'Drama', 'War', 'tconst',\n",
       "       'numlang', 'cn', 'da', 'de', 'en', 'es', 'fr', 'hi', 'it', 'ja', 'ko',\n",
       "       'ml', 'ru', 'ta', 'zh'],\n",
       "      dtype='object')"
      ]
     },
     "execution_count": 24,
     "metadata": {},
     "output_type": "execute_result"
    }
   ],
   "source": [
    "df3.columns"
   ]
  },
  {
   "cell_type": "code",
   "execution_count": 25,
   "metadata": {
    "ExecuteTime": {
     "end_time": "2021-04-27T03:05:34.077904Z",
     "start_time": "2021-04-27T03:05:33.678335Z"
    }
   },
   "outputs": [
    {
     "data": {
      "text/plain": [
       "<matplotlib.axes._subplots.AxesSubplot at 0x1794365a3a0>"
      ]
     },
     "execution_count": 25,
     "metadata": {},
     "output_type": "execute_result"
    },
    {
     "data": {
      "image/png": "[encoded data removed]",
      "text/plain": [
       "<Figure size 720x576 with 2 Axes>"
      ]
     },
     "metadata": {
      "needs_background": "light"
     },
     "output_type": "display_data"
    }
   ],
   "source": [
    "f, ax = plt.subplots(figsize=(10, 8))\n",
    "sns.heatmap(df_final[['budget', 'revenue', 'runtime', 'views', 'likes',\n",
    "                 'dislikes', 'ROI', 'search_interest']].corr(), annot=True, linewidths=.5, fmt='.1f', ax=ax)\n",
    "# sns.heatmap(df.corr(), annot=True, linewidths=.5, fmt='.1f', ax=ax)"
   ]
  },
  {
   "cell_type": "markdown",
   "metadata": {},
   "source": [
    "Observations for these are the ff:\n",
    "1. Revenue is positively correlated with budget therefore a high budget movie is more likely to generate more revenue than a low budget movie.\n",
    "2. Views and Likes from Youtube trailers were also positively correlated with a movie budget. These movies most likely has more production values in terms of effects, CGI, and actors thus garnering more views and likes.\n",
    "3. Surprisingly, movie runtime is has a low positive correlation with budget. This might mean budget cuts due to estimated runtime of a movie.\n",
    "4. Likes and Views are highly positively correlated. However this correlation can be biased as the distribution of likes and dislikes with respect to views is highly imbalanced."
   ]
  },
  {
   "cell_type": "markdown",
   "metadata": {},
   "source": [
    "### 1.5. Proportionality Chance Criterion"
   ]
  },
  {
   "cell_type": "code",
   "execution_count": 26,
   "metadata": {
    "ExecuteTime": {
     "end_time": "2021-04-27T03:05:34.093379Z",
     "start_time": "2021-04-27T03:05:34.079372Z"
    }
   },
   "outputs": [],
   "source": [
    "# # Class count\n",
    "# count_class_1, count_class_0 = df_final['profitability'].value_counts()\n",
    "\n",
    "# # Divide by class\n",
    "# df_class_0 = df3[df3['profitability'] == 0]\n",
    "# df_class_1 = df3[df3['profitability'] == 1]"
   ]
  },
  {
   "cell_type": "code",
   "execution_count": 27,
   "metadata": {
    "ExecuteTime": {
     "end_time": "2021-04-27T03:05:34.124370Z",
     "start_time": "2021-04-27T03:05:34.096870Z"
    }
   },
   "outputs": [],
   "source": [
    "# # Resample the majority class into the minority class\n",
    "# df_class_1_under = df_class_1.sample(count_class_0)\n",
    "# df3 = pd.concat([df_class_1_under, df_class_0], axis=0)"
   ]
  },
  {
   "cell_type": "code",
   "execution_count": 28,
   "metadata": {
    "ExecuteTime": {
     "end_time": "2021-04-27T03:05:34.248032Z",
     "start_time": "2021-04-27T03:05:34.126371Z"
    }
   },
   "outputs": [
    {
     "name": "stdout",
     "output_type": "stream",
     "text": [
      "Division per class:     0\n",
      "0  40\n",
      "1  21\n",
      "\n",
      "1.25 * Proportion Chance Criterion: 68.56355818328404%\n"
     ]
    },
    {
     "data": {
      "image/png": "[encoded data removed]",
      "text/plain": [
       "<Figure size 432x288 with 1 Axes>"
      ]
     },
     "metadata": {
      "needs_background": "light"
     },
     "output_type": "display_data"
    }
   ],
   "source": [
    "state_counts = Counter(df_final['profitability'])\n",
    "df_state = pd.DataFrame.from_dict(state_counts, orient='index')\n",
    "df_state.plot(kind='bar')\n",
    "\n",
    "num = (df_state[0]/df_state[0].sum())**2\n",
    "print(\"Division per class: {}\\n\".format(df_state))\n",
    "print(\"1.25 * Proportion Chance Criterion: {}%\".format(1.25*100*num.sum()))"
   ]
  },
  {
   "cell_type": "markdown",
   "metadata": {},
   "source": [
    "### 2.0. Modeling"
   ]
  },
  {
   "cell_type": "code",
   "execution_count": 29,
   "metadata": {
    "ExecuteTime": {
     "end_time": "2021-04-27T03:05:34.263370Z",
     "start_time": "2021-04-27T03:05:34.249373Z"
    }
   },
   "outputs": [],
   "source": [
    "cl1 = KNeighborsClassifier(n_jobs=-1)\n",
    "cl2 = LogisticRegression(penalty='l1', max_iter=1000,\n",
    "                         solver='liblinear', n_jobs=-1)\n",
    "cl3 = LogisticRegression(penalty='l2', max_iter=1000, n_jobs=-1)\n",
    "cl4 = LinearSVC(penalty='l1', dual=False, max_iter=10000)\n",
    "cl5 = LinearSVC(penalty='l2', max_iter=10000)\n",
    "cl6 = SVC(kernel='rbf', )\n",
    "#cl7 = SVC(kernel='poly', degree=3)\n",
    "cl8 = RandomForestClassifier(n_jobs=-1)\n",
    "cl9 = GradientBoostingClassifier()\n",
    "cl10 = AdaBoostClassifier(DecisionTreeClassifier(max_depth=1))\n",
    "\n",
    "\n",
    "kneighbors = range(1, 31)\n",
    "C_list = np.logspace(-5, 5, num=10)\n",
    "gamma_list = np.logspace(-5, 5, num=10)\n",
    "max_depthlist = [3, 4, 6]\n",
    "max_featureslist = [1, 2, 3, 4]\n",
    "n_estimatorslist = [100, 200, 300]\n",
    "learningrate_list = [.2, 0.1, 0.02, 0.01]\n",
    "\n",
    "estimators = [('KNN', cl1, {'n_neighbors': kneighbors}),\n",
    "              ('Logistic Regression (L1)', cl2, {'C': C_list}),\n",
    "              ('Logistic Regression (L2)', cl3, {'C': C_list}),\n",
    "              ('Linear SVM (L1)', cl4, {'C': C_list}),\n",
    "              ('Linear SVM (L2)', cl5, {'C': C_list}),\n",
    "              ('Random Forest Classifier', cl8, {'n_estimators': n_estimatorslist,\n",
    "                                                 'max_depth': max_depthlist,\n",
    "                                                 'max_features': max_featureslist}),\n",
    "              ('Gradient Boosting Classifier', cl9, {'n_estimators': n_estimatorslist,\n",
    "                                                     'max_depth': max_depthlist,\n",
    "                                                     'learning_rate': learningrate_list}),\n",
    "              ('AdaBoost Classifier', cl10, {'n_estimators': n_estimatorslist,\n",
    "                                             'learning_rate': learningrate_list})]"
   ]
  },
  {
   "cell_type": "code",
   "execution_count": 30,
   "metadata": {
    "ExecuteTime": {
     "end_time": "2021-04-27T03:05:34.309910Z",
     "start_time": "2021-04-27T03:05:34.266872Z"
    }
   },
   "outputs": [],
   "source": [
    "dropcols = ['adult','id','profitability', 'TV Movie', 'revenue', 'opening', 'gross',\n",
    "           'worldwide_gross', 'metacritic_score', 'startYear', 'averageRating',\n",
    "            'numVotes', 'revenue', 'ROI']\n",
    "X = df_final.drop(dropcols, axis=1)\n",
    "y = df_final['profitability']"
   ]
  },
  {
   "cell_type": "code",
   "execution_count": 31,
   "metadata": {
    "ExecuteTime": {
     "end_time": "2021-04-27T03:05:34.325370Z",
     "start_time": "2021-04-27T03:05:34.312871Z"
    }
   },
   "outputs": [],
   "source": [
    "dummy_mpaa = pd.get_dummies(X[['mpaa_rating']], drop_first=True)\n",
    "X = pd.concat([X, dummy_mpaa], axis=1)\n",
    "X.drop('mpaa_rating', axis =1, inplace = True)"
   ]
  },
  {
   "cell_type": "code",
   "execution_count": 34,
   "metadata": {
    "ExecuteTime": {
     "end_time": "2021-04-27T03:45:17.487950Z",
     "start_time": "2021-04-27T03:45:17.452450Z"
    }
   },
   "outputs": [],
   "source": [
    "X_train, X_val, y_train, y_val = train_test_split(X, y, test_size=0.25,\n",
    "                                                  random_state=15)\n",
    "scaler = MinMaxScaler()\n",
    "X_train = scaler.fit_transform(X_train)\n",
    "X_val = scaler.transform(X_val)"
   ]
  },
  {
   "cell_type": "code",
   "execution_count": 35,
   "metadata": {
    "ExecuteTime": {
     "end_time": "2021-04-27T03:45:58.075080Z",
     "start_time": "2021-04-27T03:45:18.291049Z"
    }
   },
   "outputs": [
    {
     "name": "stdout",
     "output_type": "stream",
     "text": [
      "Training ('KNN', KNeighborsClassifier(n_jobs=-1), {'n_neighbors': range(1, 31)})\n",
      "\n",
      "Training ('Logistic Regression (L1)', LogisticRegression(max_iter=1000, n_jobs=-1, penalty='l1', solver='liblinear'), {'C': array([1.00000000e-05, 1.29154967e-04, 1.66810054e-03, 2.15443469e-02,\n",
      "       2.78255940e-01, 3.59381366e+00, 4.64158883e+01, 5.99484250e+02,\n",
      "       7.74263683e+03, 1.00000000e+05])})\n",
      "\n",
      "Training ('Logistic Regression (L2)', LogisticRegression(max_iter=1000, n_jobs=-1), {'C': array([1.00000000e-05, 1.29154967e-04, 1.66810054e-03, 2.15443469e-02,\n",
      "       2.78255940e-01, 3.59381366e+00, 4.64158883e+01, 5.99484250e+02,\n",
      "       7.74263683e+03, 1.00000000e+05])})\n",
      "\n"
     ]
    },
    {
     "name": "stderr",
     "output_type": "stream",
     "text": [
      "D:\\Anaconda\\lib\\site-packages\\sklearn\\linear_model\\_logistic.py:1353: UserWarning: 'n_jobs' > 1 does not have any effect when 'solver' is set to 'liblinear'. Got 'n_jobs' = 8.\n",
      "  warnings.warn(\"'n_jobs' > 1 does not have any effect when\"\n"
     ]
    },
    {
     "name": "stdout",
     "output_type": "stream",
     "text": [
      "Training ('Linear SVM (L1)', LinearSVC(dual=False, max_iter=10000, penalty='l1'), {'C': array([1.00000000e-05, 1.29154967e-04, 1.66810054e-03, 2.15443469e-02,\n",
      "       2.78255940e-01, 3.59381366e+00, 4.64158883e+01, 5.99484250e+02,\n",
      "       7.74263683e+03, 1.00000000e+05])})\n",
      "\n",
      "Training ('Linear SVM (L2)', LinearSVC(max_iter=10000), {'C': array([1.00000000e-05, 1.29154967e-04, 1.66810054e-03, 2.15443469e-02,\n",
      "       2.78255940e-01, 3.59381366e+00, 4.64158883e+01, 5.99484250e+02,\n",
      "       7.74263683e+03, 1.00000000e+05])})\n",
      "\n",
      "Training ('Random Forest Classifier', RandomForestClassifier(n_jobs=-1), {'n_estimators': [100, 200, 300], 'max_depth': [3, 4, 6], 'max_features': [1, 2, 3, 4]})\n",
      "\n",
      "Training ('Gradient Boosting Classifier', GradientBoostingClassifier(), {'n_estimators': [100, 200, 300], 'max_depth': [3, 4, 6], 'learning_rate': [0.2, 0.1, 0.02, 0.01]})\n",
      "\n",
      "Training ('AdaBoost Classifier', AdaBoostClassifier(base_estimator=DecisionTreeClassifier(max_depth=1)), {'n_estimators': [100, 200, 300], 'learning_rate': [0.2, 0.1, 0.02, 0.01]})\n",
      "\n"
     ]
    }
   ],
   "source": [
    "models = {}\n",
    "for est in estimators:\n",
    "    print(f'Training {est}\\n')\n",
    "    gs_cv = GridSearchCV(est[1], param_grid=est[2], n_jobs=-1)\n",
    "    gs_cv.fit(X_train, y_train)\n",
    "    models[est[0]] = gs_cv"
   ]
  },
  {
   "cell_type": "code",
   "execution_count": 36,
   "metadata": {
    "ExecuteTime": {
     "end_time": "2021-04-27T03:45:58.338249Z",
     "start_time": "2021-04-27T03:45:58.078574Z"
    }
   },
   "outputs": [],
   "source": [
    "cols = ['Machine Learning Method', 'Training Accuracy', 'Test Accuracy',\n",
    "        'Best Parameter', 'Top Predictor']\n",
    "df_results = pd.DataFrame(columns=cols)\n",
    "\n",
    "for i, m in enumerate(models):\n",
    "    try:\n",
    "        top = X.columns[np.argmax(\n",
    "            np.abs(models[m].best_estimator_.coef_.T.mean(axis=1)))]\n",
    "    except AttributeError:\n",
    "        try:\n",
    "            top = X.columns[\n",
    "                np.argmax(np.abs(models[m].best_estimator_.feature_importances_))]\n",
    "        except AttributeError:\n",
    "            top = np.nan\n",
    "    except AttributeError:\n",
    "        top = np.nan\n",
    "\n",
    "    df_results.loc[i] = [m,\n",
    "                  models[m].best_estimator_.score(X_train, y_train),\n",
    "                  models[m].best_estimator_.score(X_val, y_val),\n",
    "                  models[m].best_params_,\n",
    "                  top]"
   ]
  },
  {
   "cell_type": "code",
   "execution_count": 37,
   "metadata": {
    "ExecuteTime": {
     "end_time": "2021-04-27T03:45:58.353568Z",
     "start_time": "2021-04-27T03:45:58.339566Z"
    }
   },
   "outputs": [
    {
     "data": {
      "text/html": [
       "<div>\n",
       "<style scoped>\n",
       "    .dataframe tbody tr th:only-of-type {\n",
       "        vertical-align: middle;\n",
       "    }\n",
       "\n",
       "    .dataframe tbody tr th {\n",
       "        vertical-align: top;\n",
       "    }\n",
       "\n",
       "    .dataframe thead th {\n",
       "        text-align: right;\n",
       "    }\n",
       "</style>\n",
       "<table border=\"1\" class=\"dataframe\">\n",
       "  <thead>\n",
       "    <tr style=\"text-align: right;\">\n",
       "      <th></th>\n",
       "      <th>Machine Learning Method</th>\n",
       "      <th>Training Accuracy</th>\n",
       "      <th>Test Accuracy</th>\n",
       "      <th>Best Parameter</th>\n",
       "      <th>Top Predictor</th>\n",
       "    </tr>\n",
       "  </thead>\n",
       "  <tbody>\n",
       "    <tr>\n",
       "      <th>0</th>\n",
       "      <td>KNN</td>\n",
       "      <td>0.822222</td>\n",
       "      <td>0.4375</td>\n",
       "      <td>{'n_neighbors': 5}</td>\n",
       "      <td>NaN</td>\n",
       "    </tr>\n",
       "    <tr>\n",
       "      <th>1</th>\n",
       "      <td>Logistic Regression (L1)</td>\n",
       "      <td>0.711111</td>\n",
       "      <td>0.5000</td>\n",
       "      <td>{'C': 1e-05}</td>\n",
       "      <td>runtimeMinutes</td>\n",
       "    </tr>\n",
       "    <tr>\n",
       "      <th>2</th>\n",
       "      <td>Logistic Regression (L2)</td>\n",
       "      <td>0.711111</td>\n",
       "      <td>0.5000</td>\n",
       "      <td>{'C': 1e-05}</td>\n",
       "      <td>Comedy</td>\n",
       "    </tr>\n",
       "    <tr>\n",
       "      <th>3</th>\n",
       "      <td>Linear SVM (L1)</td>\n",
       "      <td>0.711111</td>\n",
       "      <td>0.5000</td>\n",
       "      <td>{'C': 1e-05}</td>\n",
       "      <td>runtimeMinutes</td>\n",
       "    </tr>\n",
       "    <tr>\n",
       "      <th>4</th>\n",
       "      <td>Linear SVM (L2)</td>\n",
       "      <td>0.711111</td>\n",
       "      <td>0.5000</td>\n",
       "      <td>{'C': 1e-05}</td>\n",
       "      <td>Drama</td>\n",
       "    </tr>\n",
       "    <tr>\n",
       "      <th>5</th>\n",
       "      <td>Random Forest Classifier</td>\n",
       "      <td>0.888889</td>\n",
       "      <td>0.5000</td>\n",
       "      <td>{'max_depth': 3, 'max_features': 4, 'n_estimat...</td>\n",
       "      <td>runtime</td>\n",
       "    </tr>\n",
       "    <tr>\n",
       "      <th>6</th>\n",
       "      <td>Gradient Boosting Classifier</td>\n",
       "      <td>0.955556</td>\n",
       "      <td>0.5625</td>\n",
       "      <td>{'learning_rate': 0.01, 'max_depth': 3, 'n_est...</td>\n",
       "      <td>likes</td>\n",
       "    </tr>\n",
       "    <tr>\n",
       "      <th>7</th>\n",
       "      <td>AdaBoost Classifier</td>\n",
       "      <td>0.977778</td>\n",
       "      <td>0.5000</td>\n",
       "      <td>{'learning_rate': 0.1, 'n_estimators': 100}</td>\n",
       "      <td>dayInYear</td>\n",
       "    </tr>\n",
       "  </tbody>\n",
       "</table>\n",
       "</div>"
      ],
      "text/plain": [
       "        Machine Learning Method  Training Accuracy  Test Accuracy  \\\n",
       "0                           KNN           0.822222         0.4375   \n",
       "1      Logistic Regression (L1)           0.711111         0.5000   \n",
       "2      Logistic Regression (L2)           0.711111         0.5000   \n",
       "3               Linear SVM (L1)           0.711111         0.5000   \n",
       "4               Linear SVM (L2)           0.711111         0.5000   \n",
       "5      Random Forest Classifier           0.888889         0.5000   \n",
       "6  Gradient Boosting Classifier           0.955556         0.5625   \n",
       "7           AdaBoost Classifier           0.977778         0.5000   \n",
       "\n",
       "                                      Best Parameter   Top Predictor  \n",
       "0                                 {'n_neighbors': 5}             NaN  \n",
       "1                                       {'C': 1e-05}  runtimeMinutes  \n",
       "2                                       {'C': 1e-05}          Comedy  \n",
       "3                                       {'C': 1e-05}  runtimeMinutes  \n",
       "4                                       {'C': 1e-05}           Drama  \n",
       "5  {'max_depth': 3, 'max_features': 4, 'n_estimat...         runtime  \n",
       "6  {'learning_rate': 0.01, 'max_depth': 3, 'n_est...           likes  \n",
       "7        {'learning_rate': 0.1, 'n_estimators': 100}       dayInYear  "
      ]
     },
     "execution_count": 37,
     "metadata": {},
     "output_type": "execute_result"
    }
   ],
   "source": [
    "df_results"
   ]
  },
  {
   "cell_type": "code",
   "execution_count": null,
   "metadata": {
    "ExecuteTime": {
     "end_time": "2021-04-26T16:15:36.627216Z",
     "start_time": "2021-04-26T16:15:36.619683Z"
    }
   },
   "outputs": [],
   "source": [
    "df_results.iloc[6]['Best Parameter']"
   ]
  },
  {
   "cell_type": "code",
   "execution_count": null,
   "metadata": {
    "ExecuteTime": {
     "end_time": "2021-04-26T16:15:47.103745Z",
     "start_time": "2021-04-26T16:15:46.629743Z"
    }
   },
   "outputs": [],
   "source": [
    "model = GradientBoostingClassifier(\n",
    "    max_depth=3, learning_rate=0.1, n_estimators=100)\n",
    "model.fit(X_train, y_train)\n",
    "print(model.score(X_val, y_val))\n",
    "# print(model.feature_importances_) #use inbuilt class feature_importances of tree based classifiers\n",
    "# plot graph of feature importances for better visualization\n",
    "feat_importances = pd.DataFrame(model.feature_importances_, index=X.columns, columns = ['importance'])\n",
    "feat_importances.sort_values(by = 'importance', ascending = False, inplace = True)"
   ]
  },
  {
   "cell_type": "code",
   "execution_count": null,
   "metadata": {
    "ExecuteTime": {
     "end_time": "2021-04-26T16:15:50.869272Z",
     "start_time": "2021-04-26T16:15:50.851273Z"
    }
   },
   "outputs": [],
   "source": [
    "feat_importances = feat_importances.head(10)"
   ]
  },
  {
   "cell_type": "code",
   "execution_count": null,
   "metadata": {
    "ExecuteTime": {
     "end_time": "2021-04-26T16:15:52.557423Z",
     "start_time": "2021-04-26T16:15:52.411453Z"
    }
   },
   "outputs": [],
   "source": [
    "sns.barplot(x=\"importance\", y=feat_importances.index, data=feat_importances)"
   ]
  },
  {
   "cell_type": "code",
   "execution_count": null,
   "metadata": {
    "ExecuteTime": {
     "end_time": "2021-04-26T16:15:55.779512Z",
     "start_time": "2021-04-26T16:15:55.765509Z"
    }
   },
   "outputs": [],
   "source": [
    "from sklearn.metrics import roc_auc_score"
   ]
  },
  {
   "cell_type": "code",
   "execution_count": null,
   "metadata": {
    "ExecuteTime": {
     "end_time": "2021-04-26T16:15:55.981010Z",
     "start_time": "2021-04-26T16:15:55.959510Z"
    }
   },
   "outputs": [],
   "source": [
    "roc_auc_score(y, model.predict_proba(X)[:, 1])"
   ]
  },
  {
   "cell_type": "code",
   "execution_count": null,
   "metadata": {
    "ExecuteTime": {
     "end_time": "2021-04-26T16:16:20.513454Z",
     "start_time": "2021-04-26T16:16:20.422992Z"
    }
   },
   "outputs": [],
   "source": [
    "from sklearn.metrics import classification_report\n",
    "from sklearn.metrics import confusion_matrix\n",
    "\n",
    "#pipe_svc.fit(X_train, y_train)\n",
    "y_pred = model.predict(X_val)\n",
    "confmat = confusion_matrix(y_true=y_val, y_pred=y_pred)\n",
    "fig, ax = plt.subplots(figsize=(2.5, 2.5))\n",
    "ax.matshow(confmat, cmap=plt.cm.Blues, alpha=0.3)\n",
    "for i in range(confmat.shape[0]):\n",
    "    for j in range(confmat.shape[1]):\n",
    "        ax.text(x=j, y=i, s=confmat[i, j], va='center', ha='center')\n",
    "plt.xlabel('predicted label')\n",
    "plt.ylabel('true label')\n",
    "plt.show()\n",
    "\n",
    "print(classification_report(y_val, y_pred))"
   ]
  },
  {
   "cell_type": "code",
   "execution_count": null,
   "metadata": {},
   "outputs": [],
   "source": []
  }
 ],
 "metadata": {
  "kernelspec": {
   "display_name": "Python 3",
   "language": "python",
   "name": "python3"
  },
  "language_info": {
   "codemirror_mode": {
    "name": "ipython",
    "version": 3
   },
   "file_extension": ".py",
   "mimetype": "text/x-python",
   "name": "python",
   "nbconvert_exporter": "python",
   "pygments_lexer": "ipython3",
   "version": "3.8.3"
  }
 },
 "nbformat": 4,
 "nbformat_minor": 4
}
